{
 "cells": [
  {
   "cell_type": "markdown",
   "id": "bc7cd864-224d-4e35-9e72-40c512f72c91",
   "metadata": {},
   "source": [
    "# 기계학습 3장 예제 R\n",
    "> 예제 R \n",
    "\n",
    "- toc:true\n",
    "- branch: master\n",
    "- badges: true\n",
    "- comments: true\n",
    "- author: 김동준\n",
    "- categories : [\"R\", \"기계학습\"]"
   ]
  },
  {
   "cell_type": "markdown",
   "id": "cfcb9746-f8e3-4763-8c41-721fdfe847ae",
   "metadata": {},
   "source": [
    "# 예제1 : Advertising data"
   ]
  },
  {
   "cell_type": "code",
   "execution_count": 12,
   "id": "456b2751-aa5e-414c-880e-e6e64ab15642",
   "metadata": {},
   "outputs": [],
   "source": [
    "ad <- read.csv(\"Advertising.csv\")\n",
    "options(digits=4) # 자료수 표현"
   ]
  },
  {
   "cell_type": "code",
   "execution_count": 13,
   "id": "995e2db6-f8f8-4c2b-8a01-8c88d5b1345e",
   "metadata": {},
   "outputs": [],
   "source": [
    "fit <- lm(sales ~TV + radio +newspaper , data = ad)\n",
    "fit1 <- summary(fit)"
   ]
  },
  {
   "cell_type": "code",
   "execution_count": 14,
   "id": "52f33b20-a1d1-4da8-af4f-319a8469e4bd",
   "metadata": {},
   "outputs": [
    {
     "data": {
      "text/html": [
       "<strong>value:</strong> 0"
      ],
      "text/latex": [
       "\\textbf{value:} 0"
      ],
      "text/markdown": [
       "**value:** 0"
      ],
      "text/plain": [
       "value \n",
       "    0 "
      ]
     },
     "metadata": {},
     "output_type": "display_data"
    }
   ],
   "source": [
    "(pvlaue=1-pf(fit1$fstatistic[1],fit1$fstatistic[2], fit1$fstatistic[3])) # pvalue for F test"
   ]
  },
  {
   "cell_type": "markdown",
   "id": "af96adc3-8c4e-4b9d-937a-0f4137e74c8b",
   "metadata": {},
   "source": [
    "F검정결과 p값이 매우작아 연관성이 있다고 확신할 수 있다. (계수중 하나는 0이 아니다.)"
   ]
  },
  {
   "cell_type": "code",
   "execution_count": 18,
   "id": "53a17c40-884b-4b00-a085-cd107da834ce",
   "metadata": {},
   "outputs": [
    {
     "data": {
      "text/html": [
       "1.68551037341474"
      ],
      "text/latex": [
       "1.68551037341474"
      ],
      "text/markdown": [
       "1.68551037341474"
      ],
      "text/plain": [
       "[1] 1.686"
      ]
     },
     "metadata": {},
     "output_type": "display_data"
    }
   ],
   "source": [
    "RSE = sqrt(sum(fit$residuals^2)/(fit$df.residual))   #연관성의 정도\n",
    "RSE"
   ]
  },
  {
   "cell_type": "code",
   "execution_count": 21,
   "id": "48d22116-cc42-4c4f-b6e4-8382c6c721d6",
   "metadata": {},
   "outputs": [
    {
     "data": {
      "text/html": [
       "0.897210638178952"
      ],
      "text/latex": [
       "0.897210638178952"
      ],
      "text/markdown": [
       "0.897210638178952"
      ],
      "text/plain": [
       "[1] 0.8972"
      ]
     },
     "metadata": {},
     "output_type": "display_data"
    }
   ],
   "source": [
    "R2 = fit1$r.squared\n",
    "R2"
   ]
  },
  {
   "cell_type": "code",
   "execution_count": 20,
   "id": "08d18e15-8b23-40de-bd07-f1a098629373",
   "metadata": {},
   "outputs": [
    {
     "data": {
      "text/html": [
       "<style>\n",
       ".dl-inline {width: auto; margin:0; padding: 0}\n",
       ".dl-inline>dt, .dl-inline>dd {float: none; width: auto; display: inline-block}\n",
       ".dl-inline>dt::after {content: \":\\0020\"; padding-right: .5ex}\n",
       ".dl-inline>dt:not(:first-of-type) {padding-left: .5ex}\n",
       "</style><dl class=dl-inline><dt>(Intercept)</dt><dd>1.26729450513134e-17</dd><dt>TV</dt><dd>1.50995995481439e-81</dd><dt>radio</dt><dd>1.50533892057562e-54</dd><dt>newspaper</dt><dd>0.859915050080572</dd></dl>\n"
      ],
      "text/latex": [
       "\\begin{description*}\n",
       "\\item[(Intercept)] 1.26729450513134e-17\n",
       "\\item[TV] 1.50995995481439e-81\n",
       "\\item[radio] 1.50533892057562e-54\n",
       "\\item[newspaper] 0.859915050080572\n",
       "\\end{description*}\n"
      ],
      "text/markdown": [
       "(Intercept)\n",
       ":   1.26729450513134e-17TV\n",
       ":   1.50995995481439e-81radio\n",
       ":   1.50533892057562e-54newspaper\n",
       ":   0.859915050080572\n",
       "\n"
      ],
      "text/plain": [
       "(Intercept)          TV       radio   newspaper \n",
       "  1.267e-17   1.510e-81   1.505e-54   8.599e-01 "
      ]
     },
     "metadata": {},
     "output_type": "display_data"
    }
   ],
   "source": [
    "fit1$coefficients[,4] # 어떤 media가 판매량에 영향을 미치는가?"
   ]
  },
  {
   "cell_type": "markdown",
   "id": "b732e19a-ad7d-4cc0-9b4f-0b6ab1943292",
   "metadata": {},
   "source": [
    "신문은 연관성이 관측되지 않음, 귀무가설을 기각한다. 0.8599 : 굉장히 큰값"
   ]
  },
  {
   "cell_type": "code",
   "execution_count": 25,
   "id": "a4094e6e-c6d4-4f92-9417-3cccc579bf9c",
   "metadata": {},
   "outputs": [
    {
     "data": {
      "text/html": [
       "<table class=\"dataframe\">\n",
       "<caption>A matrix: 4 × 2 of type dbl</caption>\n",
       "<tbody>\n",
       "\t<tr><th scope=row>(Intercept)</th><td> 2.31507</td><td>3.56271</td></tr>\n",
       "\t<tr><th scope=row>TV</th><td> 0.04297</td><td>0.04855</td></tr>\n",
       "\t<tr><th scope=row>radio</th><td> 0.17131</td><td>0.20575</td></tr>\n",
       "\t<tr><th scope=row>newspaper</th><td>-0.01278</td><td>0.01070</td></tr>\n",
       "</tbody>\n",
       "</table>\n"
      ],
      "text/latex": [
       "A matrix: 4 × 2 of type dbl\n",
       "\\begin{tabular}{r|ll}\n",
       "\t(Intercept) &  2.31507 & 3.56271\\\\\n",
       "\tTV &  0.04297 & 0.04855\\\\\n",
       "\tradio &  0.17131 & 0.20575\\\\\n",
       "\tnewspaper & -0.01278 & 0.01070\\\\\n",
       "\\end{tabular}\n"
      ],
      "text/markdown": [
       "\n",
       "A matrix: 4 × 2 of type dbl\n",
       "\n",
       "| (Intercept) |  2.31507 | 3.56271 |\n",
       "| TV |  0.04297 | 0.04855 |\n",
       "| radio |  0.17131 | 0.20575 |\n",
       "| newspaper | -0.01278 | 0.01070 |\n",
       "\n"
      ],
      "text/plain": [
       "            [,1]     [,2]   \n",
       "(Intercept)  2.31507 3.56271\n",
       "TV           0.04297 0.04855\n",
       "radio        0.17131 0.20575\n",
       "newspaper   -0.01278 0.01070"
      ]
     },
     "metadata": {},
     "output_type": "display_data"
    }
   ],
   "source": [
    "cbind(fit1$coefficients[,1]-2*fit1$coefficients[,2] ,fit1$coefficients[,1]+2*fit1$coefficients[,2])  #신뢰구간, 추정치 +- 표준편차*2"
   ]
  },
  {
   "cell_type": "markdown",
   "id": "a3c3e535-2197-4009-824b-79d4eded3e68",
   "metadata": {},
   "source": [
    "신문에 대해서는 신뢰구간이 0을 포함하는 비교적 넓은 구간"
   ]
  },
  {
   "cell_type": "markdown",
   "id": "9a65e1b5-82f8-4852-9968-80558f00f66f",
   "metadata": {},
   "source": [
    "선형성이 만족되는가?\n",
    "> 앞선 Figure 4 에서 선형성을 의심할 수 있는 정황이 발견 (3D plot)"
   ]
  },
  {
   "cell_type": "code",
   "execution_count": 23,
   "id": "3deef2b2-2eee-4f86-95c8-631f94f7f957",
   "metadata": {},
   "outputs": [
    {
     "data": {
      "text/html": [
       "<style>\n",
       ".list-inline {list-style: none; margin:0; padding: 0}\n",
       ".list-inline>li {display: inline-block}\n",
       ".list-inline>li:not(:last-child)::after {content: \"\\00b7\"; padding: 0 .5ex}\n",
       "</style>\n",
       "<ol class=list-inline><li>0.897194261082896</li><li>0.967790549848252</li></ol>\n"
      ],
      "text/latex": [
       "\\begin{enumerate*}\n",
       "\\item 0.897194261082896\n",
       "\\item 0.967790549848252\n",
       "\\end{enumerate*}\n"
      ],
      "text/markdown": [
       "1. 0.897194261082896\n",
       "2. 0.967790549848252\n",
       "\n",
       "\n"
      ],
      "text/plain": [
       "[1] 0.8972 0.9678"
      ]
     },
     "metadata": {},
     "output_type": "display_data"
    }
   ],
   "source": [
    "fit2 = lm(sales ~ TV + radio, data=ad) # main\n",
    "fit3 = lm(sales ~ TV * radio, data=ad) # interaction\n",
    "c(summary(fit2)$r.squared,summary(fit3)$r.squared)                 #상호작용이 존재하는가?"
   ]
  },
  {
   "cell_type": "code",
   "execution_count": 24,
   "id": "ef493477-b903-4b9e-9cad-03b9ca064036",
   "metadata": {},
   "outputs": [
    {
     "data": {
      "text/html": [
       "<style>\n",
       ".dl-inline {width: auto; margin:0; padding: 0}\n",
       ".dl-inline>dt, .dl-inline>dd {float: none; width: auto; display: inline-block}\n",
       ".dl-inline>dt::after {content: \":\\0020\"; padding-right: .5ex}\n",
       ".dl-inline>dt:not(:first-of-type) {padding-left: .5ex}\n",
       "</style><dl class=dl-inline><dt>Estimate</dt><dd>0.00108649469798996</dd><dt>Std. Error</dt><dd>5.24203957977123e-05</dd><dt>t value</dt><dd>20.7265641828171</dd><dt>Pr(&gt;|t|)</dt><dd>2.75768099928009e-51</dd></dl>\n"
      ],
      "text/latex": [
       "\\begin{description*}\n",
       "\\item[Estimate] 0.00108649469798996\n",
       "\\item[Std. Error] 5.24203957977123e-05\n",
       "\\item[t value] 20.7265641828171\n",
       "\\item[Pr(>\\textbackslash{}textbar\\{\\}t\\textbackslash{}textbar\\{\\})] 2.75768099928009e-51\n",
       "\\end{description*}\n"
      ],
      "text/markdown": [
       "Estimate\n",
       ":   0.00108649469798996Std. Error\n",
       ":   5.24203957977123e-05t value\n",
       ":   20.7265641828171Pr(&amp;gt;|t|)\n",
       ":   2.75768099928009e-51\n",
       "\n"
      ],
      "text/plain": [
       "  Estimate Std. Error    t value   Pr(>|t|) \n",
       " 1.086e-03  5.242e-05  2.073e+01  2.758e-51 "
      ]
     },
     "metadata": {},
     "output_type": "display_data"
    }
   ],
   "source": [
    "summary(fit3)$coefficients[4,] # interaction term"
   ]
  },
  {
   "cell_type": "markdown",
   "id": "72d38b0e-9a1c-4663-9bd8-40dabb9d683f",
   "metadata": {},
   "source": [
    "_______________________"
   ]
  },
  {
   "cell_type": "markdown",
   "id": "c62a3fba-c544-41e7-b13b-2ada629dce08",
   "metadata": {},
   "source": [
    "# 예제2 : ‘mtcars’ dataset : 선형모형 - gradient descent algorithm 적합"
   ]
  },
  {
   "cell_type": "code",
   "execution_count": 30,
   "id": "944d6829-4467-4ce4-bd45-a06ed779c591",
   "metadata": {},
   "outputs": [],
   "source": [
    "# mtcars = 유명한 내장 데이터"
   ]
  },
  {
   "cell_type": "code",
   "execution_count": 32,
   "id": "3800dda8-346b-4895-914e-f60ea909cc65",
   "metadata": {},
   "outputs": [],
   "source": [
    "# res=gradientDesc(mtcars$disp, mtcars$mpg, 0.0000293, 0.001,) ##패키지 필요"
   ]
  },
  {
   "cell_type": "code",
   "execution_count": 33,
   "id": "646069fe-3a15-4dfc-897b-c07bac9cb159",
   "metadata": {},
   "outputs": [
    {
     "data": {
      "text/plain": [
       "\n",
       "Call:\n",
       "lm(formula = mtcars$mpg ~ mtcars$disp)\n",
       "\n",
       "Coefficients:\n",
       "(Intercept)  mtcars$disp  \n",
       "    29.5999      -0.0412  \n"
      ]
     },
     "metadata": {},
     "output_type": "display_data"
    }
   ],
   "source": [
    "lm( mtcars$mpg~ mtcars$disp)"
   ]
  },
  {
   "cell_type": "markdown",
   "id": "c00c2b1d-19bd-4845-b2e6-ec02cd4d15c4",
   "metadata": {},
   "source": [
    "gradientDesc 랑 lm이랑 거의 비슷"
   ]
  }
 ],
 "metadata": {
  "kernelspec": {
   "display_name": "R",
   "language": "R",
   "name": "ir"
  },
  "language_info": {
   "codemirror_mode": "r",
   "file_extension": ".r",
   "mimetype": "text/x-r-source",
   "name": "R",
   "pygments_lexer": "r",
   "version": "4.0.5"
  }
 },
 "nbformat": 4,
 "nbformat_minor": 5
}
