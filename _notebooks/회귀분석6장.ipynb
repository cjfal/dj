{
 "cells": [
  {
   "cell_type": "markdown",
   "id": "42818643-75fe-4ccf-b294-0a77aa571358",
   "metadata": {},
   "source": [
    "# 회귀분석 6장\n",
    "> 회귀분석 6장 숙제 풀이\n",
    "\n",
    "- toc:true\n",
    "- branch: master\n",
    "- badges: true\n",
    "- comments: true\n",
    "- author: 김동준\n",
    "- categories : [\"R\", \"회귀분석\"]"
   ]
  },
  {
   "cell_type": "markdown",
   "id": "95da592e-5697-4cd4-950c-4d4c84bc8bfa",
   "metadata": {},
   "source": [
    "# 6.2\n",
    "> 다음 자료는 A 제품을 생산하는 공장의 총자산(x)과 총수입(y)과의 관계를 조사한 표이다."
   ]
  },
  {
   "cell_type": "markdown",
   "id": "85c3403c-c970-411b-a4d9-c9401bdeecc2",
   "metadata": {},
   "source": [
    "|x|25|6|8|5|1|24|17|2|13|14|\n",
    "|---|---|---|---|---|---|---|---|---|---|---|\n",
    "|y|10.1|2.9|3.0|1.8|0.1|9.4|6.9|0.3|5.1|6.0|"
   ]
  },
  {
   "cell_type": "markdown",
   "id": "7199a289-1958-4068-a68a-602a8539fc11",
   "metadata": {},
   "source": [
    "### 1) 산점도를 그리고, 적합한 모형을 설정하여라."
   ]
  },
  {
   "cell_type": "code",
   "execution_count": 5,
   "id": "807d005d-b21b-4f87-a4d8-c6aa8452500c",
   "metadata": {},
   "outputs": [
    {
     "data": {
      "image/png": "[encoded data removed]",
      "text/plain": [
       "plot without title"
      ]
     },
     "metadata": {
      "image/png": {
       "height": 420,
       "width": 420
      }
     },
     "output_type": "display_data"
    }
   ],
   "source": [
    "x <- c(25,6,8,5,1,24,17,2,13,14)\n",
    "y <- c(10.1,2.9,3.0,1.8,0.1,9.4,6.9,0.3,5.1,6.0)\n",
    "plot(x,y)\n",
    "lm62<-lm(y~x)\n",
    "abline(lm62,col='red')"
   ]
  },
  {
   "cell_type": "markdown",
   "id": "4023cfac-d84e-419b-86a0-239d9ecb9301",
   "metadata": {},
   "source": [
    "> 적합한 모형은 1차선형회귀모형이다."
   ]
  },
  {
   "cell_type": "markdown",
   "id": "0a7707b2-9b74-44c1-b1b1-3e2b1cabeb87",
   "metadata": {},
   "source": [
    "### 2) 원점을 지나는 회귀모형 $y=\\beta_1x + \\epsilon$ 을 적합시키고 분산분석표를 작성하여 귀무가설 $H_0 : \\beta_1 = 0 $ 을 검정하여라. $\\alpha = 0.05 $"
   ]
  },
  {
   "cell_type": "code",
   "execution_count": 8,
   "id": "7ae9a8bf-3244-4864-a864-04e1406e6af2",
   "metadata": {},
   "outputs": [
    {
     "data": {
      "text/html": [
       "0.401410579345088"
      ],
      "text/latex": [
       "0.401410579345088"
      ],
      "text/markdown": [
       "0.401410579345088"
      ],
      "text/plain": [
       "[1] 0.4014106"
      ]
     },
     "metadata": {},
     "output_type": "display_data"
    }
   ],
   "source": [
    "sum(x*y)/sum(x^2) #기울기 구하기"
   ]
  },
  {
   "cell_type": "markdown",
   "id": "07606bc5-bff8-43f0-b182-967c56f8e205",
   "metadata": {},
   "source": [
    "b1(기울기) 값은 0.401410579345088 이다."
   ]
  },
  {
   "cell_type": "code",
   "execution_count": 9,
   "id": "c6a1f9c4-9fa8-46ec-acae-c4634ef30881",
   "metadata": {},
   "outputs": [
    {
     "data": {
      "text/html": [
       "<style>\n",
       ".list-inline {list-style: none; margin:0; padding: 0}\n",
       ".list-inline>li {display: inline-block}\n",
       ".list-inline>li:not(:last-child)::after {content: \"\\00b7\"; padding: 0 .5ex}\n",
       "</style>\n",
       "<ol class=list-inline><li>0.0647355163727994</li><li>0.491536523929472</li><li>-0.211284634760704</li><li>-0.20705289672544</li><li>-0.301410579345088</li><li>-0.233853904282112</li><li>0.0760201511335046</li><li>-0.502821158690176</li><li>-0.118337531486144</li><li>0.380251889168768</li></ol>\n"
      ],
      "text/latex": [
       "\\begin{enumerate*}\n",
       "\\item 0.0647355163727994\n",
       "\\item 0.491536523929472\n",
       "\\item -0.211284634760704\n",
       "\\item -0.20705289672544\n",
       "\\item -0.301410579345088\n",
       "\\item -0.233853904282112\n",
       "\\item 0.0760201511335046\n",
       "\\item -0.502821158690176\n",
       "\\item -0.118337531486144\n",
       "\\item 0.380251889168768\n",
       "\\end{enumerate*}\n"
      ],
      "text/markdown": [
       "1. 0.0647355163727994\n",
       "2. 0.491536523929472\n",
       "3. -0.211284634760704\n",
       "4. -0.20705289672544\n",
       "5. -0.301410579345088\n",
       "6. -0.233853904282112\n",
       "7. 0.0760201511335046\n",
       "8. -0.502821158690176\n",
       "9. -0.118337531486144\n",
       "10. 0.380251889168768\n",
       "\n",
       "\n"
      ],
      "text/plain": [
       " [1]  0.06473552  0.49153652 -0.21128463 -0.20705290 -0.30141058 -0.23385390\n",
       " [7]  0.07602015 -0.50282116 -0.11833753  0.38025189"
      ]
     },
     "metadata": {},
     "output_type": "display_data"
    }
   ],
   "source": [
    "y-0.401410579345088*x #잔차구하기"
   ]
  },
  {
   "cell_type": "code",
   "execution_count": 10,
   "id": "dd61e9e5-8a9c-4b89-aa39-517c90cdb894",
   "metadata": {},
   "outputs": [
    {
     "data": {
      "text/html": [
       "-0.56221662468512"
      ],
      "text/latex": [
       "-0.56221662468512"
      ],
      "text/markdown": [
       "-0.56221662468512"
      ],
      "text/plain": [
       "[1] -0.5622166"
      ]
     },
     "metadata": {},
     "output_type": "display_data"
    }
   ],
   "source": [
    "sum(y-0.401410579345088*x) #잔차의 합이 0이 아니다."
   ]
  },
  {
   "cell_type": "markdown",
   "id": "e4c34ab1-f8b8-440a-a39e-1a6dc825251d",
   "metadata": {},
   "source": [
    "### 3) 단순회귀모형 $y=\\beta_0 + \\beta_1x+\\epsilon$을 적합시키고 결정계수 $R^2$ 을 계산하여라."
   ]
  },
  {
   "cell_type": "code",
   "execution_count": null,
   "id": "dd167ab8-2a87-4045-9cf2-817f2251ad88",
   "metadata": {},
   "outputs": [],
   "source": []
  },
  {
   "cell_type": "markdown",
   "id": "6e564ce7-f0a7-4990-b504-022663f43e4f",
   "metadata": {},
   "source": [
    "__________________________"
   ]
  },
  {
   "cell_type": "markdown",
   "id": "4b82185c-38f5-4976-8fd0-eb815587ccdf",
   "metadata": {},
   "source": [
    "# 6.5\n",
    "> 다음 표는 남녀 어린이 각각 16명에게 비타민B를 복용시켰을 때 4주간의 성장률에 관한 자료이다."
   ]
  },
  {
   "cell_type": "markdown",
   "id": "bea11fc1-f8a5-4604-9621-5f2382fac923",
   "metadata": {},
   "source": [
    "|남|  |여|  |\n",
    "|:---:|:---:|:---:|:---:|\n",
    "|성장률(y)|복용량(x)|성장률(y)|복용량(x)|\n",
    "|17.1|0.301|18.5|0.301|\n",
    "|14.3|0.301|22.1|0.301|\n",
    "|21.6|0.301|15.3|0.301|\n",
    "|24.5|0.602|23.6|0.602|\n",
    "|20.6|0.602|26.9|0.602|\n",
    "|23.8|0.602|20.2|0.602|\n",
    "|27.7|0.903|24.3|0.903|\n",
    "|31.0|0.903|27.1|0.903|\n",
    "|29.4|0.903|30.1|0.903|\n",
    "|30.1|1.204|28.1|0.903|\n",
    "|28.6|1.204|30.3|1.204|\n",
    "|34.2|1.204|33.0|1.204|\n",
    "|37.3|1.204|35.8|1.204|\n",
    "|33.3|1.505|32.6|1.505|\n",
    "|31.8|1.505|36.1|1.505|\n",
    "|40.2|1.505|30.5|1.505|\n"
   ]
  },
  {
   "cell_type": "markdown",
   "id": "ca0bcc18-cdcb-46d0-b276-d07e1ea52fb2",
   "metadata": {},
   "source": [
    "### 1) 주어진 자료에 $y=\\beta_0 +\\beta_1x + \\epsilon$ 이 성립한다고 가정하고 남녀 어린이 각각의 경우에 회귀선을 추정하여라."
   ]
  },
  {
   "cell_type": "code",
   "execution_count": null,
   "id": "c84961f3-3830-4e86-a91b-a7e49afcd426",
   "metadata": {},
   "outputs": [],
   "source": []
  },
  {
   "cell_type": "markdown",
   "id": "3ac0ec1e-c1e5-417c-b0ea-240e20c13b4f",
   "metadata": {},
   "source": [
    "### 2) 두 개의 추정된 회귀선을 같은 평면상에 나타내어 비교해 보라."
   ]
  },
  {
   "cell_type": "code",
   "execution_count": null,
   "id": "6dffc446-4c7d-4441-b108-c632fcf6ad3f",
   "metadata": {},
   "outputs": [],
   "source": []
  },
  {
   "cell_type": "markdown",
   "id": "e6127445-2a9c-41c3-a41f-44ee9d4991bc",
   "metadata": {},
   "source": [
    "### 3) 두 회귀직선의 기울기가 같은지 검정하여라. $\\alpha = 0.05 $"
   ]
  },
  {
   "cell_type": "code",
   "execution_count": null,
   "id": "968db485-33fe-4bf6-a904-0dc0262a474a",
   "metadata": {},
   "outputs": [],
   "source": []
  },
  {
   "cell_type": "markdown",
   "id": "4caef146-3022-4c55-81b5-ba5bbae5fd93",
   "metadata": {},
   "source": [
    "### 4) 두 회귀직선의 동일성 여부를 검정하여라. $\\alpha = 0.05 $"
   ]
  },
  {
   "cell_type": "code",
   "execution_count": null,
   "id": "2c5deeb6-efdd-4898-a36f-7ea1f46b1bb3",
   "metadata": {},
   "outputs": [],
   "source": []
  },
  {
   "cell_type": "markdown",
   "id": "5545c8fa-b167-43f5-9b22-86a85222798d",
   "metadata": {},
   "source": [
    "____________________"
   ]
  },
  {
   "cell_type": "markdown",
   "id": "1336e906-9501-48c7-be2e-2032a83b0912",
   "metadata": {},
   "source": [
    "# 6.7"
   ]
  },
  {
   "cell_type": "markdown",
   "id": "f653c9ae-919c-4656-a306-d5dbf9622121",
   "metadata": {},
   "source": [
    "단순 회귀 모형에서 회귀제곱합"
   ]
  },
  {
   "cell_type": "markdown",
   "id": "a99be361-2c09-4043-ab81-adbb98e64993",
   "metadata": {},
   "source": [
    "$SSR = y'[X(X'X)^{-1} - \\frac{J}{n}]y = \\sum_{}^{} (\\hat{y_i}-\\bar{y})^2$"
   ]
  },
  {
   "cell_type": "markdown",
   "id": "19d5ccdd-4d7a-465d-8710-3506b180a44e",
   "metadata": {},
   "source": [
    "의 기댓값을 [정리 6.4]를 이용하여 구하고 잔차제곱합"
   ]
  },
  {
   "cell_type": "markdown",
   "id": "33f0c5a4-7f04-41bd-baa0-377cad749cb4",
   "metadata": {},
   "source": [
    "$ SSE = \\sum_{i=1}^{n} (y_i - \\hat{y_1})^2 $ = $ y'[I-X(X'X)^{-1} X'] y $"
   ]
  },
  {
   "cell_type": "markdown",
   "id": "231af42d-02f5-4946-8989-e9fb5b2079a9",
   "metadata": {},
   "source": [
    "의 기댓값도 구하여 보아라"
   ]
  },
  {
   "cell_type": "markdown",
   "id": "946ec1ff-eb46-4cd7-a943-cdef524306b5",
   "metadata": {},
   "source": [
    "`-` [정리 6.4] : 만약 벡터 $y \\sim N(\\mu,V)$ 이면 ($V$는 분산공분산행렬)\n",
    "> 1) $E(y'Ay) = tr(AV) + \\mu'A\\mu $ (이것은 y가 정규분포가 아닐 때도 성립)\n",
    "\n",
    "> 2) $Cov(y,y'Ay) = 2VA\\mu$"
   ]
  },
  {
   "cell_type": "code",
   "execution_count": null,
   "id": "6809b471-b5b0-4947-b25d-f4bcd35b964b",
   "metadata": {},
   "outputs": [],
   "source": []
  },
  {
   "cell_type": "markdown",
   "id": "afb95b27-a872-48e3-8687-dd57398e29d5",
   "metadata": {},
   "source": [
    "_____"
   ]
  },
  {
   "cell_type": "markdown",
   "id": "607abbe7-9a1b-4359-81b8-0e38ff8fca47",
   "metadata": {},
   "source": [
    "# 6.10"
   ]
  },
  {
   "cell_type": "markdown",
   "id": "b5fc0b18-2438-4f20-a1fe-1efa09fd3880",
   "metadata": {},
   "source": [
    "단순회귀모형"
   ]
  },
  {
   "cell_type": "markdown",
   "id": "6732fa96-454c-4162-9015-ccbbc06715d9",
   "metadata": {},
   "source": [
    "$ y = \\beta_0 + \\beta_1 x + \\epsilon $ , $ \\epsilon \\sim N(0,\\sigma^2)$"
   ]
  },
  {
   "cell_type": "markdown",
   "id": "0cb1d2de-5db2-47b7-81ae-4f661d46a52b",
   "metadata": {},
   "source": [
    "에서 $H_0 : \\beta_1 = 0$ 이 성립하면 검정통계량"
   ]
  },
  {
   "cell_type": "markdown",
   "id": "91d305c6-5b37-4773-a5f7-5f042793333c",
   "metadata": {},
   "source": [
    "$F_0 = \\frac{MSR}{MSE}$"
   ]
  },
  {
   "cell_type": "markdown",
   "id": "51a76709-0cd0-47a0-8891-9941323e18f5",
   "metadata": {},
   "source": [
    "은 비중심모수 $\\lambda = 0$ 인 중심 $F(1,n-2)$ 분포가 됨을 보여라([정리 6.8]이용)"
   ]
  },
  {
   "cell_type": "markdown",
   "id": "7745cfb4-0f8e-48d1-a19d-66821710b21f",
   "metadata": {},
   "source": [
    "`-` [정리 6.8]\n",
    "> $y \\sim N(\\mu,I)$ 이면 $ y'Ay \\sim $ $\\chi^2 {'} $ $ (k,\\frac{1}{2} \\mu'A\\mu)$ 이 되기 위한 필요충분조건은 $A$가 계수 $k$인 멱등행렬이다."
   ]
  },
  {
   "cell_type": "code",
   "execution_count": null,
   "id": "f9ed9105-cf2b-4f56-896b-536be80c6cb7",
   "metadata": {},
   "outputs": [],
   "source": []
  }
 ],
 "metadata": {
  "kernelspec": {
   "display_name": "R",
   "language": "R",
   "name": "ir"
  },
  "language_info": {
   "codemirror_mode": "r",
   "file_extension": ".r",
   "mimetype": "text/x-r-source",
   "name": "R",
   "pygments_lexer": "r",
   "version": "4.0.5"
  }
 },
 "nbformat": 4,
 "nbformat_minor": 5
}
