{
 "cells": [
  {
   "cell_type": "markdown",
   "id": "9820ae76-0ec2-4b37-bb56-07e73e3604d0",
   "metadata": {},
   "source": [
    "# 혼공머 04-2\n",
    "> 확률적 경사 하강법 , 손실함수 , 에포크\n",
    "\n",
    "- toc:true\n",
    "- branch: master\n",
    "- badges: true\n",
    "- comments: true\n",
    "- author: 김동준\n",
    "- categories : [\"Python\", \"혼공머\"]"
   ]
  },
  {
   "cell_type": "markdown",
   "id": "79f88714-4e85-4eaa-b0d1-24e251cab6eb",
   "metadata": {},
   "source": [
    "# 주로쓰는 패키지들"
   ]
  },
  {
   "cell_type": "code",
   "execution_count": 11,
   "id": "84213097-206e-4c80-a011-b96b5cf0a897",
   "metadata": {},
   "outputs": [],
   "source": [
    "import numpy as np #넘파이\n",
    "import pandas as pd #판다스\n",
    "from plotnine import *  #플롯나인\n",
    "import matplotlib.pyplot as plt #맷플랏립\n",
    "import plotly.express as px #플랏리 상호작용 그래프\n",
    "from IPython.display import HTML #블로그에 html로 올리려고 변환하는 패키지\n",
    "import seaborn as sns # 씨본, 히스토그램 깔끔하게 그리는 패키지\n",
    "from sklearn.neighbors import KNeighborsClassifier # k 최근접이웃\n",
    "from sklearn.model_selection import train_test_split\n",
    "from sklearn.neighbors import KNeighborsRegressor  # 결정계수 \n",
    "from sklearn.metrics import mean_absolute_error # 타깃과 예측의 절댓값 오차 평균을 반환\n",
    "from sklearn.linear_model import LinearRegression # 선형 회귀\n",
    "from sklearn.preprocessing import PolynomialFeatures #다중회귀로의 변환기\n",
    "from sklearn.preprocessing import StandardScaler #규제\n",
    "from sklearn.linear_model import Ridge #릿지\n",
    "from sklearn.linear_model import Lasso #라쏘\n",
    "from sklearn.linear_model import LogisticRegression # 로지스틱회귀\n",
    "from scipy.special import expit #시그모이드함수\n",
    "from scipy.special import softmax #소프트맥스함수\n",
    "from sklearn.linear_model import SGDClassifier # 확률적 경사 하강법"
   ]
  },
  {
   "cell_type": "markdown",
   "id": "c76de695-c4aa-4621-8e69-0c22f8a986d1",
   "metadata": {},
   "source": [
    "# 점진적인 학습\n",
    "\n",
    "> 기존 훈련 데이터에 새로운 데이터를 추가하여 모델을 매일매일 다시 훈련?\n",
    "\n",
    "> 서버 문제가 큼 $\\to$ 새로운 데이터를 추가할 때 이전 데이터를 버려서 훈련 데이터 크기를 일정하게 유지(점진적 학습)\n",
    "\n",
    "> 대표적인 점진적 학습 알고리즘이 확률적 경사 하강법"
   ]
  },
  {
   "cell_type": "markdown",
   "id": "235c9b05-9b00-46f3-8a32-a2047127de14",
   "metadata": {},
   "source": [
    "# 확률적 경사 하강법\n",
    "\n",
    "> 한개씩 이용 : 확률적 경사 하강법\n",
    "\n",
    "> 가장 가파른 길을 따라 원하는 지점에 도달하는 것이 목표 (조금씩 빠르게)\n",
    "\n",
    "> 랜덤하게 (확률적으로)\n",
    "\n",
    "> 훈련 세트를 한 번 모두 사용하는 과정 : 에포크\n",
    "\n",
    "> 여러개의 샘플을 사용해 경사 하강법 수행 : 미니배치 경사 하강법\n",
    "\n",
    "> 극단적으로 한 번 경사로를 따라 이동하기 위해 전체 샘플 이용 : 배치경사하강법"
   ]
  },
  {
   "cell_type": "markdown",
   "id": "11e1c682-7ed1-4dbe-9f67-400efc7b157b",
   "metadata": {},
   "source": [
    "# 손실함수\n",
    "\n",
    "> 어떤 문제에서 머신러닝 알고리즘이 얼마나 엉터리인지를 측정하는 기준\n",
    "\n",
    "> 최솟값은 모른다.\n",
    "\n",
    "> 가능한 많이 찾아봄\n",
    "\n",
    "> 샘플 하나에 대한 손실을 정의 (비용함수 : 훈련세트에 있는 모든 샘플에 대한 손실 함수의 합) \n",
    "\n",
    "> 주로 사용하는 손실 함수 : MSE(평균 제곱 오차 , 작을수록 좋음)"
   ]
  },
  {
   "cell_type": "markdown",
   "id": "bb12db43-5dc1-4ba9-8f15-4d5375bd00af",
   "metadata": {},
   "source": [
    "# 로지스틱 손실 함수 (이진 크로스엔트로피 손실 함수)\n",
    "\n",
    "> 양성 클래스(타깃=1) 일 때 손실은 -log(예측 확률)로 계산.\n",
    "\n",
    "> 확률이 1에서 멀어질수록 손실은 아주 큰 양수가 됨.\n",
    "\n",
    "> 음성 클래스 (타깃=0) 일 때 손실은 -log(1-예측 확률)로 계산.\n",
    "\n",
    "> 이 예측 확률이 0에서 멀어질수록 손실은 아주 큰 양수가 됨."
   ]
  },
  {
   "cell_type": "markdown",
   "id": "8c4fcbbc-b247-4765-a675-9fca6792b349",
   "metadata": {},
   "source": [
    "## 크로스엔트로피 손실 함수 :다중 분류에서 사용하는 손실 함수"
   ]
  },
  {
   "cell_type": "markdown",
   "id": "830d36ae-ec88-4458-a710-a42725629245",
   "metadata": {},
   "source": [
    "# SGDClassifier"
   ]
  },
  {
   "cell_type": "code",
   "execution_count": 4,
   "id": "53e93e40-56dd-4ff0-92e0-6dc2244c6563",
   "metadata": {},
   "outputs": [],
   "source": [
    "# 데이터프레임 생성\n",
    "fish = pd.read_csv('https://bit.ly/fish_csv_data')"
   ]
  },
  {
   "cell_type": "code",
   "execution_count": 6,
   "id": "42841d77-89e5-4a5a-ba34-881af073f1fc",
   "metadata": {},
   "outputs": [],
   "source": [
    "# Species 열(타깃데이터)을 제외한 나머지 5개는 입력 데이터로 사용\n",
    "fish_input = fish[['Weight', 'Length', 'Diagonal' , 'Height', 'Width']].to_numpy()\n",
    "fish_target = fish['Species'].to_numpy()"
   ]
  },
  {
   "cell_type": "code",
   "execution_count": 8,
   "id": "66fa87da-2812-4a09-ac9c-003e719f0e9d",
   "metadata": {},
   "outputs": [],
   "source": [
    "# 테스트 / 훈련\n",
    "train_input , test_input , train_target , test_target = \\\n",
    "train_test_split(fish_input , fish_target , random_state=42)"
   ]
  },
  {
   "cell_type": "code",
   "execution_count": 10,
   "id": "11604bb7-8024-46ff-9f46-7f1d3739000c",
   "metadata": {},
   "outputs": [],
   "source": [
    "# 표준화 전처리\n",
    "ss = StandardScaler()\n",
    "ss.fit(train_input)\n",
    "train_scaled = ss.transform(train_input)\n",
    "test_scaled = ss.transform(test_input)"
   ]
  },
  {
   "cell_type": "code",
   "execution_count": 12,
   "id": "635ad3f8-2498-4eae-96e0-fc42f3dd0db9",
   "metadata": {},
   "outputs": [
    {
     "name": "stdout",
     "output_type": "stream",
     "text": [
      "0.773109243697479\n",
      "0.775\n"
     ]
    },
    {
     "name": "stderr",
     "output_type": "stream",
     "text": [
      "/home/cjfal/anaconda3/lib/python3.8/site-packages/sklearn/linear_model/_stochastic_gradient.py:574: ConvergenceWarning: Maximum number of iteration reached before convergence. Consider increasing max_iter to improve the fit.\n"
     ]
    }
   ],
   "source": [
    "# SGDClassifier : 객체를 만들 때 2개의 매개변수 지정\n",
    "# loss는 손실 함수의 종류를 지정\n",
    "# max_iter : 수행할 에포크 횟수 지정\n",
    "\n",
    "sc = SGDClassifier(loss='log' , max_iter=10 , random_state=42)\n",
    "sc.fit(train_scaled , train_target)\n",
    "print(sc.score(train_scaled ,train_target))\n",
    "print(sc.score(test_scaled , test_target))"
   ]
  },
  {
   "cell_type": "markdown",
   "id": "58f0415b-6de7-42db-9490-68d73bf21482",
   "metadata": {},
   "source": [
    "> 지정한 반복 횟수 10번이 부족한 것으로 보임 (매개변수의 값을 늘려야함 오류가 아닌 '경고')"
   ]
  },
  {
   "cell_type": "code",
   "execution_count": 13,
   "id": "967e67be-3129-4dfe-b9fa-05188bae42bf",
   "metadata": {},
   "outputs": [
    {
     "name": "stdout",
     "output_type": "stream",
     "text": [
      "0.8151260504201681\n",
      "0.85\n"
     ]
    }
   ],
   "source": [
    "# 모델을 이어서 훈련할 때는 partial_fit() 이용\n",
    "sc.partial_fit(train_scaled , train_target)\n",
    "print(sc.score(train_scaled, train_target))\n",
    "print(sc.score(test_scaled , test_target))"
   ]
  },
  {
   "cell_type": "markdown",
   "id": "6d375abf-3be1-4c35-96de-01b026659167",
   "metadata": {},
   "source": [
    "> 점수가 낮지만 정확도가 향상"
   ]
  },
  {
   "cell_type": "markdown",
   "id": "edb6280b-9293-4bca-8dc1-82c750650d21",
   "metadata": {},
   "source": [
    "# 에포크와 과대/과소적합\n",
    "\n",
    "> 확률적 경사 하강법을 사용한 모델은 에포크 횟수에 따라 과소적합이나 과대적합이 될 수 있다.\n",
    "\n",
    "> 에포크는 횟수가 적으면 모델이 훈련 세트를 덜 학습"
   ]
  },
  {
   "cell_type": "code",
   "execution_count": 14,
   "id": "0412ab9f-1298-4a56-9634-6323cf601bcd",
   "metadata": {},
   "outputs": [],
   "source": [
    "## 조기 종료 : 과대적합이 시작하기 전에 훈련을 멈추는 것\n",
    "sc = SGDClassifier(loss = 'log' , random_state=42)\n",
    "train_score = []\n",
    "test_score = []\n",
    "classes = np.unique(train_target)\n",
    "\n",
    "for _ in range(0 ,300):\n",
    "    sc.partial_fit(train_scaled, train_target , classes=classes)\n",
    "    train_score.append(sc.score(train_scaled , train_target))\n",
    "    test_score.append(sc.score(test_scaled , test_target))"
   ]
  },
  {
   "cell_type": "markdown",
   "id": "d4b4be33-9774-4231-a878-f46348da9df0",
   "metadata": {},
   "source": [
    "> _ 는 특별한 변수, 나중에 사용하지 않고 그냥 버리는 값을 넣어두는 용도로 사용"
   ]
  },
  {
   "cell_type": "code",
   "execution_count": 15,
   "id": "b66bc693-f886-4401-b833-ab86dec094c1",
   "metadata": {},
   "outputs": [
    {
     "data": {
      "image/png": "[encoded data removed]",
      "text/plain": [
       "<Figure size 432x288 with 1 Axes>"
      ]
     },
     "metadata": {
      "needs_background": "light"
     },
     "output_type": "display_data"
    }
   ],
   "source": [
    "# 300번의 에포크 동안 기록한 훈련 세트와 테스트 세트의 점수를 그래프로\n",
    "\n",
    "plt.plot(train_score)\n",
    "plt.plot(test_score)\n",
    "plt.xlabel('epoch')\n",
    "plt.ylabel('accuracy')\n",
    "plt.show()"
   ]
  },
  {
   "cell_type": "markdown",
   "id": "7bc2b04a-ffbe-468e-b60b-e3e2c910c868",
   "metadata": {},
   "source": [
    "> 주황 : 테스트 , 파랑 : 훈련"
   ]
  },
  {
   "cell_type": "markdown",
   "id": "2149a9b2-0c73-40f1-acdb-3916dd7b678b",
   "metadata": {},
   "source": [
    "> 100 전에는 과소, 100이후에는 거리가 더 벌어짐  $\\to$ 100째 에포크가 적절해보임"
   ]
  },
  {
   "cell_type": "code",
   "execution_count": 17,
   "id": "e768e3b2-7b54-4034-970c-957506a69682",
   "metadata": {},
   "outputs": [
    {
     "name": "stdout",
     "output_type": "stream",
     "text": [
      "0.957983193277311\n",
      "0.925\n"
     ]
    }
   ],
   "source": [
    "# 100에 맞추고 다시 훈련\n",
    "sc = SGDClassifier(loss = 'log' , max_iter=100 , tol=None ,random_state=42)\n",
    "sc.fit(train_scaled , train_target)\n",
    "print(sc.score(train_scaled , train_target))\n",
    "print(sc.score(test_scaled , test_target))"
   ]
  },
  {
   "cell_type": "markdown",
   "id": "c35bd125-2d81-4e87-8ae4-ded705d3f080",
   "metadata": {},
   "source": [
    "> 정확도 상승!"
   ]
  },
  {
   "cell_type": "markdown",
   "id": "140b9a5e-b686-4ccb-bf46-fb826637ab8e",
   "metadata": {},
   "source": [
    "# loss 매개변수\n",
    "\n",
    "> loss 매개변수의 기본값 : hinge\n",
    "\n",
    "> 힌지 손실 : 서포트 벡터 머신 이라 불리는 또다른 머신러닝 알고리즘을 위한 손실 함수"
   ]
  },
  {
   "cell_type": "code",
   "execution_count": 19,
   "id": "12832ea6-7c2d-4800-97ad-d681c86fc284",
   "metadata": {},
   "outputs": [
    {
     "name": "stdout",
     "output_type": "stream",
     "text": [
      "0.9495798319327731\n",
      "0.925\n"
     ]
    }
   ],
   "source": [
    "# 힌지 손실로 해보기\n",
    "sc = SGDClassifier(loss = 'hinge' , max_iter=100 , tol=None ,random_state=42)\n",
    "sc.fit(train_scaled , train_target)\n",
    "print(sc.score(train_scaled , train_target))\n",
    "print(sc.score(test_scaled , test_target))"
   ]
  },
  {
   "cell_type": "code",
   "execution_count": null,
   "id": "3b5d421d-c869-4a08-bb97-e0e416c69f54",
   "metadata": {},
   "outputs": [],
   "source": []
  },
  {
   "cell_type": "code",
   "execution_count": null,
   "id": "098d339b-4cbf-4b20-a04e-ef8e538c550e",
   "metadata": {},
   "outputs": [],
   "source": []
  },
  {
   "cell_type": "code",
   "execution_count": null,
   "id": "2fd99362-b6c1-4f27-ad97-128eee387e55",
   "metadata": {},
   "outputs": [],
   "source": []
  },
  {
   "cell_type": "code",
   "execution_count": null,
   "id": "b2354a3f-b9b9-487b-b297-90c63c345b00",
   "metadata": {},
   "outputs": [],
   "source": []
  },
  {
   "cell_type": "code",
   "execution_count": null,
   "id": "f486c550-57ce-4c06-83e4-c1b1ac0686f8",
   "metadata": {},
   "outputs": [],
   "source": []
  },
  {
   "cell_type": "code",
   "execution_count": null,
   "id": "216a731e-7bd5-4cc0-8825-a20a22b340a6",
   "metadata": {},
   "outputs": [],
   "source": []
  },
  {
   "cell_type": "code",
   "execution_count": null,
   "id": "9b3bbcc1-92d1-4c6f-adf4-79507f69c271",
   "metadata": {},
   "outputs": [],
   "source": []
  },
  {
   "cell_type": "code",
   "execution_count": null,
   "id": "d4a6c025-ce05-4580-86b2-216d0267aaf8",
   "metadata": {},
   "outputs": [],
   "source": []
  },
  {
   "cell_type": "code",
   "execution_count": null,
   "id": "a6d2f988-91d2-4f5b-a10b-5ad652a19051",
   "metadata": {},
   "outputs": [],
   "source": []
  },
  {
   "cell_type": "code",
   "execution_count": null,
   "id": "e040abfd-5e90-4468-9549-4cb63ac9ad0c",
   "metadata": {},
   "outputs": [],
   "source": []
  },
  {
   "cell_type": "code",
   "execution_count": null,
   "id": "334bf72e-f45f-48d6-a421-418992992b21",
   "metadata": {},
   "outputs": [],
   "source": []
  },
  {
   "cell_type": "code",
   "execution_count": null,
   "id": "a634f22b-fe9f-409e-a8ae-17a6105536d3",
   "metadata": {},
   "outputs": [],
   "source": []
  },
  {
   "cell_type": "code",
   "execution_count": null,
   "id": "69467377-fe64-4904-83f4-8f75857c36b5",
   "metadata": {},
   "outputs": [],
   "source": []
  },
  {
   "cell_type": "code",
   "execution_count": null,
   "id": "250e24f4-1c1e-459e-91c4-b0be574e081b",
   "metadata": {},
   "outputs": [],
   "source": []
  },
  {
   "cell_type": "code",
   "execution_count": null,
   "id": "c8194253-afdb-42b1-9b32-3c8ddeb06df1",
   "metadata": {},
   "outputs": [],
   "source": []
  },
  {
   "cell_type": "code",
   "execution_count": null,
   "id": "c8da221e-d0d7-45bc-afdb-22dc5b52e4a3",
   "metadata": {},
   "outputs": [],
   "source": []
  },
  {
   "cell_type": "code",
   "execution_count": null,
   "id": "9574e7da-a4ca-4368-9a1f-7f6539c1f909",
   "metadata": {},
   "outputs": [],
   "source": []
  },
  {
   "cell_type": "code",
   "execution_count": null,
   "id": "35bb7a54-5f0b-4b1c-86f0-08019f12fc36",
   "metadata": {},
   "outputs": [],
   "source": []
  },
  {
   "cell_type": "code",
   "execution_count": null,
   "id": "cb09b48c-7dcf-4927-bc04-fa56c1aad113",
   "metadata": {},
   "outputs": [],
   "source": []
  },
  {
   "cell_type": "code",
   "execution_count": null,
   "id": "9fc8e524-c209-49c2-bfe9-32d7ac9dcb72",
   "metadata": {},
   "outputs": [],
   "source": []
  },
  {
   "cell_type": "code",
   "execution_count": null,
   "id": "8be7f170-a09e-4b93-995b-c39b100aaec4",
   "metadata": {},
   "outputs": [],
   "source": []
  },
  {
   "cell_type": "code",
   "execution_count": null,
   "id": "41b4aa05-163f-4d4d-a8d0-51bcd89caa79",
   "metadata": {},
   "outputs": [],
   "source": []
  },
  {
   "cell_type": "code",
   "execution_count": null,
   "id": "bf657a4e-78a0-492d-b216-5869670a1fd9",
   "metadata": {},
   "outputs": [],
   "source": []
  },
  {
   "cell_type": "code",
   "execution_count": null,
   "id": "06ade66d-28a1-4a40-bc09-f59ede729d5b",
   "metadata": {},
   "outputs": [],
   "source": []
  },
  {
   "cell_type": "code",
   "execution_count": null,
   "id": "736b6eb4-970d-466d-a3c4-d86d428d7856",
   "metadata": {},
   "outputs": [],
   "source": []
  },
  {
   "cell_type": "code",
   "execution_count": null,
   "id": "6ffb0f14-e4d4-4b02-8bf0-6d04e8a9908b",
   "metadata": {},
   "outputs": [],
   "source": []
  },
  {
   "cell_type": "code",
   "execution_count": null,
   "id": "b7182013-14c5-4586-91db-026daec6faaf",
   "metadata": {},
   "outputs": [],
   "source": []
  },
  {
   "cell_type": "code",
   "execution_count": null,
   "id": "98dbdbd3-6b51-4835-808d-b38570baf186",
   "metadata": {},
   "outputs": [],
   "source": []
  },
  {
   "cell_type": "code",
   "execution_count": null,
   "id": "c2b49177-2dc1-4653-97bf-de6dec86393a",
   "metadata": {},
   "outputs": [],
   "source": []
  },
  {
   "cell_type": "code",
   "execution_count": null,
   "id": "d9321ef9-219f-43c0-b79b-f111f03e8c4e",
   "metadata": {},
   "outputs": [],
   "source": []
  },
  {
   "cell_type": "code",
   "execution_count": null,
   "id": "e0de4b5c-70b8-4140-ad48-7d31372063ea",
   "metadata": {},
   "outputs": [],
   "source": []
  },
  {
   "cell_type": "code",
   "execution_count": null,
   "id": "e1ec82bf-2032-4848-8868-abb6151d880c",
   "metadata": {},
   "outputs": [],
   "source": []
  },
  {
   "cell_type": "code",
   "execution_count": null,
   "id": "e37ae107-79ef-4237-97f5-6e40963ea5e0",
   "metadata": {},
   "outputs": [],
   "source": []
  },
  {
   "cell_type": "code",
   "execution_count": null,
   "id": "8d45254d-5502-4c02-b7cf-5835967b8a19",
   "metadata": {},
   "outputs": [],
   "source": []
  },
  {
   "cell_type": "code",
   "execution_count": null,
   "id": "8de88b91-a897-4d73-97ef-029b570cc077",
   "metadata": {},
   "outputs": [],
   "source": []
  },
  {
   "cell_type": "code",
   "execution_count": null,
   "id": "477adcf6-a3be-4991-b22c-6428681f8573",
   "metadata": {},
   "outputs": [],
   "source": []
  },
  {
   "cell_type": "code",
   "execution_count": null,
   "id": "e1718592-ed5b-47b7-9994-7a5449872b45",
   "metadata": {},
   "outputs": [],
   "source": []
  },
  {
   "cell_type": "code",
   "execution_count": null,
   "id": "e0699624-2998-4277-8b94-34205ea1dcc8",
   "metadata": {},
   "outputs": [],
   "source": []
  },
  {
   "cell_type": "code",
   "execution_count": null,
   "id": "470e6e63-5ab8-42c7-ba53-462f79899232",
   "metadata": {},
   "outputs": [],
   "source": []
  },
  {
   "cell_type": "code",
   "execution_count": null,
   "id": "3375f8b2-d710-4d53-adfd-8a389dac7032",
   "metadata": {},
   "outputs": [],
   "source": []
  },
  {
   "cell_type": "code",
   "execution_count": null,
   "id": "545f3cb2-9e34-4820-a1c9-df1c6a9fce24",
   "metadata": {},
   "outputs": [],
   "source": []
  }
 ],
 "metadata": {
  "kernelspec": {
   "display_name": "Python 3",
   "language": "python",
   "name": "python3"
  },
  "language_info": {
   "codemirror_mode": {
    "name": "ipython",
    "version": 3
   },
   "file_extension": ".py",
   "mimetype": "text/x-python",
   "name": "python",
   "nbconvert_exporter": "python",
   "pygments_lexer": "ipython3",
   "version": "3.8.8"
  }
 },
 "nbformat": 4,
 "nbformat_minor": 5
}
