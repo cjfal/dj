{
 "cells": [
  {
   "cell_type": "markdown",
   "id": "9820ae76-0ec2-4b37-bb56-07e73e3604d0",
   "metadata": {},
   "source": [
    "# 혼공머 04-2\n",
    "> 확률적 경사 하강법 , 손실함수 , 에포크\n",
    "\n",
    "- toc:true\n",
    "- branch: master\n",
    "- badges: true\n",
    "- comments: true\n",
    "- author: 김동준\n",
    "- categories : [\"Python\", \"혼공머\"]"
   ]
  },
  {
   "cell_type": "markdown",
   "id": "79f88714-4e85-4eaa-b0d1-24e251cab6eb",
   "metadata": {},
   "source": [
    "# 주로쓰는 패키지들"
   ]
  },
  {
   "cell_type": "code",
   "execution_count": 11,
   "id": "84213097-206e-4c80-a011-b96b5cf0a897",
   "metadata": {},
   "outputs": [],
   "source": [
    "import numpy as np #넘파이\n",
    "import pandas as pd #판다스\n",
    "from plotnine import *  #플롯나인\n",
    "import matplotlib.pyplot as plt #맷플랏립\n",
    "import plotly.express as px #플랏리 상호작용 그래프\n",
    "from IPython.display import HTML #블로그에 html로 올리려고 변환하는 패키지\n",
    "import seaborn as sns # 씨본, 히스토그램 깔끔하게 그리는 패키지\n",
    "from sklearn.neighbors import KNeighborsClassifier # k 최근접이웃\n",
    "from sklearn.model_selection import train_test_split\n",
    "from sklearn.neighbors import KNeighborsRegressor  # 결정계수 \n",
    "from sklearn.metrics import mean_absolute_error # 타깃과 예측의 절댓값 오차 평균을 반환\n",
    "from sklearn.linear_model import LinearRegression # 선형 회귀\n",
    "from sklearn.preprocessing import PolynomialFeatures #다중회귀로의 변환기\n",
    "from sklearn.preprocessing import StandardScaler #규제\n",
    "from sklearn.linear_model import Ridge #릿지\n",
    "from sklearn.linear_model import Lasso #라쏘\n",
    "from sklearn.linear_model import LogisticRegression # 로지스틱회귀\n",
    "from scipy.special import expit #시그모이드함수\n",
    "from scipy.special import softmax #소프트맥스함수\n",
    "from sklearn.linear_model import SGDClassifier # 확률적 경사 하강법"
   ]
  },
  {
   "cell_type": "markdown",
   "id": "c76de695-c4aa-4621-8e69-0c22f8a986d1",
   "metadata": {},
   "source": [
    "# 점진적인 학습\n",
    "\n",
    "> 기존 훈련 데이터에 새로운 데이터를 추가하여 모델을 매일매일 다시 훈련?\n",
    "\n",
    "> 서버 문제가 큼 $\\to$ 새로운 데이터를 추가할 때 이전 데이터를 버려서 훈련 데이터 크기를 일정하게 유지(점진적 학습)\n",
    "\n",
    "> 대표적인 점진적 학습 알고리즘이 확률적 경사 하강법"
   ]
  },
  {
   "cell_type": "markdown",
   "id": "235c9b05-9b00-46f3-8a32-a2047127de14",
   "metadata": {},
   "source": [
    "# 확률적 경사 하강법\n",
    "\n",
    "> 한개씩 이용 : 확률적 경사 하강법\n",
    "\n",
    "> 가장 가파른 길을 따라 원하는 지점에 도달하는 것이 목표 (조금씩 빠르게)\n",
    "\n",
    "> 랜덤하게 (확률적으로)\n",
    "\n",
    "> 훈련 세트를 한 번 모두 사용하는 과정 : 에포크\n",
    "\n",
    "> 여러개의 샘플을 사용해 경사 하강법 수행 : 미니배치 경사 하강법\n",
    "\n",
    "> 극단적으로 한 번 경사로를 따라 이동하기 위해 전체 샘플 이용 : 배치경사하강법"
   ]
  },
  {
   "cell_type": "markdown",
   "id": "11e1c682-7ed1-4dbe-9f67-400efc7b157b",
   "metadata": {},
   "source": [
    "# 손실함수\n",
    "\n",
    "> 어떤 문제에서 머신러닝 알고리즘이 얼마나 엉터리인지를 측정하는 기준\n",
    "\n",
    "> 최솟값은 모른다.\n",
    "\n",
    "> 가능한 많이 찾아봄\n",
    "\n",
    "> 샘플 하나에 대한 손실을 정의 (비용함수 : 훈련세트에 있는 모든 샘플에 대한 손실 함수의 합) \n",
    "\n",
    "> 주로 사용하는 손실 함수 : MSE(평균 제곱 오차 , 작을수록 좋음)"
   ]
  },
  {
   "cell_type": "markdown",
   "id": "bb12db43-5dc1-4ba9-8f15-4d5375bd00af",
   "metadata": {},
   "source": [
    "# 로지스틱 손실 함수 (이진 크로스엔트로피 손실 함수)\n",
    "\n",
    "> 양성 클래스(타깃=1) 일 때 손실은 -log(예측 확률)로 계산.\n",
    "\n",
    "> 확률이 1에서 멀어질수록 손실은 아주 큰 양수가 됨.\n",
    "\n",
    "> 음성 클래스 (타깃=0) 일 때 손실은 -log(1-예측 확률)로 계산.\n",
    "\n",
    "> 이 예측 확률이 0에서 멀어질수록 손실은 아주 큰 양수가 됨."
   ]
  },
  {
   "cell_type": "markdown",
   "id": "8c4fcbbc-b247-4765-a675-9fca6792b349",
   "metadata": {},
   "source": [
    "## 크로스엔트로피 손실 함수 :다중 분류에서 사용하는 손실 함수"
   ]
  },
  {
   "cell_type": "markdown",
   "id": "830d36ae-ec88-4458-a710-a42725629245",
   "metadata": {},
   "source": [
    "# SGDClassifier"
   ]
  },
  {
   "cell_type": "code",
   "execution_count": 4,
   "id": "53e93e40-56dd-4ff0-92e0-6dc2244c6563",
   "metadata": {},
   "outputs": [],
   "source": [
    "# 데이터프레임 생성\n",
    "fish = pd.read_csv('https://bit.ly/fish_csv_data')"
   ]
  },
  {
   "cell_type": "code",
   "execution_count": 6,
   "id": "42841d77-89e5-4a5a-ba34-881af073f1fc",
   "metadata": {},
   "outputs": [],
   "source": [
    "# Species 열(타깃데이터)을 제외한 나머지 5개는 입력 데이터로 사용\n",
    "fish_input = fish[['Weight', 'Length', 'Diagonal' , 'Height', 'Width']].to_numpy()\n",
    "fish_target = fish['Species'].to_numpy()"
   ]
  },
  {
   "cell_type": "code",
   "execution_count": 8,
   "id": "66fa87da-2812-4a09-ac9c-003e719f0e9d",
   "metadata": {},
   "outputs": [],
   "source": [
    "# 테스트 / 훈련\n",
    "train_input , test_input , train_target , test_target = \\\n",
    "train_test_split(fish_input , fish_target , random_state=42)"
   ]
  },
  {
   "cell_type": "code",
   "execution_count": 10,
   "id": "11604bb7-8024-46ff-9f46-7f1d3739000c",
   "metadata": {},
   "outputs": [],
   "source": [
    "# 표준화 전처리\n",
    "ss = StandardScaler()\n",
    "ss.fit(train_input)\n",
    "train_scaled = ss.transform(train_input)\n",
    "test_scaled = ss.transform(test_input)"
   ]
  },
  {
   "cell_type": "code",
   "execution_count": 12,
   "id": "635ad3f8-2498-4eae-96e0-fc42f3dd0db9",
   "metadata": {},
   "outputs": [
    {
     "name": "stdout",
     "output_type": "stream",
     "text": [
      "0.773109243697479\n",
      "0.775\n"
     ]
    },
    {
     "name": "stderr",
     "output_type": "stream",
     "text": [
      "/home/cjfal/anaconda3/lib/python3.8/site-packages/sklearn/linear_model/_stochastic_gradient.py:574: ConvergenceWarning: Maximum number of iteration reached before convergence. Consider increasing max_iter to improve the fit.\n"
     ]
    }
   ],
   "source": [
    "# SGDClassifier : 객체를 만들 때 2개의 매개변수 지정\n",
    "# loss는 손실 함수의 종류를 지정\n",
    "# max_iter : 수행할 에포크 횟수 지정\n",
    "\n",
    "sc = SGDClassifier(loss='log' , max_iter=10 , random_state=42)\n",
    "sc.fit(train_scaled , train_target)\n",
    "print(sc.score(train_scaled ,train_target))\n",
    "print(sc.score(test_scaled , test_target))"
   ]
  },
  {
   "cell_type": "markdown",
   "id": "58f0415b-6de7-42db-9490-68d73bf21482",
   "metadata": {},
   "source": [
    "> 지정한 반복 횟수 10번이 부족한 것으로 보임 (매개변수의 값을 늘려야함 오류가 아닌 '경고')"
   ]
  },
  {
   "cell_type": "code",
   "execution_count": 13,
   "id": "967e67be-3129-4dfe-b9fa-05188bae42bf",
   "metadata": {},
   "outputs": [
    {
     "name": "stdout",
     "output_type": "stream",
     "text": [
      "0.8151260504201681\n",
      "0.85\n"
     ]
    }
   ],
   "source": [
    "# 모델을 이어서 훈련할 때는 partial_fit() 이용\n",
    "sc.partial_fit(train_scaled , train_target)\n",
    "print(sc.score(train_scaled, train_target))\n",
    "print(sc.score(test_scaled , test_target))"
   ]
  },
  {
   "cell_type": "markdown",
   "id": "6d375abf-3be1-4c35-96de-01b026659167",
   "metadata": {},
   "source": [
    "> 점수가 낮지만 정확도가 향상"
   ]
  },
  {
   "cell_type": "markdown",
   "id": "edb6280b-9293-4bca-8dc1-82c750650d21",
   "metadata": {},
   "source": [
    "# 에포크와 과대/과소적합\n",
    "\n",
    "> 확률적 경사 하강법을 사용한 모델은 에포크 횟수에 따라 과소적합이나 과대적합이 될 수 있다.\n",
    "\n",
    "> 에포크는 횟수가 적으면 모델이 훈련 세트를 덜 학습"
   ]
  },
  {
   "cell_type": "code",
   "execution_count": 14,
   "id": "0412ab9f-1298-4a56-9634-6323cf601bcd",
   "metadata": {},
   "outputs": [],
   "source": [
    "## 조기 종료 : 과대적합이 시작하기 전에 훈련을 멈추는 것\n",
    "sc = SGDClassifier(loss = 'log' , random_state=42)\n",
    "train_score = []\n",
    "test_score = []\n",
    "classes = np.unique(train_target)\n",
    "\n",
    "for _ in range(0 ,300):\n",
    "    sc.partial_fit(train_scaled, train_target , classes=classes)\n",
    "    train_score.append(sc.score(train_scaled , train_target))\n",
    "    test_score.append(sc.score(test_scaled , test_target))"
   ]
  },
  {
   "cell_type": "markdown",
   "id": "d4b4be33-9774-4231-a878-f46348da9df0",
   "metadata": {},
   "source": [
    "> _ 는 특별한 변수, 나중에 사용하지 않고 그냥 버리는 값을 넣어두는 용도로 사용"
   ]
  },
  {
   "cell_type": "code",
   "execution_count": 15,
   "id": "b66bc693-f886-4401-b833-ab86dec094c1",
   "metadata": {},
   "outputs": [
    {
     "data": {
      "image/png": "[encoded data removed]",
      "text/plain": [
       "<Figure size 432x288 with 1 Axes>"
      ]
     },
     "metadata": {
      "needs_background": "light"
     },
     "output_type": "display_data"
    }
   ],
   "source": [
    "# 300번의 에포크 동안 기록한 훈련 세트와 테스트 세트의 점수를 그래프로\n",
    "\n",
    "plt.plot(train_score)\n",
    "plt.plot(test_score)\n",
    "plt.xlabel('epoch')\n",
    "plt.ylabel('accuracy')\n",
    "plt.show()"
   ]
  },
  {
   "cell_type": "markdown",
   "id": "7bc2b04a-ffbe-468e-b60b-e3e2c910c868",
   "metadata": {},
   "source": [
    "> 주황 : 테스트 , 파랑 : 훈련"
   ]
  },
  {
   "cell_type": "markdown",
   "id": "2149a9b2-0c73-40f1-acdb-3916dd7b678b",
   "metadata": {},
   "source": [
    "> 100 전에는 과소, 100이후에는 거리가 더 벌어짐  $\\to$ 100째 에포크가 적절해보임"
   ]
  },
  {
   "cell_type": "code",
   "execution_count": 17,
   "id": "e768e3b2-7b54-4034-970c-957506a69682",
   "metadata": {},
   "outputs": [
    {
     "name": "stdout",
     "output_type": "stream",
     "text": [
      "0.957983193277311\n",
      "0.925\n"
     ]
    }
   ],
   "source": [
    "# 100에 맞추고 다시 훈련\n",
    "sc = SGDClassifier(loss = 'log' , max_iter=100 , tol=None ,random_state=42)\n",
    "sc.fit(train_scaled , train_target)\n",
    "print(sc.score(train_scaled , train_target))\n",
    "print(sc.score(test_scaled , test_target))"
   ]
  },
  {
   "cell_type": "markdown",
   "id": "c35bd125-2d81-4e87-8ae4-ded705d3f080",
   "metadata": {},
   "source": [
    "> 정확도 상승!"
   ]
  },
  {
   "cell_type": "markdown",
   "id": "140b9a5e-b686-4ccb-bf46-fb826637ab8e",
   "metadata": {},
   "source": [
    "# loss 매개변수\n",
    "\n",
    "> loss 매개변수의 기본값 : hinge\n",
    "\n",
    "> 힌지 손실 : 서포트 벡터 머신 이라 불리는 또다른 머신러닝 알고리즘을 위한 손실 함수"
   ]
  },
  {
   "cell_type": "code",
   "execution_count": 19,
   "id": "12832ea6-7c2d-4800-97ad-d681c86fc284",
   "metadata": {},
   "outputs": [
    {
     "name": "stdout",
     "output_type": "stream",
     "text": [
      "0.9495798319327731\n",
      "0.925\n"
     ]
    }
   ],
   "source": [
    "# 힌지 손실로 해보기\n",
    "sc = SGDClassifier(loss = 'hinge' , max_iter=100 , tol=None ,random_state=42)\n",
    "sc.fit(train_scaled , train_target)\n",
    "print(sc.score(train_scaled , train_target))\n",
    "print(sc.score(test_scaled , test_target))"
   ]
  },
  {
   "cell_type": "markdown",
   "id": "b815dd89-f799-4ceb-a98b-4f515ad00d02",
   "metadata": {},
   "source": [
    "_________"
   ]
  },
  {
   "cell_type": "markdown",
   "id": "30340b84-2290-4254-accb-55ffd13cfed7",
   "metadata": {},
   "source": [
    "# **마무리**\n",
    "\n",
    "`*` 키워드로 끝내는 핵심 포인트"
   ]
  },
  {
   "cell_type": "markdown",
   "id": "b9d616a5-ba72-4b1a-a1d1-40e59081e56a",
   "metadata": {},
   "source": [
    "`-` **확률적 경사 하강법** : 훈련 세트에서 샘플 하나씩 꺼내 손실 함수의 경사를 따라 최적의 모델을찾는 알고리즘입니다. 샘플을 하나씩 사용하지 않고 여러 개를 사용하면 미니배치 경사 하강법이 됩니다. 한 번에 전체 샘플을 사용하면 배치 경사 하강법이 됩니다."
   ]
  },
  {
   "cell_type": "markdown",
   "id": "128f959a-816d-49fe-b7c7-eb54a6ef3a9f",
   "metadata": {},
   "source": [
    "`-` **손실 함수** : 확률적 경사 하강법이 최적화할 대상입니다. 대부분의 문제에 잘 맞는 손실 함수가 이미 정의되어 있습니다. 이진 분류에는 로지스틱 회귀(또는 이진 크로스엔트로피) 손실함수를 사용합니다. 다중 분류에는 크로스엔트로피 손실 함수를 사용합니다. 회귀 문제에는 평균 제곱 오차 손실 함수를 사용합니다.\n"
   ]
  },
  {
   "cell_type": "markdown",
   "id": "097f8d7f-c2fa-49af-81de-e0b5c4f967bf",
   "metadata": {},
   "source": [
    "`-` **에포크** : 확률적 경사 하강법에서 전체 샘플을 모두 사용하는 한 번 반복을 의미합니다. 일반적으로 경사 하강법 알고리즘은 수십에서 수백 번의 에포크를 반복합니다.\n"
   ]
  },
  {
   "cell_type": "markdown",
   "id": "324540a6-2dce-4453-a922-dc2212b1baa1",
   "metadata": {},
   "source": [
    "`-` **라쏘** : 또 다른 규제가 있는 선형 회귀 모델입니다. 릿지와 달리 계수 값을 아예 0으로 만들 수도 있습니다."
   ]
  },
  {
   "cell_type": "markdown",
   "id": "546c26dd-06d4-482c-bd28-fc69ddd7d56e",
   "metadata": {},
   "source": [
    "`-` **하이퍼파라미터** : 머신러닝 알고리즘이 학습하지 않는 파라미터입니다. 이런 파라미터는 사람이 사전에 지정해야 합니다. 대표적으로 릿지와 라쏘의 규제 강도 alpha 파라미터입니다."
   ]
  },
  {
   "cell_type": "markdown",
   "id": "319b8478-6ede-4833-ba21-a9c299bdb467",
   "metadata": {},
   "source": [
    "`-` **핵심 패키지**\n",
    "\n",
    "`-` scikit-learn\n",
    "\n",
    "> `1` SGDClassifier : 확률적 경사 하강법을 사용한 분류 모델을 만듭니다.\\\n",
    "\\\n",
    "max_iter 매개변수는 에포크 횟수를 지정합니다. 기본값은 1000입니다.\\\n",
    "\\\n",
    "loss 매개변수는 확률적 경사 하강법으로 최적화할 손실 함수를 지정합니다. 기본값은 서포트벡터 머신을 위한 ge' 손실 함수입니다. 로지스틱 회귀를 위해서는 'log'로 지정합니다.\\\n",
    "\\\n",
    "penalty 매개변수에서 규제의 종류를 지정할 수 있습니다. 기본값은 L2 규제를 위한 12' 입니다. L1 규제를 적용하려면 11'로 지정합니다. 규제 강도는 alpha 매개변수에서 지정합니다.기본값은 0,0001입니다.\\\n",
    "\\\n",
    "tol 매개변수는 반복을 멈출 조건입니다. tol 매개변수의 기본값은 0.001입니다.\\\n",
    "\\\n",
    "n_iter_no_change 매개변수에서 지정한 에포크 동안 손실이 tol 만큼 줄어들지 않으면 알고리즘이 중단됩니다. n_iter_no_change 매개변수의 기본값은 5입니다.\n"
   ]
  },
  {
   "cell_type": "code",
   "execution_count": null,
   "id": "3b5d421d-c869-4a08-bb97-e0e416c69f54",
   "metadata": {},
   "outputs": [],
   "source": []
  }
 ],
 "metadata": {
  "kernelspec": {
   "display_name": "Python 3",
   "language": "python",
   "name": "python3"
  },
  "language_info": {
   "codemirror_mode": {
    "name": "ipython",
    "version": 3
   },
   "file_extension": ".py",
   "mimetype": "text/x-python",
   "name": "python",
   "nbconvert_exporter": "python",
   "pygments_lexer": "ipython3",
   "version": "3.8.8"
  }
 },
 "nbformat": 4,
 "nbformat_minor": 5
}
