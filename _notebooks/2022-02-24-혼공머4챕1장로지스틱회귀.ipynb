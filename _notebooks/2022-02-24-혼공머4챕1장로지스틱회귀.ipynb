{
 "cells": [
  {
   "cell_type": "markdown",
   "id": "a14d2de8-f858-4ebc-ab95-5f1441a5d1c7",
   "metadata": {},
   "source": [
    "# 혼공머 04-1\n",
    "> 로지스틱 회귀\n",
    "\n",
    "- toc:true\n",
    "- branch: master\n",
    "- badges: true\n",
    "- comments: true\n",
    "- author: 김동준\n",
    "- categories : [\"Python\", \"혼공머\"]"
   ]
  },
  {
   "cell_type": "markdown",
   "id": "5608d999-8a9d-466b-a3f8-f9553f46382e",
   "metadata": {},
   "source": [
    "# 주로쓰는 패키지들"
   ]
  },
  {
   "cell_type": "code",
   "execution_count": 41,
   "id": "b9b09a79-10a7-4ffb-8806-191160e43171",
   "metadata": {},
   "outputs": [],
   "source": [
    "import numpy as np #넘파이\n",
    "import pandas as pd #판다스\n",
    "from plotnine import *  #플롯나인\n",
    "import matplotlib.pyplot as plt #맷플랏립\n",
    "import plotly.express as px #플랏리 상호작용 그래프\n",
    "from IPython.display import HTML #블로그에 html로 올리려고 변환하는 패키지\n",
    "import seaborn as sns # 씨본, 히스토그램 깔끔하게 그리는 패키지\n",
    "from sklearn.neighbors import KNeighborsClassifier # k 최근접이웃\n",
    "from sklearn.model_selection import train_test_split\n",
    "from sklearn.neighbors import KNeighborsRegressor  # 결정계수 \n",
    "from sklearn.metrics import mean_absolute_error # 타깃과 예측의 절댓값 오차 평균을 반환\n",
    "from sklearn.linear_model import LinearRegression # 선형 회귀\n",
    "from sklearn.preprocessing import PolynomialFeatures #다중회귀로의 변환기\n",
    "from sklearn.preprocessing import StandardScaler #규제\n",
    "from sklearn.linear_model import Ridge #릿지\n",
    "from sklearn.linear_model import Lasso #라쏘\n",
    "from sklearn.linear_model import LogisticRegression # 로지스틱회귀\n",
    "from scipy.special import expit #시그모이드함수\n",
    "from scipy.special import softmax #소프트맥스함수"
   ]
  },
  {
   "cell_type": "markdown",
   "id": "61375613-081c-45c7-9de3-7e2841370b80",
   "metadata": {},
   "source": [
    "# 럭키백 데이터 준비하기\n",
    "> 판다스를 이용해여 df로 저장하기\n",
    "\n",
    "> https://bit.ly/fish_csv_data"
   ]
  },
  {
   "cell_type": "code",
   "execution_count": 5,
   "id": "0e1ba791-6183-47cb-a239-b25993911c61",
   "metadata": {},
   "outputs": [
    {
     "data": {
      "text/plain": [
       "<bound method NDFrame.head of     Species  Weight  Length  Diagonal   Height   Width\n",
       "0     Bream   242.0    25.4      30.0  11.5200  4.0200\n",
       "1     Bream   290.0    26.3      31.2  12.4800  4.3056\n",
       "2     Bream   340.0    26.5      31.1  12.3778  4.6961\n",
       "3     Bream   363.0    29.0      33.5  12.7300  4.4555\n",
       "4     Bream   430.0    29.0      34.0  12.4440  5.1340\n",
       "..      ...     ...     ...       ...      ...     ...\n",
       "154   Smelt    12.2    12.2      13.4   2.0904  1.3936\n",
       "155   Smelt    13.4    12.4      13.5   2.4300  1.2690\n",
       "156   Smelt    12.2    13.0      13.8   2.2770  1.2558\n",
       "157   Smelt    19.7    14.3      15.2   2.8728  2.0672\n",
       "158   Smelt    19.9    15.0      16.2   2.9322  1.8792\n",
       "\n",
       "[159 rows x 6 columns]>"
      ]
     },
     "execution_count": 5,
     "metadata": {},
     "output_type": "execute_result"
    }
   ],
   "source": [
    "fish = pd.read_csv('https://bit.ly/fish_csv_data')\n",
    "fish.head"
   ]
  },
  {
   "cell_type": "markdown",
   "id": "a3a0f069-374b-4013-8c23-1dd144ee8d31",
   "metadata": {},
   "source": [
    "## Species 열에서 고유값 추출\n",
    "> pd.unique()"
   ]
  },
  {
   "cell_type": "code",
   "execution_count": 6,
   "id": "65ac7d41-5288-4a83-9938-f11c9d2ca413",
   "metadata": {},
   "outputs": [
    {
     "name": "stdout",
     "output_type": "stream",
     "text": [
      "['Bream' 'Roach' 'Whitefish' 'Parkki' 'Perch' 'Pike' 'Smelt']\n"
     ]
    }
   ],
   "source": [
    "print(pd.unique(fish['Species']))"
   ]
  },
  {
   "cell_type": "markdown",
   "id": "086078b5-d021-4b80-8f19-2d48ee6c3d99",
   "metadata": {},
   "source": [
    "## Species 열을 타깃으로 만들고 나머지 5개 열은 입력데이터로 사용"
   ]
  },
  {
   "cell_type": "code",
   "execution_count": 8,
   "id": "18faa302-6fc3-42e9-98db-7befe044664f",
   "metadata": {},
   "outputs": [],
   "source": [
    "fish_input = fish[['Weight' , 'Length',  'Diagonal' , 'Height' ,  'Width']].to_numpy()"
   ]
  },
  {
   "cell_type": "code",
   "execution_count": 9,
   "id": "4efbaadb-cfc3-408f-b385-77b81d97d90a",
   "metadata": {},
   "outputs": [
    {
     "name": "stdout",
     "output_type": "stream",
     "text": [
      "[[242.      25.4     30.      11.52     4.02  ]\n",
      " [290.      26.3     31.2     12.48     4.3056]\n",
      " [340.      26.5     31.1     12.3778   4.6961]\n",
      " [363.      29.      33.5     12.73     4.4555]\n",
      " [430.      29.      34.      12.444    5.134 ]]\n"
     ]
    }
   ],
   "source": [
    "print(fish_input[:5])"
   ]
  },
  {
   "cell_type": "markdown",
   "id": "723f6787-429a-4df9-8bb0-f3edcff9e6aa",
   "metadata": {},
   "source": [
    "> 위 데이터 프레임의 헤드값과 같다."
   ]
  },
  {
   "cell_type": "markdown",
   "id": "0015dc58-f98a-44b7-90b9-ea2b169b2c4c",
   "metadata": {},
   "source": [
    "## 타깃데이터 생성"
   ]
  },
  {
   "cell_type": "code",
   "execution_count": 10,
   "id": "56f9c9c9-ac68-4602-b6e4-24f653d6f908",
   "metadata": {},
   "outputs": [],
   "source": [
    "fish_target = fish['Species'].to_numpy()"
   ]
  },
  {
   "cell_type": "markdown",
   "id": "15a504f2-6274-42ad-8375-35bdabd1cc12",
   "metadata": {},
   "source": [
    "## 훈련세트와 테스트세트 생성"
   ]
  },
  {
   "cell_type": "code",
   "execution_count": 11,
   "id": "e4677c7e-b218-4af1-9df3-7411f69b9870",
   "metadata": {},
   "outputs": [],
   "source": [
    "train_input , test_input , train_target , test_target = train_test_split(fish_input , fish_target , random_state=42)"
   ]
  },
  {
   "cell_type": "markdown",
   "id": "84c539ab-6a3f-4b54-82a9-5275f87194c6",
   "metadata": {},
   "source": [
    "## 표준화 처리"
   ]
  },
  {
   "cell_type": "code",
   "execution_count": 12,
   "id": "e9803aea-e298-4ea6-b687-0f2be7001e28",
   "metadata": {},
   "outputs": [],
   "source": [
    "ss = StandardScaler()\n",
    "ss.fit(train_input)\n",
    "train_scaled = ss.transform(train_input)\n",
    "test_scaled = ss.transform(test_input)"
   ]
  },
  {
   "cell_type": "markdown",
   "id": "2891d5f1-d739-4483-aa53-77dbd87f5926",
   "metadata": {},
   "source": [
    "______"
   ]
  },
  {
   "cell_type": "markdown",
   "id": "3fc547a5-0db9-4cde-ad33-b94350089021",
   "metadata": {},
   "source": [
    "# k-최근접 이웃 분류기의 확률 예측 ( 다중 분류 )"
   ]
  },
  {
   "cell_type": "code",
   "execution_count": 13,
   "id": "513ea659-a437-4f23-a6a7-d3790e596e97",
   "metadata": {},
   "outputs": [
    {
     "name": "stdout",
     "output_type": "stream",
     "text": [
      "0.8907563025210085\n",
      "0.85\n"
     ]
    }
   ],
   "source": [
    "kn = KNeighborsClassifier(n_neighbors=3)\n",
    "kn.fit(train_scaled , train_target)\n",
    "print(kn.score(train_scaled , train_target))\n",
    "print(kn.score(test_scaled , test_target))"
   ]
  },
  {
   "cell_type": "markdown",
   "id": "11d14bfa-e352-4d0f-a466-875fcd68412b",
   "metadata": {},
   "source": [
    "> 점수가 낮지만 무시 (클래스 확률 중점)"
   ]
  },
  {
   "cell_type": "markdown",
   "id": "81e1d6f8-4133-4b45-81e6-0c55eb18acac",
   "metadata": {},
   "source": [
    "## 7종류의 생선의 의미\n",
    "\n",
    "> 타깃데이터에 7종류의 생선이 포함 $\\to$ 2개이상의 클래스가 포함된 문제 : 다중 분류"
   ]
  },
  {
   "cell_type": "code",
   "execution_count": 14,
   "id": "33cc83d3-5063-4845-8b8e-b0b5a19ede4c",
   "metadata": {},
   "outputs": [
    {
     "name": "stdout",
     "output_type": "stream",
     "text": [
      "['Bream' 'Parkki' 'Perch' 'Pike' 'Roach' 'Smelt' 'Whitefish']\n"
     ]
    }
   ],
   "source": [
    "# KNeighborsClassifier 에서 정렬된 타깃값\n",
    "print(kn.classes_)"
   ]
  },
  {
   "cell_type": "code",
   "execution_count": 15,
   "id": "618dd171-1967-436e-84e2-d509a81838c1",
   "metadata": {},
   "outputs": [
    {
     "name": "stdout",
     "output_type": "stream",
     "text": [
      "['Perch' 'Smelt' 'Pike' 'Perch' 'Perch']\n"
     ]
    }
   ],
   "source": [
    "# 타깃값으로 예측을 출력\n",
    "print(kn.predict(test_scaled[:5]))"
   ]
  },
  {
   "cell_type": "code",
   "execution_count": 16,
   "id": "e5242332-9b16-4e92-a58a-f6a07ad5f111",
   "metadata": {},
   "outputs": [
    {
     "name": "stdout",
     "output_type": "stream",
     "text": [
      "[[0.     0.     1.     0.     0.     0.     0.    ]\n",
      " [0.     0.     0.     0.     0.     1.     0.    ]\n",
      " [0.     0.     0.     1.     0.     0.     0.    ]\n",
      " [0.     0.     0.6667 0.     0.3333 0.     0.    ]\n",
      " [0.     0.     0.6667 0.     0.3333 0.     0.    ]]\n"
     ]
    }
   ],
   "source": [
    "# 확률 출력\n",
    "proba = kn.predict_proba(test_scaled[:5])\n",
    "print(np.round(proba, decimals=4))"
   ]
  },
  {
   "cell_type": "code",
   "execution_count": 17,
   "id": "0ca1f3fa-648d-41ef-81c6-797fcff9e7bc",
   "metadata": {},
   "outputs": [
    {
     "name": "stdout",
     "output_type": "stream",
     "text": [
      "[['Roach' 'Perch' 'Perch']]\n"
     ]
    }
   ],
   "source": [
    "distances, indexes = kn.kneighbors(test_scaled[3:4])   #4번째 데이터만 확인\n",
    "print(train_target[indexes])"
   ]
  },
  {
   "cell_type": "markdown",
   "id": "4ea6d18f-93b4-44ee-9344-6922404eab58",
   "metadata": {},
   "source": [
    "> Perch(3번째)가 나올 확률 2/3 , Roach(5번째)가 나올 확률 1/3  $\\to$ 맞음"
   ]
  },
  {
   "cell_type": "markdown",
   "id": "5578316d-0464-491b-94ff-868b01fb8770",
   "metadata": {},
   "source": [
    "# 로지스틱 회귀\n",
    "> 이름은 회귀이지만 분류 모델\n",
    "\n",
    "> 선형회귀와 동일하게 선형 방정식을 학습\n",
    "\n",
    "> 0~1로 확률을 표시 가능"
   ]
  },
  {
   "cell_type": "markdown",
   "id": "79bcd356-a176-400d-95b3-ba6d7fd35fbd",
   "metadata": {},
   "source": [
    "## 시그모이드 함수 : $\\phi = \\frac{1}{1+e^{-z}}$  = 로지스틱함수"
   ]
  },
  {
   "cell_type": "code",
   "execution_count": 18,
   "id": "7ef9b465-b535-45b2-99f5-7afe7aac0a25",
   "metadata": {},
   "outputs": [
    {
     "data": {
      "image/png": "[encoded data removed]",
      "text/plain": [
       "<Figure size 432x288 with 1 Axes>"
      ]
     },
     "metadata": {
      "needs_background": "light"
     },
     "output_type": "display_data"
    }
   ],
   "source": [
    "z = np.arange(-5 , 5 , 0.1)\n",
    "phi = 1 / (1 + np.exp(-z))\n",
    "plt.plot(z , phi)\n",
    "plt.xlabel('z')\n",
    "plt.ylabel('phi')\n",
    "plt.show()"
   ]
  },
  {
   "cell_type": "markdown",
   "id": "b524e700-33d6-4490-95d2-935af7587bb4",
   "metadata": {},
   "source": [
    "> 0~1 의 값 "
   ]
  },
  {
   "cell_type": "markdown",
   "id": "c08212e5-2b99-49e0-ab18-53b1d75467af",
   "metadata": {},
   "source": [
    "# 로지스틱 회귀로 이진 분류 해보기\n",
    "\n",
    "> 0.5 이상이면 양성 클래스 이하면 음성 클래스"
   ]
  },
  {
   "cell_type": "markdown",
   "id": "1de998de-b198-4b4e-baef-64e4b98860f9",
   "metadata": {},
   "source": [
    "## 불리언 인덱싱 예제"
   ]
  },
  {
   "cell_type": "code",
   "execution_count": 19,
   "id": "f357773a-ac3c-4232-8e54-dbbd677b8aee",
   "metadata": {},
   "outputs": [
    {
     "name": "stdout",
     "output_type": "stream",
     "text": [
      "['A' 'C']\n"
     ]
    }
   ],
   "source": [
    "char_arr = np.array(['A', 'B' , 'C' , 'D' , 'E'])\n",
    "print(char_arr[[True, False, True, False, False]])"
   ]
  },
  {
   "cell_type": "markdown",
   "id": "d6bdf12b-75c2-47a9-a432-9936d77d0352",
   "metadata": {},
   "source": [
    "## 생선에 적용 (빙어만 골라내기)"
   ]
  },
  {
   "cell_type": "code",
   "execution_count": 20,
   "id": "e04c26a0-2766-45f8-a481-2b2090ce0aa4",
   "metadata": {},
   "outputs": [],
   "source": [
    "bream_smelt_indexes = (train_target == 'Bream') | (train_target == 'Smelt')\n",
    "train_bream_smelt = train_scaled[bream_smelt_indexes]\n",
    "target_bream_smelt = train_target[bream_smelt_indexes]"
   ]
  },
  {
   "cell_type": "code",
   "execution_count": 22,
   "id": "e3f77f96-751d-472a-aba9-c0854e465904",
   "metadata": {},
   "outputs": [
    {
     "data": {
      "text/plain": [
       "LogisticRegression()"
      ]
     },
     "execution_count": 22,
     "metadata": {},
     "output_type": "execute_result"
    }
   ],
   "source": [
    "lr = LogisticRegression()\n",
    "lr.fit(train_bream_smelt , target_bream_smelt)"
   ]
  },
  {
   "cell_type": "code",
   "execution_count": 23,
   "id": "f2db813b-b4a3-444e-976e-0958264e8d91",
   "metadata": {},
   "outputs": [
    {
     "name": "stdout",
     "output_type": "stream",
     "text": [
      "['Bream' 'Smelt' 'Bream' 'Bream' 'Bream']\n"
     ]
    }
   ],
   "source": [
    "print(lr.predict(train_bream_smelt[:5]))"
   ]
  },
  {
   "cell_type": "markdown",
   "id": "b5bdb4bb-461a-4356-b73e-ea86265d2187",
   "metadata": {},
   "source": [
    "> 두번째 샘플 제외 모두 도미(Bream)로 예측"
   ]
  },
  {
   "cell_type": "code",
   "execution_count": 26,
   "id": "06980558-7283-4415-a5c1-0258aa00ff67",
   "metadata": {},
   "outputs": [
    {
     "name": "stdout",
     "output_type": "stream",
     "text": [
      "[[0.99759855 0.00240145]\n",
      " [0.02735183 0.97264817]\n",
      " [0.99486072 0.00513928]\n",
      " [0.98584202 0.01415798]\n",
      " [0.99767269 0.00232731]]\n"
     ]
    }
   ],
   "source": [
    "# 예측 확률 앞 5개\n",
    "print(lr.predict_proba(train_bream_smelt[:5]))"
   ]
  },
  {
   "cell_type": "code",
   "execution_count": 27,
   "id": "4d9fceb1-cade-467d-98f9-56f9908c0cbe",
   "metadata": {},
   "outputs": [
    {
     "name": "stdout",
     "output_type": "stream",
     "text": [
      "['Bream' 'Smelt']\n"
     ]
    }
   ],
   "source": [
    "print(lr.classes_)"
   ]
  },
  {
   "cell_type": "markdown",
   "id": "86685d82-1436-4320-bbd1-c0af731308f1",
   "metadata": {},
   "source": [
    "> 사이킷런에서는 Bream이 양성 클래스"
   ]
  },
  {
   "cell_type": "code",
   "execution_count": 29,
   "id": "cd2ce615-ccff-47dd-b1ca-0c9a2184fdcb",
   "metadata": {},
   "outputs": [
    {
     "name": "stdout",
     "output_type": "stream",
     "text": [
      "[[-0.4037798  -0.57620209 -0.66280298 -1.01290277 -0.73168947]] [-2.16155132]\n"
     ]
    }
   ],
   "source": [
    "# 로지스틱 회귀가 학습한 계수 확인\n",
    "print(lr.coef_, lr.intercept_)"
   ]
  },
  {
   "cell_type": "markdown",
   "id": "9ba5db97-7c6c-4edc-aa8a-9e2b998a9640",
   "metadata": {},
   "source": [
    "> $ z = -0.404 \\times (Weight) - 0.576 \\times (Length) - 0.663 \\times (Diagonal) - 1.013 \\times (Height) - 0.732 \\times (Width) -2.161 $"
   ]
  },
  {
   "cell_type": "markdown",
   "id": "92094d54-c353-42bb-b4d5-a6227460e82e",
   "metadata": {},
   "source": [
    "## z값 출력"
   ]
  },
  {
   "cell_type": "code",
   "execution_count": 30,
   "id": "18b70c2b-2996-43c2-9849-286ce725fce8",
   "metadata": {},
   "outputs": [
    {
     "name": "stdout",
     "output_type": "stream",
     "text": [
      "[-6.02927744  3.57123907 -5.26568906 -4.24321775 -6.0607117 ]\n"
     ]
    }
   ],
   "source": [
    "decisions = lr.decision_function(train_bream_smelt[:5])\n",
    "print(decisions)"
   ]
  },
  {
   "cell_type": "markdown",
   "id": "cb8908be-f0a3-46ae-82e4-b5f4a4353d99",
   "metadata": {},
   "source": [
    "> 이 z값을 시그모이드 함수에 통과시키면 확률을 얻을 수 있다. expit() : 시그모이드 함수 임포트 필요"
   ]
  },
  {
   "cell_type": "code",
   "execution_count": 32,
   "id": "ca30867c-2695-4c98-bb11-12f7cc98b593",
   "metadata": {},
   "outputs": [
    {
     "name": "stdout",
     "output_type": "stream",
     "text": [
      "[0.00240145 0.97264817 0.00513928 0.01415798 0.00232731]\n"
     ]
    }
   ],
   "source": [
    "print(expit(decisions))"
   ]
  },
  {
   "cell_type": "markdown",
   "id": "47eea32c-00e1-4882-86b5-4702c7b13bcd",
   "metadata": {},
   "source": [
    "# 로지스틱 회귀로 다중 분류 수행\n",
    "\n",
    "> 반복적인 알고리즘 사용, max_iter 매개변수에서 반복 횟수를 지정하고 기본값은 100\n",
    "\n",
    "> 계수의 제곱을 규제 (L2규제) , 매개변수 C 로 규제 제어 ( 작을수록 규제가 커짐 , 기본값 1)"
   ]
  },
  {
   "cell_type": "code",
   "execution_count": 33,
   "id": "95a5c380-514e-44b0-906c-535315cbf315",
   "metadata": {},
   "outputs": [
    {
     "name": "stdout",
     "output_type": "stream",
     "text": [
      "0.9327731092436975\n",
      "0.925\n"
     ]
    }
   ],
   "source": [
    "lr = LogisticRegression(C=20 , max_iter=1000)\n",
    "lr.fit(train_scaled , train_target)\n",
    "print(lr.score(train_scaled , train_target))\n",
    "print(lr.score(test_scaled , test_target))"
   ]
  },
  {
   "cell_type": "markdown",
   "id": "dba91ae3-07f5-4e78-9de7-322d3e8a256b",
   "metadata": {},
   "source": [
    "> 적당한거같다."
   ]
  },
  {
   "cell_type": "code",
   "execution_count": 34,
   "id": "855d0330-1a51-48bc-a564-1e8d2c166ec5",
   "metadata": {},
   "outputs": [
    {
     "name": "stdout",
     "output_type": "stream",
     "text": [
      "['Perch' 'Smelt' 'Pike' 'Roach' 'Perch']\n"
     ]
    }
   ],
   "source": [
    "# 테스트 세트의 처음 5개 샘플에 대한 예측 출력\n",
    "print(lr.predict(test_scaled[:5]))"
   ]
  },
  {
   "cell_type": "code",
   "execution_count": 35,
   "id": "f0b11634-8e89-45cf-a42b-a0ca96a193a5",
   "metadata": {},
   "outputs": [
    {
     "name": "stdout",
     "output_type": "stream",
     "text": [
      "[[0.    0.014 0.841 0.    0.136 0.007 0.003]\n",
      " [0.    0.003 0.044 0.    0.007 0.946 0.   ]\n",
      " [0.    0.    0.034 0.935 0.015 0.016 0.   ]\n",
      " [0.011 0.034 0.306 0.007 0.567 0.    0.076]\n",
      " [0.    0.    0.904 0.002 0.089 0.002 0.001]]\n"
     ]
    }
   ],
   "source": [
    "# 테스트 세트의 처음 5개 샘플에 대한 예측 확률 출력\n",
    "proba = lr.predict_proba(test_scaled[:5])\n",
    "print(np.round(proba , decimals=3))"
   ]
  },
  {
   "cell_type": "markdown",
   "id": "82141ad2-bb18-434c-875a-c6f3e39f7786",
   "metadata": {},
   "source": [
    "> 5개 샘플에 대한 예측이라 5개 행 출력"
   ]
  },
  {
   "cell_type": "code",
   "execution_count": 36,
   "id": "2fd109a9-09f6-4767-b9ab-c1f095427796",
   "metadata": {},
   "outputs": [
    {
     "name": "stdout",
     "output_type": "stream",
     "text": [
      "['Bream' 'Parkki' 'Perch' 'Pike' 'Roach' 'Smelt' 'Whitefish']\n"
     ]
    }
   ],
   "source": [
    "print(lr.classes_)"
   ]
  },
  {
   "cell_type": "markdown",
   "id": "49c6f392-f88c-4c81-b038-c356b0335432",
   "metadata": {},
   "source": [
    "> 첫번째 샘플은 Perch(농어) 를 가장 높은 확률로 예측"
   ]
  },
  {
   "cell_type": "code",
   "execution_count": 39,
   "id": "faf5ff28-70f5-451c-bbb2-964a4c5ce718",
   "metadata": {},
   "outputs": [
    {
     "name": "stdout",
     "output_type": "stream",
     "text": [
      "(7, 5) (7,)\n"
     ]
    }
   ],
   "source": [
    "# coef_ 와 intercept_ 크기 출력\n",
    "print(lr.coef_.shape , lr.intercept_.shape)"
   ]
  },
  {
   "cell_type": "markdown",
   "id": "4f7a2f77-cbb3-45df-96f8-d10f318fc300",
   "metadata": {},
   "source": [
    "> 다중 분류는 클래스마다 z 값을 하나씩 계산\n",
    "\n",
    "> 소프트맥스 함수를 사용하여 7개의 z 값을 확률로 변환"
   ]
  },
  {
   "cell_type": "markdown",
   "id": "bd9cb391-fa7e-40f9-bd97-391784cf0329",
   "metadata": {},
   "source": [
    "### 소프트 맥스 함수 (임포트 필요)"
   ]
  },
  {
   "cell_type": "markdown",
   "id": "571df884-9868-4ff8-b4cc-282dc6d6ae45",
   "metadata": {},
   "source": [
    "$e_{sum}$ = $ e^{z1} + e^{z2} + e^{z3}+ e^{z4}+ e^{z5}+ e^{z6}+ e^{z7} $"
   ]
  },
  {
   "cell_type": "markdown",
   "id": "19a60d60-8fcf-4d3f-9e84-13854acc5ac6",
   "metadata": {},
   "source": [
    "$ s1 = \\frac{e^{z1}}{e_{sum}}$ , $ s2 = \\frac{e^{z2}}{e_{sum}}$ ,  $\\dots$  ,  $ s7 = \\frac{e^{z7}}{e_{sum}}$"
   ]
  },
  {
   "cell_type": "code",
   "execution_count": 40,
   "id": "2754ff6a-7455-4b01-96f9-85ab8bcb3154",
   "metadata": {},
   "outputs": [
    {
     "name": "stdout",
     "output_type": "stream",
     "text": [
      "[[ -6.5    1.03   5.16  -2.73   3.34   0.33  -0.63]\n",
      " [-10.86   1.93   4.77  -2.4    2.98   7.84  -4.26]\n",
      " [ -4.34  -6.23   3.17   6.49   2.36   2.42  -3.87]\n",
      " [ -0.68   0.45   2.65  -1.19   3.26  -5.75   1.26]\n",
      " [ -6.4   -1.99   5.82  -0.11   3.5   -0.11  -0.71]]\n"
     ]
    }
   ],
   "source": [
    "decision = lr.decision_function(test_scaled[:5])\n",
    "print(np.round(decision, decimals=2))"
   ]
  },
  {
   "cell_type": "code",
   "execution_count": 42,
   "id": "656ea38b-1451-4a98-9830-1392d2316778",
   "metadata": {},
   "outputs": [
    {
     "name": "stdout",
     "output_type": "stream",
     "text": [
      "[[0.    0.014 0.841 0.    0.136 0.007 0.003]\n",
      " [0.    0.003 0.044 0.    0.007 0.946 0.   ]\n",
      " [0.    0.    0.034 0.935 0.015 0.016 0.   ]\n",
      " [0.011 0.034 0.306 0.007 0.567 0.    0.076]\n",
      " [0.    0.    0.904 0.002 0.089 0.002 0.001]]\n"
     ]
    }
   ],
   "source": [
    "proba = softmax(decision , axis=1)\n",
    "print(np.round(proba, decimals=3))"
   ]
  },
  {
   "cell_type": "markdown",
   "id": "6fcc7716-79ed-48b5-96d0-1431fa6e8af9",
   "metadata": {},
   "source": [
    "> 로지스틱회귀랑 값이 같다."
   ]
  },
  {
   "cell_type": "markdown",
   "id": "47bc02ff-719d-40d7-bb30-281131292f52",
   "metadata": {},
   "source": [
    "_________"
   ]
  },
  {
   "cell_type": "markdown",
   "id": "e959ae8f-89e6-4869-bb0d-8b502736de4e",
   "metadata": {},
   "source": [
    "# **마무리**\n",
    "\n",
    "`*` 키워드로 끝내는 핵심 포인트"
   ]
  },
  {
   "cell_type": "markdown",
   "id": "d9073594-448e-4536-9572-c1eb5aecb310",
   "metadata": {},
   "source": [
    "`-` **로지스틱 회귀** : 선형 방정식을 사용한 분류 알고리즘입니다. 선형 회귀와 달리 시그모이드 함수나 소프트맥스 함수를 사용하여 클래스 확률을 출력할 수 있습니다."
   ]
  },
  {
   "cell_type": "markdown",
   "id": "6a1cb9a8-d3d1-421d-a71b-7ebb3bfbf18a",
   "metadata": {},
   "source": [
    "`-` **다중 분류** : 타깃 클래스가 2개 이상인 분류 문제입니다. 로지스틱 회귀는 다중 분류를 위해 소프트맥스 함수를 사용하여 클래스를 예측합니다.\n"
   ]
  },
  {
   "cell_type": "markdown",
   "id": "263910ed-7bd0-4011-b4e6-de2ff1ff1101",
   "metadata": {},
   "source": [
    "`-` **시그모이드 함수** : 선형 방정식의 출력을 0과 1 사이의 값으로 압축하며 이진 분류를 위해 사용합니다.\n"
   ]
  },
  {
   "cell_type": "markdown",
   "id": "e80226fb-780a-4794-83db-4271eb8037a6",
   "metadata": {},
   "source": [
    "`-` **소프트맥스 함수** : 다중 분류에서 여러 선형 방정식의 출력 결과를 정규화하여 합이 1이 되도록 만듭니다.\n"
   ]
  },
  {
   "cell_type": "markdown",
   "id": "b710eaa1-3e88-4d71-856f-cb2751ac39ce",
   "metadata": {},
   "source": [
    "`-` **핵심 패키지**\n",
    "\n",
    "`-` scikit-learn\n",
    "\n",
    "> `1` LogisticRegression : 선형 분류 알고리즘인 로지스틱 회귀를 위한 클래스입니다.\\\n",
    "\\\n",
    "solver 매개변수에서 사용할 알고리즘을 선택할 수 있습니다. 기본값은 '1bfgs'입니다. 사이킷런 0.17 버전에 추가된 'sag'는 확률적 평균 경사 하강법 알고리즘으로 특성과 샘플 수가 많을 때 성능은 빠르고 좋습니다. 사이킷런 0.19 버전에는 'sag'의 개선 버전인 'saga'가 추가되었습니다.\\\n",
    "\\\n",
    "penalty 매개변수에서 L2 규제 (릿지 방식)와 L1 규제 (라쏘 방식)를 선택할 수 있습니다. 기본값은 L2 규제를 의미하는 12 입니다.\\\n",
    "\\\n",
    "C 매개변수에서 규제의 강도를 제어합니다. 기본값은 1.0이며 값이 작을수록 규제가 강해집니다.\n"
   ]
  },
  {
   "cell_type": "code",
   "execution_count": null,
   "id": "20e0dbae-f0b3-4420-bd4f-98dd28e0e8c9",
   "metadata": {},
   "outputs": [],
   "source": []
  },
  {
   "cell_type": "code",
   "execution_count": null,
   "id": "53ed24d6-2f8d-4c57-9a3f-fd1139ffcdad",
   "metadata": {},
   "outputs": [],
   "source": []
  }
 ],
 "metadata": {
  "kernelspec": {
   "display_name": "Python 3",
   "language": "python",
   "name": "python3"
  },
  "language_info": {
   "codemirror_mode": {
    "name": "ipython",
    "version": 3
   },
   "file_extension": ".py",
   "mimetype": "text/x-python",
   "name": "python",
   "nbconvert_exporter": "python",
   "pygments_lexer": "ipython3",
   "version": "3.8.8"
  }
 },
 "nbformat": 4,
 "nbformat_minor": 5
}
