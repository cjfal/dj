{
 "cells": [
  {
   "cell_type": "markdown",
   "id": "d7caaa4f-c0a9-4de6-ace5-ce6dc32e93bc",
   "metadata": {},
   "source": [
    "# 회귀분석 3장 연습문제\n",
    "> 3장 연습문제\n",
    "\n",
    "- toc:true\n",
    "- branch: master\n",
    "- badges: true\n",
    "- comments: true\n",
    "- author: 김동준\n",
    "- categories : [\"R\", \"회귀분석\"]"
   ]
  },
  {
   "cell_type": "markdown",
   "id": "e24d0d26-4dc7-48df-84e0-0c1171b15198",
   "metadata": {},
   "source": [
    "# 3.3) 어느 증권회사에서의 주가x와 종합주가지수y 분석"
   ]
  },
  {
   "cell_type": "markdown",
   "id": "6d5266b2-c086-4f6a-be8b-d328cd6c57a0",
   "metadata": {},
   "source": [
    "Base"
   ]
  },
  {
   "cell_type": "code",
   "execution_count": 2,
   "id": "a77ab006-6295-44c9-bc3d-e29ce1b2aad1",
   "metadata": {},
   "outputs": [],
   "source": [
    "x <- c(650, 670, 690, 650, 660, 650, 670, 660, 690, 710)\n",
    "y <- c(210, 212, 217, 215, 216, 214, 220, 218, 220, 224)\n",
    "lm33 <- lm(y~x)"
   ]
  },
  {
   "cell_type": "markdown",
   "id": "abf5516b-5d28-4e0c-9559-733a1cddd2ee",
   "metadata": {},
   "source": [
    "### 1) 표본상관계수 구하기"
   ]
  },
  {
   "cell_type": "code",
   "execution_count": 3,
   "id": "bec39eba-ab31-48c7-bac6-c2411dc57749",
   "metadata": {},
   "outputs": [
    {
     "data": {
      "text/html": [
       "0.757203385853764"
      ],
      "text/latex": [
       "0.757203385853764"
      ],
      "text/markdown": [
       "0.757203385853764"
      ],
      "text/plain": [
       "[1] 0.7572034"
      ]
     },
     "metadata": {},
     "output_type": "display_data"
    }
   ],
   "source": [
    "cor(x,y)"
   ]
  },
  {
   "cell_type": "markdown",
   "id": "e264428e-5063-4723-b12e-65f7dbef6b1e",
   "metadata": {},
   "source": [
    "### 2) 단순회귀선 추정, 산점도"
   ]
  },
  {
   "cell_type": "code",
   "execution_count": 7,
   "id": "c99ed1a4-1816-42ff-a9fb-6ca60974f9ac",
   "metadata": {},
   "outputs": [
    {
     "data": {
      "image/png": "[encoded data removed]",
      "text/plain": [
       "plot without title"
      ]
     },
     "metadata": {
      "image/png": {
       "height": 420,
       "width": 420
      }
     },
     "output_type": "display_data"
    }
   ],
   "source": [
    "plot(y~x)\n",
    "abline(lm(y~x))"
   ]
  },
  {
   "cell_type": "markdown",
   "id": "0516987c-03b4-4f92-bc43-ed6097a03ab1",
   "metadata": {},
   "source": [
    "### 3) MSE 계산 및 산점도와 비교"
   ]
  },
  {
   "cell_type": "code",
   "execution_count": 6,
   "id": "03a7ea96-d3c5-44f0-8f31-b3cc03a8846a",
   "metadata": {},
   "outputs": [
    {
     "data": {
      "text/html": [
       "<table class=\"dataframe\">\n",
       "<caption>A anova: 2 × 5</caption>\n",
       "<thead>\n",
       "\t<tr><th></th><th scope=col>Df</th><th scope=col>Sum Sq</th><th scope=col>Mean Sq</th><th scope=col>F value</th><th scope=col>Pr(&gt;F)</th></tr>\n",
       "\t<tr><th></th><th scope=col>&lt;int&gt;</th><th scope=col>&lt;dbl&gt;</th><th scope=col>&lt;dbl&gt;</th><th scope=col>&lt;dbl&gt;</th><th scope=col>&lt;dbl&gt;</th></tr>\n",
       "</thead>\n",
       "<tbody>\n",
       "\t<tr><th scope=row>x</th><td>1</td><td>88.52632</td><td>88.526316</td><td>10.75104</td><td>0.01120658</td></tr>\n",
       "\t<tr><th scope=row>Residuals</th><td>8</td><td>65.87368</td><td> 8.234211</td><td>      NA</td><td>        NA</td></tr>\n",
       "</tbody>\n",
       "</table>\n"
      ],
      "text/latex": [
       "A anova: 2 × 5\n",
       "\\begin{tabular}{r|lllll}\n",
       "  & Df & Sum Sq & Mean Sq & F value & Pr(>F)\\\\\n",
       "  & <int> & <dbl> & <dbl> & <dbl> & <dbl>\\\\\n",
       "\\hline\n",
       "\tx & 1 & 88.52632 & 88.526316 & 10.75104 & 0.01120658\\\\\n",
       "\tResiduals & 8 & 65.87368 &  8.234211 &       NA &         NA\\\\\n",
       "\\end{tabular}\n"
      ],
      "text/markdown": [
       "\n",
       "A anova: 2 × 5\n",
       "\n",
       "| <!--/--> | Df &lt;int&gt; | Sum Sq &lt;dbl&gt; | Mean Sq &lt;dbl&gt; | F value &lt;dbl&gt; | Pr(&gt;F) &lt;dbl&gt; |\n",
       "|---|---|---|---|---|---|\n",
       "| x | 1 | 88.52632 | 88.526316 | 10.75104 | 0.01120658 |\n",
       "| Residuals | 8 | 65.87368 |  8.234211 |       NA |         NA |\n",
       "\n"
      ],
      "text/plain": [
       "          Df Sum Sq   Mean Sq   F value  Pr(>F)    \n",
       "x         1  88.52632 88.526316 10.75104 0.01120658\n",
       "Residuals 8  65.87368  8.234211       NA         NA"
      ]
     },
     "metadata": {},
     "output_type": "display_data"
    },
    {
     "data": {
      "text/plain": [
       "\n",
       "Call:\n",
       "lm(formula = y ~ x)\n",
       "\n",
       "Residuals:\n",
       "    Min      1Q  Median      3Q     Max \n",
       "-4.6000 -1.9026  0.6895  1.4132  3.4000 \n",
       "\n",
       "Coefficients:\n",
       "             Estimate Std. Error t value Pr(>|t|)   \n",
       "(Intercept) 114.33684   31.20166   3.664  0.00636 **\n",
       "x             0.15263    0.04655   3.279  0.01121 * \n",
       "---\n",
       "Signif. codes:  0 ‘***’ 0.001 ‘**’ 0.01 ‘*’ 0.05 ‘.’ 0.1 ‘ ’ 1\n",
       "\n",
       "Residual standard error: 2.87 on 8 degrees of freedom\n",
       "Multiple R-squared:  0.5734,\tAdjusted R-squared:   0.52 \n",
       "F-statistic: 10.75 on 1 and 8 DF,  p-value: 0.01121\n"
      ]
     },
     "metadata": {},
     "output_type": "display_data"
    }
   ],
   "source": [
    "anova(lm33)\n",
    "summary(lm33)"
   ]
  },
  {
   "cell_type": "markdown",
   "id": "9926009e-35d1-4552-8932-e679d4fa8e82",
   "metadata": {},
   "source": [
    "### 4) 잔차를 구하고 합이 0이 되는 것을 확인"
   ]
  },
  {
   "cell_type": "code",
   "execution_count": 7,
   "id": "f4a3d0de-5d2f-4596-b153-d6b5a8f8962d",
   "metadata": {},
   "outputs": [
    {
     "data": {
      "text/html": [
       "<style>\n",
       ".dl-inline {width: auto; margin:0; padding: 0}\n",
       ".dl-inline>dt, .dl-inline>dd {float: none; width: auto; display: inline-block}\n",
       ".dl-inline>dt::after {content: \":\\0020\"; padding-right: .5ex}\n",
       ".dl-inline>dt:not(:first-of-type) {padding-left: .5ex}\n",
       "</style><dl class=dl-inline><dt>1</dt><dd>-3.5473684210526</dd><dt>2</dt><dd>-4.6</dd><dt>3</dt><dd>-2.65263157894737</dd><dt>4</dt><dd>1.45263157894736</dd><dt>5</dt><dd>0.926315789473677</dd><dt>6</dt><dd>0.452631578947359</dd><dt>7</dt><dd>3.4</dd><dt>8</dt><dd>2.92631578947368</dd><dt>9</dt><dd>0.347368421052632</dd><dt>10</dt><dd>1.29473684210527</dd></dl>\n"
      ],
      "text/latex": [
       "\\begin{description*}\n",
       "\\item[1] -3.5473684210526\n",
       "\\item[2] -4.6\n",
       "\\item[3] -2.65263157894737\n",
       "\\item[4] 1.45263157894736\n",
       "\\item[5] 0.926315789473677\n",
       "\\item[6] 0.452631578947359\n",
       "\\item[7] 3.4\n",
       "\\item[8] 2.92631578947368\n",
       "\\item[9] 0.347368421052632\n",
       "\\item[10] 1.29473684210527\n",
       "\\end{description*}\n"
      ],
      "text/markdown": [
       "1\n",
       ":   -3.54736842105262\n",
       ":   -4.63\n",
       ":   -2.652631578947374\n",
       ":   1.452631578947365\n",
       ":   0.9263157894736776\n",
       ":   0.4526315789473597\n",
       ":   3.48\n",
       ":   2.926315789473689\n",
       ":   0.34736842105263210\n",
       ":   1.29473684210527\n",
       "\n"
      ],
      "text/plain": [
       "         1          2          3          4          5          6          7 \n",
       "-3.5473684 -4.6000000 -2.6526316  1.4526316  0.9263158  0.4526316  3.4000000 \n",
       "         8          9         10 \n",
       " 2.9263158  0.3473684  1.2947368 "
      ]
     },
     "metadata": {},
     "output_type": "display_data"
    }
   ],
   "source": [
    "lm33$residuals"
   ]
  },
  {
   "cell_type": "code",
   "execution_count": 8,
   "id": "7b836585-cf0f-4799-9611-d252dc07fd33",
   "metadata": {},
   "outputs": [
    {
     "data": {
      "text/html": [
       "8.88178419700125e-16"
      ],
      "text/latex": [
       "8.88178419700125e-16"
      ],
      "text/markdown": [
       "8.88178419700125e-16"
      ],
      "text/plain": [
       "[1] 8.881784e-16"
      ]
     },
     "metadata": {},
     "output_type": "display_data"
    }
   ],
   "source": [
    "-3.5473684-4.6000000-2.6526316+1.4526316+0.9263158+0.4526316+3.4000000+2.9263158+0.3473684+1.2947368"
   ]
  },
  {
   "cell_type": "code",
   "execution_count": 9,
   "id": "2f6785af-991f-4dc9-bce6-810e910fc86a",
   "metadata": {},
   "outputs": [
    {
     "data": {
      "text/html": [
       "1.55431223447522e-15"
      ],
      "text/latex": [
       "1.55431223447522e-15"
      ],
      "text/markdown": [
       "1.55431223447522e-15"
      ],
      "text/plain": [
       "[1] 1.554312e-15"
      ]
     },
     "metadata": {},
     "output_type": "display_data"
    }
   ],
   "source": [
    "sum(lm33$residuals)"
   ]
  },
  {
   "cell_type": "markdown",
   "id": "0a55d8fe-c8fe-48eb-8ebc-be5f300bcd36",
   "metadata": {},
   "source": [
    "$\\to$ 둘다 0에 수렴하는 값"
   ]
  },
  {
   "cell_type": "markdown",
   "id": "5566a2a0-c3df-4ada-83e7-0443e24aefa2",
   "metadata": {},
   "source": [
    "### 5) 잔차들의 x에 의한 가중합이 0이 됨을 보이기"
   ]
  },
  {
   "cell_type": "code",
   "execution_count": 13,
   "id": "51563323-f964-4648-8d94-20e2ab916a68",
   "metadata": {},
   "outputs": [
    {
     "data": {
      "text/html": [
       "<style>\n",
       ".dl-inline {width: auto; margin:0; padding: 0}\n",
       ".dl-inline>dt, .dl-inline>dd {float: none; width: auto; display: inline-block}\n",
       ".dl-inline>dt::after {content: \":\\0020\"; padding-right: .5ex}\n",
       ".dl-inline>dt:not(:first-of-type) {padding-left: .5ex}\n",
       "</style><dl class=dl-inline><dt>1</dt><dd>-2305.78947368419</dd><dt>2</dt><dd>-3082</dd><dt>3</dt><dd>-1830.31578947368</dd><dt>4</dt><dd>944.210526315783</dd><dt>5</dt><dd>611.368421052627</dd><dt>6</dt><dd>294.210526315784</dd><dt>7</dt><dd>2278</dd><dt>8</dt><dd>1931.36842105263</dd><dt>9</dt><dd>239.684210526316</dd><dt>10</dt><dd>919.26315789474</dd></dl>\n"
      ],
      "text/latex": [
       "\\begin{description*}\n",
       "\\item[1] -2305.78947368419\n",
       "\\item[2] -3082\n",
       "\\item[3] -1830.31578947368\n",
       "\\item[4] 944.210526315783\n",
       "\\item[5] 611.368421052627\n",
       "\\item[6] 294.210526315784\n",
       "\\item[7] 2278\n",
       "\\item[8] 1931.36842105263\n",
       "\\item[9] 239.684210526316\n",
       "\\item[10] 919.26315789474\n",
       "\\end{description*}\n"
      ],
      "text/markdown": [
       "1\n",
       ":   -2305.789473684192\n",
       ":   -30823\n",
       ":   -1830.315789473684\n",
       ":   944.2105263157835\n",
       ":   611.3684210526276\n",
       ":   294.2105263157847\n",
       ":   22788\n",
       ":   1931.368421052639\n",
       ":   239.68421052631610\n",
       ":   919.26315789474\n",
       "\n"
      ],
      "text/plain": [
       "         1          2          3          4          5          6          7 \n",
       "-2305.7895 -3082.0000 -1830.3158   944.2105   611.3684   294.2105  2278.0000 \n",
       "         8          9         10 \n",
       " 1931.3684   239.6842   919.2632 "
      ]
     },
     "metadata": {},
     "output_type": "display_data"
    }
   ],
   "source": [
    "res33 <- lm33$residuals\n",
    "x*res33"
   ]
  },
  {
   "cell_type": "code",
   "execution_count": 12,
   "id": "82cd216a-28fe-4975-8769-f0300c4d90a1",
   "metadata": {},
   "outputs": [
    {
     "data": {
      "text/html": [
       "-9.99999995201506e-05"
      ],
      "text/latex": [
       "-9.99999995201506e-05"
      ],
      "text/markdown": [
       "-9.99999995201506e-05"
      ],
      "text/plain": [
       "[1] -1e-04"
      ]
     },
     "metadata": {},
     "output_type": "display_data"
    }
   ],
   "source": [
    "-2305.7895 -3082.0000 -1830.3158+944.2105+611.3684+294.2105+2278.0000+ 1931.3684 +239.6842 + 919.2632"
   ]
  },
  {
   "cell_type": "code",
   "execution_count": 14,
   "id": "c27e9205-59ae-4cf5-9736-f3b84d0aa3e4",
   "metadata": {},
   "outputs": [
    {
     "data": {
      "text/html": [
       "-4.54747350886464e-13"
      ],
      "text/latex": [
       "-4.54747350886464e-13"
      ],
      "text/markdown": [
       "-4.54747350886464e-13"
      ],
      "text/plain": [
       "[1] -4.547474e-13"
      ]
     },
     "metadata": {},
     "output_type": "display_data"
    }
   ],
   "source": [
    "sum(x*res33)"
   ]
  },
  {
   "cell_type": "markdown",
   "id": "5ddbbc56-74a1-4a6a-959a-632af99148bb",
   "metadata": {},
   "source": [
    "$\\to$ 둘다 0에 수렴하는 값"
   ]
  },
  {
   "cell_type": "markdown",
   "id": "526f182c-d543-4d71-ad12-6e9efae73710",
   "metadata": {},
   "source": [
    "### 6) 잔차들의 yhat에 의한 가중합이 0이 됨을 보이기"
   ]
  },
  {
   "cell_type": "code",
   "execution_count": 16,
   "id": "25c02acb-926e-4fb4-9748-6290bd3694a9",
   "metadata": {},
   "outputs": [
    {
     "data": {
      "text/html": [
       "<style>\n",
       ".dl-inline {width: auto; margin:0; padding: 0}\n",
       ".dl-inline>dt, .dl-inline>dd {float: none; width: auto; display: inline-block}\n",
       ".dl-inline>dt::after {content: \":\\0020\"; padding-right: .5ex}\n",
       ".dl-inline>dt:not(:first-of-type) {padding-left: .5ex}\n",
       "</style><dl class=dl-inline><dt>1</dt><dd>-263637.223561155</dd><dt>2</dt><dd>-352386.842978</dd><dt>3</dt><dd>-209272.928441684</dd><dt>4</dt><dd>107958.269588841</dd><dt>5</dt><dd>69902.0747225258</dd><dt>6</dt><dd>33639.1709588414</dd><dt>7</dt><dd>260459.840462</dd><dt>8</dt><dd>220827.008782526</dd><dt>9</dt><dd>27404.7882483158</dd><dt>10</dt><dd>105105.84221779</dd></dl>\n"
      ],
      "text/latex": [
       "\\begin{description*}\n",
       "\\item[1] -263637.223561155\n",
       "\\item[2] -352386.842978\n",
       "\\item[3] -209272.928441684\n",
       "\\item[4] 107958.269588841\n",
       "\\item[5] 69902.0747225258\n",
       "\\item[6] 33639.1709588414\n",
       "\\item[7] 260459.840462\n",
       "\\item[8] 220827.008782526\n",
       "\\item[9] 27404.7882483158\n",
       "\\item[10] 105105.84221779\n",
       "\\end{description*}\n"
      ],
      "text/markdown": [
       "1\n",
       ":   -263637.2235611552\n",
       ":   -352386.8429783\n",
       ":   -209272.9284416844\n",
       ":   107958.2695888415\n",
       ":   69902.07472252586\n",
       ":   33639.17095884147\n",
       ":   260459.8404628\n",
       ":   220827.0087825269\n",
       ":   27404.788248315810\n",
       ":   105105.84221779\n",
       "\n"
      ],
      "text/plain": [
       "         1          2          3          4          5          6          7 \n",
       "-263637.22 -352386.84 -209272.93  107958.27   69902.07   33639.17  260459.84 \n",
       "         8          9         10 \n",
       " 220827.01   27404.79  105105.84 "
      ]
     },
     "metadata": {},
     "output_type": "display_data"
    }
   ],
   "source": [
    "res33*0.15263+(res33*(114.33684*x)) "
   ]
  },
  {
   "cell_type": "code",
   "execution_count": 17,
   "id": "7c89aa7f-8af4-4103-bb6d-8b2d3e87d2c1",
   "metadata": {},
   "outputs": [
    {
     "data": {
      "text/html": [
       "1.16415321826935e-10"
      ],
      "text/latex": [
       "1.16415321826935e-10"
      ],
      "text/markdown": [
       "1.16415321826935e-10"
      ],
      "text/plain": [
       "[1] 1.164153e-10"
      ]
     },
     "metadata": {},
     "output_type": "display_data"
    }
   ],
   "source": [
    "-263637.22 -352386.84 -209272.93 + 107958.27 +  69902.07 +  33639.17  +260459.84 + 220827.01  + 27404.79+  105105.84"
   ]
  },
  {
   "cell_type": "code",
   "execution_count": 18,
   "id": "d5b8a976-fe14-4210-989f-544dd3bc107d",
   "metadata": {},
   "outputs": [
    {
     "data": {
      "text/html": [
       "4.36557456851006e-11"
      ],
      "text/latex": [
       "4.36557456851006e-11"
      ],
      "text/markdown": [
       "4.36557456851006e-11"
      ],
      "text/plain": [
       "[1] 4.365575e-11"
      ]
     },
     "metadata": {},
     "output_type": "display_data"
    }
   ],
   "source": [
    "sum(res33*0.15263+(res33*(114.33684*x)) )"
   ]
  },
  {
   "cell_type": "markdown",
   "id": "05021686-1bee-46cb-b3f5-f7c10117e8fb",
   "metadata": {},
   "source": [
    "$\\to$ 둘다 0에 수렴하는 값"
   ]
  },
  {
   "cell_type": "markdown",
   "id": "fa41a7d9-9038-4a51-bc1b-e85835e1c126",
   "metadata": {},
   "source": [
    "_______________________"
   ]
  },
  {
   "cell_type": "markdown",
   "id": "f3f634a0-b021-450f-b870-b610e8e15eb4",
   "metadata": {},
   "source": [
    "# 3.5) 어떤 컴퓨터회사의 서비스 요구건수와 수리시간 분석"
   ]
  },
  {
   "cell_type": "markdown",
   "id": "722db995-4796-4ca5-8271-54eb4b091d44",
   "metadata": {},
   "source": [
    "Base"
   ]
  },
  {
   "cell_type": "code",
   "execution_count": 5,
   "id": "5cc027aa-6885-47b2-bb64-c4e3dae83d13",
   "metadata": {},
   "outputs": [],
   "source": [
    "library(ggplot2)\n",
    "x <- c(4,2,5,7,1,3,4,5,2,4,6)\n",
    "y <- c(109,58,138,189,37,82,103,134,68,112,154)\n",
    "lm35 <- lm(y~x)"
   ]
  },
  {
   "cell_type": "markdown",
   "id": "c212ac7e-b4d2-4bb0-b3d8-e270619ce60e",
   "metadata": {},
   "source": [
    "### 1) 산점도 그리기"
   ]
  },
  {
   "cell_type": "code",
   "execution_count": 8,
   "id": "aba15b67-20af-4232-8048-3194e6bac7c7",
   "metadata": {},
   "outputs": [
    {
     "data": {
      "image/png": "[encoded data removed]",
      "text/plain": [
       "plot without title"
      ]
     },
     "metadata": {
      "image/png": {
       "height": 420,
       "width": 420
      }
     },
     "output_type": "display_data"
    }
   ],
   "source": [
    "plot(y~x)\n",
    "abline(lm35)"
   ]
  },
  {
   "cell_type": "markdown",
   "id": "3468a7e6-37a3-4e85-8c49-60092030d6b1",
   "metadata": {},
   "source": [
    "### 2) 1차선형회귀선을 가정하고 최소제곱추정량 b0와 b1구하기"
   ]
  },
  {
   "cell_type": "code",
   "execution_count": 23,
   "id": "b65886bd-c26e-4257-8123-44e455d76454",
   "metadata": {},
   "outputs": [
    {
     "data": {
      "text/html": [
       "<style>\n",
       ".dl-inline {width: auto; margin:0; padding: 0}\n",
       ".dl-inline>dt, .dl-inline>dd {float: none; width: auto; display: inline-block}\n",
       ".dl-inline>dt::after {content: \":\\0020\"; padding-right: .5ex}\n",
       ".dl-inline>dt:not(:first-of-type) {padding-left: .5ex}\n",
       "</style><dl class=dl-inline><dt>(Intercept)</dt><dd>11.46408839779</dd><dt>x</dt><dd>24.6022099447514</dd></dl>\n"
      ],
      "text/latex": [
       "\\begin{description*}\n",
       "\\item[(Intercept)] 11.46408839779\n",
       "\\item[x] 24.6022099447514\n",
       "\\end{description*}\n"
      ],
      "text/markdown": [
       "(Intercept)\n",
       ":   11.46408839779x\n",
       ":   24.6022099447514\n",
       "\n"
      ],
      "text/plain": [
       "(Intercept)           x \n",
       "   11.46409    24.60221 "
      ]
     },
     "metadata": {},
     "output_type": "display_data"
    }
   ],
   "source": [
    "coef(lm35) # b0(절편,intercept), b1(기울기,x)"
   ]
  },
  {
   "cell_type": "code",
   "execution_count": 29,
   "id": "9dcc7125-1ac2-4e3a-bc2c-433bd5452d6d",
   "metadata": {},
   "outputs": [],
   "source": [
    "xbar <- mean(x)\n",
    "ybar <- mean(y)\n",
    "minusx <- x-xbar\n",
    "minusy <- y-ybar"
   ]
  },
  {
   "cell_type": "code",
   "execution_count": 24,
   "id": "b769dcf5-5c63-43a0-9b46-3bb7dc421c94",
   "metadata": {},
   "outputs": [
    {
     "data": {
      "text/html": [
       "32.9090909090909"
      ],
      "text/latex": [
       "32.9090909090909"
      ],
      "text/markdown": [
       "32.9090909090909"
      ],
      "text/plain": [
       "[1] 32.90909"
      ]
     },
     "metadata": {},
     "output_type": "display_data"
    }
   ],
   "source": [
    "Sxx <- sum(minusx^2)\n",
    "Sxx"
   ]
  },
  {
   "cell_type": "code",
   "execution_count": 25,
   "id": "f715d0be-a484-4907-8477-4e4a6ff39378",
   "metadata": {},
   "outputs": [
    {
     "data": {
      "text/html": [
       "20110.5454545455"
      ],
      "text/latex": [
       "20110.5454545455"
      ],
      "text/markdown": [
       "20110.5454545455"
      ],
      "text/plain": [
       "[1] 20110.55"
      ]
     },
     "metadata": {},
     "output_type": "display_data"
    }
   ],
   "source": [
    "Syy <- sum(minusy^2)\n",
    "Syy"
   ]
  },
  {
   "cell_type": "code",
   "execution_count": 26,
   "id": "32568f9d-0146-4e55-b8f5-3cf036a11dc2",
   "metadata": {},
   "outputs": [
    {
     "data": {
      "text/html": [
       "809.636363636364"
      ],
      "text/latex": [
       "809.636363636364"
      ],
      "text/markdown": [
       "809.636363636364"
      ],
      "text/plain": [
       "[1] 809.6364"
      ]
     },
     "metadata": {},
     "output_type": "display_data"
    }
   ],
   "source": [
    "Sxy <- sum(minusx*minusy)\n",
    "Sxy"
   ]
  },
  {
   "cell_type": "code",
   "execution_count": 27,
   "id": "8ecc067d-282b-41b1-8d7c-f8f41c47259e",
   "metadata": {},
   "outputs": [
    {
     "data": {
      "text/html": [
       "24.6022099447514"
      ],
      "text/latex": [
       "24.6022099447514"
      ],
      "text/markdown": [
       "24.6022099447514"
      ],
      "text/plain": [
       "[1] 24.60221"
      ]
     },
     "metadata": {},
     "output_type": "display_data"
    }
   ],
   "source": [
    "b1 <- Sxy/Sxx\n",
    "b1"
   ]
  },
  {
   "cell_type": "code",
   "execution_count": 28,
   "id": "61a40a2b-4c3a-496f-bd03-e5392134bc17",
   "metadata": {},
   "outputs": [
    {
     "data": {
      "text/html": [
       "11.4640883977901"
      ],
      "text/latex": [
       "11.4640883977901"
      ],
      "text/markdown": [
       "11.4640883977901"
      ],
      "text/plain": [
       "[1] 11.46409"
      ]
     },
     "metadata": {},
     "output_type": "display_data"
    }
   ],
   "source": [
    "b0 <- ybar - b1*xbar\n",
    "b0"
   ]
  },
  {
   "cell_type": "markdown",
   "id": "700770e5-7bd8-479e-89b7-eb2baf4a0dc7",
   "metadata": {},
   "source": [
    "### 3) 추정치 b1의 의미를 설명하여라\n",
    ">기울기"
   ]
  },
  {
   "cell_type": "markdown",
   "id": "7111c5a1-9136-411f-b99b-006da94f7774",
   "metadata": {},
   "source": [
    "### 4) 서비스 수가 4일 때 수리시간 추정, 추정값의 의미\n",
    ">적합된 회귀선으로 추정한 x=4 일때의 y의 예측(추정) 값\n",
    "\n",
    ">*yhat=b0+b1x*"
   ]
  },
  {
   "cell_type": "code",
   "execution_count": 30,
   "id": "d660750a-2799-4851-8393-09f7c39418ab",
   "metadata": {},
   "outputs": [
    {
     "data": {
      "text/html": [
       "109.872928176796"
      ],
      "text/latex": [
       "109.872928176796"
      ],
      "text/markdown": [
       "109.872928176796"
      ],
      "text/plain": [
       "[1] 109.8729"
      ]
     },
     "metadata": {},
     "output_type": "display_data"
    }
   ],
   "source": [
    "b0+b1*4"
   ]
  },
  {
   "cell_type": "markdown",
   "id": "77822ca4-a2e0-4227-8f5b-0b87d03d29f3",
   "metadata": {},
   "source": [
    "### 5) 산정도 위에 추정된 회귀직선 도시하고 잔차표시"
   ]
  },
  {
   "cell_type": "code",
   "execution_count": 34,
   "id": "a7ccf531-3581-4c44-889b-743ddb7a6280",
   "metadata": {},
   "outputs": [],
   "source": [
    "library(ggplot2)\n",
    "library(modelr)"
   ]
  },
  {
   "cell_type": "code",
   "execution_count": 41,
   "id": "efcb5c80-8b40-4d86-bc77-64bbe5bebd60",
   "metadata": {},
   "outputs": [
    {
     "data": {
      "text/html": [
       "<table class=\"dataframe\">\n",
       "<caption>A data.frame: 11 × 2</caption>\n",
       "<thead>\n",
       "\t<tr><th scope=col>x</th><th scope=col>y</th></tr>\n",
       "\t<tr><th scope=col>&lt;dbl&gt;</th><th scope=col>&lt;dbl&gt;</th></tr>\n",
       "</thead>\n",
       "<tbody>\n",
       "\t<tr><td>4</td><td>109</td></tr>\n",
       "\t<tr><td>2</td><td> 58</td></tr>\n",
       "\t<tr><td>5</td><td>138</td></tr>\n",
       "\t<tr><td>7</td><td>189</td></tr>\n",
       "\t<tr><td>1</td><td> 37</td></tr>\n",
       "\t<tr><td>3</td><td> 82</td></tr>\n",
       "\t<tr><td>4</td><td>103</td></tr>\n",
       "\t<tr><td>5</td><td>134</td></tr>\n",
       "\t<tr><td>2</td><td> 68</td></tr>\n",
       "\t<tr><td>4</td><td>112</td></tr>\n",
       "\t<tr><td>6</td><td>154</td></tr>\n",
       "</tbody>\n",
       "</table>\n"
      ],
      "text/latex": [
       "A data.frame: 11 × 2\n",
       "\\begin{tabular}{ll}\n",
       " x & y\\\\\n",
       " <dbl> & <dbl>\\\\\n",
       "\\hline\n",
       "\t 4 & 109\\\\\n",
       "\t 2 &  58\\\\\n",
       "\t 5 & 138\\\\\n",
       "\t 7 & 189\\\\\n",
       "\t 1 &  37\\\\\n",
       "\t 3 &  82\\\\\n",
       "\t 4 & 103\\\\\n",
       "\t 5 & 134\\\\\n",
       "\t 2 &  68\\\\\n",
       "\t 4 & 112\\\\\n",
       "\t 6 & 154\\\\\n",
       "\\end{tabular}\n"
      ],
      "text/markdown": [
       "\n",
       "A data.frame: 11 × 2\n",
       "\n",
       "| x &lt;dbl&gt; | y &lt;dbl&gt; |\n",
       "|---|---|\n",
       "| 4 | 109 |\n",
       "| 2 |  58 |\n",
       "| 5 | 138 |\n",
       "| 7 | 189 |\n",
       "| 1 |  37 |\n",
       "| 3 |  82 |\n",
       "| 4 | 103 |\n",
       "| 5 | 134 |\n",
       "| 2 |  68 |\n",
       "| 4 | 112 |\n",
       "| 6 | 154 |\n",
       "\n"
      ],
      "text/plain": [
       "   x y  \n",
       "1  4 109\n",
       "2  2  58\n",
       "3  5 138\n",
       "4  7 189\n",
       "5  1  37\n",
       "6  3  82\n",
       "7  4 103\n",
       "8  5 134\n",
       "9  2  68\n",
       "10 4 112\n",
       "11 6 154"
      ]
     },
     "metadata": {},
     "output_type": "display_data"
    }
   ],
   "source": [
    "df <- data.frame(x,y)\n",
    "df"
   ]
  },
  {
   "cell_type": "code",
   "execution_count": 44,
   "id": "68e8edc0-da56-45d6-a788-fcf3dcaef6a2",
   "metadata": {},
   "outputs": [
    {
     "data": {
      "text/html": [
       "-6.86"
      ],
      "text/latex": [
       "-6.86"
      ],
      "text/markdown": [
       "-6.86"
      ],
      "text/plain": [
       "[1] -6.86"
      ]
     },
     "metadata": {},
     "output_type": "display_data"
    }
   ],
   "source": [
    "103-109.86"
   ]
  },
  {
   "cell_type": "markdown",
   "id": "a0a86bc7-b23c-4a18-a51e-f3d148de4665",
   "metadata": {},
   "source": [
    "ggplot(df, aes(x=x, y=y)) + \n",
    "geom_point() + \n",
    "stat_smooth(method='lm') +\n",
    "geom_text(x=1,y=37,label=\"0.94\")+\n",
    "geom_text(x=2,y=58,label=\"-2.66\")+\n",
    "geom_text(x=2,y=68,label=\"7.34\")+\n",
    "geom_text(x=3,y=82,label=\"-3.26\")+\n",
    "geom_text(x=4,y=103,label=\"-6.86\")+\n",
    "geom_text(x=4,y=109,label=\"-0.86\")+\n",
    "geom_text(x=4,y=112,label=\"2.14\")+\n",
    "geom_text(x=5,y=134,label=\"-0.46\")+\n",
    "geom_text(x=5,y=138,label=\"3.54\")+\n",
    "geom_text(x=6,y=154,label=\"-5.06\")+\n",
    "geom_text(x=7,y=189,label=\"5.34\")"
   ]
  },
  {
   "cell_type": "markdown",
   "id": "2efa3e05-873c-4a39-a3d5-0acfc0d08ffe",
   "metadata": {},
   "source": [
    "### 6) 상관계수 구하기"
   ]
  },
  {
   "cell_type": "code",
   "execution_count": 46,
   "id": "4bb03ffe-7ecb-4768-84ac-a0807248ae18",
   "metadata": {},
   "outputs": [
    {
     "data": {
      "text/html": [
       "0.995222389856898"
      ],
      "text/latex": [
       "0.995222389856898"
      ],
      "text/markdown": [
       "0.995222389856898"
      ],
      "text/plain": [
       "[1] 0.9952224"
      ]
     },
     "metadata": {},
     "output_type": "display_data"
    }
   ],
   "source": [
    "cor(x,y)"
   ]
  },
  {
   "cell_type": "markdown",
   "id": "5c9da90f-5cb3-4e69-84c9-b9fc8802dac2",
   "metadata": {},
   "source": [
    "__________________________"
   ]
  },
  {
   "cell_type": "markdown",
   "id": "b83bd5ab-435f-4130-b697-8c736cc3f135",
   "metadata": {},
   "source": [
    "# 3.9) 어느 학급의 시험점수y와 결석일수x 사이의 관계"
   ]
  },
  {
   "cell_type": "markdown",
   "id": "7f24165c-4a39-4b00-86eb-dd51ec215585",
   "metadata": {},
   "source": [
    "n=50\n",
    "\n",
    "$\\sum_{}^{} x_i$ = 18\n",
    "\n",
    "$\\sum_{}^{} y_i$ = 3000\n",
    "\n",
    "$\\sum_{}^{} xy$ = 8800\n",
    "\n",
    "$\\sum_{}^{} x^2$ = 680\n",
    "\n",
    "$\\sum_{}^{} y_i^2$ = 196000"
   ]
  },
  {
   "cell_type": "markdown",
   "id": "4ee38950-8b1c-4622-88b9-7f74ff7e1234",
   "metadata": {},
   "source": [
    "### 1) 시험점수와 결석일수 사이의 표본상관계수를 구하여라"
   ]
  },
  {
   "cell_type": "markdown",
   "id": "0e7353e4-ea09-4478-ac9d-f66be0e7bdb9",
   "metadata": {},
   "source": [
    "> 표본상관계수 : $r_xy$ = $\\frac{S_(xy)}{S_x S_y}$ = 157.551/(3.7075×18.07)=2.3517"
   ]
  },
  {
   "cell_type": "markdown",
   "id": "def617d6-7553-4fe3-9abb-0955039f7ae1",
   "metadata": {},
   "source": [
    "> $S_xy$ = $\\frac{1}{n-1}$ $\\{ $$\\sum_{}^{} xy$$ - $$\\frac{\\sum_{}^{} x \\sum_{}^{} y}{n} \\}$ =157.551"
   ]
  },
  {
   "cell_type": "markdown",
   "id": "4f900979-ddb6-4b61-8df9-7f7b136e9315",
   "metadata": {},
   "source": [
    "> $S_x$ = $\\sqrt{\\frac{1}{n-1} \\{ \\sum_{}^{} x^2 - \\frac{\\sum_{}^{} x^2}{n} \\}}$ = 3.7075"
   ]
  },
  {
   "cell_type": "markdown",
   "id": "841f91a9-7ac9-4ee3-bb53-0c0f53d9b20a",
   "metadata": {},
   "source": [
    "> $S_y$ = $\\sqrt{\\frac{1}{n-1} \\{ \\sum_{}^{} y^2 - \\frac{\\sum_{}^{} y^2}{n} \\}}$ = 18.07"
   ]
  },
  {
   "cell_type": "markdown",
   "id": "f376df1f-3c7b-491d-b0f4-e8251b1c35c2",
   "metadata": {},
   "source": [
    "### 2) 대체모형 회귀선에서 beta_0 과 beta_1 의 최소제곱추정량을 구해라"
   ]
  },
  {
   "cell_type": "markdown",
   "id": "e5a0c6ab-9864-44f2-b090-a807e014ea0e",
   "metadata": {},
   "source": [
    "> 정규방정식\n",
    ">>$b_0$$n$ + $b_1 $$\\sum_{}^{} x_i$ = $\\sum_{}^{} y_i$"
   ]
  },
  {
   "cell_type": "markdown",
   "id": "12f06aee-cb70-4045-aa52-81af2f315baa",
   "metadata": {},
   "source": [
    ">> $b_0$$\\sum_{}^{} x_i$ + $b_1$ $\\sum_{}^{} x_i^2$ = $\\sum_{}^{} x_i y_i$"
   ]
  },
  {
   "cell_type": "markdown",
   "id": "5462d8df-24fb-4efe-93c5-99f6cb7a02de",
   "metadata": {},
   "source": [
    ">>> 50$b_0$+18$b_1$=3000\n",
    "\n",
    ">>> 18$b_0$+680$b_1$=8800 이고, 연립방정식을 풀면\n",
    "\n",
    ">>> $b_0$ = 55.87 , $b_1$ = 11.46 이다."
   ]
  },
  {
   "cell_type": "markdown",
   "id": "31d22fda-bd9c-4a09-8dec-d5de7862e6ca",
   "metadata": {},
   "source": [
    "### 3) 결석을 3번한 학생에 대한 평균성적의 추정량을 계산하여라."
   ]
  },
  {
   "cell_type": "markdown",
   "id": "dbfe59b9-b593-4ad0-b80f-af2f73cfe22e",
   "metadata": {},
   "source": [
    "> $\\hat{y}$ =  $b_0$ + $b_1$$x$ $\\to$ $\\hat{y}$ = 55.87 + 11.46 * 3 = 90.25"
   ]
  },
  {
   "cell_type": "markdown",
   "id": "6e8453e3-30bc-4f5e-8518-896a4cc2dbdf",
   "metadata": {},
   "source": [
    "### 4) 오차항 $\\epsilon$ 의 표준편차 $\\sigma$ 를 구하여라"
   ]
  },
  {
   "cell_type": "markdown",
   "id": "d4cbb22a-9af1-4c25-85ef-6a4725802537",
   "metadata": {},
   "source": [
    "> SSE= $\\sum_{}^{} y_i^2$ -  $b_0 $$\\sum_{}^{} y_i$ - $b_1 $$\\sum_{}^{} xy$    =196000-55.87×3000-11.46×8800 = $$-72458$$"
   ]
  },
  {
   "cell_type": "markdown",
   "id": "aafdce86-aab5-4806-a433-3f9874a9e339",
   "metadata": {},
   "source": [
    "> $\\sigma$ = $MSE$ = $\\frac{SSE}{n-2}$ = $-1510$"
   ]
  },
  {
   "cell_type": "code",
   "execution_count": null,
   "id": "3d4214ec-854e-4fad-b3bf-9519ece2bbce",
   "metadata": {},
   "outputs": [],
   "source": []
  }
 ],
 "metadata": {
  "kernelspec": {
   "display_name": "R",
   "language": "R",
   "name": "ir"
  },
  "language_info": {
   "codemirror_mode": "r",
   "file_extension": ".r",
   "mimetype": "text/x-r-source",
   "name": "R",
   "pygments_lexer": "r",
   "version": "4.0.5"
  }
 },
 "nbformat": 4,
 "nbformat_minor": 5
}
