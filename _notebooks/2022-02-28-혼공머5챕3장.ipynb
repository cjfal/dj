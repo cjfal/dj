{
 "cells": [
  {
   "cell_type": "markdown",
   "id": "de492534-c205-4b00-8c75-0922f477df77",
   "metadata": {},
   "source": [
    "# 혼공머 05-3\n",
    "> 앙상블 (랜덤포레스트 , 엑스트라 트리)\n",
    "\n",
    "- toc:true\n",
    "- branch: master\n",
    "- badges: true\n",
    "- comments: true\n",
    "- author: 김동준\n",
    "- categories : [\"Python\", \"혼공머\"]"
   ]
  },
  {
   "cell_type": "markdown",
   "id": "735dd81b-fbc5-4e68-a9b3-8b81ac199239",
   "metadata": {},
   "source": [
    "# 주로쓰는 패키지들"
   ]
  },
  {
   "cell_type": "code",
   "execution_count": 31,
   "id": "4e8ca057-f16a-44c2-98f5-79d6ee2bc184",
   "metadata": {},
   "outputs": [],
   "source": [
    "#collapse\n",
    "import numpy as np #넘파이\n",
    "import pandas as pd #판다스\n",
    "from plotnine import *  #플롯나인\n",
    "import matplotlib.pyplot as plt #맷플랏립\n",
    "import plotly.express as px #플랏리 상호작용 그래프\n",
    "from IPython.display import HTML #블로그에 html로 올리려고 변환하는 패키지\n",
    "import seaborn as sns # 씨본, 히스토그램 깔끔하게 그리는 패키지\n",
    "#___________________________________\n",
    "\n",
    "from sklearn.neighbors import KNeighborsClassifier # k 최근접이웃\n",
    "from sklearn.model_selection import train_test_split\n",
    "from sklearn.neighbors import KNeighborsRegressor  # 결정계수 \n",
    "from sklearn.metrics import mean_absolute_error # 타깃과 예측의 절댓값 오차 평균을 반환\n",
    "from sklearn.linear_model import LinearRegression # 선형 회귀\n",
    "from sklearn.preprocessing import PolynomialFeatures #다중회귀로의 변환기\n",
    "from sklearn.preprocessing import StandardScaler #규제\n",
    "from sklearn.linear_model import Ridge #릿지\n",
    "from sklearn.linear_model import Lasso #라쏘\n",
    "from sklearn.linear_model import LogisticRegression # 로지스틱회귀\n",
    "from scipy.special import expit #시그모이드함수\n",
    "from scipy.special import softmax #소프트맥스함수\n",
    "from sklearn.linear_model import SGDClassifier # 확률적 경사 하강법\n",
    "from sklearn.tree import DecisionTreeClassifier # 트리\n",
    "from sklearn.tree import plot_tree # 트리 모형\n",
    "from sklearn.model_selection import cross_validate # 교차 검증\n",
    "from sklearn.model_selection import StratifiedKFold # Kfold 교차 검증\n",
    "from sklearn.model_selection import GridSearchCV # 그리드 서치 (하이퍼 파라미터 튜닝)\n",
    "from scipy.stats import uniform, randint #랜덤 서치\n",
    "from sklearn.model_selection import RandomizedSearchCV # 랜덤 서치 클래스\n",
    "from sklearn.ensemble import RandomForestClassifier # 랜덤포레스트 앙상블\n",
    "from sklearn.ensemble import ExtraTreesClassifier # 엑스트라 트리 앙상블\n",
    "from sklearn.ensemble import GradientBoostingClassifier # 그레이디언트 부스팅 앙상블\n",
    "\n",
    "# 히스토그램 기반 그레이디언트 부스팅\n",
    "from sklearn.experimental import enable_hist_gradient_boosting\n",
    "from sklearn.ensemble import HistGradientBoostingClassifier\n",
    "from sklearn.inspection import permutation_importance # 특성중요도\n",
    "from xgboost import XGBClassifier # 알고리즘을 구현한 또다른 라이브러리1\n",
    "from lightgbm import LGBMClassifier # 알고리즘을 구현한 또다른 라이브러리2 , 마이크로소프트에서 구현 \n",
    "\n",
    "\n",
    "# ____________________\n"
   ]
  },
  {
   "cell_type": "markdown",
   "id": "ff4954ff-42e9-4f30-9508-902d718065e3",
   "metadata": {},
   "source": [
    "# 정형 데이터와 비정형 데이터\n",
    "> 정형 데이터 : 어떤 구조(주로 숫자)로 되어 있다는 뜻. CSV ,DB , EXCEL 등에 저장하기 쉽다\n",
    "\n",
    "> 비정형 데이터 : 텍스트 데이터 , 디카 사진 등 "
   ]
  },
  {
   "cell_type": "markdown",
   "id": "b8f7272f-ba09-4a19-b310-715e15972386",
   "metadata": {},
   "source": [
    "## 앙상블 학습 (ensemble learning)\n",
    "> 정형 데이터를 다루는 데 가장 뛰어나 성과를 내는 알고리즘 "
   ]
  },
  {
   "cell_type": "markdown",
   "id": "040c917f-c56c-426f-b14f-6c3adf83a02f",
   "metadata": {},
   "source": [
    "# 랜덤 포레스트\n",
    "\n",
    "> 앙상블 학습의 대표주자\n",
    "\n",
    "> 결정트리를 랜덤하게 만들어 결저 트리(나무)의 숲을 만듦\n",
    "\n",
    "> 각 트리를 훈련하기 위한 데이터를 랜덤하게 만드는데, 입력한 훈련 데이터에서 랜덤하게 샘플을 추출하여 훈련 데이터를 만든다. ( 한 샘플이 중복되어 추출 될 수 있음. / 부스트랩 샘플이라고 부름)\n",
    "\n",
    "> 부스트랩 샘플은 훈련 세트와 크기가 같다. ( 부스트랩 샘플에 포함되지 않고 남는 샘플 : OOB, out of bag)\n",
    "\n",
    "> 부스트랩 방식 : 데이터 세트에서 중복을 허용하여 데이터를 샘플링하는 방식을 의미.\n",
    "\n",
    "> RandomForestClassifier 는 자체적으로 모델을 평가하는 정수를 얻을 수 있다."
   ]
  },
  {
   "cell_type": "code",
   "execution_count": 2,
   "id": "4e96cc14-a2b3-4cdf-b45c-e00ae4859be7",
   "metadata": {},
   "outputs": [],
   "source": [
    "wine = pd.read_csv('https://bit.ly/wine_csv_data')\n",
    "\n",
    "data = wine[['alcohol', 'sugar', 'pH']].to_numpy()\n",
    "target = wine['class'].to_numpy()\n",
    "\n",
    "train_input, test_input, train_target, test_target = \\\n",
    "train_test_split(data, target, test_size=0.2, random_state=42)"
   ]
  },
  {
   "cell_type": "code",
   "execution_count": 4,
   "id": "3bdaa3f6-2fe3-4ba1-a03d-dcda64a362db",
   "metadata": {},
   "outputs": [
    {
     "name": "stdout",
     "output_type": "stream",
     "text": [
      "0.9973541965122431 0.8905151032797809\n"
     ]
    }
   ],
   "source": [
    "# 교차 검증 + 랜덤포레스트\n",
    "rf = RandomForestClassifier(n_jobs=-1, random_state=42)\n",
    "scores = cross_validate(rf, train_input, train_target, return_train_score=True, n_jobs=-1)\n",
    "\n",
    "print(np.mean(scores['train_score']), np.mean(scores['test_score']))"
   ]
  },
  {
   "cell_type": "code",
   "execution_count": 5,
   "id": "19619573-c1dd-4018-af05-5a3cc0f1fefa",
   "metadata": {},
   "outputs": [
    {
     "name": "stdout",
     "output_type": "stream",
     "text": [
      "[0.23167441 0.50039841 0.26792718]\n"
     ]
    }
   ],
   "source": [
    "# 앞의 랜덤 포레스트 모델을 훈련 세트에 훈련한 후 특성 중요도를 출력\n",
    "rf.fit(train_input, train_target)\n",
    "print(rf.feature_importances_)"
   ]
  },
  {
   "cell_type": "markdown",
   "id": "c180d9e9-da1f-46ad-87ca-06fab57db6a7",
   "metadata": {},
   "source": [
    "> 결정 트리에서 보다 더 골고루 중요도가 분포되었다.\n",
    "\n",
    "> 과대적합을 줄이고 일반화 성능을 높이는데 기여"
   ]
  },
  {
   "cell_type": "code",
   "execution_count": 6,
   "id": "58141b0f-d241-484f-ba22-9e6ebe9e1334",
   "metadata": {},
   "outputs": [
    {
     "name": "stdout",
     "output_type": "stream",
     "text": [
      "0.8934000384837406\n"
     ]
    }
   ],
   "source": [
    "# OOB 점수 확인\n",
    "rf = RandomForestClassifier(oob_score=True, n_jobs=-1, random_state=42)\n",
    "rf.fit(train_input, train_target)\n",
    "print(rf.oob_score_)"
   ]
  },
  {
   "cell_type": "markdown",
   "id": "22bd517b-c0df-4439-8fe8-05415293602f",
   "metadata": {},
   "source": [
    "> OOB 점수는 교차검증을 대신 할 수 있다."
   ]
  },
  {
   "cell_type": "markdown",
   "id": "07786d44-8ea2-474c-a0a0-1ef1783fca02",
   "metadata": {},
   "source": [
    "# 엑스트라 트리\n",
    "\n",
    "> 기본적으로 100개의 결정 트리를 훈련\n",
    "\n",
    "> 붓스트랩 샘플을 사용하지 않는다.\n",
    "\n",
    "> 각 결정트리를 만들 떄 전체 훈련 세트를 사용\n",
    "\n",
    "> 노드 분할시 무작위로 분할\n",
    "\n",
    "> 빠른 계산 속도"
   ]
  },
  {
   "cell_type": "code",
   "execution_count": 8,
   "id": "dd5d6602-be7c-4e5f-86c5-d3ad45cfd4de",
   "metadata": {},
   "outputs": [
    {
     "name": "stdout",
     "output_type": "stream",
     "text": [
      "0.9974503966084433 0.8887848893166506\n"
     ]
    }
   ],
   "source": [
    "et = ExtraTreesClassifier(n_jobs=-1, random_state=42)\n",
    "scores = cross_validate(et, train_input, train_target, return_train_score=True, n_jobs=-1)\n",
    "print(np.mean(scores['train_score']), np.mean(scores['test_score']))"
   ]
  },
  {
   "cell_type": "markdown",
   "id": "819abf21-13e1-49db-9074-1b29037079d9",
   "metadata": {},
   "source": [
    "> 랜덤포레스트와 비슷한 결과"
   ]
  },
  {
   "cell_type": "code",
   "execution_count": 9,
   "id": "8483a8ee-c1ea-4bc6-9303-23b14745aa31",
   "metadata": {},
   "outputs": [
    {
     "name": "stdout",
     "output_type": "stream",
     "text": [
      "[0.20183568 0.52242907 0.27573525]\n"
     ]
    }
   ],
   "source": [
    "# 특성 중요도\n",
    "et.fit(train_input, train_target)\n",
    "print(et.feature_importances_)"
   ]
  },
  {
   "cell_type": "markdown",
   "id": "80f57c42-cb59-41e1-a994-33466562fe50",
   "metadata": {},
   "source": [
    "> 랜덤포레스트와 비슷한 결과"
   ]
  },
  {
   "cell_type": "markdown",
   "id": "66219833-e719-411c-ad68-d29925e393c9",
   "metadata": {},
   "source": [
    "# 그레이디언트 부스팅 , gradient boosting\n",
    "\n",
    "> 깊이가 얕은 결정 트리를 사용하여 이전 트리의 오차를 보완하는 방식으로 앙상블\n",
    "\n",
    "> GradientBoostingClassifier은 기본적으로 깊이가 3인 결정 트리를 100개 사용\n",
    "\n",
    "> 과대적합에 강하고 일반적으로 높은 일반화 성능 기대\n",
    "\n",
    "> 경사 하강법을 사용하여 트리를 앙상블에 추가\n",
    "\n",
    "> 분류에서는 로지스틱 손실 함수를 사용 하고 회귀에서는 평균 제곱 오차 함수 사용"
   ]
  },
  {
   "cell_type": "code",
   "execution_count": 12,
   "id": "a11ff48a-5225-490f-b22f-d938a878b53d",
   "metadata": {},
   "outputs": [
    {
     "name": "stdout",
     "output_type": "stream",
     "text": [
      "0.8881086892152563 0.8720430147331015\n"
     ]
    }
   ],
   "source": [
    "# 교차 검증 점수 확인\n",
    "gb = GradientBoostingClassifier(random_state=42)\n",
    "scores = cross_validate(gb, train_input, train_target, return_train_score=True, n_jobs=-1)\n",
    "print(np.mean(scores['train_score']), np.mean(scores['test_score']))"
   ]
  },
  {
   "cell_type": "markdown",
   "id": "1c51d382-ca7a-435b-ab58-7a65d55027e9",
   "metadata": {},
   "source": [
    "> 과대적합이 거의 되지 않음\n",
    "\n",
    "> 트리의 개수를 늘려도 과대적합에 매우 강력"
   ]
  },
  {
   "cell_type": "code",
   "execution_count": 13,
   "id": "02b1a9c5-ac4d-4074-821b-28967a3bf302",
   "metadata": {},
   "outputs": [
    {
     "name": "stdout",
     "output_type": "stream",
     "text": [
      "0.9464595437171814 0.8780082549788999\n"
     ]
    }
   ],
   "source": [
    "# 학습률을 증가시키고 트리의 개수를 늘리면 조금 더 성능이 향상\n",
    "gb = GradientBoostingClassifier(n_estimators=500, learning_rate=0.2, random_state=42)\n",
    "scores = cross_validate(gb, train_input, train_target, return_train_score=True, n_jobs=-1)\n",
    "print(np.mean(scores['train_score']), np.mean(scores['test_score']))"
   ]
  },
  {
   "cell_type": "code",
   "execution_count": 14,
   "id": "881b8deb-32ea-4e7c-8117-4b8bcae9bb3e",
   "metadata": {},
   "outputs": [
    {
     "name": "stdout",
     "output_type": "stream",
     "text": [
      "[0.15872278 0.68010884 0.16116839]\n"
     ]
    }
   ],
   "source": [
    "# 특성 중요도\n",
    "gb.fit(train_input, train_target)\n",
    "print(gb.feature_importances_)"
   ]
  },
  {
   "cell_type": "markdown",
   "id": "2de9d090-4c99-4080-a06b-9221249f7840",
   "metadata": {},
   "source": [
    "# 히스토그램 기반 그레이디언트 부스팅\n",
    "\n",
    "> 입력 특성을 256개의 구간으로 나눔. $\\to$ 노드를 분할할 때 최적의 분할을 매우 바르게 찾을 수 있음\n",
    "\n",
    "> 입력에 누락된 특성이 있어도 이를 따로 전처리할 필요가 없다.\n",
    "\n",
    "> 아직 테스트 과정이라 추가 모듈 임포트 필요"
   ]
  },
  {
   "cell_type": "code",
   "execution_count": 19,
   "id": "c14a4893-b74a-4acc-a25d-b9ff9031e044",
   "metadata": {},
   "outputs": [
    {
     "name": "stdout",
     "output_type": "stream",
     "text": [
      "0.9321723946453317 0.8801241948619236\n"
     ]
    }
   ],
   "source": [
    "# 교차 검증 점수 확인\n",
    "hgb = HistGradientBoostingClassifier(random_state=42)\n",
    "scores = cross_validate(hgb, train_input, train_target, return_train_score=True, n_jobs=-1)\n",
    "print(np.mean(scores['train_score']), np.mean(scores['test_score']))"
   ]
  },
  {
   "cell_type": "code",
   "execution_count": 21,
   "id": "8afd6fd5-8cb2-4def-b190-8d201c438d26",
   "metadata": {},
   "outputs": [
    {
     "name": "stdout",
     "output_type": "stream",
     "text": [
      "[0.08876275 0.23438522 0.08027708]\n"
     ]
    }
   ],
   "source": [
    "# 특성 중요도\n",
    "hgb.fit(train_input, train_target)\n",
    "result = permutation_importance(hgb, train_input, train_target, n_repeats=10,\n",
    "                                random_state=42, n_jobs=-1)\n",
    "print(result.importances_mean)"
   ]
  },
  {
   "cell_type": "code",
   "execution_count": 22,
   "id": "12ae165b-c14b-48eb-849e-1251bee34999",
   "metadata": {},
   "outputs": [
    {
     "name": "stdout",
     "output_type": "stream",
     "text": [
      "[0.05969231 0.20238462 0.049     ]\n"
     ]
    }
   ],
   "source": [
    "# 테스트 세트에서의 특성 중요도\n",
    "result = permutation_importance(hgb, test_input, test_target, n_repeats=10,\n",
    "                                random_state=42, n_jobs=-1)\n",
    "print(result.importances_mean)"
   ]
  },
  {
   "cell_type": "code",
   "execution_count": 23,
   "id": "e650feb9-2ae5-489f-9916-dddbe90b64bc",
   "metadata": {},
   "outputs": [
    {
     "data": {
      "text/plain": [
       "0.8723076923076923"
      ]
     },
     "execution_count": 23,
     "metadata": {},
     "output_type": "execute_result"
    }
   ],
   "source": [
    "# 테스트 세트에서의 성능 최종 확인\n",
    "hgb.score(test_input, test_target)"
   ]
  },
  {
   "cell_type": "markdown",
   "id": "0624f61d-3f50-4904-a0de-28204c4382a2",
   "metadata": {},
   "source": [
    "## 알고리즘을 구현한 또다른 라이브러리1"
   ]
  },
  {
   "cell_type": "code",
   "execution_count": 27,
   "id": "648971d1-8be9-4491-8ab5-a33f585ca2dd",
   "metadata": {},
   "outputs": [
    {
     "name": "stdout",
     "output_type": "stream",
     "text": [
      "0.9555033709953124 0.8799326275264677\n"
     ]
    }
   ],
   "source": [
    "xgb = XGBClassifier(tree_method='hist', random_state=42)\n",
    "scores = cross_validate(xgb, train_input, train_target, return_train_score=True, n_jobs=-1)\n",
    "print(np.mean(scores['train_score']), np.mean(scores['test_score']))"
   ]
  },
  {
   "cell_type": "markdown",
   "id": "35f3719c-8161-47ca-ab4b-3027038db8a4",
   "metadata": {},
   "source": [
    "## 알고리즘을 구현한 또다른 라이브러리2"
   ]
  },
  {
   "cell_type": "code",
   "execution_count": 30,
   "id": "38e04166-36da-4f0d-a830-3172547a1f6c",
   "metadata": {},
   "outputs": [
    {
     "name": "stdout",
     "output_type": "stream",
     "text": [
      "0.935828414851749 0.8801251203079884\n"
     ]
    }
   ],
   "source": [
    "lgb = LGBMClassifier(random_state=42)\n",
    "scores = cross_validate(lgb, train_input, train_target, return_train_score=True, n_jobs=-1)\n",
    "print(np.mean(scores['train_score']), np.mean(scores['test_score']))"
   ]
  },
  {
   "cell_type": "markdown",
   "id": "07c88f78-c9bb-45ce-a09c-dd4766ef00af",
   "metadata": {},
   "source": [
    "_________"
   ]
  },
  {
   "cell_type": "markdown",
   "id": "751121c7-f34d-45ce-a762-4923c676c6d6",
   "metadata": {},
   "source": [
    "# **마무리**\n",
    "\n",
    "`*` 키워드로 끝내는 핵심 포인트"
   ]
  },
  {
   "cell_type": "markdown",
   "id": "57602889-1cb2-4b16-a3e2-cbc13bb23958",
   "metadata": {},
   "source": [
    "`-` **앙상블 학습** : 더 좋은 예측 결과를 만들기 위해 여러 개의 모델을 훈련하는 머신러닝 알고리즘을 말합니다."
   ]
  },
  {
   "cell_type": "markdown",
   "id": "857fb7cd-de4a-4d1f-964a-bc0a5f44f52d",
   "metadata": {},
   "source": [
    "`-` **랜덤 포레스트** : 대표적인 결정 트리 기반의 앙상블 학습 방법입니다. 부트스트랩 샘플을 사용하고 랜덤하게 일부 특성을 선택하여 트리를 만드는 것이 특징입니다."
   ]
  },
  {
   "cell_type": "markdown",
   "id": "15677619-207a-40f3-a2b4-c44a8f0dc255",
   "metadata": {},
   "source": [
    "`-` **엑스트라 트리** : 랜덤 포레스트와 비슷하게 결정 트리를 사용하여 앙상블 모델을 만들지만 부트스트랩 샘플을 사용하지 않습니다. 대신 랜덤하게 노드를 분할해 과대적합을 감소시킵니다."
   ]
  },
  {
   "cell_type": "markdown",
   "id": "f1ea04d7-0872-43cb-a4c5-6236de6a799f",
   "metadata": {},
   "source": [
    "`-` **그레이디언트 부스팅** : 랜덤 포레스트나 엑스트라 트리와 달리 결정 트리를 연속적으로 추가하여 손실 함수를 최소화하는 앙상블 방법입니다. 이런 이유로 훈련 속도가 조금 느리지만 더 좋은 성능을 기대할 수 있습니다. 그레이디언트 부스팅의 속도를 개선한 것이 히스토그램 기반 그레이디언트 부스팅이며 안정적인 결과와 높은 성능으로 매우 인기가 높습니다."
   ]
  },
  {
   "cell_type": "markdown",
   "id": "b8711038-35d5-48a9-a404-769cf6022a5a",
   "metadata": {},
   "source": [
    "`*` **핵심 패키지**\n",
    "\n",
    "`*` scikit-learn\n",
    "\n",
    "> `1` RandomForestClassifier : 랜덤 포레스트 분류 클래스입니다.\n",
    "\n",
    ">>`-`n_esrimators 매개변수는 앙상블을 구성할 트리의 개수를 지정합니다. 기본값은 100입니다.\n",
    "\n",
    ">>`-`criterion 매개변수는 불순도를 지정하며 기본값은 지니 불순도를 의미하는 'gini'이고 'entropy'를 선택하여 엔트로피 불순도를 사용할 수 있습니다.\n",
    "\n",
    ">>`-`max_depth는 트리가 성장할 최대 깊이를 지정합니다. 기본값은 None으로 지정하면 리프노드가 순수하거나 min_samples_split보다 샘플 개수가 적을 때까지 성장합니다.\n",
    "\n",
    ">>`-`min_samples_split은 노드를 나누기 위한 최소 샘플 개수입니다. 기본값은 2입니다.\n",
    "\n",
    ">>`-`max_features 매개변수는 최적의 분할을 위해 탐색할 특성의 개수를 지정합니다. 기본값은 auto로 특성 개수의 제곱근입니다.\n",
    "\n",
    ">>`-`bootstrap 매개변수는 부트스트랩 샘플을 사용할지 지정합니다. 기본값은 True입니다.\n",
    "\n",
    ">>`-`ooh_score는 OOB 샘플을 사용하여 훈련한 모델을 평가할지 지정합니다. 기본값은 False입니다.\n",
    "\n",
    ">>`-`n_jobs 매개변수는 병렬 실행에 사용할 CPU 코어 수를 지정합니다. 기본값은 1로 하나의 코어를 사용합니다. -1로 지정하면 시스템에 있는 모든 코어를 사용합니다.\n",
    "\n",
    "> `2` ExtraTreesClassifier : 엑스트라 트리 분류 클래스입니다.\n",
    "\n",
    ">>`-`n_estimators, criterion, max_depth, min_samples_split, max_features 매개변수는 랜덤 포레스트와 동일합니다.\n",
    "\n",
    ">>`-`bootstrap 매개변수는 부트스트랩 샘플을 사용할지 지정합니다. 기본값은 False입니다.\n",
    "\n",
    ">>`-`oob_score는 OOB 샘플을 사용하여 훈련한 모델을 평가할지 지정합니다. 기본값은 False입니다.\n",
    "\n",
    ">>`-`n_jobs 매개변수는 병렬 실행에 사용할 CPU 코어 수를 지정합니다. 기본값은 1로 하나의 코어를 사용합니다. -1로 지정하면 시스템에 있는 모든 코어를 사용합니다.\n",
    "\n",
    "> `3` GradientBoostingClassifier : 그레이디언트 부스팅 분류 클래스입니다.\n",
    "\n",
    ">>`-`loss 매개변수는 손실 함수를 지정합니다. 기본값은 로지스틱 손실 함수를 의미하는 deviance' 입니다.\n",
    "\n",
    ">>`-`learning_rate 매개변수는 트리가 앙상블에 기여하는 정도를 조절합니다. 기본값은 0.1입니다.\n",
    "\n",
    ">>`-`n_estinators 매개변수는 부스팅 단계를 수행하는 트리의 개수입니다. 기본값은 100입니다.\n",
    "\n",
    ">>`-`subsample 매개변수는 사용할 훈련 세트의 샘플 비율을 지정합니다. 기본값은 1.0입니다.\n",
    "\n",
    ">>`-`max_depth 매개변수는 개별 회귀 트리의 최대 깊이입니다. 기본값은 3입니다.\n",
    "\n",
    "> `4` HistGradientBoostingClassifier : 히스토그램 기반 그레이디언트 부스팅 분류 클래스입니다.\n",
    "\n",
    ">>`-`learning_rate 매개변수는 학습률 또는 감쇠율이라고 합니다. 기본값은 0.1이며 1.0이면 감쇠가 전혀 없습니다.\n",
    "\n",
    ">>`-`max_iter는 부스팅 단계를 수행하는 트리의 개수입니다. 기본값은 100입니다.\n",
    "\n",
    ">>`-`max_bins는 입력 데이터를 나눌 구간의 개수입니다. 기본값은 255이며 이보다 크게 지정할 수 없습니다. 여기에 1개의 구간이 누락된 값을 위해 추가됩니다."
   ]
  },
  {
   "cell_type": "code",
   "execution_count": null,
   "id": "f993cea3-a670-4a9d-a510-8604a9d1347e",
   "metadata": {},
   "outputs": [],
   "source": []
  },
  {
   "cell_type": "code",
   "execution_count": null,
   "id": "4a2f0380-6ce1-4ebd-b66d-2e94645199b2",
   "metadata": {},
   "outputs": [],
   "source": []
  },
  {
   "cell_type": "code",
   "execution_count": null,
   "id": "78b45fc5-a71b-4487-9ca4-a3d53df9fbfb",
   "metadata": {},
   "outputs": [],
   "source": []
  },
  {
   "cell_type": "code",
   "execution_count": null,
   "id": "2da6077d-33ed-4529-8662-31040f439a8a",
   "metadata": {},
   "outputs": [],
   "source": []
  },
  {
   "cell_type": "code",
   "execution_count": null,
   "id": "a2f8c4f4-6542-489f-82d3-8379a9ea3513",
   "metadata": {},
   "outputs": [],
   "source": []
  },
  {
   "cell_type": "code",
   "execution_count": null,
   "id": "947a7cef-6087-413e-aff5-b4fd0cf0de9b",
   "metadata": {},
   "outputs": [],
   "source": []
  },
  {
   "cell_type": "code",
   "execution_count": null,
   "id": "d987a0b2-ccdd-4d0b-a91e-eefe734b05ea",
   "metadata": {},
   "outputs": [],
   "source": []
  },
  {
   "cell_type": "code",
   "execution_count": null,
   "id": "383c35e1-07b7-46a2-a773-d53a3ac3cb5a",
   "metadata": {},
   "outputs": [],
   "source": []
  },
  {
   "cell_type": "code",
   "execution_count": null,
   "id": "aa4443fa-30ec-4a53-abea-e8f8bcb45868",
   "metadata": {},
   "outputs": [],
   "source": []
  },
  {
   "cell_type": "code",
   "execution_count": null,
   "id": "1d18e944-aa98-44d4-83e8-dc6ee31e0089",
   "metadata": {},
   "outputs": [],
   "source": []
  },
  {
   "cell_type": "code",
   "execution_count": null,
   "id": "a90cca09-f05e-4d94-9faa-bce150d5ac4b",
   "metadata": {},
   "outputs": [],
   "source": []
  },
  {
   "cell_type": "code",
   "execution_count": null,
   "id": "ccd10524-078f-4ad3-be28-4f2b5646a2a1",
   "metadata": {},
   "outputs": [],
   "source": []
  },
  {
   "cell_type": "code",
   "execution_count": null,
   "id": "58119fa5-7848-4029-9548-abc8b955b185",
   "metadata": {},
   "outputs": [],
   "source": []
  },
  {
   "cell_type": "code",
   "execution_count": null,
   "id": "01a3c066-443f-457b-b69f-752d4854772c",
   "metadata": {},
   "outputs": [],
   "source": []
  },
  {
   "cell_type": "code",
   "execution_count": null,
   "id": "cd64e24e-f9c1-46a8-af61-352a91147ccb",
   "metadata": {},
   "outputs": [],
   "source": []
  },
  {
   "cell_type": "code",
   "execution_count": null,
   "id": "b97eff98-f57e-41ae-be78-eb99da07e391",
   "metadata": {},
   "outputs": [],
   "source": []
  },
  {
   "cell_type": "code",
   "execution_count": null,
   "id": "90c4894e-a3b4-4031-967a-8d1dd318d27f",
   "metadata": {},
   "outputs": [],
   "source": []
  },
  {
   "cell_type": "code",
   "execution_count": null,
   "id": "ba6147e5-1c73-4bb2-a1d0-56c1b73f84b3",
   "metadata": {},
   "outputs": [],
   "source": []
  },
  {
   "cell_type": "code",
   "execution_count": null,
   "id": "a33ce1c0-7850-41ef-8ac9-1d34801bb48a",
   "metadata": {},
   "outputs": [],
   "source": []
  },
  {
   "cell_type": "code",
   "execution_count": null,
   "id": "f0fabf16-f9d7-4229-b4bc-014001a94517",
   "metadata": {},
   "outputs": [],
   "source": []
  },
  {
   "cell_type": "code",
   "execution_count": null,
   "id": "9d44d7d2-4708-4d27-bf85-d73ebbda5bc5",
   "metadata": {},
   "outputs": [],
   "source": []
  },
  {
   "cell_type": "code",
   "execution_count": null,
   "id": "e5591033-6869-4159-9ede-938fa6be9ef3",
   "metadata": {},
   "outputs": [],
   "source": []
  },
  {
   "cell_type": "code",
   "execution_count": null,
   "id": "b22ae23c-b8af-4b9d-9546-e02491c96fba",
   "metadata": {},
   "outputs": [],
   "source": []
  },
  {
   "cell_type": "code",
   "execution_count": null,
   "id": "b7700ba4-a777-4b23-b9ff-1d7fd88e7f4e",
   "metadata": {},
   "outputs": [],
   "source": []
  },
  {
   "cell_type": "code",
   "execution_count": null,
   "id": "000df273-a3ec-440a-b095-03255a1799b9",
   "metadata": {},
   "outputs": [],
   "source": []
  },
  {
   "cell_type": "code",
   "execution_count": null,
   "id": "4588c5a3-fc00-4637-a629-a16675243f51",
   "metadata": {},
   "outputs": [],
   "source": []
  },
  {
   "cell_type": "code",
   "execution_count": null,
   "id": "ea01fdfb-1efd-4bed-8893-9511458dff1e",
   "metadata": {},
   "outputs": [],
   "source": []
  },
  {
   "cell_type": "code",
   "execution_count": null,
   "id": "2187ed29-7e4a-4180-9cf1-8731777051be",
   "metadata": {},
   "outputs": [],
   "source": []
  },
  {
   "cell_type": "code",
   "execution_count": null,
   "id": "2aed15a8-14fb-452f-b60a-087ca383f93f",
   "metadata": {},
   "outputs": [],
   "source": []
  },
  {
   "cell_type": "code",
   "execution_count": null,
   "id": "bfcc7081-42f1-4d4e-8fca-7a8259b96aaa",
   "metadata": {},
   "outputs": [],
   "source": []
  },
  {
   "cell_type": "code",
   "execution_count": null,
   "id": "f645028d-22eb-40d2-a227-d2f3234936a0",
   "metadata": {},
   "outputs": [],
   "source": []
  },
  {
   "cell_type": "code",
   "execution_count": null,
   "id": "b1d811d7-c564-422f-94b9-bbdf40bb2b94",
   "metadata": {},
   "outputs": [],
   "source": []
  },
  {
   "cell_type": "code",
   "execution_count": null,
   "id": "3660da50-892c-41cb-b10f-1c4a14d76551",
   "metadata": {},
   "outputs": [],
   "source": []
  },
  {
   "cell_type": "code",
   "execution_count": null,
   "id": "3c5d5176-edcf-4f22-8f71-144495fde9b9",
   "metadata": {},
   "outputs": [],
   "source": []
  },
  {
   "cell_type": "code",
   "execution_count": null,
   "id": "7de31feb-807b-459e-8ac2-96c2e5b7d41e",
   "metadata": {},
   "outputs": [],
   "source": []
  },
  {
   "cell_type": "code",
   "execution_count": null,
   "id": "ae058cbe-5369-4b02-b0ce-4c593a55c076",
   "metadata": {},
   "outputs": [],
   "source": []
  },
  {
   "cell_type": "code",
   "execution_count": null,
   "id": "d3ad9986-1ee5-48b1-99e7-a681ccf427a5",
   "metadata": {},
   "outputs": [],
   "source": []
  },
  {
   "cell_type": "code",
   "execution_count": null,
   "id": "a2f667da-cd0d-4271-9889-38c82d83a7ac",
   "metadata": {},
   "outputs": [],
   "source": []
  },
  {
   "cell_type": "code",
   "execution_count": null,
   "id": "2624063b-10f4-4002-8508-6f6f65ab0504",
   "metadata": {},
   "outputs": [],
   "source": []
  },
  {
   "cell_type": "code",
   "execution_count": null,
   "id": "fde06755-247f-41a7-b62d-aab30dac5476",
   "metadata": {},
   "outputs": [],
   "source": []
  },
  {
   "cell_type": "code",
   "execution_count": null,
   "id": "3299a828-1bb6-45e1-81c2-9f48f82c131c",
   "metadata": {},
   "outputs": [],
   "source": []
  },
  {
   "cell_type": "code",
   "execution_count": null,
   "id": "59a6a7a6-c181-4fe1-bba6-a81fcb0690ec",
   "metadata": {},
   "outputs": [],
   "source": []
  },
  {
   "cell_type": "code",
   "execution_count": null,
   "id": "6267f7ad-5de2-4af2-a629-edc39587cd09",
   "metadata": {},
   "outputs": [],
   "source": []
  },
  {
   "cell_type": "code",
   "execution_count": null,
   "id": "d47b77b1-116d-4a68-8dd0-d03a0e7cb9a3",
   "metadata": {},
   "outputs": [],
   "source": []
  },
  {
   "cell_type": "code",
   "execution_count": null,
   "id": "f22cb10e-af4a-4e4b-b4ac-44b7ec0248aa",
   "metadata": {},
   "outputs": [],
   "source": []
  },
  {
   "cell_type": "code",
   "execution_count": null,
   "id": "d751037f-b56c-4034-9715-cc8d983f63f4",
   "metadata": {},
   "outputs": [],
   "source": []
  }
 ],
 "metadata": {
  "kernelspec": {
   "display_name": "Python 3",
   "language": "python",
   "name": "python3"
  },
  "language_info": {
   "codemirror_mode": {
    "name": "ipython",
    "version": 3
   },
   "file_extension": ".py",
   "mimetype": "text/x-python",
   "name": "python",
   "nbconvert_exporter": "python",
   "pygments_lexer": "ipython3",
   "version": "3.8.8"
  }
 },
 "nbformat": 4,
 "nbformat_minor": 5
}
