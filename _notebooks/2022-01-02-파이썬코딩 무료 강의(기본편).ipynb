{
 "cells": [
  {
   "cell_type": "markdown",
   "id": "d88e0a9e-8e72-4cc7-8c14-5803ffbd7ab5",
   "metadata": {},
   "source": [
    "# 파이썬코딩 무료 강의(기본편)\n",
    "> https://www.youtube.com/watch?v=kWiCuklohdY\n",
    "\n",
    "- toc:true\n",
    "- branch: master\n",
    "- badges: true\n",
    "- comments: true\n",
    "- author: 김동준\n",
    "- categories : [\"Python\", \"연습\"]"
   ]
  },
  {
   "cell_type": "markdown",
   "id": "4f408cc7-a12b-423f-a212-0c120d22929b",
   "metadata": {},
   "source": [
    "# 문자열"
   ]
  },
  {
   "cell_type": "code",
   "execution_count": 3,
   "id": "5d086ec8-bf59-419d-a6d7-76a011e37dbe",
   "metadata": {},
   "outputs": [
    {
     "name": "stdout",
     "output_type": "stream",
     "text": [
      "나는 소년입니다\n"
     ]
    }
   ],
   "source": [
    "sentence = '나는 소년입니다'\n",
    "print(sentence)"
   ]
  },
  {
   "cell_type": "code",
   "execution_count": 4,
   "id": "f511fd33-c567-4555-8c67-ff2e3b607083",
   "metadata": {},
   "outputs": [],
   "source": [
    "sentence2 = \"파이썬은 쉬워요\""
   ]
  },
  {
   "cell_type": "code",
   "execution_count": 5,
   "id": "81459c9e-7d4d-4281-b3b6-c2dc10a2d3bd",
   "metadata": {},
   "outputs": [
    {
     "name": "stdout",
     "output_type": "stream",
     "text": [
      "파이썬은 쉬워요\n"
     ]
    }
   ],
   "source": [
    "print(sentence2)"
   ]
  },
  {
   "cell_type": "code",
   "execution_count": 8,
   "id": "6540273b-1cc9-4c97-9ce7-33a17f09e1f4",
   "metadata": {},
   "outputs": [
    {
     "name": "stdout",
     "output_type": "stream",
     "text": [
      "\n",
      "나는 소년이고,\n",
      "파이썬은 쉬워요\n",
      "\n"
     ]
    }
   ],
   "source": [
    "sentence3 = \"\"\"\n",
    "나는 소년이고,\n",
    "파이썬은 쉬워요\n",
    "\"\"\"\n",
    "print(sentence3)    #4줄 출력"
   ]
  },
  {
   "cell_type": "markdown",
   "id": "b40289f6-797c-4623-82db-8d3f36d91982",
   "metadata": {},
   "source": [
    "# 슬라이싱"
   ]
  },
  {
   "cell_type": "code",
   "execution_count": 9,
   "id": "f83c58d2-357c-48d1-a093-8b86c609aae0",
   "metadata": {},
   "outputs": [],
   "source": [
    "jumin = \"990120-1234567\""
   ]
  },
  {
   "cell_type": "code",
   "execution_count": 10,
   "id": "b7637e94-a6fa-491d-a747-7eec537d72d1",
   "metadata": {},
   "outputs": [
    {
     "name": "stdout",
     "output_type": "stream",
     "text": [
      "성별 : 1\n"
     ]
    }
   ],
   "source": [
    "print(\"성별 : \" + jumin[7])"
   ]
  },
  {
   "cell_type": "code",
   "execution_count": 14,
   "id": "92ca7ac3-3e36-421f-b1b8-8c4151662a0f",
   "metadata": {},
   "outputs": [
    {
     "name": "stdout",
     "output_type": "stream",
     "text": [
      "출생년도 :99\n"
     ]
    }
   ],
   "source": [
    "print(\"출생년도 :\" + jumin[0:2]) #첫번째부터 두번째까지"
   ]
  },
  {
   "cell_type": "code",
   "execution_count": 15,
   "id": "4652cb7e-da6c-4e2a-8326-56a269f1dc54",
   "metadata": {},
   "outputs": [
    {
     "name": "stdout",
     "output_type": "stream",
     "text": [
      "월 :01\n"
     ]
    }
   ],
   "source": [
    "print(\"월 :\" + jumin[2:4])"
   ]
  },
  {
   "cell_type": "code",
   "execution_count": null,
   "id": "5cf35559-1233-4f80-987d-d6265a2a6e39",
   "metadata": {},
   "outputs": [],
   "source": [
    "print(\"생년월일 :\" + jumin[0:6])"
   ]
  }
 ],
 "metadata": {
  "kernelspec": {
   "display_name": "Python 3",
   "language": "python",
   "name": "python3"
  },
  "language_info": {
   "codemirror_mode": {
    "name": "ipython",
    "version": 3
   },
   "file_extension": ".py",
   "mimetype": "text/x-python",
   "name": "python",
   "nbconvert_exporter": "python",
   "pygments_lexer": "ipython3",
   "version": "3.8.8"
  }
 },
 "nbformat": 4,
 "nbformat_minor": 5
}
