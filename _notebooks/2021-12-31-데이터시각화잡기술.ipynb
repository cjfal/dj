{
 "cells": [
  {
   "cell_type": "markdown",
   "id": "3b6600cf-5922-4b9d-8551-77f65a99055d",
   "metadata": {},
   "source": [
    "# 데이터시각화\n",
    "> DV 잡기술 정리\n",
    "\n",
    "- toc:true\n",
    "- branch: master\n",
    "- badges: true\n",
    "- comments: true\n",
    "- author: 김동준\n",
    "- categories : [\"Python\", \"데이터시각화\"]"
   ]
  },
  {
   "cell_type": "markdown",
   "id": "f0a20ddd-2556-42fb-a95b-a42ba1297643",
   "metadata": {},
   "source": [
    "```python\n",
    "fig.add_axes() ## 액시즈를 fig에 추가하라. \n",
    "fig.axes ## 현재 fig에 있는 액시즈 정보\n",
    "```"
   ]
  },
  {
   "cell_type": "markdown",
   "id": "89c58c17-45f2-4597-b2cf-0fa65b6a43b6",
   "metadata": {},
   "source": [
    "# 주로쓰는 패키지들"
   ]
  },
  {
   "cell_type": "code",
   "execution_count": 18,
   "id": "16fa548d-04de-4dea-94c3-6ed89744c54f",
   "metadata": {},
   "outputs": [],
   "source": [
    "import numpy as np #넘파이\n",
    "import pandas as pd #판다스\n",
    "from plotnine import *  #플롯나인\n",
    "import matplotlib.pyplot as plt #맷플랏립\n",
    "import plotly.express as px #플랏리 상호작용 그래프\n",
    "from IPython.display import HTML #블로그에 html로 올리려고 변환하는 패키지\n",
    "import seaborn as sns # 씨본, 히스토그램 깔끔하게 그리는 패키지\n",
    "import cv2 as cv\n",
    "from scipy import stats"
   ]
  },
  {
   "cell_type": "markdown",
   "id": "f5dd0586-1b0b-4516-95d5-cf8eea426775",
   "metadata": {},
   "source": [
    "# 유용한 잡기술"
   ]
  },
  {
   "cell_type": "markdown",
   "id": "dcc843ea-3d4d-4a18-a354-ad744cc94d75",
   "metadata": {},
   "source": [
    "코드 맨위 \" #collapse \" : 복잡한 코드가 주피터에 올라갈 때 인풋을 숨길 수 있음 #숨기기"
   ]
  },
  {
   "cell_type": "markdown",
   "id": "7b50cec5-722d-4a37-9d31-ff8ca2041685",
   "metadata": {},
   "source": [
    "```python\n",
    "pd.concat([df1,df2]) : 데이터프레임 합치기\n",
    "```"
   ]
  },
  {
   "cell_type": "markdown",
   "id": "be024c93-9f1c-44e9-9885-c443fd9e51d4",
   "metadata": {},
   "source": [
    ">ignore_index=True -> 기존에 있던 인덱스를 무시해라\n",
    ">> ${0\\sim9} + {0\\sim9}$ (기존) -> 0~19 (무시)"
   ]
  },
  {
   "cell_type": "markdown",
   "id": "afd6d334-a805-462d-9194-b287aac4e459",
   "metadata": {},
   "source": [
    "코드 맨위 \" #hide \" : 인풋 아웃풋 둘다 숨기기"
   ]
  },
  {
   "cell_type": "markdown",
   "id": "ddefc844-bb64-4baa-8ed1-0d9efb11326c",
   "metadata": {},
   "source": [
    "```python\n",
    "pd.DataFrame({'열이름지정1':y1(리스트나 함수),'열이름지정2':['A']*len(y1)(리스트나 함수)})\n",
    "```\n",
    "> $\\to$ 데이터 프레임 생성"
   ]
  },
  {
   "cell_type": "markdown",
   "id": "c21519e6-3e4c-43d3-b282-889724ccc12b",
   "metadata": {},
   "source": [
    "```python\n",
    "HTML(저장한플랏이름.to_html(include_plotlyjs='cdn',include_mathjax=False))\n",
    "```\n",
    "> 생성된 플랏을 html로 바꾸어 블로그에서 읽을 수 있게 함, 패키지 필요, IPython.display의 HTML"
   ]
  },
  {
   "cell_type": "markdown",
   "id": "e89ee055-3235-45a7-931d-4003c0e0988e",
   "metadata": {},
   "source": [
    "```python\n",
    "숫자형.round(n) #소수 n째자리에서 반올림\n",
    "```"
   ]
  },
  {
   "cell_type": "markdown",
   "id": "0fdf415e-4311-49b2-b2da-6e2f756c771f",
   "metadata": {},
   "source": [
    "```python\n",
    "np.random.seed(아무숫자) : 값이 안변하도록 시드설정\n",
    "```"
   ]
  },
  {
   "cell_type": "markdown",
   "id": "e8e9c5fb-b7f4-481d-b86e-9bb0ae7c51fb",
   "metadata": {},
   "source": [
    "이미지 불러오기\n",
    "```python\n",
    "img = cv.imread('사진이름.확장자',흑백원하면 0(안쓰면 컬러) ) :wd에 있어야함\n",
    "```"
   ]
  },
  {
   "cell_type": "markdown",
   "id": "9f00430e-eb75-47f7-8a15-5a905da9137b",
   "metadata": {},
   "source": [
    "```python\n",
    "np.corrcoef([x,y])  상관계수 구하기\n",
    "```"
   ]
  },
  {
   "cell_type": "code",
   "execution_count": 23,
   "id": "fa913d3b-8202-418a-ab14-93a97f146d78",
   "metadata": {},
   "outputs": [
    {
     "data": {
      "text/plain": [
       "array([-2. , -1.5, -1. , -0.5,  0. ,  0.5,  1. ,  1.5,  2. ])"
      ]
     },
     "execution_count": 23,
     "metadata": {},
     "output_type": "execute_result"
    }
   ],
   "source": [
    "k=np.linspace(-2,2,9)   #-2 부터 2까지 9개의 등분\n",
    "k"
   ]
  },
  {
   "cell_type": "markdown",
   "id": "99cf23f0-d2f7-4ced-969d-a70e89e0456c",
   "metadata": {},
   "source": [
    "```Python\n",
    "range(n)  #n 까지의 자연수 출력\n",
    "```\n"
   ]
  },
  {
   "cell_type": "markdown",
   "id": "9ea6a76f-f529-4b74-b602-8a43025b1816",
   "metadata": {},
   "source": [
    "# 웹사이트에 공개된 csv 불러오기"
   ]
  },
  {
   "cell_type": "markdown",
   "id": "5d5a4955-f484-4234-ab89-e444bb6d6ef2",
   "metadata": {},
   "source": [
    "```Python\n",
    "pd.read_csv('웹주소.csv')\n",
    "```"
   ]
  },
  {
   "cell_type": "markdown",
   "id": "a9ad1fac-3d6d-43a0-adf9-730b6234c7ce",
   "metadata": {},
   "source": [
    "`-` 깃허브 저장소에 아예 데이터만 따로 모아서 관리하는 것도 좋은 방법입니다. "
   ]
  },
  {
   "cell_type": "markdown",
   "id": "6257821f-7600-42f9-bf0c-0d203115f894",
   "metadata": {},
   "source": [
    "____________"
   ]
  },
  {
   "cell_type": "markdown",
   "id": "a161a332-1c79-489e-bd6f-0b3d44c3c235",
   "metadata": {},
   "source": [
    "### 여러그림을 그리기 "
   ]
  },
  {
   "cell_type": "markdown",
   "id": "3d02f724-ee1e-4d37-9300-dacbfb280a91",
   "metadata": {
    "tags": []
   },
   "source": [
    "### 라인플랏을 그리는 방법 "
   ]
  },
  {
   "cell_type": "code",
   "execution_count": 5,
   "id": "cf264abe-72f8-412c-8344-da193b5f8c5c",
   "metadata": {},
   "outputs": [
    {
     "data": {
      "text/plain": [
       "[<matplotlib.lines.Line2D at 0x7f7a165e8130>]"
      ]
     },
     "execution_count": 5,
     "metadata": {},
     "output_type": "execute_result"
    },
    {
     "data": {
      "image/png": "[encoded data removed]",
      "text/plain": [
       "<Figure size 432x288 with 1 Axes>"
      ]
     },
     "metadata": {
      "needs_background": "light"
     },
     "output_type": "display_data"
    }
   ],
   "source": [
    "import matplotlib.pyplot as plt \n",
    "x=[1,2,3,4]\n",
    "y=[1,2,4,3]\n",
    "plt.plot(x,y)"
   ]
  },
  {
   "cell_type": "markdown",
   "id": "2e34fc8b-3323-48bc-89ac-94227e91ead7",
   "metadata": {},
   "source": [
    "### 산점도 그리기 (옵션만 바꾼것)"
   ]
  },
  {
   "cell_type": "code",
   "execution_count": 1,
   "id": "804adea6-cef3-4445-8b61-1c1642a831f6",
   "metadata": {},
   "outputs": [
    {
     "data": {
      "text/plain": [
       "[<matplotlib.lines.Line2D at 0x7fe22e3e5d90>]"
      ]
     },
     "execution_count": 1,
     "metadata": {},
     "output_type": "execute_result"
    },
    {
     "data": {
      "image/png": "[encoded data removed]",
      "text/plain": [
       "<Figure size 432x288 with 1 Axes>"
      ]
     },
     "metadata": {
      "needs_background": "light"
     },
     "output_type": "display_data"
    }
   ],
   "source": [
    "import matplotlib.pyplot as plt \n",
    "x=[1,2,3,4]\n",
    "y=[1,2,4,3]\n",
    "plt.plot(x,y,'o')"
   ]
  },
  {
   "cell_type": "markdown",
   "id": "e93c05f9-68fa-479e-b542-ce7fa31a6926",
   "metadata": {},
   "source": [
    "#### (1) 겹쳐그리기 "
   ]
  },
  {
   "cell_type": "code",
   "execution_count": 96,
   "id": "f86743cf-3092-4f74-9dcd-694e44cca513",
   "metadata": {},
   "outputs": [
    {
     "data": {
      "text/plain": [
       "[<matplotlib.lines.Line2D at 0x7f7a1439fa60>]"
      ]
     },
     "execution_count": 96,
     "metadata": {},
     "output_type": "execute_result"
    },
    {
     "data": {
      "image/png": "[encoded data removed]",
      "text/plain": [
       "<Figure size 432x288 with 1 Axes>"
      ]
     },
     "metadata": {
      "needs_background": "light"
     },
     "output_type": "display_data"
    }
   ],
   "source": [
    "#ex)\n",
    "x=[1,2,3,4]\n",
    "y=[1,2,4,3]\n",
    "x=np.arange(-5,5,0.1)\n",
    "y=2*x+np.random.normal(loc=0,scale=1,size=100)\n",
    "plt.plot(x,y,'.b')\n",
    "plt.plot(x,2*x,'--r')"
   ]
  },
  {
   "cell_type": "markdown",
   "id": "c99e7bae-f624-4965-81e5-ddc9d1d95e13",
   "metadata": {},
   "source": [
    "#### (2) 따로그리기 - subplots"
   ]
  },
  {
   "cell_type": "code",
   "execution_count": 3,
   "id": "b6335a97-d141-4ce3-a22b-98eb32c0924b",
   "metadata": {},
   "outputs": [
    {
     "data": {
      "text/plain": [
       "[<matplotlib.lines.Line2D at 0x7fe22d944df0>]"
      ]
     },
     "execution_count": 3,
     "metadata": {},
     "output_type": "execute_result"
    },
    {
     "data": {
      "image/png": "[encoded data removed]",
      "text/plain": [
       "<Figure size 432x288 with 4 Axes>"
      ]
     },
     "metadata": {
      "needs_background": "light"
     },
     "output_type": "display_data"
    }
   ],
   "source": [
    "x=[1,2,3,4]\n",
    "y=[1,2,4,3]\n",
    "_, axs = plt.subplots(2,2)  # 2x2의 서브플랏을 만들겠다. 따로그리기의 기본\n",
    "# 리턴값이 (fig,axs) 임 그래서 fig자리는 어느것이든 상관이 없어서 아무것도 안쓰려고 _ 를 쓴것\n",
    "axs[0,0].plot(x,y,'o:r') \n",
    "axs[0,1].plot(x,y,'Xb') \n",
    "axs[1,0].plot(x,y,'xm') \n",
    "axs[1,1].plot(x,y,'.--k') "
   ]
  },
  {
   "cell_type": "markdown",
   "id": "51ac1e15-660d-4a67-a75b-bbba8126ee3b",
   "metadata": {},
   "source": [
    "____"
   ]
  },
  {
   "cell_type": "markdown",
   "id": "7e01ff64-a8dc-4eaf-9568-6be7132b90ed",
   "metadata": {},
   "source": [
    "# lambda"
   ]
  },
  {
   "cell_type": "markdown",
   "id": "cf7b8b45-28a5-4803-af3a-42dad3e64e60",
   "metadata": {},
   "source": [
    "### lambda 사용법"
   ]
  },
  {
   "cell_type": "code",
   "execution_count": 32,
   "id": "eff2aad7-dfad-406d-8974-58994e025cec",
   "metadata": {},
   "outputs": [],
   "source": [
    "f = lambda x,y,z : x+y+z ## lambda 입력:출력   #이자체가 오브젝트로 취급된다."
   ]
  },
  {
   "cell_type": "code",
   "execution_count": 33,
   "id": "803583bc-203e-4b81-8046-75a5f9f9e4ab",
   "metadata": {},
   "outputs": [
    {
     "data": {
      "text/plain": [
       "9"
      ]
     },
     "execution_count": 33,
     "metadata": {},
     "output_type": "execute_result"
    }
   ],
   "source": [
    "f(2,3,4)"
   ]
  },
  {
   "cell_type": "markdown",
   "id": "1f3a394d-cf57-410e-ad0a-354c9d89c65d",
   "metadata": {},
   "source": [
    "### lambda 디폴트입력값"
   ]
  },
  {
   "cell_type": "code",
   "execution_count": 34,
   "id": "1c93209e-b625-4583-8924-0c4acd9a5ce1",
   "metadata": {},
   "outputs": [],
   "source": [
    "x= (lambda a='fee',b='fie',c='foe': a+b+c) "
   ]
  },
  {
   "cell_type": "code",
   "execution_count": 35,
   "id": "f87900de-c6bc-4a99-a3b8-a0925ca45092",
   "metadata": {},
   "outputs": [
    {
     "data": {
      "text/plain": [
       "'weefiefoe'"
      ]
     },
     "execution_count": 35,
     "metadata": {},
     "output_type": "execute_result"
    }
   ],
   "source": [
    "x('wee')"
   ]
  },
  {
   "cell_type": "markdown",
   "id": "e29b3449-755c-483e-85e5-9c2c9a346520",
   "metadata": {},
   "source": [
    "### lambda의 리스트화"
   ]
  },
  {
   "cell_type": "code",
   "execution_count": 36,
   "id": "d045e688-e32d-4c6b-bac5-3144739e5a5c",
   "metadata": {},
   "outputs": [],
   "source": [
    "l = [lambda x: x**2, lambda x: x**3, lambda x: x**4]  #리스트안에 람다 3개"
   ]
  },
  {
   "cell_type": "code",
   "execution_count": 37,
   "id": "2275fdbc-1293-4895-98ca-c18773b8388e",
   "metadata": {},
   "outputs": [
    {
     "name": "stdout",
     "output_type": "stream",
     "text": [
      "4\n",
      "8\n",
      "16\n"
     ]
    }
   ],
   "source": [
    "for f in l:\n",
    "    print(f(2))"
   ]
  },
  {
   "cell_type": "markdown",
   "id": "6cc0f927-a508-4d69-9e44-85e3073e11f6",
   "metadata": {},
   "source": [
    "### lambda의 딕셔너리화"
   ]
  },
  {
   "cell_type": "code",
   "execution_count": 38,
   "id": "76c84102-3b0d-47b6-80c2-3012ba19c3b8",
   "metadata": {},
   "outputs": [],
   "source": [
    "dct={'f1': (lambda x: x+1), 'f2': (lambda x: x+22), 'f3': (lambda x: x+333)} "
   ]
  },
  {
   "cell_type": "code",
   "execution_count": 39,
   "id": "cf5df5ba-c91f-4be6-8895-0279a4d16adf",
   "metadata": {},
   "outputs": [
    {
     "data": {
      "text/plain": [
       "(2, 23, 334)"
      ]
     },
     "execution_count": 39,
     "metadata": {},
     "output_type": "execute_result"
    }
   ],
   "source": [
    "dct['f1'](1), dct['f2'](1), dct['f3'](1)"
   ]
  },
  {
   "cell_type": "markdown",
   "id": "04a935aa-84a2-4b59-9fbe-fc260b373b59",
   "metadata": {},
   "source": [
    "### lambda의 조건부 출력"
   ]
  },
  {
   "cell_type": "code",
   "execution_count": 55,
   "id": "5966a757-583d-404c-85f0-00e46efa4756",
   "metadata": {},
   "outputs": [],
   "source": [
    "lower = lambda x,y : x if x<y else y"
   ]
  },
  {
   "cell_type": "code",
   "execution_count": 56,
   "id": "6780a588-a823-4dfe-8461-04081ef8c039",
   "metadata": {},
   "outputs": [
    {
     "data": {
      "text/plain": [
       "'a'"
      ]
     },
     "execution_count": 56,
     "metadata": {},
     "output_type": "execute_result"
    }
   ],
   "source": [
    "lower('a','b') "
   ]
  },
  {
   "cell_type": "code",
   "execution_count": 57,
   "id": "705207ac-940c-4137-b3dd-cf5f85108715",
   "metadata": {},
   "outputs": [
    {
     "data": {
      "text/plain": [
       "'b'"
      ]
     },
     "execution_count": 57,
     "metadata": {},
     "output_type": "execute_result"
    }
   ],
   "source": [
    "lower('c','b') "
   ]
  },
  {
   "cell_type": "markdown",
   "id": "7c07ff7f-0fc0-428e-a964-6fbe76a03150",
   "metadata": {},
   "source": [
    "### lambda expression 을 return 입력가능 "
   ]
  },
  {
   "cell_type": "code",
   "execution_count": 58,
   "id": "3cf227b2-ca6e-4762-82c3-ad5e71920ffc",
   "metadata": {},
   "outputs": [],
   "source": [
    "def action(x):\n",
    "    return (lambda y: x+y) #리턴을 람다로"
   ]
  },
  {
   "cell_type": "code",
   "execution_count": 59,
   "id": "ef3b7772-4003-43aa-9834-90bf6f5c8b20",
   "metadata": {},
   "outputs": [],
   "source": [
    "act = action(99) ## act를 99+y를 수행하는 함수로 저장\n",
    "act2 = action(98) ## act2를 98+y를 수행하는 함수로 저장"
   ]
  },
  {
   "cell_type": "markdown",
   "id": "d0f53d02-cdbd-4ea5-b259-d0d9eb46374e",
   "metadata": {},
   "source": [
    "- action은 마치 함수를 만드는 함수같다.. "
   ]
  },
  {
   "cell_type": "code",
   "execution_count": 60,
   "id": "f9d53b65-8728-4576-b426-ea31afac3506",
   "metadata": {},
   "outputs": [
    {
     "name": "stdout",
     "output_type": "stream",
     "text": [
      "101\n",
      "100\n"
     ]
    }
   ],
   "source": [
    "print(act(2))  # act안에 y에 2를 넣겠다. 99+2\n",
    "print(act2(2)) # act2안에 y에 2를 넣겠다. 98+2"
   ]
  },
  {
   "cell_type": "markdown",
   "id": "3bf9798a-ad50-485c-84cb-bcf26bc30a6f",
   "metadata": {},
   "source": [
    "### 예제6의 발전 "
   ]
  },
  {
   "cell_type": "code",
   "execution_count": 61,
   "id": "8a4cac7a-1f46-4518-9ced-d1e6c4ff38b5",
   "metadata": {},
   "outputs": [],
   "source": [
    "action = lambda x:  (lambda y: x+y)  # 람다 출력에 또 람다"
   ]
  },
  {
   "cell_type": "code",
   "execution_count": 62,
   "id": "e677f866-8cd4-4aac-897e-a034cf4da937",
   "metadata": {},
   "outputs": [],
   "source": [
    "act= action(99) #x에 99를 넣은 함수 act 선언 \n",
    "act2=action(98) #x에 98를 넣은 함수 act2 선언"
   ]
  },
  {
   "cell_type": "code",
   "execution_count": 63,
   "id": "bb44c23e-bcef-471f-ba2c-513761f2d79a",
   "metadata": {},
   "outputs": [
    {
     "name": "stdout",
     "output_type": "stream",
     "text": [
      "101\n",
      "100\n"
     ]
    }
   ],
   "source": [
    "print(act(2))\n",
    "print(act2(2))"
   ]
  },
  {
   "cell_type": "markdown",
   "id": "6d7a92b0-0d4b-4db5-bfa9-c7371ed5d06b",
   "metadata": {},
   "source": [
    "괄호를 생략하여 선언하면 "
   ]
  },
  {
   "cell_type": "code",
   "execution_count": 64,
   "id": "7b4c2616-44b6-4c50-82dc-c3132e00ef2b",
   "metadata": {},
   "outputs": [
    {
     "name": "stdout",
     "output_type": "stream",
     "text": [
      "101\n",
      "100\n"
     ]
    }
   ],
   "source": [
    "action = lambda x: lambda y: x+y \n",
    "act= action(99)\n",
    "act2=action(98) \n",
    "print(act(2))\n",
    "print(act2(2))   # 똑같다."
   ]
  },
  {
   "cell_type": "markdown",
   "id": "b0fe1f76-2f20-4e6b-abed-936eb7ec6458",
   "metadata": {},
   "source": [
    "_____"
   ]
  },
  {
   "cell_type": "markdown",
   "id": "a6091369-70cb-4814-b874-f784d6a70480",
   "metadata": {},
   "source": [
    "# map "
   ]
  },
  {
   "cell_type": "code",
   "execution_count": 65,
   "id": "6a373fb3-05f3-4866-8d50-7c09ecf8a402",
   "metadata": {},
   "outputs": [
    {
     "data": {
      "text/plain": [
       "\u001b[0;31mInit signature:\u001b[0m \u001b[0mmap\u001b[0m\u001b[0;34m(\u001b[0m\u001b[0mself\u001b[0m\u001b[0;34m,\u001b[0m \u001b[0;34m/\u001b[0m\u001b[0;34m,\u001b[0m \u001b[0;34m*\u001b[0m\u001b[0margs\u001b[0m\u001b[0;34m,\u001b[0m \u001b[0;34m**\u001b[0m\u001b[0mkwargs\u001b[0m\u001b[0;34m)\u001b[0m\u001b[0;34m\u001b[0m\u001b[0;34m\u001b[0m\u001b[0m\n",
       "\u001b[0;31mDocstring:\u001b[0m     \n",
       "map(func, *iterables) --> map object\n",
       "\n",
       "Make an iterator that computes the function using arguments from\n",
       "each of the iterables.  Stops when the shortest iterable is exhausted.\n",
       "\u001b[0;31mType:\u001b[0m           type\n",
       "\u001b[0;31mSubclasses:\u001b[0m     \n"
      ]
     },
     "metadata": {},
     "output_type": "display_data"
    }
   ],
   "source": [
    "map?\n",
    "#map(func, *iterables) --> map 개체\n",
    "\n",
    "#다음 인수를 사용하여 함수를 계산하는 반복자를 만듭니다.\n",
    "#각 반복 사항  최단 시간이 소진되면 중지됩니다."
   ]
  },
  {
   "cell_type": "markdown",
   "id": "598eae21-df72-4282-932f-6b1b524f5724",
   "metadata": {},
   "source": [
    "### map 사용방법 "
   ]
  },
  {
   "cell_type": "code",
   "execution_count": 66,
   "id": "6516670c-681d-4203-8cd4-0c590e48bd1f",
   "metadata": {},
   "outputs": [],
   "source": [
    "def inc(x): return x+1 #임시로 쓸건데 공간도 차지하고 좀 그럼 $\\to$ 람다로 처리"
   ]
  },
  {
   "cell_type": "code",
   "execution_count": 67,
   "id": "f1f19f7f-3356-4ce2-9342-7c2649aff987",
   "metadata": {},
   "outputs": [
    {
     "data": {
      "text/plain": [
       "[2, 3, 4, 5]"
      ]
     },
     "execution_count": 67,
     "metadata": {},
     "output_type": "execute_result"
    }
   ],
   "source": [
    "list(map(inc,[1,2,3,4]))"
   ]
  },
  {
   "cell_type": "markdown",
   "id": "6ebb3afd-a35f-4eb7-aab2-a8810592a843",
   "metadata": {},
   "source": [
    "### 예제1의 변형(람다사용) "
   ]
  },
  {
   "cell_type": "code",
   "execution_count": 68,
   "id": "f6d1b0d3-4fa5-490c-9207-00aac06a73c8",
   "metadata": {},
   "outputs": [
    {
     "data": {
      "text/plain": [
       "[2, 3, 4, 5]"
      ]
     },
     "execution_count": 68,
     "metadata": {},
     "output_type": "execute_result"
    }
   ],
   "source": [
    "list(map(lambda x: x+1,[1,2,3,4]))"
   ]
  },
  {
   "cell_type": "code",
   "execution_count": 69,
   "id": "3b490b10-a145-40cf-8e3b-150cd1eb7dc7",
   "metadata": {},
   "outputs": [
    {
     "ename": "SyntaxError",
     "evalue": "invalid syntax (<ipython-input-69-e70d258d54b1>, line 1)",
     "output_type": "error",
     "traceback": [
      "\u001b[0;36m  File \u001b[0;32m\"<ipython-input-69-e70d258d54b1>\"\u001b[0;36m, line \u001b[0;32m1\u001b[0m\n\u001b[0;31m    list(map(def inc(x): return x+1,[1,2,3,4]))  #안됨\u001b[0m\n\u001b[0m             ^\u001b[0m\n\u001b[0;31mSyntaxError\u001b[0m\u001b[0;31m:\u001b[0m invalid syntax\n"
     ]
    }
   ],
   "source": [
    "list(map(def inc(x): return x+1,[1,2,3,4]))  #안됨"
   ]
  },
  {
   "cell_type": "markdown",
   "id": "1f9afd9c-037e-40a7-a6e2-f700499795da",
   "metadata": {},
   "source": [
    "- 함수명을 쓰는 자리에 lambda로 표현한 오브젝트 자체를 전달할 수 있다. $\\to$ 코드가 간단하다. "
   ]
  },
  {
   "cell_type": "markdown",
   "id": "487b94d8-1bd3-4180-a731-7e852209d964",
   "metadata": {},
   "source": [
    "### map과 리스트컴프리헨션 비교 "
   ]
  },
  {
   "cell_type": "markdown",
   "id": "491fb1d5-2022-41b3-806d-8fbdb706024e",
   "metadata": {},
   "source": [
    "(함수선언) "
   ]
  },
  {
   "cell_type": "code",
   "execution_count": 70,
   "id": "176c2dee-e6ce-43e3-afd7-25cedcc96bee",
   "metadata": {},
   "outputs": [],
   "source": [
    "f = lambda x: 'X' in x "
   ]
  },
  {
   "cell_type": "code",
   "execution_count": 71,
   "id": "644ab655-889a-4c1e-be73-712b5d00a11d",
   "metadata": {},
   "outputs": [
    {
     "data": {
      "text/plain": [
       "(True, True, False, False)"
      ]
     },
     "execution_count": 71,
     "metadata": {},
     "output_type": "execute_result"
    }
   ],
   "source": [
    "f('X1'),f('X2'),f('Y1'),f('Y2')"
   ]
  },
  {
   "cell_type": "markdown",
   "id": "af55d6ca-4e03-45d1-9e3f-ad2e148962ad",
   "metadata": {},
   "source": [
    "(map) "
   ]
  },
  {
   "cell_type": "code",
   "execution_count": 72,
   "id": "9450f9b2-1489-4731-833a-e78a0256fec2",
   "metadata": {},
   "outputs": [
    {
     "data": {
      "text/plain": [
       "[True, True, False, False]"
      ]
     },
     "execution_count": 72,
     "metadata": {},
     "output_type": "execute_result"
    }
   ],
   "source": [
    "list(map(f,['X1','X2','Y3','Y4']))"
   ]
  },
  {
   "cell_type": "markdown",
   "id": "5de79ebe-0a9b-4697-a9b3-3a35d94a2113",
   "metadata": {},
   "source": [
    "(리스트컴프리헨션과 비교) "
   ]
  },
  {
   "cell_type": "code",
   "execution_count": 73,
   "id": "877c2191-39a9-4fd3-8e6e-bf78a8dd1bda",
   "metadata": {},
   "outputs": [
    {
     "data": {
      "text/plain": [
       "[True, True, False, False]"
      ]
     },
     "execution_count": 73,
     "metadata": {},
     "output_type": "execute_result"
    }
   ],
   "source": [
    "[f(x) for x in ['X1','X2','Y3','Y4']]"
   ]
  },
  {
   "cell_type": "markdown",
   "id": "52d9ea3b-69cc-40cd-be1b-c7a9b7b51e70",
   "metadata": {},
   "source": [
    "### 두개의 입력을 받는 함수(pow) map, 리스트컴프리헨션 비교 "
   ]
  },
  {
   "cell_type": "markdown",
   "id": "557ac6b3-cb96-4dbe-a448-84ba5b02a9ce",
   "metadata": {},
   "source": [
    "(함수소개)"
   ]
  },
  {
   "cell_type": "code",
   "execution_count": 74,
   "id": "185dcf4a-c6d6-4f54-8373-ae8f178111e5",
   "metadata": {},
   "outputs": [
    {
     "data": {
      "text/plain": [
       "16"
      ]
     },
     "execution_count": 74,
     "metadata": {},
     "output_type": "execute_result"
    }
   ],
   "source": [
    "pow(2,4) #2를 4제곱"
   ]
  },
  {
   "cell_type": "markdown",
   "id": "adf35575-b8d3-45c7-84a5-62a32c663aec",
   "metadata": {},
   "source": [
    "(map)"
   ]
  },
  {
   "cell_type": "code",
   "execution_count": 75,
   "id": "7044cec2-7d39-41f7-abad-4e40a82b9c9e",
   "metadata": {},
   "outputs": [
    {
     "data": {
      "text/plain": [
       "[1, 2, 4, 1, 3, 9]"
      ]
     },
     "execution_count": 75,
     "metadata": {},
     "output_type": "execute_result"
    }
   ],
   "source": [
    "list(map(pow,[2,2,2,3,3,3],[0,1,2,0,1,2]))"
   ]
  },
  {
   "cell_type": "markdown",
   "id": "4946f6a6-b1e8-449b-83a3-f72d1a4d3945",
   "metadata": {},
   "source": [
    "(리스트컴프리헨션과 비교)"
   ]
  },
  {
   "cell_type": "code",
   "execution_count": 76,
   "id": "8cf8e8d4-280e-41cb-b8a3-f9456a7b283f",
   "metadata": {},
   "outputs": [
    {
     "data": {
      "text/plain": [
       "[1, 2, 4, 1, 3, 9]"
      ]
     },
     "execution_count": 76,
     "metadata": {},
     "output_type": "execute_result"
    }
   ],
   "source": [
    "[pow(x,y) for x,y in zip([2,2,2,3,3,3],[0,1,2,0,1,2])]\n",
    "#zip이라는 새로운 오브젝트 생성"
   ]
  },
  {
   "cell_type": "markdown",
   "id": "3baaf227-4263-44a6-90b8-52e8a99ae981",
   "metadata": {},
   "source": [
    "> map은 (하나의 함수,다양한 입력)인 경우 사용가능 "
   ]
  },
  {
   "cell_type": "code",
   "execution_count": 77,
   "id": "2b948d2a-10eb-4b9a-9aea-5064d7cdf9af",
   "metadata": {},
   "outputs": [],
   "source": [
    "l=[lambda x: x+1, lambda x: x+2, lambda x: x+3 ] "
   ]
  },
  {
   "cell_type": "code",
   "execution_count": 78,
   "id": "9cd4ba29-2380-4a6d-9bbe-466a29683dbb",
   "metadata": {},
   "outputs": [
    {
     "ename": "TypeError",
     "evalue": "'list' object is not callable",
     "output_type": "error",
     "traceback": [
      "\u001b[0;31m---------------------------------------------------------------------------\u001b[0m",
      "\u001b[0;31mTypeError\u001b[0m                                 Traceback (most recent call last)",
      "\u001b[0;32m<ipython-input-78-dcc049c06067>\u001b[0m in \u001b[0;36m<module>\u001b[0;34m\u001b[0m\n\u001b[0;32m----> 1\u001b[0;31m \u001b[0mlist\u001b[0m\u001b[0;34m(\u001b[0m\u001b[0mmap\u001b[0m\u001b[0;34m(\u001b[0m\u001b[0ml\u001b[0m\u001b[0;34m,\u001b[0m\u001b[0;34m[\u001b[0m\u001b[0;36m100\u001b[0m\u001b[0;34m,\u001b[0m\u001b[0;36m200\u001b[0m\u001b[0;34m,\u001b[0m\u001b[0;36m300\u001b[0m\u001b[0;34m]\u001b[0m\u001b[0;34m)\u001b[0m\u001b[0;34m)\u001b[0m\u001b[0;34m\u001b[0m\u001b[0;34m\u001b[0m\u001b[0m\n\u001b[0m",
      "\u001b[0;31mTypeError\u001b[0m: 'list' object is not callable"
     ]
    }
   ],
   "source": [
    "list(map(l,[100,200,300]))"
   ]
  },
  {
   "cell_type": "markdown",
   "id": "9fb16922-7af5-4cb2-882e-b1e77ce2c0ee",
   "metadata": {},
   "source": [
    "리스트컴프리헨션은 (다양한함수,다양한입력)이 가능함 "
   ]
  },
  {
   "cell_type": "code",
   "execution_count": 79,
   "id": "5e2f584f-c7d1-4c6b-b4b2-c851fb76e4b9",
   "metadata": {},
   "outputs": [
    {
     "data": {
      "text/plain": [
       "[101, 202, 303]"
      ]
     },
     "execution_count": 79,
     "metadata": {},
     "output_type": "execute_result"
    }
   ],
   "source": [
    "[l[i](x) for i,x in zip([0,1,2],[100,200,300])]"
   ]
  },
  {
   "cell_type": "markdown",
   "id": "d9eac475-3f40-4bba-a16f-3205c985fbe5",
   "metadata": {},
   "source": [
    "리스트컴프리헨션은 (다양한함수,다양한입력)이 가능함 "
   ]
  },
  {
   "cell_type": "code",
   "execution_count": 80,
   "id": "8d7fdcf5-f73c-4533-a3f5-728c53751635",
   "metadata": {},
   "outputs": [
    {
     "data": {
      "text/plain": [
       "[101, 202, 303]"
      ]
     },
     "execution_count": 80,
     "metadata": {},
     "output_type": "execute_result"
    }
   ],
   "source": [
    "[l[i](x) for i,x in zip([0,1,2],[100,200,300])]"
   ]
  },
  {
   "cell_type": "markdown",
   "id": "8ceebd62-7528-4fc5-ae2f-3ac5627d3280",
   "metadata": {},
   "source": [
    "> 종합: map을 리스트컴프리헨션과 비교\n",
    "\n",
    ">>(1) 반복인덱스를 쓰지 않는 장점\n",
    "\n",
    ">>(2) 좀 더 제약적으로 사용할 수 밖에 없다는 단점"
   ]
  },
  {
   "cell_type": "markdown",
   "id": "816e926b-3486-48fc-ab6f-c59de114f785",
   "metadata": {},
   "source": [
    "### 액시즈를 이용하여 2$\\times$2 서브플랏 그리기 "
   ]
  },
  {
   "cell_type": "code",
   "execution_count": 96,
   "id": "464c8985-7d78-4d97-9857-9fd1339eb81b",
   "metadata": {},
   "outputs": [
    {
     "data": {
      "text/plain": [
       "[]"
      ]
     },
     "execution_count": 96,
     "metadata": {},
     "output_type": "execute_result"
    },
    {
     "data": {
      "text/plain": [
       "<Figure size 432x288 with 0 Axes>"
      ]
     },
     "metadata": {},
     "output_type": "display_data"
    }
   ],
   "source": [
    "fig = plt.figure()\n",
    "fig.axes"
   ]
  },
  {
   "cell_type": "code",
   "execution_count": 97,
   "id": "f9fc34b7-0165-43d0-a97c-f73f8bc20845",
   "metadata": {},
   "outputs": [
    {
     "data": {
      "text/plain": [
       "[<AxesSubplot:>, <AxesSubplot:>, <AxesSubplot:>, <AxesSubplot:>]"
      ]
     },
     "execution_count": 97,
     "metadata": {},
     "output_type": "execute_result"
    }
   ],
   "source": [
    "fig.subplots(2,2) \n",
    "fig.axes"
   ]
  },
  {
   "cell_type": "code",
   "execution_count": 98,
   "id": "42d0e043-6631-4633-8945-6cd953df7bc6",
   "metadata": {},
   "outputs": [],
   "source": [
    "ax1,ax2,ax3,ax4=fig.axes "
   ]
  },
  {
   "cell_type": "code",
   "execution_count": 99,
   "id": "25c1f04e-e116-417e-a1f4-db7695d45122",
   "metadata": {},
   "outputs": [
    {
     "data": {
      "text/plain": [
       "[<matplotlib.lines.Line2D at 0x7ff0fb177430>]"
      ]
     },
     "execution_count": 99,
     "metadata": {},
     "output_type": "execute_result"
    }
   ],
   "source": [
    "ax1.plot([1,2,3],'ob')\n",
    "ax2.plot([1,2,3],'or')\n",
    "ax3.plot([1,2,3],'ok')\n",
    "ax4.plot([1,2,3],'oy')"
   ]
  },
  {
   "cell_type": "code",
   "execution_count": 100,
   "id": "ee2cd8c9-d9c4-4af9-8f71-319c72d714ac",
   "metadata": {},
   "outputs": [
    {
     "data": {
      "image/png": "[encoded data removed]",
      "text/plain": [
       "<Figure size 432x288 with 4 Axes>"
      ]
     },
     "execution_count": 100,
     "metadata": {},
     "output_type": "execute_result"
    }
   ],
   "source": [
    "fig"
   ]
  },
  {
   "cell_type": "markdown",
   "id": "51939f47-abdf-4563-90b4-e1836a71e1e8",
   "metadata": {},
   "source": [
    "`-` 단계적으로 코드를 실행하고 싶을때 "
   ]
  },
  {
   "cell_type": "code",
   "execution_count": 107,
   "id": "064e3e2e-63f6-479f-b547-c277bfef73c9",
   "metadata": {},
   "outputs": [],
   "source": [
    "x=[1,2,3,4]\n",
    "y=[1,2,4,3]"
   ]
  },
  {
   "cell_type": "code",
   "execution_count": 108,
   "id": "7dac0c26-7720-4346-a114-8c280e7179d0",
   "metadata": {},
   "outputs": [
    {
     "data": {
      "image/png": "[encoded data removed]",
      "text/plain": [
       "<Figure size 432x288 with 4 Axes>"
      ]
     },
     "metadata": {
      "needs_background": "light"
     },
     "output_type": "display_data"
    }
   ],
   "source": [
    "_, axs = plt.subplots(2,2) "
   ]
  },
  {
   "cell_type": "code",
   "execution_count": 109,
   "id": "62f3eb7e-a979-4d4b-ade1-e1369470895f",
   "metadata": {},
   "outputs": [
    {
     "data": {
      "text/plain": [
       "[<matplotlib.lines.Line2D at 0x7ff0faaa0940>]"
      ]
     },
     "execution_count": 109,
     "metadata": {},
     "output_type": "execute_result"
    }
   ],
   "source": [
    "axs[0,0].plot(x,y,'o:r') \n",
    "axs[0,1].plot(x,y,'Xb') \n",
    "axs[1,0].plot(x,y,'xm') \n",
    "axs[1,1].plot(x,y,'.--k') "
   ]
  },
  {
   "cell_type": "markdown",
   "id": "c99786f9-fc75-44ec-9944-6b95979adee9",
   "metadata": {},
   "source": [
    "- 어? 그림을 볼려면 어떻게 하지? "
   ]
  },
  {
   "cell_type": "code",
   "execution_count": 110,
   "id": "ca11b67c-35af-4ee0-895b-e73694c5aac3",
   "metadata": {},
   "outputs": [
    {
     "data": {
      "image/png": "[encoded data removed]",
      "text/plain": [
       "<Figure size 432x288 with 4 Axes>"
      ]
     },
     "execution_count": 110,
     "metadata": {},
     "output_type": "execute_result"
    }
   ],
   "source": [
    "_"
   ]
  },
  {
   "cell_type": "markdown",
   "id": "2dbb9f28-1c7a-4d9c-9c3b-a93d33817e65",
   "metadata": {},
   "source": [
    "### plt.subplots()를 2$\\times$2 subplot 그리기 -- 액시즈를 각각 변수명으로 저장"
   ]
  },
  {
   "cell_type": "code",
   "execution_count": 115,
   "id": "2bdb3e8d-24e8-4a15-a941-0ed3455db32f",
   "metadata": {},
   "outputs": [
    {
     "data": {
      "image/png": "[encoded data removed]",
      "text/plain": [
       "<Figure size 432x288 with 4 Axes>"
      ]
     },
     "metadata": {
      "needs_background": "light"
     },
     "output_type": "display_data"
    }
   ],
   "source": [
    "x=[1,2,3,4]\n",
    "y=[1,2,4,3]\n",
    "fig, axs = plt.subplots(2,2) "
   ]
  },
  {
   "cell_type": "code",
   "execution_count": 120,
   "id": "b531c045-ccfd-47fa-a4a5-f67a859e7539",
   "metadata": {},
   "outputs": [],
   "source": [
    "(ax1,ax2), (ax3,ax4) = axs"
   ]
  },
  {
   "cell_type": "code",
   "execution_count": 121,
   "id": "977de7bb-f4ba-4fca-9e5d-68128a9851e4",
   "metadata": {},
   "outputs": [
    {
     "data": {
      "text/plain": [
       "[<matplotlib.lines.Line2D at 0x7ff0fb3650d0>]"
      ]
     },
     "execution_count": 121,
     "metadata": {},
     "output_type": "execute_result"
    }
   ],
   "source": [
    "ax1.plot(x,y,'o:r') \n",
    "ax2.plot(x,y,'Xb') \n",
    "ax3.plot(x,y,'xm') \n",
    "ax4.plot(x,y,'.--k') "
   ]
  },
  {
   "cell_type": "code",
   "execution_count": 122,
   "id": "6ed01d15-59e6-44d9-8de8-953e4c269e96",
   "metadata": {},
   "outputs": [
    {
     "data": {
      "image/png": "[encoded data removed]",
      "text/plain": [
       "<Figure size 432x288 with 4 Axes>"
      ]
     },
     "execution_count": 122,
     "metadata": {},
     "output_type": "execute_result"
    }
   ],
   "source": [
    "fig"
   ]
  },
  {
   "cell_type": "markdown",
   "id": "ab620518-dfac-4efe-8afe-ae5690ccfc5b",
   "metadata": {},
   "source": [
    "### 제목설정 "
   ]
  },
  {
   "cell_type": "markdown",
   "id": "ae8fd113-e663-4350-925b-f300f464da6b",
   "metadata": {},
   "source": [
    "#### 예제1: plt.plot()"
   ]
  },
  {
   "cell_type": "code",
   "execution_count": 129,
   "id": "9cec3591-fcc6-4af0-94b2-e6aa5f36c0aa",
   "metadata": {},
   "outputs": [],
   "source": [
    "x=[1,2,3]\n",
    "y=[1,2,2] "
   ]
  },
  {
   "cell_type": "code",
   "execution_count": 133,
   "id": "aae55a40-5e90-46b7-a7dc-3d22fddcc9d7",
   "metadata": {},
   "outputs": [
    {
     "data": {
      "text/plain": [
       "Text(0.5, 1.0, 'title')"
      ]
     },
     "execution_count": 133,
     "metadata": {},
     "output_type": "execute_result"
    },
    {
     "data": {
      "image/png": "[encoded data removed]",
      "text/plain": [
       "<Figure size 432x288 with 1 Axes>"
      ]
     },
     "metadata": {
      "needs_background": "light"
     },
     "output_type": "display_data"
    }
   ],
   "source": [
    "plt.plot(x,y)\n",
    "plt.title('title')"
   ]
  },
  {
   "cell_type": "markdown",
   "id": "1a5b209d-7ecf-44b2-b03f-bacb63902198",
   "metadata": {},
   "source": [
    "#### 예제2: 액시즈를 이용"
   ]
  },
  {
   "cell_type": "code",
   "execution_count": 134,
   "id": "d66c13a6-c903-4a30-a614-17a82b4fc648",
   "metadata": {},
   "outputs": [
    {
     "data": {
      "text/plain": [
       "<AxesSubplot:>"
      ]
     },
     "execution_count": 134,
     "metadata": {},
     "output_type": "execute_result"
    },
    {
     "data": {
      "image/png": "[encoded data removed]",
      "text/plain": [
       "<Figure size 432x288 with 1 Axes>"
      ]
     },
     "metadata": {
      "needs_background": "light"
     },
     "output_type": "display_data"
    }
   ],
   "source": [
    "fig = plt.figure()\n",
    "fig.subplots()"
   ]
  },
  {
   "cell_type": "code",
   "execution_count": 137,
   "id": "63700cfc-dd93-4477-80ae-18310579448a",
   "metadata": {},
   "outputs": [],
   "source": [
    "ax1=fig.axes[0]"
   ]
  },
  {
   "cell_type": "code",
   "execution_count": 140,
   "id": "ee61d037-ed63-472c-b57d-580a13d01448",
   "metadata": {},
   "outputs": [
    {
     "data": {
      "text/plain": [
       "Text(0.5, 1.0, 'title')"
      ]
     },
     "execution_count": 140,
     "metadata": {},
     "output_type": "execute_result"
    }
   ],
   "source": [
    "ax1.set_title('title')"
   ]
  },
  {
   "cell_type": "code",
   "execution_count": 141,
   "id": "5fa47381-47e1-412d-b137-c44267803bb3",
   "metadata": {},
   "outputs": [
    {
     "data": {
      "image/png": "[encoded data removed]",
      "text/plain": [
       "<Figure size 432x288 with 1 Axes>"
      ]
     },
     "execution_count": 141,
     "metadata": {},
     "output_type": "execute_result"
    }
   ],
   "source": [
    "fig"
   ]
  },
  {
   "cell_type": "markdown",
   "id": "8015b1c1-1be2-4b86-a54f-18c4b52cc81a",
   "metadata": {},
   "source": [
    "`-` 문법을 잘 이해했으면 각 서브플랏의 제목을 설정하는 방법도 쉽게 알 수 있다."
   ]
  },
  {
   "cell_type": "markdown",
   "id": "1422b606-325f-44cf-a049-6381b4fec7ac",
   "metadata": {},
   "source": [
    "### 예제3: subplot에서 각각의 제목설정 $\\star$"
   ]
  },
  {
   "cell_type": "code",
   "execution_count": 5,
   "id": "c1b65918-e958-4a36-a8bd-e387a69e2f3a",
   "metadata": {},
   "outputs": [
    {
     "data": {
      "image/png": "[encoded data removed]",
      "text/plain": [
       "<Figure size 432x288 with 4 Axes>"
      ]
     },
     "metadata": {
      "needs_background": "light"
     },
     "output_type": "display_data"
    }
   ],
   "source": [
    "fig, ax = plt.subplots(2,2) "
   ]
  },
  {
   "cell_type": "code",
   "execution_count": 6,
   "id": "0c4db97b-cd06-49f9-9d4b-44f26ab16186",
   "metadata": {},
   "outputs": [],
   "source": [
    "(ax1,ax2),(ax3,ax4) =ax"
   ]
  },
  {
   "cell_type": "code",
   "execution_count": 7,
   "id": "89df44c6-5e17-4db0-b9a5-9c6cc40073e1",
   "metadata": {},
   "outputs": [
    {
     "data": {
      "text/plain": [
       "Text(0.5, 1.0, 'title4')"
      ]
     },
     "execution_count": 7,
     "metadata": {},
     "output_type": "execute_result"
    }
   ],
   "source": [
    "ax1.set_title('title1')\n",
    "ax2.set_title('title2')\n",
    "ax3.set_title('title3')\n",
    "ax4.set_title('title4')"
   ]
  },
  {
   "cell_type": "code",
   "execution_count": 11,
   "id": "d84c49cf-a786-449e-b149-849ff0175e91",
   "metadata": {},
   "outputs": [
    {
     "data": {
      "image/png": "[encoded data removed]",
      "text/plain": [
       "<Figure size 432x288 with 4 Axes>"
      ]
     },
     "execution_count": 11,
     "metadata": {},
     "output_type": "execute_result"
    }
   ],
   "source": [
    "fig #뭔가 엉성함"
   ]
  },
  {
   "cell_type": "markdown",
   "id": "4fe2bded-0d08-430e-be27-5f7e2b752951",
   "metadata": {},
   "source": [
    "`-` 보기싫음 $\\to$ 서브플랏의 레이아웃 재정렬"
   ]
  },
  {
   "cell_type": "code",
   "execution_count": 10,
   "id": "df6a6678-c833-4492-a832-39bcb43edbc3",
   "metadata": {},
   "outputs": [
    {
     "data": {
      "image/png": "[encoded data removed]",
      "text/plain": [
       "<Figure size 432x288 with 4 Axes>"
      ]
     },
     "execution_count": 10,
     "metadata": {},
     "output_type": "execute_result"
    }
   ],
   "source": [
    "fig.tight_layout() # 외우세요.. \n",
    "fig #깔끔해짐"
   ]
  },
  {
   "cell_type": "markdown",
   "id": "23b2cfd6-0006-4944-8d04-6eebf9b090fe",
   "metadata": {},
   "source": [
    "#### 예제4: 액시즈의 제목 + Figure제목 "
   ]
  },
  {
   "cell_type": "code",
   "execution_count": 155,
   "id": "a45e24ae-2913-4a6d-919c-5a3212d7ddb6",
   "metadata": {},
   "outputs": [
    {
     "data": {
      "text/plain": [
       "Text(0.5, 0.98, 'sup title')"
      ]
     },
     "execution_count": 155,
     "metadata": {},
     "output_type": "execute_result"
    }
   ],
   "source": [
    "fig.suptitle('sup title')"
   ]
  },
  {
   "cell_type": "code",
   "execution_count": 156,
   "id": "630a9536-f2c7-4016-bb83-310be6094ffe",
   "metadata": {},
   "outputs": [
    {
     "data": {
      "image/png": "[encoded data removed]",
      "text/plain": [
       "<Figure size 432x288 with 4 Axes>"
      ]
     },
     "execution_count": 156,
     "metadata": {},
     "output_type": "execute_result"
    }
   ],
   "source": [
    "fig"
   ]
  },
  {
   "cell_type": "code",
   "execution_count": 157,
   "id": "1d99ce60-ec9c-4b3a-83d6-ebdf1017d4b8",
   "metadata": {},
   "outputs": [],
   "source": [
    "fig.tight_layout()"
   ]
  },
  {
   "cell_type": "code",
   "execution_count": 158,
   "id": "a58e9404-ed16-4330-bd20-6203faebb2eb",
   "metadata": {},
   "outputs": [
    {
     "data": {
      "image/png": "[encoded data removed]",
      "text/plain": [
       "<Figure size 432x288 with 4 Axes>"
      ]
     },
     "execution_count": 158,
     "metadata": {},
     "output_type": "execute_result"
    }
   ],
   "source": [
    "fig"
   ]
  },
  {
   "cell_type": "markdown",
   "id": "40292de3-7d3a-4936-8125-45b5605f98bf",
   "metadata": {},
   "source": [
    "### 축범위 설정"
   ]
  },
  {
   "cell_type": "markdown",
   "id": "4bfd3798-5875-4e1b-ae0a-4fbfc7f23d16",
   "metadata": {},
   "source": [
    "```Python\n",
    "plt.xlim(-1,5) # plt 이용\n",
    "plt.ylim(3,7)\n",
    "\n",
    "ax1.set_xlim(-10,110)  #axs 이용\n",
    "ax1.set_ylim(-5,5)\n",
    "```"
   ]
  },
  {
   "cell_type": "markdown",
   "id": "127a7c66-83e6-41ba-a84f-1b4de3452b27",
   "metadata": {},
   "source": [
    "### "
   ]
  },
  {
   "cell_type": "code",
   "execution_count": null,
   "id": "8c15176b-0899-49a2-ab65-395b716152b1",
   "metadata": {},
   "outputs": [],
   "source": []
  },
  {
   "cell_type": "code",
   "execution_count": null,
   "id": "ad5a6e27-83a1-47ce-b704-28fe6831d1e6",
   "metadata": {},
   "outputs": [],
   "source": []
  },
  {
   "cell_type": "code",
   "execution_count": null,
   "id": "015f96cb-96ca-4746-9a79-e18cb8921ca9",
   "metadata": {},
   "outputs": [],
   "source": []
  },
  {
   "cell_type": "code",
   "execution_count": null,
   "id": "4c2062ef-8f35-45b3-a152-9deb8acfabae",
   "metadata": {},
   "outputs": [],
   "source": []
  },
  {
   "cell_type": "code",
   "execution_count": null,
   "id": "8f4c8b38-9297-4824-9ae4-a3c0e5895181",
   "metadata": {},
   "outputs": [],
   "source": []
  }
 ],
 "metadata": {
  "kernelspec": {
   "display_name": "Python 3",
   "language": "python",
   "name": "python3"
  },
  "language_info": {
   "codemirror_mode": {
    "name": "ipython",
    "version": 3
   },
   "file_extension": ".py",
   "mimetype": "text/x-python",
   "name": "python",
   "nbconvert_exporter": "python",
   "pygments_lexer": "ipython3",
   "version": "3.8.8"
  }
 },
 "nbformat": 4,
 "nbformat_minor": 5
}
