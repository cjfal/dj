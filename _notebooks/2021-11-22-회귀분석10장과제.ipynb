{
 "cells": [
  {
   "cell_type": "markdown",
   "id": "be89a407-a99d-415d-8326-d16441cd6992",
   "metadata": {},
   "source": [
    "# 회귀분석 10장 연습문제R\n",
    "> 연습문제 10-2,4,5,7 R \n",
    "\n",
    "- toc:true\n",
    "- branch: master\n",
    "- badges: true\n",
    "- comments: true\n",
    "- author: 김동준\n",
    "- categories : [\"R\", \"회귀분석\"]"
   ]
  },
  {
   "cell_type": "markdown",
   "id": "72fbc4aa-365a-4946-b566-d57045a57d15",
   "metadata": {},
   "source": [
    "# 10.2)"
   ]
  },
  {
   "cell_type": "markdown",
   "id": "d9a02155-0dbc-4b9a-95ff-c2361bf78cf7",
   "metadata": {},
   "source": [
    "예제 10.2의 가정된 모형에서 교호작용 효과에 대한 검정결과 유의하지 않게 판정되었다. 교호작용이 없는 모형\n",
    "\n",
    "$y_j=\\beta_0+\\beta_1x_{1j}+\\beta_2x_{2j}+\\epsilon_j$\n",
    "\n",
    "를 가정하고 분산분석표를 작성하여 예의 결과와 비교하여라"
   ]
  },
  {
   "cell_type": "markdown",
   "id": "1a709975-7989-4f0f-b05a-bc69b67174d4",
   "metadata": {},
   "source": [
    "## 예제 10.2)"
   ]
  },
  {
   "cell_type": "markdown",
   "id": "98eea39a-dcbf-4830-8fd9-67154470a2f8",
   "metadata": {},
   "source": [
    "다음 자료는 새로운 제조방법$(x_2)$ A, B에 의하여 제조된 벨트 16개에 충격$(x_1)$을 가한 후 수명을 조사한 것이다."
   ]
  },
  {
   "cell_type": "markdown",
   "id": "86f57a79-06e3-47ca-b694-f1489ca20620",
   "metadata": {},
   "source": [
    "|일련번호|$y$(수명)|$x_1$(충격)|$x_2$(제조방법)|\n",
    "|:---:|:---:|:---:|:---:|\n",
    "|1|18|61|A|\n",
    "|2|17.4|72|A|\n",
    "|3|14.5|85|A|\n",
    "|4|14|84|A|\n",
    "|5|13.4|98|A|\n",
    "|6|24.4|53|A|\n",
    "|7|22.7|54|A|\n",
    "|8|12.7|89|A|\n",
    "|9|27.1|77|B|\n",
    "|10|25.4|88|B|\n",
    "|11|33.5|76|B|\n",
    "|12|35.6|59|B|\n",
    "|13|26.1|91|B|\n",
    "|14|36.8|65|B|\n",
    "|15|34.9|81|B|\n",
    "|16|43.6|51|B|"
   ]
  },
  {
   "cell_type": "code",
   "execution_count": 1,
   "id": "ac06ea58-be92-4e07-9c78-1e41463a2b33",
   "metadata": {},
   "outputs": [],
   "source": [
    "EX102 <- read.csv(\"10dot2.csv\",header=T)"
   ]
  },
  {
   "cell_type": "code",
   "execution_count": 2,
   "id": "1d30c751-15b0-4dca-884f-aaf27fac9eb6",
   "metadata": {},
   "outputs": [],
   "source": [
    "EX102[,\"manu1\"] <- c(0,0,0,0,0,0,0,0,1,1,1,1,1,1,1,1)"
   ]
  },
  {
   "cell_type": "code",
   "execution_count": 3,
   "id": "4a9d227d-85fe-47df-baef-4ff87d447d4b",
   "metadata": {},
   "outputs": [
    {
     "data": {
      "text/html": [
       "<table class=\"dataframe\">\n",
       "<caption>A data.frame: 6 × 5</caption>\n",
       "<thead>\n",
       "\t<tr><th></th><th scope=col>num</th><th scope=col>life</th><th scope=col>work</th><th scope=col>manu</th><th scope=col>manu1</th></tr>\n",
       "\t<tr><th></th><th scope=col>&lt;int&gt;</th><th scope=col>&lt;dbl&gt;</th><th scope=col>&lt;int&gt;</th><th scope=col>&lt;chr&gt;</th><th scope=col>&lt;dbl&gt;</th></tr>\n",
       "</thead>\n",
       "<tbody>\n",
       "\t<tr><th scope=row>1</th><td>1</td><td>18.0</td><td>61</td><td>A</td><td>0</td></tr>\n",
       "\t<tr><th scope=row>2</th><td>2</td><td>17.4</td><td>72</td><td>A</td><td>0</td></tr>\n",
       "\t<tr><th scope=row>3</th><td>3</td><td>14.5</td><td>85</td><td>A</td><td>0</td></tr>\n",
       "\t<tr><th scope=row>4</th><td>4</td><td>14.0</td><td>84</td><td>A</td><td>0</td></tr>\n",
       "\t<tr><th scope=row>5</th><td>5</td><td>13.4</td><td>98</td><td>A</td><td>0</td></tr>\n",
       "\t<tr><th scope=row>6</th><td>6</td><td>24.4</td><td>53</td><td>A</td><td>0</td></tr>\n",
       "</tbody>\n",
       "</table>\n"
      ],
      "text/latex": [
       "A data.frame: 6 × 5\n",
       "\\begin{tabular}{r|lllll}\n",
       "  & num & life & work & manu & manu1\\\\\n",
       "  & <int> & <dbl> & <int> & <chr> & <dbl>\\\\\n",
       "\\hline\n",
       "\t1 & 1 & 18.0 & 61 & A & 0\\\\\n",
       "\t2 & 2 & 17.4 & 72 & A & 0\\\\\n",
       "\t3 & 3 & 14.5 & 85 & A & 0\\\\\n",
       "\t4 & 4 & 14.0 & 84 & A & 0\\\\\n",
       "\t5 & 5 & 13.4 & 98 & A & 0\\\\\n",
       "\t6 & 6 & 24.4 & 53 & A & 0\\\\\n",
       "\\end{tabular}\n"
      ],
      "text/markdown": [
       "\n",
       "A data.frame: 6 × 5\n",
       "\n",
       "| <!--/--> | num &lt;int&gt; | life &lt;dbl&gt; | work &lt;int&gt; | manu &lt;chr&gt; | manu1 &lt;dbl&gt; |\n",
       "|---|---|---|---|---|---|\n",
       "| 1 | 1 | 18.0 | 61 | A | 0 |\n",
       "| 2 | 2 | 17.4 | 72 | A | 0 |\n",
       "| 3 | 3 | 14.5 | 85 | A | 0 |\n",
       "| 4 | 4 | 14.0 | 84 | A | 0 |\n",
       "| 5 | 5 | 13.4 | 98 | A | 0 |\n",
       "| 6 | 6 | 24.4 | 53 | A | 0 |\n",
       "\n"
      ],
      "text/plain": [
       "  num life work manu manu1\n",
       "1 1   18.0 61   A    0    \n",
       "2 2   17.4 72   A    0    \n",
       "3 3   14.5 85   A    0    \n",
       "4 4   14.0 84   A    0    \n",
       "5 5   13.4 98   A    0    \n",
       "6 6   24.4 53   A    0    "
      ]
     },
     "metadata": {},
     "output_type": "display_data"
    }
   ],
   "source": [
    "head(EX102)"
   ]
  },
  {
   "cell_type": "code",
   "execution_count": 4,
   "id": "cee6f857-a8d2-44cb-9bbc-2b622690a2ed",
   "metadata": {},
   "outputs": [],
   "source": [
    "attach(EX102)"
   ]
  },
  {
   "cell_type": "code",
   "execution_count": 5,
   "id": "a13d3883-0609-4872-834f-889a669b1387",
   "metadata": {},
   "outputs": [
    {
     "data": {
      "text/html": [
       "<style>\n",
       ".list-inline {list-style: none; margin:0; padding: 0}\n",
       ".list-inline>li {display: inline-block}\n",
       ".list-inline>li:not(:last-child)::after {content: \"\\00b7\"; padding: 0 .5ex}\n",
       "</style>\n",
       "<ol class=list-inline><li>0</li><li>0</li><li>0</li><li>0</li><li>0</li><li>0</li><li>0</li><li>0</li><li>77</li><li>88</li><li>76</li><li>59</li><li>91</li><li>65</li><li>81</li><li>51</li></ol>\n"
      ],
      "text/latex": [
       "\\begin{enumerate*}\n",
       "\\item 0\n",
       "\\item 0\n",
       "\\item 0\n",
       "\\item 0\n",
       "\\item 0\n",
       "\\item 0\n",
       "\\item 0\n",
       "\\item 0\n",
       "\\item 77\n",
       "\\item 88\n",
       "\\item 76\n",
       "\\item 59\n",
       "\\item 91\n",
       "\\item 65\n",
       "\\item 81\n",
       "\\item 51\n",
       "\\end{enumerate*}\n"
      ],
      "text/markdown": [
       "1. 0\n",
       "2. 0\n",
       "3. 0\n",
       "4. 0\n",
       "5. 0\n",
       "6. 0\n",
       "7. 0\n",
       "8. 0\n",
       "9. 77\n",
       "10. 88\n",
       "11. 76\n",
       "12. 59\n",
       "13. 91\n",
       "14. 65\n",
       "15. 81\n",
       "16. 51\n",
       "\n",
       "\n"
      ],
      "text/plain": [
       " [1]  0  0  0  0  0  0  0  0 77 88 76 59 91 65 81 51"
      ]
     },
     "metadata": {},
     "output_type": "display_data"
    }
   ],
   "source": [
    "gyo <- work*manu1\n",
    "gyo"
   ]
  },
  {
   "cell_type": "code",
   "execution_count": 6,
   "id": "de8eb779-664b-4cec-8990-b79d5f54fee7",
   "metadata": {},
   "outputs": [],
   "source": [
    "fit1 <- lm(life~work+manu1)"
   ]
  },
  {
   "cell_type": "code",
   "execution_count": 7,
   "id": "e1b9150c-0ea9-48bb-89b0-1edde68d6112",
   "metadata": {},
   "outputs": [],
   "source": [
    "fitgyo <- lm(life~work+manu1+gyo)"
   ]
  },
  {
   "cell_type": "code",
   "execution_count": 8,
   "id": "c2937a8d-5c0b-4cac-9c5e-3e181004bbe2",
   "metadata": {},
   "outputs": [
    {
     "data": {
      "text/plain": [
       "\n",
       "Call:\n",
       "lm(formula = life ~ work + manu1 + gyo)\n",
       "\n",
       "Residuals:\n",
       "    Min      1Q  Median      3Q     Max \n",
       "-4.3938 -1.1350  0.0171  1.6701  4.9848 \n",
       "\n",
       "Coefficients:\n",
       "            Estimate Std. Error t value Pr(>|t|)    \n",
       "(Intercept) 35.16364    4.31882   8.142 3.14e-06 ***\n",
       "work        -0.24196    0.05669  -4.268  0.00109 ** \n",
       "manu1       26.71723    6.71235   3.980  0.00183 ** \n",
       "gyo         -0.15268    0.08916  -1.712  0.11252    \n",
       "---\n",
       "Signif. codes:  0 ‘***’ 0.001 ‘**’ 0.01 ‘*’ 0.05 ‘.’ 0.1 ‘ ’ 1\n",
       "\n",
       "Residual standard error: 2.557 on 12 degrees of freedom\n",
       "Multiple R-squared:  0.9441,\tAdjusted R-squared:  0.9301 \n",
       "F-statistic: 67.56 on 3 and 12 DF,  p-value: 8.73e-08\n"
      ]
     },
     "metadata": {},
     "output_type": "display_data"
    }
   ],
   "source": [
    "summary(fitgyo)"
   ]
  },
  {
   "cell_type": "code",
   "execution_count": 9,
   "id": "38419262-6d86-413c-a644-4f676c68f861",
   "metadata": {},
   "outputs": [
    {
     "data": {
      "text/html": [
       "<table class=\"dataframe\">\n",
       "<caption>A anova: 4 × 5</caption>\n",
       "<thead>\n",
       "\t<tr><th></th><th scope=col>Df</th><th scope=col>Sum Sq</th><th scope=col>Mean Sq</th><th scope=col>F value</th><th scope=col>Pr(&gt;F)</th></tr>\n",
       "\t<tr><th></th><th scope=col>&lt;int&gt;</th><th scope=col>&lt;dbl&gt;</th><th scope=col>&lt;dbl&gt;</th><th scope=col>&lt;dbl&gt;</th><th scope=col>&lt;dbl&gt;</th></tr>\n",
       "</thead>\n",
       "<tbody>\n",
       "\t<tr><th scope=row>work</th><td> 1</td><td>353.81512</td><td>353.815123</td><td> 54.132838</td><td>8.764291e-06</td></tr>\n",
       "\t<tr><th scope=row>manu1</th><td> 1</td><td>951.69664</td><td>951.696636</td><td>145.607229</td><td>4.545839e-08</td></tr>\n",
       "\t<tr><th scope=row>gyo</th><td> 1</td><td> 19.16497</td><td> 19.164974</td><td>  2.932194</td><td>1.125250e-01</td></tr>\n",
       "\t<tr><th scope=row>Residuals</th><td>12</td><td> 78.43264</td><td>  6.536053</td><td>        NA</td><td>          NA</td></tr>\n",
       "</tbody>\n",
       "</table>\n"
      ],
      "text/latex": [
       "A anova: 4 × 5\n",
       "\\begin{tabular}{r|lllll}\n",
       "  & Df & Sum Sq & Mean Sq & F value & Pr(>F)\\\\\n",
       "  & <int> & <dbl> & <dbl> & <dbl> & <dbl>\\\\\n",
       "\\hline\n",
       "\twork &  1 & 353.81512 & 353.815123 &  54.132838 & 8.764291e-06\\\\\n",
       "\tmanu1 &  1 & 951.69664 & 951.696636 & 145.607229 & 4.545839e-08\\\\\n",
       "\tgyo &  1 &  19.16497 &  19.164974 &   2.932194 & 1.125250e-01\\\\\n",
       "\tResiduals & 12 &  78.43264 &   6.536053 &         NA &           NA\\\\\n",
       "\\end{tabular}\n"
      ],
      "text/markdown": [
       "\n",
       "A anova: 4 × 5\n",
       "\n",
       "| <!--/--> | Df &lt;int&gt; | Sum Sq &lt;dbl&gt; | Mean Sq &lt;dbl&gt; | F value &lt;dbl&gt; | Pr(&gt;F) &lt;dbl&gt; |\n",
       "|---|---|---|---|---|---|\n",
       "| work |  1 | 353.81512 | 353.815123 |  54.132838 | 8.764291e-06 |\n",
       "| manu1 |  1 | 951.69664 | 951.696636 | 145.607229 | 4.545839e-08 |\n",
       "| gyo |  1 |  19.16497 |  19.164974 |   2.932194 | 1.125250e-01 |\n",
       "| Residuals | 12 |  78.43264 |   6.536053 |         NA |           NA |\n",
       "\n"
      ],
      "text/plain": [
       "          Df Sum Sq    Mean Sq    F value    Pr(>F)      \n",
       "work       1 353.81512 353.815123  54.132838 8.764291e-06\n",
       "manu1      1 951.69664 951.696636 145.607229 4.545839e-08\n",
       "gyo        1  19.16497  19.164974   2.932194 1.125250e-01\n",
       "Residuals 12  78.43264   6.536053         NA           NA"
      ]
     },
     "metadata": {},
     "output_type": "display_data"
    }
   ],
   "source": [
    "anova(fitgyo)"
   ]
  },
  {
   "cell_type": "markdown",
   "id": "299733d7-1b0b-40a7-81c5-de0aba0d5ff9",
   "metadata": {},
   "source": [
    "연습문제와의 비교"
   ]
  },
  {
   "cell_type": "code",
   "execution_count": 10,
   "id": "9b9f473e-4585-4a63-9b64-7eda72bae260",
   "metadata": {},
   "outputs": [
    {
     "data": {
      "text/plain": [
       "\n",
       "Call:\n",
       "lm(formula = life ~ work + manu1)\n",
       "\n",
       "Residuals:\n",
       "    Min      1Q  Median      3Q     Max \n",
       "-4.7121 -1.5151 -0.1434  1.3539  4.3026 \n",
       "\n",
       "Coefficients:\n",
       "            Estimate Std. Error t value Pr(>|t|)    \n",
       "(Intercept) 39.76136    3.62542  10.967 6.10e-08 ***\n",
       "work        -0.30368    0.04689  -6.476 2.08e-05 ***\n",
       "manu1       15.43382    1.37079  11.259 4.47e-08 ***\n",
       "---\n",
       "Signif. codes:  0 ‘***’ 0.001 ‘**’ 0.01 ‘*’ 0.05 ‘.’ 0.1 ‘ ’ 1\n",
       "\n",
       "Residual standard error: 2.74 on 13 degrees of freedom\n",
       "Multiple R-squared:  0.9304,\tAdjusted R-squared:  0.9197 \n",
       "F-statistic: 86.95 on 2 and 13 DF,  p-value: 2.987e-08\n"
      ]
     },
     "metadata": {},
     "output_type": "display_data"
    }
   ],
   "source": [
    "summary(fit1)"
   ]
  },
  {
   "cell_type": "code",
   "execution_count": 11,
   "id": "0cec407e-eec3-4eac-b1d7-1ec9283dd55e",
   "metadata": {},
   "outputs": [
    {
     "data": {
      "text/html": [
       "<table class=\"dataframe\">\n",
       "<caption>A anova: 3 × 5</caption>\n",
       "<thead>\n",
       "\t<tr><th></th><th scope=col>Df</th><th scope=col>Sum Sq</th><th scope=col>Mean Sq</th><th scope=col>F value</th><th scope=col>Pr(&gt;F)</th></tr>\n",
       "\t<tr><th></th><th scope=col>&lt;int&gt;</th><th scope=col>&lt;dbl&gt;</th><th scope=col>&lt;dbl&gt;</th><th scope=col>&lt;dbl&gt;</th><th scope=col>&lt;dbl&gt;</th></tr>\n",
       "</thead>\n",
       "<tbody>\n",
       "\t<tr><th scope=row>work</th><td> 1</td><td>353.81512</td><td>353.815123</td><td> 47.12817</td><td>1.144082e-05</td></tr>\n",
       "\t<tr><th scope=row>manu1</th><td> 1</td><td>951.69664</td><td>951.696636</td><td>126.76597</td><td>4.471157e-08</td></tr>\n",
       "\t<tr><th scope=row>Residuals</th><td>13</td><td> 97.59762</td><td>  7.507509</td><td>       NA</td><td>          NA</td></tr>\n",
       "</tbody>\n",
       "</table>\n"
      ],
      "text/latex": [
       "A anova: 3 × 5\n",
       "\\begin{tabular}{r|lllll}\n",
       "  & Df & Sum Sq & Mean Sq & F value & Pr(>F)\\\\\n",
       "  & <int> & <dbl> & <dbl> & <dbl> & <dbl>\\\\\n",
       "\\hline\n",
       "\twork &  1 & 353.81512 & 353.815123 &  47.12817 & 1.144082e-05\\\\\n",
       "\tmanu1 &  1 & 951.69664 & 951.696636 & 126.76597 & 4.471157e-08\\\\\n",
       "\tResiduals & 13 &  97.59762 &   7.507509 &        NA &           NA\\\\\n",
       "\\end{tabular}\n"
      ],
      "text/markdown": [
       "\n",
       "A anova: 3 × 5\n",
       "\n",
       "| <!--/--> | Df &lt;int&gt; | Sum Sq &lt;dbl&gt; | Mean Sq &lt;dbl&gt; | F value &lt;dbl&gt; | Pr(&gt;F) &lt;dbl&gt; |\n",
       "|---|---|---|---|---|---|\n",
       "| work |  1 | 353.81512 | 353.815123 |  47.12817 | 1.144082e-05 |\n",
       "| manu1 |  1 | 951.69664 | 951.696636 | 126.76597 | 4.471157e-08 |\n",
       "| Residuals | 13 |  97.59762 |   7.507509 |        NA |           NA |\n",
       "\n"
      ],
      "text/plain": [
       "          Df Sum Sq    Mean Sq    F value   Pr(>F)      \n",
       "work       1 353.81512 353.815123  47.12817 1.144082e-05\n",
       "manu1      1 951.69664 951.696636 126.76597 4.471157e-08\n",
       "Residuals 13  97.59762   7.507509        NA           NA"
      ]
     },
     "metadata": {},
     "output_type": "display_data"
    }
   ],
   "source": [
    "anova(fit1)"
   ]
  },
  {
   "cell_type": "markdown",
   "id": "3be6730f-ad74-43ee-abb3-64a85b8f1bd8",
   "metadata": {},
   "source": [
    "연습문제에서 적합한 모형은\n",
    "\n",
    "$ \\hat{y} = 39.76136 -0.30368x_1 + 15.43382x_2$ 이다.\n",
    "\n",
    "예제의 모형에서 교호작용효과를 무시할 수 있다고 결론 내렸으므로 연습문제의 적합이 적절하다."
   ]
  },
  {
   "cell_type": "markdown",
   "id": "ad1a684f-c33f-4f0b-bf03-a42c83c659eb",
   "metadata": {},
   "source": [
    "______________"
   ]
  },
  {
   "cell_type": "markdown",
   "id": "8f7b05aa-9f12-46fc-8626-26df355c4022",
   "metadata": {},
   "source": [
    "# 10.4)"
   ]
  },
  {
   "cell_type": "markdown",
   "id": "f82e30a8-9ed1-48da-8c64-1892108576c9",
   "metadata": {},
   "source": [
    "다음 자료에 대하여\n",
    "\n",
    "|x|y|\n",
    "|:---:|:---:|\n",
    "|2.5|65|\n",
    "|4.4|34|\n",
    "|4.5|40|\n",
    "|1.4|80|\n",
    "|4.7|30|\n",
    "|3.5|57|\n",
    "|2.5|72|\n",
    "|3.8|48|"
   ]
  },
  {
   "cell_type": "markdown",
   "id": "c6507cf4-3b24-458f-8c63-d9a177e51144",
   "metadata": {},
   "source": [
    "### 1) y의 x에 대한 산점도를 그려보고 몇 개의 구간으로 나누어 분석하면 좋은지를 설명하고 어떤 점$(x_p)$에서 나누는 것이 좋은지를 설명하여라."
   ]
  },
  {
   "cell_type": "code",
   "execution_count": 12,
   "id": "b6e9069e-dca6-4eda-8e3e-a2c708324355",
   "metadata": {},
   "outputs": [],
   "source": [
    "EX104 <- read.csv(\"104.csv\",header=T)\n",
    "attach(EX104)"
   ]
  },
  {
   "cell_type": "code",
   "execution_count": 33,
   "id": "6cf94277-0f1c-4724-a8d4-87011125132b",
   "metadata": {},
   "outputs": [
    {
     "data": {
      "image/png": "[encoded data removed]",
      "text/plain": [
       "plot without title"
      ]
     },
     "metadata": {
      "image/png": {
       "height": 420,
       "width": 420
      }
     },
     "output_type": "display_data"
    }
   ],
   "source": [
    "plot(x4,y4,col=\"red\")"
   ]
  },
  {
   "cell_type": "markdown",
   "id": "94d7791d-b769-4879-b706-f07f9a98389c",
   "metadata": {},
   "source": [
    "$x_p = 3.8$ 에서 나누는것이 좋아보인다."
   ]
  },
  {
   "cell_type": "markdown",
   "id": "84736d01-0e0d-4724-8c7d-e54f560644de",
   "metadata": {},
   "source": [
    "### 2) 위 자료를 두 구간으로만 나누려고 한다면 어떤 점$(x_p)$에서 나누는 것이 좋은지를 설명하고 그 점을 경계로 하여 다음 모형을 적합시켜 보아라."
   ]
  },
  {
   "cell_type": "markdown",
   "id": "c319fd67-b57e-4e5e-a67f-c7a280a66587",
   "metadata": {},
   "source": [
    "$y_j = \\beta_0 + \\beta_1x_{1j} + \\beta_2(x_{1j}-x_p)x_{2j}+\\epsilon_j$"
   ]
  },
  {
   "cell_type": "markdown",
   "id": "d02d4eae-6af5-4cd0-8cdb-575229855e7f",
   "metadata": {},
   "source": [
    "$x_{2j} = 1, 만약 x_{1j} > x_p 이면$\n",
    "\n",
    "$x_{2j} = 0, 만약 x_{1j} \\leq x_p 이면$"
   ]
  },
  {
   "cell_type": "code",
   "execution_count": 27,
   "id": "89c09879-44fd-4d2f-8dc1-6215c6fbc186",
   "metadata": {},
   "outputs": [],
   "source": [
    "x4_2 <- function(x4) ifelse(x4>3.8,1,0)"
   ]
  },
  {
   "cell_type": "code",
   "execution_count": 28,
   "id": "a7a3adbe-b692-4ce7-a128-0d9b2d5bb90d",
   "metadata": {},
   "outputs": [
    {
     "data": {
      "text/html": [
       "<style>\n",
       ".list-inline {list-style: none; margin:0; padding: 0}\n",
       ".list-inline>li {display: inline-block}\n",
       ".list-inline>li:not(:last-child)::after {content: \"\\00b7\"; padding: 0 .5ex}\n",
       "</style>\n",
       "<ol class=list-inline><li>0</li><li>1</li><li>1</li><li>0</li><li>1</li><li>0</li><li>0</li><li>0</li></ol>\n"
      ],
      "text/latex": [
       "\\begin{enumerate*}\n",
       "\\item 0\n",
       "\\item 1\n",
       "\\item 1\n",
       "\\item 0\n",
       "\\item 1\n",
       "\\item 0\n",
       "\\item 0\n",
       "\\item 0\n",
       "\\end{enumerate*}\n"
      ],
      "text/markdown": [
       "1. 0\n",
       "2. 1\n",
       "3. 1\n",
       "4. 0\n",
       "5. 1\n",
       "6. 0\n",
       "7. 0\n",
       "8. 0\n",
       "\n",
       "\n"
      ],
      "text/plain": [
       "[1] 0 1 1 0 1 0 0 0"
      ]
     },
     "metadata": {},
     "output_type": "display_data"
    }
   ],
   "source": [
    "x4_2(x4)"
   ]
  },
  {
   "cell_type": "code",
   "execution_count": 30,
   "id": "7b3b982e-2caa-47ee-ad5a-66839ca90895",
   "metadata": {},
   "outputs": [
    {
     "data": {
      "text/html": [
       "<style>\n",
       ".list-inline {list-style: none; margin:0; padding: 0}\n",
       ".list-inline>li {display: inline-block}\n",
       ".list-inline>li:not(:last-child)::after {content: \"\\00b7\"; padding: 0 .5ex}\n",
       "</style>\n",
       "<ol class=list-inline><li>0</li><li>0.6</li><li>0.7</li><li>0</li><li>0.9</li><li>0</li><li>0</li><li>0</li></ol>\n"
      ],
      "text/latex": [
       "\\begin{enumerate*}\n",
       "\\item 0\n",
       "\\item 0.6\n",
       "\\item 0.7\n",
       "\\item 0\n",
       "\\item 0.9\n",
       "\\item 0\n",
       "\\item 0\n",
       "\\item 0\n",
       "\\end{enumerate*}\n"
      ],
      "text/markdown": [
       "1. 0\n",
       "2. 0.6\n",
       "3. 0.7\n",
       "4. 0\n",
       "5. 0.9\n",
       "6. 0\n",
       "7. 0\n",
       "8. 0\n",
       "\n",
       "\n"
      ],
      "text/plain": [
       "[1] 0.0 0.6 0.7 0.0 0.9 0.0 0.0 0.0"
      ]
     },
     "metadata": {},
     "output_type": "display_data"
    }
   ],
   "source": [
    "EX104[,\"x4_\"] = (x4-3.8)*x4_2(x4)\n",
    "EX104$x4_"
   ]
  },
  {
   "cell_type": "code",
   "execution_count": 31,
   "id": "14e71874-64cd-43bb-a90b-d0895fe52eab",
   "metadata": {},
   "outputs": [],
   "source": [
    "fit104 <- lm(y4~x4+x4_,data=EX104)"
   ]
  },
  {
   "cell_type": "code",
   "execution_count": 32,
   "id": "dd422e9b-3849-4df3-af1a-47251bc7d125",
   "metadata": {},
   "outputs": [
    {
     "data": {
      "text/plain": [
       "\n",
       "Call:\n",
       "lm(formula = y4 ~ x4 + x4_, data = EX104)\n",
       "\n",
       "Residuals:\n",
       "     1      2      3      4      5      6      7      8 \n",
       "-2.421 -3.663  4.531 -1.462 -1.082  2.344  4.579 -2.826 \n",
       "\n",
       "Coefficients:\n",
       "            Estimate Std. Error t value Pr(>|t|)    \n",
       "(Intercept)   99.333      5.907  16.817 1.36e-05 ***\n",
       "x4           -12.765      2.046  -6.238  0.00155 ** \n",
       "x4_           -9.173      6.201  -1.479  0.19911    \n",
       "---\n",
       "Signif. codes:  0 ‘***’ 0.001 ‘**’ 0.01 ‘*’ 0.05 ‘.’ 0.1 ‘ ’ 1\n",
       "\n",
       "Residual standard error: 3.939 on 5 degrees of freedom\n",
       "Multiple R-squared:  0.9668,\tAdjusted R-squared:  0.9535 \n",
       "F-statistic: 72.71 on 2 and 5 DF,  p-value: 0.0002015\n"
      ]
     },
     "metadata": {},
     "output_type": "display_data"
    }
   ],
   "source": [
    "summary(fit104)"
   ]
  },
  {
   "cell_type": "markdown",
   "id": "a7b80e90-28e6-48c2-bf06-eb194e6ccbb8",
   "metadata": {},
   "source": [
    "> $ \\hat{y} = 99.333 -12.765x_1 -9.173x_2$ 을 추정할 수 있다."
   ]
  },
  {
   "cell_type": "markdown",
   "id": "f009d642-9e21-4568-b73d-51532c96d0d9",
   "metadata": {},
   "source": [
    "### 3) 귀무가설 $H_0 : \\beta_2 = 0$, 대립가설 $H_1 : \\beta_2 \\neq 0 $ 를 유의수준 0.05로 검정하여라."
   ]
  },
  {
   "cell_type": "code",
   "execution_count": 34,
   "id": "cf75da7e-1b00-4499-a616-503bf99164d7",
   "metadata": {},
   "outputs": [
    {
     "data": {
      "text/html": [
       "<table class=\"dataframe\">\n",
       "<caption>A anova: 3 × 5</caption>\n",
       "<thead>\n",
       "\t<tr><th></th><th scope=col>Df</th><th scope=col>Sum Sq</th><th scope=col>Mean Sq</th><th scope=col>F value</th><th scope=col>Pr(&gt;F)</th></tr>\n",
       "\t<tr><th></th><th scope=col>&lt;int&gt;</th><th scope=col>&lt;dbl&gt;</th><th scope=col>&lt;dbl&gt;</th><th scope=col>&lt;dbl&gt;</th><th scope=col>&lt;dbl&gt;</th></tr>\n",
       "</thead>\n",
       "<tbody>\n",
       "\t<tr><th scope=row>x4</th><td>1</td><td>2221.98174</td><td>2221.98174</td><td>143.230386</td><td>7.182332e-05</td></tr>\n",
       "\t<tr><th scope=row>x4_</th><td>1</td><td>  33.95155</td><td>  33.95155</td><td>  2.188539</td><td>1.991072e-01</td></tr>\n",
       "\t<tr><th scope=row>Residuals</th><td>5</td><td>  77.56670</td><td>  15.51334</td><td>        NA</td><td>          NA</td></tr>\n",
       "</tbody>\n",
       "</table>\n"
      ],
      "text/latex": [
       "A anova: 3 × 5\n",
       "\\begin{tabular}{r|lllll}\n",
       "  & Df & Sum Sq & Mean Sq & F value & Pr(>F)\\\\\n",
       "  & <int> & <dbl> & <dbl> & <dbl> & <dbl>\\\\\n",
       "\\hline\n",
       "\tx4 & 1 & 2221.98174 & 2221.98174 & 143.230386 & 7.182332e-05\\\\\n",
       "\tx4\\_ & 1 &   33.95155 &   33.95155 &   2.188539 & 1.991072e-01\\\\\n",
       "\tResiduals & 5 &   77.56670 &   15.51334 &         NA &           NA\\\\\n",
       "\\end{tabular}\n"
      ],
      "text/markdown": [
       "\n",
       "A anova: 3 × 5\n",
       "\n",
       "| <!--/--> | Df &lt;int&gt; | Sum Sq &lt;dbl&gt; | Mean Sq &lt;dbl&gt; | F value &lt;dbl&gt; | Pr(&gt;F) &lt;dbl&gt; |\n",
       "|---|---|---|---|---|---|\n",
       "| x4 | 1 | 2221.98174 | 2221.98174 | 143.230386 | 7.182332e-05 |\n",
       "| x4_ | 1 |   33.95155 |   33.95155 |   2.188539 | 1.991072e-01 |\n",
       "| Residuals | 5 |   77.56670 |   15.51334 |         NA |           NA |\n",
       "\n"
      ],
      "text/plain": [
       "          Df Sum Sq     Mean Sq    F value    Pr(>F)      \n",
       "x4        1  2221.98174 2221.98174 143.230386 7.182332e-05\n",
       "x4_       1    33.95155   33.95155   2.188539 1.991072e-01\n",
       "Residuals 5    77.56670   15.51334         NA           NA"
      ]
     },
     "metadata": {},
     "output_type": "display_data"
    }
   ],
   "source": [
    "anova(fit104)"
   ]
  },
  {
   "cell_type": "markdown",
   "id": "6be941bd-a7a8-4509-a3f9-4763fe459caf",
   "metadata": {},
   "source": [
    "p-value 가 0에 근접하여 영가설을 기각한다. 즉, $\\beta_2$ 는 0이아니라는 것을 알 수 있다."
   ]
  },
  {
   "cell_type": "markdown",
   "id": "ec0db698-e78b-44fc-bfbb-be1f2894fe74",
   "metadata": {},
   "source": [
    "__________"
   ]
  },
  {
   "cell_type": "markdown",
   "id": "05a27792-2ffd-47c1-b39e-3074f2f3110a",
   "metadata": {},
   "source": [
    "# 10.5)"
   ]
  },
  {
   "cell_type": "markdown",
   "id": "df6409a3-be4e-4337-826f-11064eabe639",
   "metadata": {},
   "source": [
    "다음의 자료는 모든 조건이 같은 60마리의 실험용 동물을 각각 30마리씩 두 그룹으로 나누어 한 그룹에 A, 또 다른 그룹에는 B의 안정제를 $5, 10, 20mg$ 씩 투약했을 때 관찰된 불안도$(y)$이다. $y, x_1,x_2$를 각각 불안도, 약의 복용량, 약의 종류라고 하고 다음 질문에 답하여라. "
   ]
  },
  {
   "cell_type": "markdown",
   "id": "8350a738-bbeb-47b7-800d-9adf30f84b62",
   "metadata": {},
   "source": [
    "|     |  5 |    | 10 |    | 20 |    |\n",
    "|:---:|:--:|:--:|:--:|:--:|:--:|:--:|\n",
    "| (A) | 15 | 16 | 18 | 16 | 20 | 17 |\n",
    "| (A) | 16 | 15 | 17 | 15 | 19 | 18 |\n",
    "| (A) | 18 | 16 | 18 | 19 | 21 | 21 |\n",
    "| (A) | 13 | 17 | 19 | 18 | 18 | 20 |\n",
    "| (A) | 19 | 15 | 20 | 16 | 19 | 17 |\n",
    "| (B) | 16 | 15 | 19 | 18 | 24 | 23 |\n",
    "| (B) | 17 | 15 | 21 | 20 | 25 | 24 |\n",
    "| (B) | 18 | 18 | 22 | 21 | 23 | 22 |\n",
    "| (B) | 17 | 17 | 23 | 22 | 25 | 26 |\n",
    "| (B) | 15 | 16 | 20 | 19 | 25 | 24 |"
   ]
  },
  {
   "cell_type": "markdown",
   "id": "958ff2f9-7184-412a-97f1-16d0f8779d7e",
   "metadata": {},
   "source": [
    "### 1) 지시변수를 이용하여 자료에 대한 적절한 모형을 설정하여라."
   ]
  },
  {
   "cell_type": "markdown",
   "id": "968088da-5322-4c8f-ba90-4db83d5ab0ac",
   "metadata": {},
   "source": [
    "4.24-0.013x"
   ]
  },
  {
   "cell_type": "code",
   "execution_count": 3,
   "id": "10aa3ea4-4f15-4a88-bde0-233cd452fde8",
   "metadata": {},
   "outputs": [],
   "source": [
    "EX105 <- read.csv(\"105.csv\",header = T)"
   ]
  },
  {
   "cell_type": "code",
   "execution_count": 4,
   "id": "3533bbb8-1788-4408-bc9f-b427dde93311",
   "metadata": {},
   "outputs": [
    {
     "data": {
      "text/html": [
       "<table class=\"dataframe\">\n",
       "<caption>A data.frame: 60 × 4</caption>\n",
       "<thead>\n",
       "\t<tr><th scope=col>dosage</th><th scope=col>unrest</th><th scope=col>kind</th><th scope=col>kindn</th></tr>\n",
       "\t<tr><th scope=col>&lt;int&gt;</th><th scope=col>&lt;int&gt;</th><th scope=col>&lt;chr&gt;</th><th scope=col>&lt;int&gt;</th></tr>\n",
       "</thead>\n",
       "<tbody>\n",
       "\t<tr><td> 5</td><td>15</td><td>A</td><td>0</td></tr>\n",
       "\t<tr><td> 5</td><td>16</td><td>A</td><td>0</td></tr>\n",
       "\t<tr><td> 5</td><td>16</td><td>A</td><td>0</td></tr>\n",
       "\t<tr><td> 5</td><td>15</td><td>A</td><td>0</td></tr>\n",
       "\t<tr><td> 5</td><td>18</td><td>A</td><td>0</td></tr>\n",
       "\t<tr><td> 5</td><td>16</td><td>A</td><td>0</td></tr>\n",
       "\t<tr><td> 5</td><td>13</td><td>A</td><td>0</td></tr>\n",
       "\t<tr><td> 5</td><td>17</td><td>A</td><td>0</td></tr>\n",
       "\t<tr><td> 5</td><td>19</td><td>A</td><td>0</td></tr>\n",
       "\t<tr><td> 5</td><td>15</td><td>A</td><td>0</td></tr>\n",
       "\t<tr><td>10</td><td>18</td><td>A</td><td>0</td></tr>\n",
       "\t<tr><td>10</td><td>16</td><td>A</td><td>0</td></tr>\n",
       "\t<tr><td>10</td><td>17</td><td>A</td><td>0</td></tr>\n",
       "\t<tr><td>10</td><td>15</td><td>A</td><td>0</td></tr>\n",
       "\t<tr><td>10</td><td>18</td><td>A</td><td>0</td></tr>\n",
       "\t<tr><td>10</td><td>19</td><td>A</td><td>0</td></tr>\n",
       "\t<tr><td>10</td><td>19</td><td>A</td><td>0</td></tr>\n",
       "\t<tr><td>10</td><td>18</td><td>A</td><td>0</td></tr>\n",
       "\t<tr><td>10</td><td>20</td><td>A</td><td>0</td></tr>\n",
       "\t<tr><td>10</td><td>16</td><td>A</td><td>0</td></tr>\n",
       "\t<tr><td>20</td><td>20</td><td>A</td><td>0</td></tr>\n",
       "\t<tr><td>20</td><td>17</td><td>A</td><td>0</td></tr>\n",
       "\t<tr><td>20</td><td>19</td><td>A</td><td>0</td></tr>\n",
       "\t<tr><td>20</td><td>18</td><td>A</td><td>0</td></tr>\n",
       "\t<tr><td>20</td><td>21</td><td>A</td><td>0</td></tr>\n",
       "\t<tr><td>20</td><td>21</td><td>A</td><td>0</td></tr>\n",
       "\t<tr><td>20</td><td>18</td><td>A</td><td>0</td></tr>\n",
       "\t<tr><td>20</td><td>20</td><td>A</td><td>0</td></tr>\n",
       "\t<tr><td>20</td><td>19</td><td>A</td><td>0</td></tr>\n",
       "\t<tr><td>20</td><td>17</td><td>A</td><td>0</td></tr>\n",
       "\t<tr><td> 5</td><td>16</td><td>B</td><td>1</td></tr>\n",
       "\t<tr><td> 5</td><td>15</td><td>B</td><td>1</td></tr>\n",
       "\t<tr><td> 5</td><td>17</td><td>B</td><td>1</td></tr>\n",
       "\t<tr><td> 5</td><td>15</td><td>B</td><td>1</td></tr>\n",
       "\t<tr><td> 5</td><td>18</td><td>B</td><td>1</td></tr>\n",
       "\t<tr><td> 5</td><td>18</td><td>B</td><td>1</td></tr>\n",
       "\t<tr><td> 5</td><td>17</td><td>B</td><td>1</td></tr>\n",
       "\t<tr><td> 5</td><td>17</td><td>B</td><td>1</td></tr>\n",
       "\t<tr><td> 5</td><td>15</td><td>B</td><td>1</td></tr>\n",
       "\t<tr><td> 5</td><td>16</td><td>B</td><td>1</td></tr>\n",
       "\t<tr><td>10</td><td>21</td><td>B</td><td>1</td></tr>\n",
       "\t<tr><td>10</td><td>20</td><td>B</td><td>1</td></tr>\n",
       "\t<tr><td>10</td><td>22</td><td>B</td><td>1</td></tr>\n",
       "\t<tr><td>10</td><td>21</td><td>B</td><td>1</td></tr>\n",
       "\t<tr><td>10</td><td>23</td><td>B</td><td>1</td></tr>\n",
       "\t<tr><td>10</td><td>22</td><td>B</td><td>1</td></tr>\n",
       "\t<tr><td>10</td><td>20</td><td>B</td><td>1</td></tr>\n",
       "\t<tr><td>10</td><td>19</td><td>B</td><td>1</td></tr>\n",
       "\t<tr><td>10</td><td>24</td><td>B</td><td>1</td></tr>\n",
       "\t<tr><td>10</td><td>23</td><td>B</td><td>1</td></tr>\n",
       "\t<tr><td>20</td><td>25</td><td>B</td><td>1</td></tr>\n",
       "\t<tr><td>20</td><td>24</td><td>B</td><td>1</td></tr>\n",
       "\t<tr><td>20</td><td>23</td><td>B</td><td>1</td></tr>\n",
       "\t<tr><td>20</td><td>22</td><td>B</td><td>1</td></tr>\n",
       "\t<tr><td>20</td><td>25</td><td>B</td><td>1</td></tr>\n",
       "\t<tr><td>20</td><td>26</td><td>B</td><td>1</td></tr>\n",
       "\t<tr><td>20</td><td>25</td><td>B</td><td>1</td></tr>\n",
       "\t<tr><td>20</td><td>24</td><td>B</td><td>1</td></tr>\n",
       "\t<tr><td>20</td><td>24</td><td>B</td><td>1</td></tr>\n",
       "\t<tr><td>20</td><td>23</td><td>B</td><td>1</td></tr>\n",
       "</tbody>\n",
       "</table>\n"
      ],
      "text/latex": [
       "A data.frame: 60 × 4\n",
       "\\begin{tabular}{llll}\n",
       " dosage & unrest & kind & kindn\\\\\n",
       " <int> & <int> & <chr> & <int>\\\\\n",
       "\\hline\n",
       "\t  5 & 15 & A & 0\\\\\n",
       "\t  5 & 16 & A & 0\\\\\n",
       "\t  5 & 16 & A & 0\\\\\n",
       "\t  5 & 15 & A & 0\\\\\n",
       "\t  5 & 18 & A & 0\\\\\n",
       "\t  5 & 16 & A & 0\\\\\n",
       "\t  5 & 13 & A & 0\\\\\n",
       "\t  5 & 17 & A & 0\\\\\n",
       "\t  5 & 19 & A & 0\\\\\n",
       "\t  5 & 15 & A & 0\\\\\n",
       "\t 10 & 18 & A & 0\\\\\n",
       "\t 10 & 16 & A & 0\\\\\n",
       "\t 10 & 17 & A & 0\\\\\n",
       "\t 10 & 15 & A & 0\\\\\n",
       "\t 10 & 18 & A & 0\\\\\n",
       "\t 10 & 19 & A & 0\\\\\n",
       "\t 10 & 19 & A & 0\\\\\n",
       "\t 10 & 18 & A & 0\\\\\n",
       "\t 10 & 20 & A & 0\\\\\n",
       "\t 10 & 16 & A & 0\\\\\n",
       "\t 20 & 20 & A & 0\\\\\n",
       "\t 20 & 17 & A & 0\\\\\n",
       "\t 20 & 19 & A & 0\\\\\n",
       "\t 20 & 18 & A & 0\\\\\n",
       "\t 20 & 21 & A & 0\\\\\n",
       "\t 20 & 21 & A & 0\\\\\n",
       "\t 20 & 18 & A & 0\\\\\n",
       "\t 20 & 20 & A & 0\\\\\n",
       "\t 20 & 19 & A & 0\\\\\n",
       "\t 20 & 17 & A & 0\\\\\n",
       "\t  5 & 16 & B & 1\\\\\n",
       "\t  5 & 15 & B & 1\\\\\n",
       "\t  5 & 17 & B & 1\\\\\n",
       "\t  5 & 15 & B & 1\\\\\n",
       "\t  5 & 18 & B & 1\\\\\n",
       "\t  5 & 18 & B & 1\\\\\n",
       "\t  5 & 17 & B & 1\\\\\n",
       "\t  5 & 17 & B & 1\\\\\n",
       "\t  5 & 15 & B & 1\\\\\n",
       "\t  5 & 16 & B & 1\\\\\n",
       "\t 10 & 21 & B & 1\\\\\n",
       "\t 10 & 20 & B & 1\\\\\n",
       "\t 10 & 22 & B & 1\\\\\n",
       "\t 10 & 21 & B & 1\\\\\n",
       "\t 10 & 23 & B & 1\\\\\n",
       "\t 10 & 22 & B & 1\\\\\n",
       "\t 10 & 20 & B & 1\\\\\n",
       "\t 10 & 19 & B & 1\\\\\n",
       "\t 10 & 24 & B & 1\\\\\n",
       "\t 10 & 23 & B & 1\\\\\n",
       "\t 20 & 25 & B & 1\\\\\n",
       "\t 20 & 24 & B & 1\\\\\n",
       "\t 20 & 23 & B & 1\\\\\n",
       "\t 20 & 22 & B & 1\\\\\n",
       "\t 20 & 25 & B & 1\\\\\n",
       "\t 20 & 26 & B & 1\\\\\n",
       "\t 20 & 25 & B & 1\\\\\n",
       "\t 20 & 24 & B & 1\\\\\n",
       "\t 20 & 24 & B & 1\\\\\n",
       "\t 20 & 23 & B & 1\\\\\n",
       "\\end{tabular}\n"
      ],
      "text/markdown": [
       "\n",
       "A data.frame: 60 × 4\n",
       "\n",
       "| dosage &lt;int&gt; | unrest &lt;int&gt; | kind &lt;chr&gt; | kindn &lt;int&gt; |\n",
       "|---|---|---|---|\n",
       "|  5 | 15 | A | 0 |\n",
       "|  5 | 16 | A | 0 |\n",
       "|  5 | 16 | A | 0 |\n",
       "|  5 | 15 | A | 0 |\n",
       "|  5 | 18 | A | 0 |\n",
       "|  5 | 16 | A | 0 |\n",
       "|  5 | 13 | A | 0 |\n",
       "|  5 | 17 | A | 0 |\n",
       "|  5 | 19 | A | 0 |\n",
       "|  5 | 15 | A | 0 |\n",
       "| 10 | 18 | A | 0 |\n",
       "| 10 | 16 | A | 0 |\n",
       "| 10 | 17 | A | 0 |\n",
       "| 10 | 15 | A | 0 |\n",
       "| 10 | 18 | A | 0 |\n",
       "| 10 | 19 | A | 0 |\n",
       "| 10 | 19 | A | 0 |\n",
       "| 10 | 18 | A | 0 |\n",
       "| 10 | 20 | A | 0 |\n",
       "| 10 | 16 | A | 0 |\n",
       "| 20 | 20 | A | 0 |\n",
       "| 20 | 17 | A | 0 |\n",
       "| 20 | 19 | A | 0 |\n",
       "| 20 | 18 | A | 0 |\n",
       "| 20 | 21 | A | 0 |\n",
       "| 20 | 21 | A | 0 |\n",
       "| 20 | 18 | A | 0 |\n",
       "| 20 | 20 | A | 0 |\n",
       "| 20 | 19 | A | 0 |\n",
       "| 20 | 17 | A | 0 |\n",
       "|  5 | 16 | B | 1 |\n",
       "|  5 | 15 | B | 1 |\n",
       "|  5 | 17 | B | 1 |\n",
       "|  5 | 15 | B | 1 |\n",
       "|  5 | 18 | B | 1 |\n",
       "|  5 | 18 | B | 1 |\n",
       "|  5 | 17 | B | 1 |\n",
       "|  5 | 17 | B | 1 |\n",
       "|  5 | 15 | B | 1 |\n",
       "|  5 | 16 | B | 1 |\n",
       "| 10 | 21 | B | 1 |\n",
       "| 10 | 20 | B | 1 |\n",
       "| 10 | 22 | B | 1 |\n",
       "| 10 | 21 | B | 1 |\n",
       "| 10 | 23 | B | 1 |\n",
       "| 10 | 22 | B | 1 |\n",
       "| 10 | 20 | B | 1 |\n",
       "| 10 | 19 | B | 1 |\n",
       "| 10 | 24 | B | 1 |\n",
       "| 10 | 23 | B | 1 |\n",
       "| 20 | 25 | B | 1 |\n",
       "| 20 | 24 | B | 1 |\n",
       "| 20 | 23 | B | 1 |\n",
       "| 20 | 22 | B | 1 |\n",
       "| 20 | 25 | B | 1 |\n",
       "| 20 | 26 | B | 1 |\n",
       "| 20 | 25 | B | 1 |\n",
       "| 20 | 24 | B | 1 |\n",
       "| 20 | 24 | B | 1 |\n",
       "| 20 | 23 | B | 1 |\n",
       "\n"
      ],
      "text/plain": [
       "   dosage unrest kind kindn\n",
       "1   5     15     A    0    \n",
       "2   5     16     A    0    \n",
       "3   5     16     A    0    \n",
       "4   5     15     A    0    \n",
       "5   5     18     A    0    \n",
       "6   5     16     A    0    \n",
       "7   5     13     A    0    \n",
       "8   5     17     A    0    \n",
       "9   5     19     A    0    \n",
       "10  5     15     A    0    \n",
       "11 10     18     A    0    \n",
       "12 10     16     A    0    \n",
       "13 10     17     A    0    \n",
       "14 10     15     A    0    \n",
       "15 10     18     A    0    \n",
       "16 10     19     A    0    \n",
       "17 10     19     A    0    \n",
       "18 10     18     A    0    \n",
       "19 10     20     A    0    \n",
       "20 10     16     A    0    \n",
       "21 20     20     A    0    \n",
       "22 20     17     A    0    \n",
       "23 20     19     A    0    \n",
       "24 20     18     A    0    \n",
       "25 20     21     A    0    \n",
       "26 20     21     A    0    \n",
       "27 20     18     A    0    \n",
       "28 20     20     A    0    \n",
       "29 20     19     A    0    \n",
       "30 20     17     A    0    \n",
       "31  5     16     B    1    \n",
       "32  5     15     B    1    \n",
       "33  5     17     B    1    \n",
       "34  5     15     B    1    \n",
       "35  5     18     B    1    \n",
       "36  5     18     B    1    \n",
       "37  5     17     B    1    \n",
       "38  5     17     B    1    \n",
       "39  5     15     B    1    \n",
       "40  5     16     B    1    \n",
       "41 10     21     B    1    \n",
       "42 10     20     B    1    \n",
       "43 10     22     B    1    \n",
       "44 10     21     B    1    \n",
       "45 10     23     B    1    \n",
       "46 10     22     B    1    \n",
       "47 10     20     B    1    \n",
       "48 10     19     B    1    \n",
       "49 10     24     B    1    \n",
       "50 10     23     B    1    \n",
       "51 20     25     B    1    \n",
       "52 20     24     B    1    \n",
       "53 20     23     B    1    \n",
       "54 20     22     B    1    \n",
       "55 20     25     B    1    \n",
       "56 20     26     B    1    \n",
       "57 20     25     B    1    \n",
       "58 20     24     B    1    \n",
       "59 20     24     B    1    \n",
       "60 20     23     B    1    "
      ]
     },
     "metadata": {},
     "output_type": "display_data"
    }
   ],
   "source": [
    "EX105"
   ]
  },
  {
   "cell_type": "code",
   "execution_count": 5,
   "id": "79d126ab-c048-44c3-9b73-2e72dbbf85cf",
   "metadata": {},
   "outputs": [
    {
     "data": {
      "text/html": [
       "<style>\n",
       ".list-inline {list-style: none; margin:0; padding: 0}\n",
       ".list-inline>li {display: inline-block}\n",
       ".list-inline>li:not(:last-child)::after {content: \"\\00b7\"; padding: 0 .5ex}\n",
       "</style>\n",
       "<ol class=list-inline><li>1</li><li>1</li><li>1</li><li>1</li><li>1</li><li>1</li><li>1</li><li>1</li><li>1</li><li>1</li><li>1</li><li>1</li><li>1</li><li>1</li><li>1</li><li>1</li><li>1</li><li>1</li><li>1</li><li>1</li><li>1</li><li>1</li><li>1</li><li>1</li><li>1</li><li>1</li><li>1</li><li>1</li><li>1</li><li>1</li><li>1</li><li>1</li><li>1</li><li>1</li><li>1</li><li>1</li><li>1</li><li>1</li><li>1</li><li>1</li><li>1</li><li>1</li><li>1</li><li>1</li><li>1</li><li>1</li><li>1</li><li>1</li><li>1</li><li>1</li><li>1</li><li>1</li><li>1</li><li>1</li><li>1</li><li>1</li><li>1</li><li>1</li><li>1</li><li>1</li></ol>\n"
      ],
      "text/latex": [
       "\\begin{enumerate*}\n",
       "\\item 1\n",
       "\\item 1\n",
       "\\item 1\n",
       "\\item 1\n",
       "\\item 1\n",
       "\\item 1\n",
       "\\item 1\n",
       "\\item 1\n",
       "\\item 1\n",
       "\\item 1\n",
       "\\item 1\n",
       "\\item 1\n",
       "\\item 1\n",
       "\\item 1\n",
       "\\item 1\n",
       "\\item 1\n",
       "\\item 1\n",
       "\\item 1\n",
       "\\item 1\n",
       "\\item 1\n",
       "\\item 1\n",
       "\\item 1\n",
       "\\item 1\n",
       "\\item 1\n",
       "\\item 1\n",
       "\\item 1\n",
       "\\item 1\n",
       "\\item 1\n",
       "\\item 1\n",
       "\\item 1\n",
       "\\item 1\n",
       "\\item 1\n",
       "\\item 1\n",
       "\\item 1\n",
       "\\item 1\n",
       "\\item 1\n",
       "\\item 1\n",
       "\\item 1\n",
       "\\item 1\n",
       "\\item 1\n",
       "\\item 1\n",
       "\\item 1\n",
       "\\item 1\n",
       "\\item 1\n",
       "\\item 1\n",
       "\\item 1\n",
       "\\item 1\n",
       "\\item 1\n",
       "\\item 1\n",
       "\\item 1\n",
       "\\item 1\n",
       "\\item 1\n",
       "\\item 1\n",
       "\\item 1\n",
       "\\item 1\n",
       "\\item 1\n",
       "\\item 1\n",
       "\\item 1\n",
       "\\item 1\n",
       "\\item 1\n",
       "\\end{enumerate*}\n"
      ],
      "text/markdown": [
       "1. 1\n",
       "2. 1\n",
       "3. 1\n",
       "4. 1\n",
       "5. 1\n",
       "6. 1\n",
       "7. 1\n",
       "8. 1\n",
       "9. 1\n",
       "10. 1\n",
       "11. 1\n",
       "12. 1\n",
       "13. 1\n",
       "14. 1\n",
       "15. 1\n",
       "16. 1\n",
       "17. 1\n",
       "18. 1\n",
       "19. 1\n",
       "20. 1\n",
       "21. 1\n",
       "22. 1\n",
       "23. 1\n",
       "24. 1\n",
       "25. 1\n",
       "26. 1\n",
       "27. 1\n",
       "28. 1\n",
       "29. 1\n",
       "30. 1\n",
       "31. 1\n",
       "32. 1\n",
       "33. 1\n",
       "34. 1\n",
       "35. 1\n",
       "36. 1\n",
       "37. 1\n",
       "38. 1\n",
       "39. 1\n",
       "40. 1\n",
       "41. 1\n",
       "42. 1\n",
       "43. 1\n",
       "44. 1\n",
       "45. 1\n",
       "46. 1\n",
       "47. 1\n",
       "48. 1\n",
       "49. 1\n",
       "50. 1\n",
       "51. 1\n",
       "52. 1\n",
       "53. 1\n",
       "54. 1\n",
       "55. 1\n",
       "56. 1\n",
       "57. 1\n",
       "58. 1\n",
       "59. 1\n",
       "60. 1\n",
       "\n",
       "\n"
      ],
      "text/plain": [
       " [1] 1 1 1 1 1 1 1 1 1 1 1 1 1 1 1 1 1 1 1 1 1 1 1 1 1 1 1 1 1 1 1 1 1 1 1 1 1 1\n",
       "[39] 1 1 1 1 1 1 1 1 1 1 1 1 1 1 1 1 1 1 1 1 1 1"
      ]
     },
     "metadata": {},
     "output_type": "display_data"
    }
   ],
   "source": [
    "one <- rep(1,length(EX105$kind))"
   ]
  },
  {
   "cell_type": "code",
   "execution_count": 7,
   "id": "08d732a6-7d08-4dfe-91b0-bb99f3c8dfb2",
   "metadata": {},
   "outputs": [],
   "source": [
    "X105 <- matrix(c(one,EX105$dosage,EX105$kindn),length(EX105$kind),3)"
   ]
  },
  {
   "cell_type": "code",
   "execution_count": 8,
   "id": "34b0f050-8a1d-40bd-8eb9-b6dbbbf3651b",
   "metadata": {},
   "outputs": [],
   "source": [
    "y105 <- matrix(c(EX105$unrest),length(EX105$unrest),1)"
   ]
  },
  {
   "cell_type": "code",
   "execution_count": 9,
   "id": "4617a83b-e7f9-4675-9347-a876a1d5b01b",
   "metadata": {},
   "outputs": [
    {
     "data": {
      "text/html": [
       "<table class=\"dataframe\">\n",
       "<caption>A matrix: 3 × 1 of type dbl</caption>\n",
       "<tbody>\n",
       "\t<tr><td>13.6333333</td></tr>\n",
       "\t<tr><td> 0.3342857</td></tr>\n",
       "\t<tr><td> 3.1333333</td></tr>\n",
       "</tbody>\n",
       "</table>\n"
      ],
      "text/latex": [
       "A matrix: 3 × 1 of type dbl\n",
       "\\begin{tabular}{l}\n",
       "\t 13.6333333\\\\\n",
       "\t  0.3342857\\\\\n",
       "\t  3.1333333\\\\\n",
       "\\end{tabular}\n"
      ],
      "text/markdown": [
       "\n",
       "A matrix: 3 × 1 of type dbl\n",
       "\n",
       "| 13.6333333 |\n",
       "|  0.3342857 |\n",
       "|  3.1333333 |\n",
       "\n"
      ],
      "text/plain": [
       "     [,1]      \n",
       "[1,] 13.6333333\n",
       "[2,]  0.3342857\n",
       "[3,]  3.1333333"
      ]
     },
     "metadata": {},
     "output_type": "display_data"
    }
   ],
   "source": [
    "solve(t(X105)%*%X105)%*%t(X105)%*%y105"
   ]
  },
  {
   "cell_type": "markdown",
   "id": "e03c1ae1-8371-48a1-ad7a-a008223340c9",
   "metadata": {},
   "source": [
    "### 2) (1)의 모형을 최소제곱법에 의해 추정하고 분산분석표를 작성하여라."
   ]
  },
  {
   "cell_type": "code",
   "execution_count": 10,
   "id": "9178eeaa-facf-49f9-bf51-cd290e03d1ae",
   "metadata": {},
   "outputs": [],
   "source": [
    "fit105 <- lm(EX105$unrest~EX105$dosage+EX105$kindn)"
   ]
  },
  {
   "cell_type": "code",
   "execution_count": 11,
   "id": "8d6e4733-ad54-4621-998b-d0f6c92a78b3",
   "metadata": {},
   "outputs": [
    {
     "data": {
      "text/plain": [
       "\n",
       "Call:\n",
       "lm(formula = EX105$unrest ~ EX105$dosage + EX105$kindn)\n",
       "\n",
       "Residuals:\n",
       "    Min      1Q  Median      3Q     Max \n",
       "-3.4381 -1.3488 -0.1095  1.1548  3.8905 \n",
       "\n",
       "Coefficients:\n",
       "             Estimate Std. Error t value Pr(>|t|)    \n",
       "(Intercept)  13.63333    0.57751  23.607  < 2e-16 ***\n",
       "EX105$dosage  0.33429    0.03949   8.465 1.17e-11 ***\n",
       "EX105$kindn   3.13333    0.49251   6.362 3.65e-08 ***\n",
       "---\n",
       "Signif. codes:  0 ‘***’ 0.001 ‘**’ 0.01 ‘*’ 0.05 ‘.’ 0.1 ‘ ’ 1\n",
       "\n",
       "Residual standard error: 1.907 on 57 degrees of freedom\n",
       "Multiple R-squared:  0.663,\tAdjusted R-squared:  0.6512 \n",
       "F-statistic: 56.07 on 2 and 57 DF,  p-value: 3.447e-14\n"
      ]
     },
     "metadata": {},
     "output_type": "display_data"
    }
   ],
   "source": [
    "summary(fit105)"
   ]
  },
  {
   "cell_type": "code",
   "execution_count": 13,
   "id": "aa251aa8-7075-41af-a286-65c3ac741a8e",
   "metadata": {},
   "outputs": [
    {
     "data": {
      "text/html": [
       "<table class=\"dataframe\">\n",
       "<caption>A anova: 3 × 5</caption>\n",
       "<thead>\n",
       "\t<tr><th></th><th scope=col>Df</th><th scope=col>Sum Sq</th><th scope=col>Mean Sq</th><th scope=col>F value</th><th scope=col>Pr(&gt;F)</th></tr>\n",
       "\t<tr><th></th><th scope=col>&lt;int&gt;</th><th scope=col>&lt;dbl&gt;</th><th scope=col>&lt;dbl&gt;</th><th scope=col>&lt;dbl&gt;</th><th scope=col>&lt;dbl&gt;</th></tr>\n",
       "</thead>\n",
       "<tbody>\n",
       "\t<tr><th scope=row>EX105$dosage</th><td> 1</td><td>260.7429</td><td>260.742857</td><td>71.66357</td><td>1.165330e-11</td></tr>\n",
       "\t<tr><th scope=row>EX105$kindn</th><td> 1</td><td>147.2667</td><td>147.266667</td><td>40.47534</td><td>3.647996e-08</td></tr>\n",
       "\t<tr><th scope=row>Residuals</th><td>57</td><td>207.3905</td><td>  3.638429</td><td>      NA</td><td>          NA</td></tr>\n",
       "</tbody>\n",
       "</table>\n"
      ],
      "text/latex": [
       "A anova: 3 × 5\n",
       "\\begin{tabular}{r|lllll}\n",
       "  & Df & Sum Sq & Mean Sq & F value & Pr(>F)\\\\\n",
       "  & <int> & <dbl> & <dbl> & <dbl> & <dbl>\\\\\n",
       "\\hline\n",
       "\tEX105\\$dosage &  1 & 260.7429 & 260.742857 & 71.66357 & 1.165330e-11\\\\\n",
       "\tEX105\\$kindn &  1 & 147.2667 & 147.266667 & 40.47534 & 3.647996e-08\\\\\n",
       "\tResiduals & 57 & 207.3905 &   3.638429 &       NA &           NA\\\\\n",
       "\\end{tabular}\n"
      ],
      "text/markdown": [
       "\n",
       "A anova: 3 × 5\n",
       "\n",
       "| <!--/--> | Df &lt;int&gt; | Sum Sq &lt;dbl&gt; | Mean Sq &lt;dbl&gt; | F value &lt;dbl&gt; | Pr(&gt;F) &lt;dbl&gt; |\n",
       "|---|---|---|---|---|---|\n",
       "| EX105$dosage |  1 | 260.7429 | 260.742857 | 71.66357 | 1.165330e-11 |\n",
       "| EX105$kindn |  1 | 147.2667 | 147.266667 | 40.47534 | 3.647996e-08 |\n",
       "| Residuals | 57 | 207.3905 |   3.638429 |       NA |           NA |\n",
       "\n"
      ],
      "text/plain": [
       "             Df Sum Sq   Mean Sq    F value  Pr(>F)      \n",
       "EX105$dosage  1 260.7429 260.742857 71.66357 1.165330e-11\n",
       "EX105$kindn   1 147.2667 147.266667 40.47534 3.647996e-08\n",
       "Residuals    57 207.3905   3.638429       NA           NA"
      ]
     },
     "metadata": {},
     "output_type": "display_data"
    }
   ],
   "source": [
    "anova(fit105)"
   ]
  },
  {
   "cell_type": "markdown",
   "id": "a2f8941a-2f2b-496f-84ca-b44eabebdaec",
   "metadata": {},
   "source": [
    "### 3) 자료에 $y=\\beta_0+\\beta_1x_1+\\beta_2x_2+\\epsilon$를 적합시키고 회귀선을 추정하여라."
   ]
  },
  {
   "cell_type": "markdown",
   "id": "b819942b-77da-46af-a41b-11c64d49785b",
   "metadata": {},
   "source": [
    "$ \\to b_0 = 13.63 , b_1 = 0.3343 , b_2 = 3.133 $\n",
    "\n",
    "반응 함수는 $\\hat{y} = 13.63 + 0.3343x_1 + 3.133x_2 $ 이다."
   ]
  },
  {
   "cell_type": "markdown",
   "id": "7863d97f-4df2-49a8-b627-b77b67eb058b",
   "metadata": {},
   "source": [
    "이 결과는 많은양 복용시 불안도가 올라가고, B의 안정제의 불안도가 3정도 더 높다는 것을 보여준다.  "
   ]
  },
  {
   "cell_type": "markdown",
   "id": "94503599-951e-49f1-a9b2-34a50000ab07",
   "metadata": {},
   "source": [
    "### 4) 교호작용이 있는지 검정하여라. $\\alpha = 0.05$"
   ]
  },
  {
   "cell_type": "code",
   "execution_count": 19,
   "id": "0bc2ab7c-2918-4b1c-ad59-377cb06d1737",
   "metadata": {},
   "outputs": [],
   "source": [
    "EX105[,\"inter\"] <- EX105$dosage * EX105$kindn"
   ]
  },
  {
   "cell_type": "code",
   "execution_count": 21,
   "id": "dce1d338-cfab-4763-8e1f-ac34831c387f",
   "metadata": {},
   "outputs": [],
   "source": [
    "fit105int <- lm(EX105$unrest~EX105$dosage+EX105$kindn+EX105$inter)"
   ]
  },
  {
   "cell_type": "code",
   "execution_count": 22,
   "id": "4323fdb9-c0d3-4b11-b2b8-b081334f7db5",
   "metadata": {},
   "outputs": [
    {
     "data": {
      "text/plain": [
       "\n",
       "Call:\n",
       "lm(formula = EX105$unrest ~ EX105$dosage + EX105$kindn + EX105$inter)\n",
       "\n",
       "Residuals:\n",
       "    Min      1Q  Median      3Q     Max \n",
       "-3.2571 -1.2250 -0.1714  0.9357  4.1286 \n",
       "\n",
       "Coefficients:\n",
       "             Estimate Std. Error t value Pr(>|t|)    \n",
       "(Intercept)  15.30000    0.65419  23.388  < 2e-16 ***\n",
       "EX105$dosage  0.19143    0.04945   3.871 0.000286 ***\n",
       "EX105$kindn  -0.20000    0.92516  -0.216 0.829634    \n",
       "EX105$inter   0.28571    0.06994   4.085 0.000142 ***\n",
       "---\n",
       "Signif. codes:  0 ‘***’ 0.001 ‘**’ 0.01 ‘*’ 0.05 ‘.’ 0.1 ‘ ’ 1\n",
       "\n",
       "Residual standard error: 1.689 on 56 degrees of freedom\n",
       "Multiple R-squared:  0.7404,\tAdjusted R-squared:  0.7265 \n",
       "F-statistic: 53.23 on 3 and 56 DF,  p-value: < 2.2e-16\n"
      ]
     },
     "metadata": {},
     "output_type": "display_data"
    }
   ],
   "source": [
    "summary(fit105int)"
   ]
  },
  {
   "cell_type": "markdown",
   "id": "f111232f-8480-4a6d-8f13-ff230f1e7837",
   "metadata": {},
   "source": [
    "$\\to kindn$ 의 pvalue가 상당히 크게 측정되어 교호작용은 없는것으로 판단된다."
   ]
  },
  {
   "cell_type": "markdown",
   "id": "3324d56d-8139-4e83-b197-01c76d778112",
   "metadata": {},
   "source": [
    "________"
   ]
  },
  {
   "cell_type": "markdown",
   "id": "6ad200b3-3d80-4770-8311-d5e1ff64b70c",
   "metadata": {},
   "source": [
    "# 10.7)"
   ]
  },
  {
   "cell_type": "markdown",
   "id": "45c430cd-1881-488a-a27c-648765df7b44",
   "metadata": {},
   "source": [
    "다음 자료는 어느 초등 학교에서 안경을 쓴 학생들을 학년별로 조사한 자료이다."
   ]
  },
  {
   "cell_type": "markdown",
   "id": "04646858-0d1a-454b-bf4f-a4c511774b9f",
   "metadata": {},
   "source": [
    "| 학년별 | 1 | 2 | 3 | 4 | 5 | 6 |\n",
    "|:---:|:---:|:---:|:---:|:---:|:---:|:---:|\n",
    "| 전체학생수 | 250 | 252 | 151 | 204 | 202 | 195 |\n",
    "| 안경착용수 | 15 | 20 | 18 | 25 | 32 | 40 |"
   ]
  },
  {
   "cell_type": "markdown",
   "id": "414b170c-119d-496e-9177-dd43b58b1f31",
   "metadata": {},
   "source": [
    "### 1)로지스틱 반응함수를 추정하여라."
   ]
  },
  {
   "cell_type": "code",
   "execution_count": 35,
   "id": "7e1563b0-e392-4b5b-aefc-15f1656e1560",
   "metadata": {},
   "outputs": [],
   "source": [
    "EX107 <- read.csv(\"107.csv\",header=T)\n",
    "attach(EX107)"
   ]
  },
  {
   "cell_type": "code",
   "execution_count": 36,
   "id": "c17ad6bf-311d-4697-bf82-cae62107bd5a",
   "metadata": {},
   "outputs": [
    {
     "data": {
      "text/html": [
       "<table class=\"dataframe\">\n",
       "<caption>A data.frame: 6 × 3</caption>\n",
       "<thead>\n",
       "\t<tr><th></th><th scope=col>grade</th><th scope=col>student</th><th scope=col>glasses</th></tr>\n",
       "\t<tr><th></th><th scope=col>&lt;int&gt;</th><th scope=col>&lt;int&gt;</th><th scope=col>&lt;int&gt;</th></tr>\n",
       "</thead>\n",
       "<tbody>\n",
       "\t<tr><th scope=row>1</th><td>1</td><td>250</td><td>15</td></tr>\n",
       "\t<tr><th scope=row>2</th><td>2</td><td>252</td><td>20</td></tr>\n",
       "\t<tr><th scope=row>3</th><td>3</td><td>151</td><td>18</td></tr>\n",
       "\t<tr><th scope=row>4</th><td>4</td><td>204</td><td>25</td></tr>\n",
       "\t<tr><th scope=row>5</th><td>5</td><td>202</td><td>32</td></tr>\n",
       "\t<tr><th scope=row>6</th><td>6</td><td>195</td><td>40</td></tr>\n",
       "</tbody>\n",
       "</table>\n"
      ],
      "text/latex": [
       "A data.frame: 6 × 3\n",
       "\\begin{tabular}{r|lll}\n",
       "  & grade & student & glasses\\\\\n",
       "  & <int> & <int> & <int>\\\\\n",
       "\\hline\n",
       "\t1 & 1 & 250 & 15\\\\\n",
       "\t2 & 2 & 252 & 20\\\\\n",
       "\t3 & 3 & 151 & 18\\\\\n",
       "\t4 & 4 & 204 & 25\\\\\n",
       "\t5 & 5 & 202 & 32\\\\\n",
       "\t6 & 6 & 195 & 40\\\\\n",
       "\\end{tabular}\n"
      ],
      "text/markdown": [
       "\n",
       "A data.frame: 6 × 3\n",
       "\n",
       "| <!--/--> | grade &lt;int&gt; | student &lt;int&gt; | glasses &lt;int&gt; |\n",
       "|---|---|---|---|\n",
       "| 1 | 1 | 250 | 15 |\n",
       "| 2 | 2 | 252 | 20 |\n",
       "| 3 | 3 | 151 | 18 |\n",
       "| 4 | 4 | 204 | 25 |\n",
       "| 5 | 5 | 202 | 32 |\n",
       "| 6 | 6 | 195 | 40 |\n",
       "\n"
      ],
      "text/plain": [
       "  grade student glasses\n",
       "1 1     250     15     \n",
       "2 2     252     20     \n",
       "3 3     151     18     \n",
       "4 4     204     25     \n",
       "5 5     202     32     \n",
       "6 6     195     40     "
      ]
     },
     "metadata": {},
     "output_type": "display_data"
    }
   ],
   "source": [
    "head(EX107)"
   ]
  },
  {
   "cell_type": "code",
   "execution_count": 46,
   "id": "c11ca600-2029-4761-b5fd-14657628beca",
   "metadata": {},
   "outputs": [
    {
     "data": {
      "text/html": [
       "<table class=\"dataframe\">\n",
       "<caption>A data.frame: 6 × 4</caption>\n",
       "<thead>\n",
       "\t<tr><th scope=col>grade</th><th scope=col>student</th><th scope=col>glasses</th><th scope=col>P</th></tr>\n",
       "\t<tr><th scope=col>&lt;int&gt;</th><th scope=col>&lt;int&gt;</th><th scope=col>&lt;int&gt;</th><th scope=col>&lt;dbl&gt;</th></tr>\n",
       "</thead>\n",
       "<tbody>\n",
       "\t<tr><td>1</td><td>250</td><td>15</td><td>0.06000000</td></tr>\n",
       "\t<tr><td>2</td><td>252</td><td>20</td><td>0.07936508</td></tr>\n",
       "\t<tr><td>3</td><td>151</td><td>18</td><td>0.11920530</td></tr>\n",
       "\t<tr><td>4</td><td>204</td><td>25</td><td>0.12254902</td></tr>\n",
       "\t<tr><td>5</td><td>202</td><td>32</td><td>0.15841584</td></tr>\n",
       "\t<tr><td>6</td><td>195</td><td>40</td><td>0.20512821</td></tr>\n",
       "</tbody>\n",
       "</table>\n"
      ],
      "text/latex": [
       "A data.frame: 6 × 4\n",
       "\\begin{tabular}{llll}\n",
       " grade & student & glasses & P\\\\\n",
       " <int> & <int> & <int> & <dbl>\\\\\n",
       "\\hline\n",
       "\t 1 & 250 & 15 & 0.06000000\\\\\n",
       "\t 2 & 252 & 20 & 0.07936508\\\\\n",
       "\t 3 & 151 & 18 & 0.11920530\\\\\n",
       "\t 4 & 204 & 25 & 0.12254902\\\\\n",
       "\t 5 & 202 & 32 & 0.15841584\\\\\n",
       "\t 6 & 195 & 40 & 0.20512821\\\\\n",
       "\\end{tabular}\n"
      ],
      "text/markdown": [
       "\n",
       "A data.frame: 6 × 4\n",
       "\n",
       "| grade &lt;int&gt; | student &lt;int&gt; | glasses &lt;int&gt; | P &lt;dbl&gt; |\n",
       "|---|---|---|---|\n",
       "| 1 | 250 | 15 | 0.06000000 |\n",
       "| 2 | 252 | 20 | 0.07936508 |\n",
       "| 3 | 151 | 18 | 0.11920530 |\n",
       "| 4 | 204 | 25 | 0.12254902 |\n",
       "| 5 | 202 | 32 | 0.15841584 |\n",
       "| 6 | 195 | 40 | 0.20512821 |\n",
       "\n"
      ],
      "text/plain": [
       "  grade student glasses P         \n",
       "1 1     250     15      0.06000000\n",
       "2 2     252     20      0.07936508\n",
       "3 3     151     18      0.11920530\n",
       "4 4     204     25      0.12254902\n",
       "5 5     202     32      0.15841584\n",
       "6 6     195     40      0.20512821"
      ]
     },
     "metadata": {},
     "output_type": "display_data"
    }
   ],
   "source": [
    "EX107[,\"P\"] <- glasses/student\n",
    "EX107"
   ]
  },
  {
   "cell_type": "code",
   "execution_count": 37,
   "id": "2ef12569-ef18-49ec-82af-21166baa5ae3",
   "metadata": {},
   "outputs": [],
   "source": [
    "logit <- function(x) log(x/(1-x))"
   ]
  },
  {
   "cell_type": "code",
   "execution_count": 53,
   "id": "f896c899-448e-4364-b5f4-430943a80535",
   "metadata": {},
   "outputs": [
    {
     "data": {
      "text/html": [
       "<table class=\"dataframe\">\n",
       "<caption>A data.frame: 6 × 5</caption>\n",
       "<thead>\n",
       "\t<tr><th scope=col>grade</th><th scope=col>student</th><th scope=col>glasses</th><th scope=col>P</th><th scope=col>Pstar</th></tr>\n",
       "\t<tr><th scope=col>&lt;int&gt;</th><th scope=col>&lt;int&gt;</th><th scope=col>&lt;int&gt;</th><th scope=col>&lt;dbl&gt;</th><th scope=col>&lt;dbl&gt;</th></tr>\n",
       "</thead>\n",
       "<tbody>\n",
       "\t<tr><td>1</td><td>250</td><td>15</td><td>0.06000000</td><td>-2.751535</td></tr>\n",
       "\t<tr><td>2</td><td>252</td><td>20</td><td>0.07936508</td><td>-2.451005</td></tr>\n",
       "\t<tr><td>3</td><td>151</td><td>18</td><td>0.11920530</td><td>-1.999977</td></tr>\n",
       "\t<tr><td>4</td><td>204</td><td>25</td><td>0.12254902</td><td>-1.968510</td></tr>\n",
       "\t<tr><td>5</td><td>202</td><td>32</td><td>0.15841584</td><td>-1.670063</td></tr>\n",
       "\t<tr><td>6</td><td>195</td><td>40</td><td>0.20512821</td><td>-1.354546</td></tr>\n",
       "</tbody>\n",
       "</table>\n"
      ],
      "text/latex": [
       "A data.frame: 6 × 5\n",
       "\\begin{tabular}{lllll}\n",
       " grade & student & glasses & P & Pstar\\\\\n",
       " <int> & <int> & <int> & <dbl> & <dbl>\\\\\n",
       "\\hline\n",
       "\t 1 & 250 & 15 & 0.06000000 & -2.751535\\\\\n",
       "\t 2 & 252 & 20 & 0.07936508 & -2.451005\\\\\n",
       "\t 3 & 151 & 18 & 0.11920530 & -1.999977\\\\\n",
       "\t 4 & 204 & 25 & 0.12254902 & -1.968510\\\\\n",
       "\t 5 & 202 & 32 & 0.15841584 & -1.670063\\\\\n",
       "\t 6 & 195 & 40 & 0.20512821 & -1.354546\\\\\n",
       "\\end{tabular}\n"
      ],
      "text/markdown": [
       "\n",
       "A data.frame: 6 × 5\n",
       "\n",
       "| grade &lt;int&gt; | student &lt;int&gt; | glasses &lt;int&gt; | P &lt;dbl&gt; | Pstar &lt;dbl&gt; |\n",
       "|---|---|---|---|---|\n",
       "| 1 | 250 | 15 | 0.06000000 | -2.751535 |\n",
       "| 2 | 252 | 20 | 0.07936508 | -2.451005 |\n",
       "| 3 | 151 | 18 | 0.11920530 | -1.999977 |\n",
       "| 4 | 204 | 25 | 0.12254902 | -1.968510 |\n",
       "| 5 | 202 | 32 | 0.15841584 | -1.670063 |\n",
       "| 6 | 195 | 40 | 0.20512821 | -1.354546 |\n",
       "\n"
      ],
      "text/plain": [
       "  grade student glasses P          Pstar    \n",
       "1 1     250     15      0.06000000 -2.751535\n",
       "2 2     252     20      0.07936508 -2.451005\n",
       "3 3     151     18      0.11920530 -1.999977\n",
       "4 4     204     25      0.12254902 -1.968510\n",
       "5 5     202     32      0.15841584 -1.670063\n",
       "6 6     195     40      0.20512821 -1.354546"
      ]
     },
     "metadata": {},
     "output_type": "display_data"
    }
   ],
   "source": [
    "EX107[,\"Pstar\"] <- logit(EX107$P)\n",
    "EX107"
   ]
  },
  {
   "cell_type": "code",
   "execution_count": 77,
   "id": "d39d1d4c-a987-4fbb-b8d5-d3bafc893dec",
   "metadata": {},
   "outputs": [
    {
     "name": "stdout",
     "output_type": "stream",
     "text": [
      "[1] 14.1\n",
      "[1] 18.4127\n",
      "[1] 15.8543\n",
      "[1] 21.93627\n",
      "[1] 26.93069\n",
      "[1] 31.79487\n"
     ]
    }
   ],
   "source": [
    "temp = 0\n",
    "for (i in 1:6){\n",
    "    temp = EX107$student[i]*EX107$P[i]*(1-EX107$P[i])\n",
    "    print(temp)\n",
    "}"
   ]
  },
  {
   "cell_type": "code",
   "execution_count": 78,
   "id": "7996a0a1-fb02-4f1e-85ee-81d634b8918e",
   "metadata": {},
   "outputs": [],
   "source": [
    "a <- c(14.1,0,0,0,0,0)\n",
    "b <- c(0,18.4127,0,0,0,0)\n",
    "c <- c(0,0,15.8543,0,0,0)\n",
    "d <- c(0,0,0,21.93627,0,0)\n",
    "e <- c(0,0,0,0,26.93069,0)\n",
    "f <- c(0,0,0,0,0,31.79487)"
   ]
  },
  {
   "cell_type": "code",
   "execution_count": 81,
   "id": "2e79db9f-5dfd-4215-b211-65cb394728f3",
   "metadata": {},
   "outputs": [
    {
     "data": {
      "text/html": [
       "<table class=\"dataframe\">\n",
       "<caption>A matrix: 6 × 6 of type dbl</caption>\n",
       "<tbody>\n",
       "\t<tr><td>14.1</td><td> 0.0000</td><td> 0.0000</td><td> 0.00000</td><td> 0.00000</td><td> 0.00000</td></tr>\n",
       "\t<tr><td> 0.0</td><td>18.4127</td><td> 0.0000</td><td> 0.00000</td><td> 0.00000</td><td> 0.00000</td></tr>\n",
       "\t<tr><td> 0.0</td><td> 0.0000</td><td>15.8543</td><td> 0.00000</td><td> 0.00000</td><td> 0.00000</td></tr>\n",
       "\t<tr><td> 0.0</td><td> 0.0000</td><td> 0.0000</td><td>21.93627</td><td> 0.00000</td><td> 0.00000</td></tr>\n",
       "\t<tr><td> 0.0</td><td> 0.0000</td><td> 0.0000</td><td> 0.00000</td><td>26.93069</td><td> 0.00000</td></tr>\n",
       "\t<tr><td> 0.0</td><td> 0.0000</td><td> 0.0000</td><td> 0.00000</td><td> 0.00000</td><td>31.79487</td></tr>\n",
       "</tbody>\n",
       "</table>\n"
      ],
      "text/latex": [
       "A matrix: 6 × 6 of type dbl\n",
       "\\begin{tabular}{llllll}\n",
       "\t 14.1 &  0.0000 &  0.0000 &  0.00000 &  0.00000 &  0.00000\\\\\n",
       "\t  0.0 & 18.4127 &  0.0000 &  0.00000 &  0.00000 &  0.00000\\\\\n",
       "\t  0.0 &  0.0000 & 15.8543 &  0.00000 &  0.00000 &  0.00000\\\\\n",
       "\t  0.0 &  0.0000 &  0.0000 & 21.93627 &  0.00000 &  0.00000\\\\\n",
       "\t  0.0 &  0.0000 &  0.0000 &  0.00000 & 26.93069 &  0.00000\\\\\n",
       "\t  0.0 &  0.0000 &  0.0000 &  0.00000 &  0.00000 & 31.79487\\\\\n",
       "\\end{tabular}\n"
      ],
      "text/markdown": [
       "\n",
       "A matrix: 6 × 6 of type dbl\n",
       "\n",
       "| 14.1 |  0.0000 |  0.0000 |  0.00000 |  0.00000 |  0.00000 |\n",
       "|  0.0 | 18.4127 |  0.0000 |  0.00000 |  0.00000 |  0.00000 |\n",
       "|  0.0 |  0.0000 | 15.8543 |  0.00000 |  0.00000 |  0.00000 |\n",
       "|  0.0 |  0.0000 |  0.0000 | 21.93627 |  0.00000 |  0.00000 |\n",
       "|  0.0 |  0.0000 |  0.0000 |  0.00000 | 26.93069 |  0.00000 |\n",
       "|  0.0 |  0.0000 |  0.0000 |  0.00000 |  0.00000 | 31.79487 |\n",
       "\n"
      ],
      "text/plain": [
       "     [,1] [,2]    [,3]    [,4]     [,5]     [,6]    \n",
       "[1,] 14.1  0.0000  0.0000  0.00000  0.00000  0.00000\n",
       "[2,]  0.0 18.4127  0.0000  0.00000  0.00000  0.00000\n",
       "[3,]  0.0  0.0000 15.8543  0.00000  0.00000  0.00000\n",
       "[4,]  0.0  0.0000  0.0000 21.93627  0.00000  0.00000\n",
       "[5,]  0.0  0.0000  0.0000  0.00000 26.93069  0.00000\n",
       "[6,]  0.0  0.0000  0.0000  0.00000  0.00000 31.79487"
      ]
     },
     "metadata": {},
     "output_type": "display_data"
    }
   ],
   "source": [
    "W <- matrix(c(a,b,c,d,e,f),6,6)\n",
    "W"
   ]
  },
  {
   "cell_type": "code",
   "execution_count": 83,
   "id": "6d8f118e-370b-43d8-9227-984b8e4238ce",
   "metadata": {},
   "outputs": [
    {
     "data": {
      "text/html": [
       "<table class=\"dataframe\">\n",
       "<caption>A matrix: 6 × 2 of type dbl</caption>\n",
       "<tbody>\n",
       "\t<tr><td>1</td><td>250</td></tr>\n",
       "\t<tr><td>1</td><td>252</td></tr>\n",
       "\t<tr><td>1</td><td>151</td></tr>\n",
       "\t<tr><td>1</td><td>204</td></tr>\n",
       "\t<tr><td>1</td><td>202</td></tr>\n",
       "\t<tr><td>1</td><td>195</td></tr>\n",
       "</tbody>\n",
       "</table>\n"
      ],
      "text/latex": [
       "A matrix: 6 × 2 of type dbl\n",
       "\\begin{tabular}{ll}\n",
       "\t 1 & 250\\\\\n",
       "\t 1 & 252\\\\\n",
       "\t 1 & 151\\\\\n",
       "\t 1 & 204\\\\\n",
       "\t 1 & 202\\\\\n",
       "\t 1 & 195\\\\\n",
       "\\end{tabular}\n"
      ],
      "text/markdown": [
       "\n",
       "A matrix: 6 × 2 of type dbl\n",
       "\n",
       "| 1 | 250 |\n",
       "| 1 | 252 |\n",
       "| 1 | 151 |\n",
       "| 1 | 204 |\n",
       "| 1 | 202 |\n",
       "| 1 | 195 |\n",
       "\n"
      ],
      "text/plain": [
       "     [,1] [,2]\n",
       "[1,] 1    250 \n",
       "[2,] 1    252 \n",
       "[3,] 1    151 \n",
       "[4,] 1    204 \n",
       "[5,] 1    202 \n",
       "[6,] 1    195 "
      ]
     },
     "metadata": {},
     "output_type": "display_data"
    }
   ],
   "source": [
    "X <- matrix(c(1,1,1,1,1,1,array(student)),6,2)\n",
    "X"
   ]
  },
  {
   "cell_type": "code",
   "execution_count": 84,
   "id": "065b9de0-3a78-4298-abdc-cb95ab91d0ed",
   "metadata": {},
   "outputs": [],
   "source": [
    "Xt <- t(X)"
   ]
  },
  {
   "cell_type": "code",
   "execution_count": 85,
   "id": "836e722e-2196-49b6-bba7-98f8eb173bb7",
   "metadata": {},
   "outputs": [
    {
     "data": {
      "text/html": [
       "<table class=\"dataframe\">\n",
       "<caption>A matrix: 6 × 1 of type dbl</caption>\n",
       "<tbody>\n",
       "\t<tr><td>-2.751535</td></tr>\n",
       "\t<tr><td>-2.451005</td></tr>\n",
       "\t<tr><td>-1.999977</td></tr>\n",
       "\t<tr><td>-1.968510</td></tr>\n",
       "\t<tr><td>-1.670063</td></tr>\n",
       "\t<tr><td>-1.354546</td></tr>\n",
       "</tbody>\n",
       "</table>\n"
      ],
      "text/latex": [
       "A matrix: 6 × 1 of type dbl\n",
       "\\begin{tabular}{l}\n",
       "\t -2.751535\\\\\n",
       "\t -2.451005\\\\\n",
       "\t -1.999977\\\\\n",
       "\t -1.968510\\\\\n",
       "\t -1.670063\\\\\n",
       "\t -1.354546\\\\\n",
       "\\end{tabular}\n"
      ],
      "text/markdown": [
       "\n",
       "A matrix: 6 × 1 of type dbl\n",
       "\n",
       "| -2.751535 |\n",
       "| -2.451005 |\n",
       "| -1.999977 |\n",
       "| -1.968510 |\n",
       "| -1.670063 |\n",
       "| -1.354546 |\n",
       "\n"
      ],
      "text/plain": [
       "     [,1]     \n",
       "[1,] -2.751535\n",
       "[2,] -2.451005\n",
       "[3,] -1.999977\n",
       "[4,] -1.968510\n",
       "[5,] -1.670063\n",
       "[6,] -1.354546"
      ]
     },
     "metadata": {},
     "output_type": "display_data"
    }
   ],
   "source": [
    "pmat <- matrix(c(array(EX107$Pstar)),6,1)\n",
    "pmat"
   ]
  },
  {
   "cell_type": "code",
   "execution_count": 86,
   "id": "ea78e166-1a08-4686-a29e-64145ad74fd9",
   "metadata": {},
   "outputs": [
    {
     "data": {
      "text/html": [
       "<table class=\"dataframe\">\n",
       "<caption>A matrix: 2 × 1 of type dbl</caption>\n",
       "<tbody>\n",
       "\t<tr><td> 0.038849649</td></tr>\n",
       "\t<tr><td>-0.009442624</td></tr>\n",
       "</tbody>\n",
       "</table>\n"
      ],
      "text/latex": [
       "A matrix: 2 × 1 of type dbl\n",
       "\\begin{tabular}{l}\n",
       "\t  0.038849649\\\\\n",
       "\t -0.009442624\\\\\n",
       "\\end{tabular}\n"
      ],
      "text/markdown": [
       "\n",
       "A matrix: 2 × 1 of type dbl\n",
       "\n",
       "|  0.038849649 |\n",
       "| -0.009442624 |\n",
       "\n"
      ],
      "text/plain": [
       "     [,1]        \n",
       "[1,]  0.038849649\n",
       "[2,] -0.009442624"
      ]
     },
     "metadata": {},
     "output_type": "display_data"
    }
   ],
   "source": [
    "solve(Xt%*%W%*%X) %*% Xt %*%W %*% pmat"
   ]
  },
  {
   "cell_type": "markdown",
   "id": "6d96bcf9-4762-4041-b02c-ddfea20fcf1b",
   "metadata": {},
   "source": [
    "$\\beta_0 = 0.0388 , \\beta_1 = -0.00944 $\n",
    "\n",
    "$ \\hat{p^{*}} =0.0388 -0.00944student $ 이다."
   ]
  },
  {
   "cell_type": "markdown",
   "id": "23aa3c77-814b-44d5-b4db-69436f04ecfa",
   "metadata": {},
   "source": [
    "### 2)새로 전학해 올 네 학생이 안경을 착용할 확률은?"
   ]
  },
  {
   "cell_type": "code",
   "execution_count": 87,
   "id": "8a8a9644-ea36-42c8-a1ce-15f7bccd9634",
   "metadata": {},
   "outputs": [
    {
     "data": {
      "text/html": [
       "0.00104"
      ],
      "text/latex": [
       "0.00104"
      ],
      "text/markdown": [
       "0.00104"
      ],
      "text/plain": [
       "[1] 0.00104"
      ]
     },
     "metadata": {},
     "output_type": "display_data"
    }
   ],
   "source": [
    "0.0388 -0.00944* 4"
   ]
  },
  {
   "cell_type": "markdown",
   "id": "e9ec633e-f9e6-4286-a9d9-5172feb7436c",
   "metadata": {},
   "source": [
    "### 3) $\\hat{p}^{*}$를 $x$에 대하여 도시하고 로지스틱 반응함수를 적합시키는 것이 타당한지를 검토하여라."
   ]
  },
  {
   "cell_type": "code",
   "execution_count": 88,
   "id": "dd6d275f-2d64-48f4-99d5-265ea5f46869",
   "metadata": {},
   "outputs": [
    {
     "data": {
      "image/png": "[encoded data removed]",
      "text/plain": [
       "plot without title"
      ]
     },
     "metadata": {
      "image/png": {
       "height": 420,
       "width": 420
      }
     },
     "output_type": "display_data"
    }
   ],
   "source": [
    "plot(EX107$Pstar,EX107$student)"
   ]
  },
  {
   "cell_type": "markdown",
   "id": "11d84119-8953-446a-b204-eb3da5b4cfe7",
   "metadata": {},
   "source": [
    "타당하지 않다."
   ]
  },
  {
   "cell_type": "code",
   "execution_count": null,
   "id": "218e2c80-8c9b-476b-aebd-3d99c58c77d9",
   "metadata": {},
   "outputs": [],
   "source": []
  }
 ],
 "metadata": {
  "kernelspec": {
   "display_name": "R",
   "language": "R",
   "name": "ir"
  },
  "language_info": {
   "codemirror_mode": "r",
   "file_extension": ".r",
   "mimetype": "text/x-r-source",
   "name": "R",
   "pygments_lexer": "r",
   "version": "4.0.5"
  }
 },
 "nbformat": 4,
 "nbformat_minor": 5
}
