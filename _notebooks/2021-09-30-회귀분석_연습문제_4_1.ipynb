{
 "cells": [
  {
   "cell_type": "markdown",
   "id": "bdffb6e4-5a58-4bec-9702-c88ad3b35b34",
   "metadata": {},
   "source": [
    "# 4주차 회귀분석 연습문제 4.1 R 풀이\n",
    "> \n",
    "\n",
    "- toc:true\n",
    "- branch: master\n",
    "- badges: true\n",
    "- comments: true\n",
    "- author: 김동준\n",
    "- categories : [R, 회귀분석]"
   ]
  },
  {
   "cell_type": "markdown",
   "id": "83704c65-6f22-4371-8486-26081c48bc3e",
   "metadata": {},
   "source": [
    "Base 코드"
   ]
  },
  {
   "cell_type": "code",
   "execution_count": 1,
   "id": "01e1ac8e-bc79-4ecc-b1f9-c8ca1332c2ca",
   "metadata": {},
   "outputs": [],
   "source": [
    "x <- c(28.0,28.0,32.5,39.0,45.9,57.8,58.1,62.5) #시간당평균온도\n",
    "y <- c(12.4,11.7,12.4,10.8,9.4,9.5,8.0,7.5) #석탄소비량\n",
    "lm31 <- lm(y~x)"
   ]
  },
  {
   "cell_type": "markdown",
   "id": "feca3673-5b6f-4731-b7e7-c7651bcab5c1",
   "metadata": {},
   "source": [
    "# 1) 기울기와 절편의 신뢰구간 구하기"
   ]
  },
  {
   "cell_type": "code",
   "execution_count": 2,
   "id": "7f1c32af-257e-42fc-8758-bc8f7acd200c",
   "metadata": {},
   "outputs": [
    {
     "data": {
      "text/plain": [
       "\n",
       "Call:\n",
       "lm(formula = y ~ x)\n",
       "\n",
       "Residuals:\n",
       "    Min      1Q  Median      3Q     Max \n",
       "-0.5663 -0.4432 -0.1958  0.2879  1.0560 \n",
       "\n",
       "Coefficients:\n",
       "            Estimate Std. Error t value Pr(>|t|)    \n",
       "(Intercept) 15.83786    0.80177  19.754 1.09e-06 ***\n",
       "x           -0.12792    0.01746  -7.328  0.00033 ***\n",
       "---\n",
       "Signif. codes:  0 ‘***’ 0.001 ‘**’ 0.01 ‘*’ 0.05 ‘.’ 0.1 ‘ ’ 1\n",
       "\n",
       "Residual standard error: 0.6542 on 6 degrees of freedom\n",
       "Multiple R-squared:  0.8995,\tAdjusted R-squared:  0.8827 \n",
       "F-statistic: 53.69 on 1 and 6 DF,  p-value: 0.0003301\n"
      ]
     },
     "metadata": {},
     "output_type": "display_data"
    }
   ],
   "source": [
    "summary(lm31)"
   ]
  },
  {
   "cell_type": "code",
   "execution_count": 4,
   "id": "53a6b530-1e82-4ce4-9ce9-2e31144a9c74",
   "metadata": {},
   "outputs": [
    {
     "data": {
      "text/html": [
       "<table class=\"dataframe\">\n",
       "<caption>A matrix: 1 × 2 of type dbl</caption>\n",
       "<thead>\n",
       "\t<tr><th></th><th scope=col>2.5 %</th><th scope=col>97.5 %</th></tr>\n",
       "</thead>\n",
       "<tbody>\n",
       "\t<tr><th scope=row>x</th><td>-0.1706383</td><td>-0.08520517</td></tr>\n",
       "</tbody>\n",
       "</table>\n"
      ],
      "text/latex": [
       "A matrix: 1 × 2 of type dbl\n",
       "\\begin{tabular}{r|ll}\n",
       "  & 2.5 \\% & 97.5 \\%\\\\\n",
       "\\hline\n",
       "\tx & -0.1706383 & -0.08520517\\\\\n",
       "\\end{tabular}\n"
      ],
      "text/markdown": [
       "\n",
       "A matrix: 1 × 2 of type dbl\n",
       "\n",
       "| <!--/--> | 2.5 % | 97.5 % |\n",
       "|---|---|---|\n",
       "| x | -0.1706383 | -0.08520517 |\n",
       "\n"
      ],
      "text/plain": [
       "  2.5 %      97.5 %     \n",
       "x -0.1706383 -0.08520517"
      ]
     },
     "metadata": {},
     "output_type": "display_data"
    }
   ],
   "source": [
    "coeffs <- coefficients(lm31)\n",
    "confint(lm31,coeffs[2],level=0.95)  #기울기 b1 의 95% 신뢰구간"
   ]
  },
  {
   "cell_type": "code",
   "execution_count": 5,
   "id": "74d29411-95fc-4451-ab16-6c20c6eec1bd",
   "metadata": {},
   "outputs": [
    {
     "data": {
      "text/html": [
       "<table class=\"dataframe\">\n",
       "<caption>A matrix: 2 × 2 of type dbl</caption>\n",
       "<thead>\n",
       "\t<tr><th></th><th scope=col>2.5 %</th><th scope=col>97.5 %</th></tr>\n",
       "</thead>\n",
       "<tbody>\n",
       "\t<tr><th scope=row>(Intercept)</th><td>13.8759886</td><td>17.79972621</td></tr>\n",
       "\t<tr><th scope=row>x</th><td>-0.1706383</td><td>-0.08520517</td></tr>\n",
       "</tbody>\n",
       "</table>\n"
      ],
      "text/latex": [
       "A matrix: 2 × 2 of type dbl\n",
       "\\begin{tabular}{r|ll}\n",
       "  & 2.5 \\% & 97.5 \\%\\\\\n",
       "\\hline\n",
       "\t(Intercept) & 13.8759886 & 17.79972621\\\\\n",
       "\tx & -0.1706383 & -0.08520517\\\\\n",
       "\\end{tabular}\n"
      ],
      "text/markdown": [
       "\n",
       "A matrix: 2 × 2 of type dbl\n",
       "\n",
       "| <!--/--> | 2.5 % | 97.5 % |\n",
       "|---|---|---|\n",
       "| (Intercept) | 13.8759886 | 17.79972621 |\n",
       "| x | -0.1706383 | -0.08520517 |\n",
       "\n"
      ],
      "text/plain": [
       "            2.5 %      97.5 %     \n",
       "(Intercept) 13.8759886 17.79972621\n",
       "x           -0.1706383 -0.08520517"
      ]
     },
     "metadata": {},
     "output_type": "display_data"
    }
   ],
   "source": [
    "confint(lm31,level = 0.95) #절편 b0 의 95% 신뢰구간"
   ]
  },
  {
   "cell_type": "markdown",
   "id": "79dfc79b-9455-47cb-900f-4ed6d5f79b88",
   "metadata": {},
   "source": [
    "# 2) 신뢰구간의 의미"
   ]
  },
  {
   "cell_type": "markdown",
   "id": "afa87efd-3e88-4c37-bdaf-f8eabf85e927",
   "metadata": {},
   "source": [
    "\t시간당 평균온도를 한 단위(℉) 늘리면 석탄소비량(ton)은 -0.171과 -0.0852 사이의 어느 한 값의 배수만큼 평균적으로 증가함을 신뢰계수 0.95로 예측할 수 있다."
   ]
  },
  {
   "cell_type": "markdown",
   "id": "7f8021e0-5e16-4e44-9061-ce1da0aeff78",
   "metadata": {},
   "source": [
    "# 3) 가설 검정 영가설=0 유의수준 0.05"
   ]
  },
  {
   "cell_type": "code",
   "execution_count": 6,
   "id": "b6ea8367-1bbf-43fa-a734-d53f4f607962",
   "metadata": {},
   "outputs": [
    {
     "data": {
      "text/plain": [
       "\n",
       "Call:\n",
       "lm(formula = y ~ x)\n",
       "\n",
       "Residuals:\n",
       "    Min      1Q  Median      3Q     Max \n",
       "-0.5663 -0.4432 -0.1958  0.2879  1.0560 \n",
       "\n",
       "Coefficients:\n",
       "            Estimate Std. Error t value Pr(>|t|)    \n",
       "(Intercept) 15.83786    0.80177  19.754 1.09e-06 ***\n",
       "x           -0.12792    0.01746  -7.328  0.00033 ***\n",
       "---\n",
       "Signif. codes:  0 ‘***’ 0.001 ‘**’ 0.01 ‘*’ 0.05 ‘.’ 0.1 ‘ ’ 1\n",
       "\n",
       "Residual standard error: 0.6542 on 6 degrees of freedom\n",
       "Multiple R-squared:  0.8995,\tAdjusted R-squared:  0.8827 \n",
       "F-statistic: 53.69 on 1 and 6 DF,  p-value: 0.0003301\n"
      ]
     },
     "metadata": {},
     "output_type": "display_data"
    }
   ],
   "source": [
    "summary(lm31)"
   ]
  },
  {
   "cell_type": "code",
   "execution_count": 7,
   "id": "01ddfa30-bab4-4a18-90bb-a1953653f888",
   "metadata": {},
   "outputs": [
    {
     "data": {
      "text/html": [
       "15.88072462"
      ],
      "text/latex": [
       "15.88072462"
      ],
      "text/markdown": [
       "15.88072462"
      ],
      "text/plain": [
       "[1] 15.88072"
      ]
     },
     "metadata": {},
     "output_type": "display_data"
    },
    {
     "data": {
      "text/html": [
       "15.79527538"
      ],
      "text/latex": [
       "15.79527538"
      ],
      "text/markdown": [
       "15.79527538"
      ],
      "text/plain": [
       "[1] 15.79528"
      ]
     },
     "metadata": {},
     "output_type": "display_data"
    }
   ],
   "source": [
    "15.838 + 2.447* 0.01746\n",
    "15.838 - 2.447* 0.01746"
   ]
  },
  {
   "cell_type": "markdown",
   "id": "40b5fcec-1806-42e0-9e6b-60e1719fe9ea",
   "metadata": {},
   "source": [
    "\t기울기의 추정값 b1 = 15.838 이고 표준오차 SE는 0.01746 이다. 자유도(degrees of freedom)=6 인 t분포에서 가운데 면적이 95%인 t*=2.447 이며 95% 신뢰구간은 다음과 같이 계산한다.\n",
    "\tb_1±t^*×SE=15.838 ±2.447 ×0.01746\n",
    "95% 신뢰구간 : (15.79528 , 15.88072) \n",
    "\n",
    "\t이 결과로부터 기울기(평균온도가 1℉ 오를 때 석탄소비량 상승은 15.79528 ton 에서 15.88072 ton 사이에 있을 것이라고 95% 확신한다.\n"
   ]
  },
  {
   "cell_type": "markdown",
   "id": "40d81474-8193-4716-8031-412fa2d66a89",
   "metadata": {},
   "source": [
    "# 4) 가설검정2 "
   ]
  },
  {
   "cell_type": "markdown",
   "id": "e68a3b34-5f8a-4ec5-84e7-1dc6a5fb9d07",
   "metadata": {},
   "source": [
    "\tPr(>|t|) 값(p-value)의 값이 극히 작으므로 상당히 믿을 만한 정보이고,\n",
    "\t영가설 H0를 기각한다.\n",
    "\t즉, 기울기 β_1 은 의미있는 가정값이다."
   ]
  },
  {
   "cell_type": "markdown",
   "id": "246af3e9-440b-49a0-84b8-798e6696f45c",
   "metadata": {},
   "source": [
    "# 5) 분산분석을 통한 가설검정"
   ]
  },
  {
   "cell_type": "code",
   "execution_count": 9,
   "id": "a4057108-50b8-4c79-931c-410cccfc01aa",
   "metadata": {},
   "outputs": [
    {
     "data": {
      "text/html": [
       "<table class=\"dataframe\">\n",
       "<caption>A anova: 2 × 5</caption>\n",
       "<thead>\n",
       "\t<tr><th></th><th scope=col>Df</th><th scope=col>Sum Sq</th><th scope=col>Mean Sq</th><th scope=col>F value</th><th scope=col>Pr(&gt;F)</th></tr>\n",
       "\t<tr><th></th><th scope=col>&lt;int&gt;</th><th scope=col>&lt;dbl&gt;</th><th scope=col>&lt;dbl&gt;</th><th scope=col>&lt;dbl&gt;</th><th scope=col>&lt;dbl&gt;</th></tr>\n",
       "</thead>\n",
       "<tbody>\n",
       "\t<tr><th scope=row>x</th><td>1</td><td>22.980816</td><td>22.980816</td><td>53.69488</td><td>0.0003300523</td></tr>\n",
       "\t<tr><th scope=row>Residuals</th><td>6</td><td> 2.567934</td><td> 0.427989</td><td>      NA</td><td>          NA</td></tr>\n",
       "</tbody>\n",
       "</table>\n"
      ],
      "text/latex": [
       "A anova: 2 × 5\n",
       "\\begin{tabular}{r|lllll}\n",
       "  & Df & Sum Sq & Mean Sq & F value & Pr(>F)\\\\\n",
       "  & <int> & <dbl> & <dbl> & <dbl> & <dbl>\\\\\n",
       "\\hline\n",
       "\tx & 1 & 22.980816 & 22.980816 & 53.69488 & 0.0003300523\\\\\n",
       "\tResiduals & 6 &  2.567934 &  0.427989 &       NA &           NA\\\\\n",
       "\\end{tabular}\n"
      ],
      "text/markdown": [
       "\n",
       "A anova: 2 × 5\n",
       "\n",
       "| <!--/--> | Df &lt;int&gt; | Sum Sq &lt;dbl&gt; | Mean Sq &lt;dbl&gt; | F value &lt;dbl&gt; | Pr(&gt;F) &lt;dbl&gt; |\n",
       "|---|---|---|---|---|---|\n",
       "| x | 1 | 22.980816 | 22.980816 | 53.69488 | 0.0003300523 |\n",
       "| Residuals | 6 |  2.567934 |  0.427989 |       NA |           NA |\n",
       "\n"
      ],
      "text/plain": [
       "          Df Sum Sq    Mean Sq   F value  Pr(>F)      \n",
       "x         1  22.980816 22.980816 53.69488 0.0003300523\n",
       "Residuals 6   2.567934  0.427989       NA           NA"
      ]
     },
     "metadata": {},
     "output_type": "display_data"
    }
   ],
   "source": [
    "anova(lm31)"
   ]
  },
  {
   "cell_type": "markdown",
   "id": "5ea5ca72-8441-4d20-97e3-05996a28dca3",
   "metadata": {},
   "source": [
    "\tF-value는 53.695 이다. 분자의 자유도 1 과 6인 F-분포에서 p-value 는 0.00033301이다. 이 p값은 굉장히 작기 때문에 선형모형(기울기와 편차)의 가정이 좋은 가정이라고 말할 수 있다. \n"
   ]
  },
  {
   "cell_type": "markdown",
   "id": "7b599404-7754-4b9d-8f85-cfda071e1b1a",
   "metadata": {},
   "source": [
    "# 6)시간당 평균 온도에 따른 소비량 추정, 신뢰구간 구하기"
   ]
  },
  {
   "cell_type": "code",
   "execution_count": 10,
   "id": "0f87ac04-6d02-450f-bb3f-4c9fda377b92",
   "metadata": {},
   "outputs": [
    {
     "data": {
      "text/html": [
       "<table class=\"dataframe\">\n",
       "<caption>A matrix: 1 × 3 of type dbl</caption>\n",
       "<thead>\n",
       "\t<tr><th></th><th scope=col>fit</th><th scope=col>lwr</th><th scope=col>upr</th></tr>\n",
       "</thead>\n",
       "<tbody>\n",
       "\t<tr><th scope=row>1</th><td>10.72099</td><td>10.1301</td><td>11.31188</td></tr>\n",
       "</tbody>\n",
       "</table>\n"
      ],
      "text/latex": [
       "A matrix: 1 × 3 of type dbl\n",
       "\\begin{tabular}{r|lll}\n",
       "  & fit & lwr & upr\\\\\n",
       "\\hline\n",
       "\t1 & 10.72099 & 10.1301 & 11.31188\\\\\n",
       "\\end{tabular}\n"
      ],
      "text/markdown": [
       "\n",
       "A matrix: 1 × 3 of type dbl\n",
       "\n",
       "| <!--/--> | fit | lwr | upr |\n",
       "|---|---|---|---|\n",
       "| 1 | 10.72099 | 10.1301 | 11.31188 |\n",
       "\n"
      ],
      "text/plain": [
       "  fit      lwr     upr     \n",
       "1 10.72099 10.1301 11.31188"
      ]
     },
     "metadata": {},
     "output_type": "display_data"
    }
   ],
   "source": [
    "q6 <- data.frame(x=40)\n",
    "predict(lm31,q6, level=0.95,interval=\"confidence\") #신뢰구간"
   ]
  },
  {
   "cell_type": "markdown",
   "id": "c759be24-0c50-44ea-85b7-adf68af8f674",
   "metadata": {},
   "source": [
    ">\t추정된 석탄소비량은 10.72099 ton 이다.\n",
    ">\t그 신뢰구간은 (10.1301, 11.31188) 이고 y값이 이 범위에 있을 확률이 95%라는 의미이다.\n"
   ]
  },
  {
   "cell_type": "markdown",
   "id": "3fcf7fd6-512f-41ba-8c03-502c7b17fcc0",
   "metadata": {},
   "source": [
    "# 7) 예측구간 추정"
   ]
  },
  {
   "cell_type": "code",
   "execution_count": 11,
   "id": "98f908f4-3e1a-4030-9c19-de24c4eef27a",
   "metadata": {},
   "outputs": [
    {
     "data": {
      "text/html": [
       "<table class=\"dataframe\">\n",
       "<caption>A matrix: 1 × 3 of type dbl</caption>\n",
       "<thead>\n",
       "\t<tr><th></th><th scope=col>fit</th><th scope=col>lwr</th><th scope=col>upr</th></tr>\n",
       "</thead>\n",
       "<tbody>\n",
       "\t<tr><th scope=row>1</th><td>10.72099</td><td>9.014624</td><td>12.42735</td></tr>\n",
       "</tbody>\n",
       "</table>\n"
      ],
      "text/latex": [
       "A matrix: 1 × 3 of type dbl\n",
       "\\begin{tabular}{r|lll}\n",
       "  & fit & lwr & upr\\\\\n",
       "\\hline\n",
       "\t1 & 10.72099 & 9.014624 & 12.42735\\\\\n",
       "\\end{tabular}\n"
      ],
      "text/markdown": [
       "\n",
       "A matrix: 1 × 3 of type dbl\n",
       "\n",
       "| <!--/--> | fit | lwr | upr |\n",
       "|---|---|---|---|\n",
       "| 1 | 10.72099 | 9.014624 | 12.42735 |\n",
       "\n"
      ],
      "text/plain": [
       "  fit      lwr      upr     \n",
       "1 10.72099 9.014624 12.42735"
      ]
     },
     "metadata": {},
     "output_type": "display_data"
    }
   ],
   "source": [
    "predict(lm31,q6, level=0.95,interval=\"predict\")예측구간"
   ]
  },
  {
   "cell_type": "markdown",
   "id": "393ee7e9-0f6c-4290-9c0f-eed3a85ef656",
   "metadata": {},
   "source": [
    ">\t추정된 석탄소비량은 10.72099 ton 이다.\n",
    "그 예측구간은 (9.014624, 12.42735) 이고 y값이 이 범위에 있을 확률이 95%라는 의미이다."
   ]
  },
  {
   "cell_type": "markdown",
   "id": "0b9c624e-a27e-487a-bf63-21f23d5d7515",
   "metadata": {},
   "source": [
    "# 8) 6번 7번문제 비교"
   ]
  },
  {
   "cell_type": "markdown",
   "id": "e09ff86d-a1ab-4c90-a05e-bea750f40dca",
   "metadata": {},
   "source": [
    ">\t신뢰구간: y의 평균이 존재하는 구간을 추정\n",
    "\n",
    "    \t모집단을 예측 변수의 특정 값의 반응변수의 값으로 제한한다.\n",
    "    \n",
    ">\t예측구간: 하나의 y가 존재하는 구간을 추정\n",
    "\n",
    "    \t모집단을 대부분 포함해야 하므로 구간이 더 넓다."
   ]
  },
  {
   "cell_type": "markdown",
   "id": "539b05c1-41ee-4ecb-9b79-e97864169096",
   "metadata": {},
   "source": [
    "# 9) 결정계수 및 의미"
   ]
  },
  {
   "cell_type": "code",
   "execution_count": 12,
   "id": "7602c634-6cf8-4f19-b063-524e342f692b",
   "metadata": {},
   "outputs": [
    {
     "data": {
      "text/html": [
       "-0.948413871025354"
      ],
      "text/latex": [
       "-0.948413871025354"
      ],
      "text/markdown": [
       "-0.948413871025354"
      ],
      "text/plain": [
       "[1] -0.9484139"
      ]
     },
     "metadata": {},
     "output_type": "display_data"
    }
   ],
   "source": [
    "cor(x,y) # 상관계수"
   ]
  },
  {
   "cell_type": "markdown",
   "id": "349aad99-412f-4dba-b20d-ba3841a12379",
   "metadata": {},
   "source": [
    ">\t상관 계수 r : -0.9484139\n",
    "\n",
    "    \t-1에 가까우므로 강한 음의 상관관계를 가진다고 볼 수 있다.\n"
   ]
  },
  {
   "cell_type": "code",
   "execution_count": 13,
   "id": "bc68926f-2bf3-467e-83fa-5e9bfc054fb7",
   "metadata": {},
   "outputs": [
    {
     "data": {
      "text/html": [
       "0.899488870753297"
      ],
      "text/latex": [
       "0.899488870753297"
      ],
      "text/markdown": [
       "0.899488870753297"
      ],
      "text/plain": [
       "[1] 0.8994889"
      ]
     },
     "metadata": {},
     "output_type": "display_data"
    }
   ],
   "source": [
    "(cor(x,y))^2 #결정계수"
   ]
  },
  {
   "cell_type": "markdown",
   "id": "3b9f49a3-a8d6-4906-91ce-cdad1a669d32",
   "metadata": {},
   "source": [
    "\t결정 계수 R^2: 0.8994889\n",
    "\n",
    "결정 계수는 온도변화로 석탄소비량의 89.95%를 설명한다는 뜻이다.\n",
    "\n",
    "결정 계수가 1에 거의 근접하므로 가정된 방정식이 온도변화와 석탄소비량의 관계를 잘 설명한다고 볼 수 있다.\n"
   ]
  }
 ],
 "metadata": {
  "kernelspec": {
   "display_name": "R",
   "language": "R",
   "name": "ir"
  },
  "language_info": {
   "codemirror_mode": "r",
   "file_extension": ".r",
   "mimetype": "text/x-r-source",
   "name": "R",
   "pygments_lexer": "r",
   "version": "4.0.5"
  }
 },
 "nbformat": 4,
 "nbformat_minor": 5
}
