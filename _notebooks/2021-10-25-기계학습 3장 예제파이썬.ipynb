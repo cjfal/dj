{
 "cells": [
  {
   "cell_type": "markdown",
   "id": "f6766107-b570-42f3-87f4-56b80040af7c",
   "metadata": {},
   "source": [
    "# 기계학습 3장 예제 파이썬\n",
    "> 예제 파이썬\n",
    "\n",
    "- toc:true\n",
    "- branch: master\n",
    "- badges: true\n",
    "- comments: true\n",
    "- author: 김동준\n",
    "- categories : [\"Python\", \"기계학습\"]"
   ]
  },
  {
   "cell_type": "markdown",
   "id": "24422910-8fe6-4e2e-9aaf-77ac733cfc1e",
   "metadata": {},
   "source": [
    "# Advertising data 불러오고 df로 만들기"
   ]
  },
  {
   "cell_type": "code",
   "execution_count": 11,
   "id": "5d7ed85f-1fd8-48cd-afb7-76ab4fe1689b",
   "metadata": {},
   "outputs": [],
   "source": [
    "import matplotlib.pyplot as plt\n",
    "import numpy as np\n",
    "import pandas as pd\n",
    "ad = pd.read_csv(\"Advertising.csv\", header=0) # csv 파일 불러오기"
   ]
  },
  {
   "cell_type": "markdown",
   "id": "3bdc4eba-aca3-457e-a462-dc7e227f735e",
   "metadata": {},
   "source": [
    "# 1. Logistic regression model\n",
    ">statmodels에 의한 로지스틱 모형 적합"
   ]
  },
  {
   "cell_type": "code",
   "execution_count": 12,
   "id": "b76d0088-d60e-4124-beb5-ed9083d5241f",
   "metadata": {},
   "outputs": [],
   "source": [
    "ad['sales'] = (ad['sales'] > 10)*1   #sales 변수가 10을 넘으면 1(판매량 높음), 그렇지 않으면 0으로 할당하여 분류문제로 세팅\n",
    "X = ad[['TV','radio','newspaper']]\n",
    "Y = ad['sales']"
   ]
  },
  {
   "cell_type": "markdown",
   "id": "aed64429-bf98-4292-8ef2-c6b29f46353b",
   "metadata": {},
   "source": [
    "# linear model with statsmodels"
   ]
  },
  {
   "cell_type": "code",
   "execution_count": 13,
   "id": "a2d34b34-a85b-46c0-b5ad-a598cb7075fa",
   "metadata": {},
   "outputs": [
    {
     "data": {
      "text/html": [
       "<table class=\"simpletable\">\n",
       "<caption>Generalized Linear Model Regression Results</caption>\n",
       "<tr>\n",
       "  <th>Dep. Variable:</th>         <td>sales</td>      <th>  No. Observations:  </th>  <td>   200</td> \n",
       "</tr>\n",
       "<tr>\n",
       "  <th>Model:</th>                  <td>GLM</td>       <th>  Df Residuals:      </th>  <td>   196</td> \n",
       "</tr>\n",
       "<tr>\n",
       "  <th>Model Family:</th>        <td>Binomial</td>     <th>  Df Model:          </th>  <td>     3</td> \n",
       "</tr>\n",
       "<tr>\n",
       "  <th>Link Function:</th>         <td>logit</td>      <th>  Scale:             </th> <td>  1.0000</td>\n",
       "</tr>\n",
       "<tr>\n",
       "  <th>Method:</th>                <td>IRLS</td>       <th>  Log-Likelihood:    </th> <td> -13.360</td>\n",
       "</tr>\n",
       "<tr>\n",
       "  <th>Date:</th>            <td>Sat, 23 Oct 2021</td> <th>  Deviance:          </th> <td>  26.719</td>\n",
       "</tr>\n",
       "<tr>\n",
       "  <th>Time:</th>                <td>20:03:15</td>     <th>  Pearson chi2:      </th>  <td>  30.1</td> \n",
       "</tr>\n",
       "<tr>\n",
       "  <th>No. Iterations:</th>         <td>11</td>        <th>                     </th>     <td> </td>   \n",
       "</tr>\n",
       "<tr>\n",
       "  <th>Covariance Type:</th>     <td>nonrobust</td>    <th>                     </th>     <td> </td>   \n",
       "</tr>\n",
       "</table>\n",
       "<table class=\"simpletable\">\n",
       "<tr>\n",
       "      <td></td>         <th>coef</th>     <th>std err</th>      <th>z</th>      <th>P>|z|</th>  <th>[0.025</th>    <th>0.975]</th>  \n",
       "</tr>\n",
       "<tr>\n",
       "  <th>Intercept</th> <td>  -21.5305</td> <td>    6.269</td> <td>   -3.435</td> <td> 0.001</td> <td>  -33.817</td> <td>   -9.244</td>\n",
       "</tr>\n",
       "<tr>\n",
       "  <th>TV</th>        <td>    0.2089</td> <td>    0.060</td> <td>    3.454</td> <td> 0.001</td> <td>    0.090</td> <td>    0.328</td>\n",
       "</tr>\n",
       "<tr>\n",
       "  <th>radio</th>     <td>    0.4054</td> <td>    0.124</td> <td>    3.277</td> <td> 0.001</td> <td>    0.163</td> <td>    0.648</td>\n",
       "</tr>\n",
       "<tr>\n",
       "  <th>newspaper</th> <td>   -0.0086</td> <td>    0.026</td> <td>   -0.332</td> <td> 0.740</td> <td>   -0.059</td> <td>    0.042</td>\n",
       "</tr>\n",
       "</table>"
      ],
      "text/plain": [
       "<class 'statsmodels.iolib.summary.Summary'>\n",
       "\"\"\"\n",
       "                 Generalized Linear Model Regression Results                  \n",
       "==============================================================================\n",
       "Dep. Variable:                  sales   No. Observations:                  200\n",
       "Model:                            GLM   Df Residuals:                      196\n",
       "Model Family:                Binomial   Df Model:                            3\n",
       "Link Function:                  logit   Scale:                          1.0000\n",
       "Method:                          IRLS   Log-Likelihood:                -13.360\n",
       "Date:                Sat, 23 Oct 2021   Deviance:                       26.719\n",
       "Time:                        20:03:15   Pearson chi2:                     30.1\n",
       "No. Iterations:                    11                                         \n",
       "Covariance Type:            nonrobust                                         \n",
       "==============================================================================\n",
       "                 coef    std err          z      P>|z|      [0.025      0.975]\n",
       "------------------------------------------------------------------------------\n",
       "Intercept    -21.5305      6.269     -3.435      0.001     -33.817      -9.244\n",
       "TV             0.2089      0.060      3.454      0.001       0.090       0.328\n",
       "radio          0.4054      0.124      3.277      0.001       0.163       0.648\n",
       "newspaper     -0.0086      0.026     -0.332      0.740      -0.059       0.042\n",
       "==============================================================================\n",
       "\"\"\""
      ]
     },
     "execution_count": 13,
     "metadata": {},
     "output_type": "execute_result"
    }
   ],
   "source": [
    "import statsmodels.api as sm              #statsmodels 패키지 불러오기\n",
    "model = sm.GLM.from_formula(\"sales ~ TV + radio + newspaper\", family = sm.families.Binomial(), data=ad)\n",
    "result = model.fit()\n",
    "result.summary()"
   ]
  },
  {
   "cell_type": "markdown",
   "id": "189d28a8-24c9-41d3-97d3-6bb214160f52",
   "metadata": {},
   "source": [
    "# sklearn을 이용한 로지스틱 적합 \n",
    "> (머신러닝에 특화된 패키지 , 서머리같은건 제공 잘 안해줌)"
   ]
  },
  {
   "cell_type": "code",
   "execution_count": 6,
   "id": "55064712-5381-4a27-bc2e-317651e753be",
   "metadata": {},
   "outputs": [],
   "source": [
    "from sklearn.linear_model import LogisticRegression"
   ]
  },
  {
   "cell_type": "code",
   "execution_count": 15,
   "id": "e62a8dd6-b921-40ea-bf6a-bfe85d0763f2",
   "metadata": {},
   "outputs": [
    {
     "name": "stdout",
     "output_type": "stream",
     "text": [
      "[-21.16756665]\n",
      "[[ 0.2054616   0.39803989 -0.00823107]]\n",
      "0.97\n"
     ]
    }
   ],
   "source": [
    "model1 = LogisticRegression()   # model instance setup\n",
    "model2 = model1.fit(X,Y)      # model fitting to data\n",
    "print(model2.intercept_)\n",
    "print(model2.coef_)\n",
    "print(model2.score(X,Y))"
   ]
  },
  {
   "cell_type": "code",
   "execution_count": 16,
   "id": "66e2f452-1c27-41c0-9d9b-0183fd4097e7",
   "metadata": {},
   "outputs": [],
   "source": [
    "from sklearn import metrics\n",
    "Y_pred = model2.predict(X)"
   ]
  },
  {
   "cell_type": "code",
   "execution_count": 17,
   "id": "46718d74-4ece-4293-97df-b862f76fc862",
   "metadata": {},
   "outputs": [
    {
     "data": {
      "text/plain": [
       "array([[ 42,   3],\n",
       "       [  3, 152]])"
      ]
     },
     "execution_count": 17,
     "metadata": {},
     "output_type": "execute_result"
    }
   ],
   "source": [
    "cm = metrics.confusion_matrix(Y, Y_pred) # confusion matrix\n",
    "cm"
   ]
  },
  {
   "cell_type": "code",
   "execution_count": 18,
   "id": "bf17f2a9-830b-44b2-beb5-0a619d8b0e5f",
   "metadata": {},
   "outputs": [
    {
     "data": {
      "text/plain": [
       "0.97"
      ]
     },
     "execution_count": 18,
     "metadata": {},
     "output_type": "execute_result"
    }
   ],
   "source": [
    "model2.score(X,Y)   # 정분류율"
   ]
  },
  {
   "cell_type": "markdown",
   "id": "85369508-3873-478e-880a-6dd7201dbd20",
   "metadata": {},
   "source": [
    "# 예측성능의 평가를 위해 훈련자료와 평가자료를 적당한 비율로 나누어 계산해 보자."
   ]
  },
  {
   "cell_type": "code",
   "execution_count": 19,
   "id": "534643a9-01b9-40b5-8986-2e9b95bc43b7",
   "metadata": {},
   "outputs": [],
   "source": [
    "from sklearn.model_selection import train_test_split\n",
    "X_train,X_test,Y_train,Y_test=train_test_split(X,Y,test_size=0.3,random_state=0)"
   ]
  },
  {
   "cell_type": "code",
   "execution_count": 20,
   "id": "dca05bfe-f452-4ff3-81d0-32c9088512fa",
   "metadata": {},
   "outputs": [],
   "source": [
    "model1 = LogisticRegression()   # model instance setup\n",
    "model2 = model1.fit(X_train,Y_train)      # model fitting to data"
   ]
  },
  {
   "cell_type": "code",
   "execution_count": 22,
   "id": "7c4ca8be-bfb4-47f5-9c9a-2632f15ed9a8",
   "metadata": {},
   "outputs": [
    {
     "name": "stdout",
     "output_type": "stream",
     "text": [
      "[-21.87095867]\n",
      "[[0.20169776 0.38998892 0.02502465]]\n",
      "0.96\n"
     ]
    }
   ],
   "source": [
    "print(model2.intercept_)\n",
    "print(model2.coef_)\n",
    "print(model2.score(X,Y))"
   ]
  },
  {
   "cell_type": "code",
   "execution_count": 23,
   "id": "1762d422-87cc-42d8-890f-6d07670fd1a1",
   "metadata": {},
   "outputs": [
    {
     "data": {
      "text/plain": [
       "array([[3.68362025e-01, 6.31637975e-01],\n",
       "       [9.98889402e-01, 1.11059773e-03],\n",
       "       [9.49784560e-01, 5.02154405e-02],\n",
       "       [0.00000000e+00, 1.00000000e+00],\n",
       "       [7.68983531e-08, 9.99999923e-01],\n",
       "       [9.99484252e-01, 5.15748381e-04],\n",
       "       [3.03408631e-01, 6.96591369e-01],\n",
       "       [1.36557432e-13, 1.00000000e+00],\n",
       "       [8.49772353e-01, 1.50227647e-01],\n",
       "       [1.22679644e-12, 1.00000000e+00],\n",
       "       [0.00000000e+00, 1.00000000e+00],\n",
       "       [2.75460182e-01, 7.24539818e-01],\n",
       "       [1.77948022e-05, 9.99982205e-01],\n",
       "       [2.34914310e-11, 1.00000000e+00],\n",
       "       [1.08841492e-02, 9.89115851e-01],\n",
       "       [3.33913329e-05, 9.99966609e-01],\n",
       "       [0.00000000e+00, 1.00000000e+00],\n",
       "       [9.97690690e-01, 2.30930953e-03],\n",
       "       [1.23437704e-06, 9.99998766e-01],\n",
       "       [3.13082893e-14, 1.00000000e+00],\n",
       "       [0.00000000e+00, 1.00000000e+00],\n",
       "       [6.14898732e-04, 9.99385101e-01],\n",
       "       [1.01664233e-10, 1.00000000e+00],\n",
       "       [2.94828121e-06, 9.99997052e-01],\n",
       "       [9.99942555e-01, 5.74451124e-05],\n",
       "       [5.25259866e-08, 9.99999947e-01],\n",
       "       [1.28092454e-07, 9.99999872e-01],\n",
       "       [0.00000000e+00, 1.00000000e+00],\n",
       "       [1.99917860e-11, 1.00000000e+00],\n",
       "       [9.96672041e-01, 3.32795930e-03],\n",
       "       [1.32267261e-04, 9.99867733e-01],\n",
       "       [0.00000000e+00, 1.00000000e+00],\n",
       "       [0.00000000e+00, 1.00000000e+00],\n",
       "       [0.00000000e+00, 1.00000000e+00],\n",
       "       [9.99992240e-01, 7.76014393e-06],\n",
       "       [9.99997225e-01, 2.77524737e-06],\n",
       "       [9.83558085e-01, 1.64419151e-02],\n",
       "       [1.57451874e-09, 9.99999998e-01],\n",
       "       [3.82797066e-05, 9.99961720e-01],\n",
       "       [9.99992461e-01, 7.53906740e-06],\n",
       "       [9.39035328e-02, 9.06096467e-01],\n",
       "       [9.97181415e-01, 2.81858519e-03],\n",
       "       [7.61125996e-09, 9.99999992e-01],\n",
       "       [3.41060513e-13, 1.00000000e+00],\n",
       "       [1.02140518e-14, 1.00000000e+00],\n",
       "       [2.49832425e-05, 9.99975017e-01],\n",
       "       [9.99999996e-01, 4.18250051e-09],\n",
       "       [3.06304657e-01, 6.93695343e-01],\n",
       "       [2.38279196e-09, 9.99999998e-01],\n",
       "       [9.02643249e-02, 9.09735675e-01],\n",
       "       [1.29806943e-03, 9.98701931e-01],\n",
       "       [0.00000000e+00, 1.00000000e+00],\n",
       "       [0.00000000e+00, 1.00000000e+00],\n",
       "       [3.20645732e-11, 1.00000000e+00],\n",
       "       [9.07025643e-01, 9.29743571e-02],\n",
       "       [9.80798465e-01, 1.92015346e-02],\n",
       "       [0.00000000e+00, 1.00000000e+00],\n",
       "       [9.74632153e-10, 9.99999999e-01],\n",
       "       [4.36317649e-13, 1.00000000e+00],\n",
       "       [9.99776048e-01, 2.23951730e-04]])"
      ]
     },
     "execution_count": 23,
     "metadata": {},
     "output_type": "execute_result"
    }
   ],
   "source": [
    "model2.predict_proba(X_test)  # predicted probability for 0 vs 1"
   ]
  },
  {
   "cell_type": "code",
   "execution_count": null,
   "id": "4dd8645f-109c-466f-85e7-6e15ee93834d",
   "metadata": {},
   "outputs": [],
   "source": []
  }
 ],
 "metadata": {
  "kernelspec": {
   "display_name": "Python 3",
   "language": "python",
   "name": "python3"
  },
  "language_info": {
   "codemirror_mode": {
    "name": "ipython",
    "version": 3
   },
   "file_extension": ".py",
   "mimetype": "text/x-python",
   "name": "python",
   "nbconvert_exporter": "python",
   "pygments_lexer": "ipython3",
   "version": "3.8.8"
  }
 },
 "nbformat": 4,
 "nbformat_minor": 5
}
