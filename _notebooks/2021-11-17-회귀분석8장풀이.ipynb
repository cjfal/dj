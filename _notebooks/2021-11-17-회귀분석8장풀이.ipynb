{
 "cells": [
  {
   "cell_type": "markdown",
   "id": "2e62faae-e1eb-49b8-88b3-b2ce6b01b1c0",
   "metadata": {},
   "source": [
    "# 11주차 회귀분석 연습문제 8장 R 풀이\n",
    "> 11주차 회귀분석 연습문제 8장 R 풀이\n",
    "\n",
    "- toc:true\n",
    "- branch: master\n",
    "- badges: true\n",
    "- comments: true\n",
    "- author: 김동준\n",
    "- categories : [\"R\", \"회귀분석\"]"
   ]
  },
  {
   "cell_type": "markdown",
   "id": "ad0cc4bd-e9b4-4903-bbd1-68f70fd0dcf9",
   "metadata": {},
   "source": [
    "# 8.1)\n",
    "> 어떤 철 제품을 생산하는 공장에서 제품의 인장강도 ($kg/cm^2$)가 온도와 시간에 어떤영향을 받는가를 분석하기 위하여 다음과 같은 자료를 얻었다."
   ]
  },
  {
   "cell_type": "markdown",
   "id": "c078f2a0-476b-4b6c-a8d9-79a897d3e002",
   "metadata": {},
   "source": [
    "|공정온도:$x_1$|시간(분):$x_2$|인장강도:y|\n",
    "|:---:|:---:|:---:|\n",
    "|175|15|120.4|\n",
    "|210|18|112.5|\n",
    "|192|20|95.4|\n",
    "|250|28|162.3|\n",
    "|245|25|160.2|\n",
    "|226|21|131.5|\n",
    "|260|32|157.6|\n",
    "|230|25|158.4|\n",
    "|205|24|149.6|\n",
    "|185|19|130.4|"
   ]
  },
  {
   "cell_type": "markdown",
   "id": "bee06fdd-c8d4-4f6d-935a-f9f1c7f556ea",
   "metadata": {},
   "source": [
    "### 1)선형회귀모형 $y=\\beta_0+\\beta_1x_1+\\beta_2x_2+\\epsilon$ 이 성립한다고 가정하고 회귀모형을 추정하여라."
   ]
  },
  {
   "cell_type": "code",
   "execution_count": 1,
   "id": "1a33f85d-1ed8-4596-9325-0e6a8bd24a9f",
   "metadata": {},
   "outputs": [
    {
     "data": {
      "text/html": [
       "<table class=\"dataframe\">\n",
       "<caption>A data.frame: 10 × 3</caption>\n",
       "<thead>\n",
       "\t<tr><th scope=col>x1</th><th scope=col>x2</th><th scope=col>y_</th></tr>\n",
       "\t<tr><th scope=col>&lt;int&gt;</th><th scope=col>&lt;int&gt;</th><th scope=col>&lt;dbl&gt;</th></tr>\n",
       "</thead>\n",
       "<tbody>\n",
       "\t<tr><td>175</td><td>15</td><td>120.4</td></tr>\n",
       "\t<tr><td>210</td><td>18</td><td>112.5</td></tr>\n",
       "\t<tr><td>192</td><td>20</td><td> 95.4</td></tr>\n",
       "\t<tr><td>250</td><td>28</td><td>162.3</td></tr>\n",
       "\t<tr><td>245</td><td>25</td><td>160.2</td></tr>\n",
       "\t<tr><td>226</td><td>21</td><td>131.5</td></tr>\n",
       "\t<tr><td>260</td><td>32</td><td>157.6</td></tr>\n",
       "\t<tr><td>230</td><td>25</td><td>158.4</td></tr>\n",
       "\t<tr><td>205</td><td>24</td><td>149.6</td></tr>\n",
       "\t<tr><td>185</td><td>19</td><td>130.4</td></tr>\n",
       "</tbody>\n",
       "</table>\n"
      ],
      "text/latex": [
       "A data.frame: 10 × 3\n",
       "\\begin{tabular}{lll}\n",
       " x1 & x2 & y\\_\\\\\n",
       " <int> & <int> & <dbl>\\\\\n",
       "\\hline\n",
       "\t 175 & 15 & 120.4\\\\\n",
       "\t 210 & 18 & 112.5\\\\\n",
       "\t 192 & 20 &  95.4\\\\\n",
       "\t 250 & 28 & 162.3\\\\\n",
       "\t 245 & 25 & 160.2\\\\\n",
       "\t 226 & 21 & 131.5\\\\\n",
       "\t 260 & 32 & 157.6\\\\\n",
       "\t 230 & 25 & 158.4\\\\\n",
       "\t 205 & 24 & 149.6\\\\\n",
       "\t 185 & 19 & 130.4\\\\\n",
       "\\end{tabular}\n"
      ],
      "text/markdown": [
       "\n",
       "A data.frame: 10 × 3\n",
       "\n",
       "| x1 &lt;int&gt; | x2 &lt;int&gt; | y_ &lt;dbl&gt; |\n",
       "|---|---|---|\n",
       "| 175 | 15 | 120.4 |\n",
       "| 210 | 18 | 112.5 |\n",
       "| 192 | 20 |  95.4 |\n",
       "| 250 | 28 | 162.3 |\n",
       "| 245 | 25 | 160.2 |\n",
       "| 226 | 21 | 131.5 |\n",
       "| 260 | 32 | 157.6 |\n",
       "| 230 | 25 | 158.4 |\n",
       "| 205 | 24 | 149.6 |\n",
       "| 185 | 19 | 130.4 |\n",
       "\n"
      ],
      "text/plain": [
       "   x1  x2 y_   \n",
       "1  175 15 120.4\n",
       "2  210 18 112.5\n",
       "3  192 20  95.4\n",
       "4  250 28 162.3\n",
       "5  245 25 160.2\n",
       "6  226 21 131.5\n",
       "7  260 32 157.6\n",
       "8  230 25 158.4\n",
       "9  205 24 149.6\n",
       "10 185 19 130.4"
      ]
     },
     "metadata": {},
     "output_type": "display_data"
    }
   ],
   "source": [
    "fac <- read.csv(\"8-1csv.csv\")\n",
    "fac"
   ]
  },
  {
   "cell_type": "code",
   "execution_count": 2,
   "id": "26416cdf-a2a2-4d29-85eb-662b08bb296a",
   "metadata": {},
   "outputs": [],
   "source": [
    "attach(fac)"
   ]
  },
  {
   "cell_type": "code",
   "execution_count": 5,
   "id": "56d82d07-25fc-44c8-845c-cde929f7243c",
   "metadata": {},
   "outputs": [],
   "source": [
    "lm81 <- lm(y_~x1+x2,data=fac)"
   ]
  },
  {
   "cell_type": "code",
   "execution_count": 6,
   "id": "99cfb987-211f-436b-94a8-df898277d2eb",
   "metadata": {},
   "outputs": [
    {
     "data": {
      "text/html": [
       "<style>\n",
       ".dl-inline {width: auto; margin:0; padding: 0}\n",
       ".dl-inline>dt, .dl-inline>dd {float: none; width: auto; display: inline-block}\n",
       ".dl-inline>dt::after {content: \":\\0020\"; padding-right: .5ex}\n",
       ".dl-inline>dt:not(:first-of-type) {padding-left: .5ex}\n",
       "</style><dl class=dl-inline><dt>(Intercept)</dt><dd>35.3358543470464</dd><dt>x1</dt><dd>0.204751085230047</dd><dt>x2</dt><dd>2.55063256783478</dd></dl>\n"
      ],
      "text/latex": [
       "\\begin{description*}\n",
       "\\item[(Intercept)] 35.3358543470464\n",
       "\\item[x1] 0.204751085230047\n",
       "\\item[x2] 2.55063256783478\n",
       "\\end{description*}\n"
      ],
      "text/markdown": [
       "(Intercept)\n",
       ":   35.3358543470464x1\n",
       ":   0.204751085230047x2\n",
       ":   2.55063256783478\n",
       "\n"
      ],
      "text/plain": [
       "(Intercept)          x1          x2 \n",
       " 35.3358543   0.2047511   2.5506326 "
      ]
     },
     "metadata": {},
     "output_type": "display_data"
    }
   ],
   "source": [
    "coef(lm81)"
   ]
  },
  {
   "cell_type": "markdown",
   "id": "2ef6ad3a-f48b-474d-a3de-a425d662d02a",
   "metadata": {},
   "source": [
    "추정된 y는 $y=35.3359+ 0.2048x_1 + 2.5506x_2 $ 이다."
   ]
  },
  {
   "cell_type": "markdown",
   "id": "0424f356-c490-4ebb-8157-738602bf96c2",
   "metadata": {},
   "source": [
    "### 2) 추정된 회귀계수들에 대하여 $Var(b_0),Var(b_1),Var(b_2)$ 를 구하여라."
   ]
  },
  {
   "cell_type": "code",
   "execution_count": 7,
   "id": "0394fc78-eb63-4dc9-a175-7ad79e11c283",
   "metadata": {},
   "outputs": [],
   "source": [
    "X <- matrix(c(1,1,1,1,1,1,1,1,1,1,array(fac$x1),array(fac$x2)),10,3)\n",
    "beta <- matrix(c(35.3359,0.2048,2.5506),3,1)"
   ]
  },
  {
   "cell_type": "code",
   "execution_count": 8,
   "id": "4d875814-4f5a-409f-9fc1-f1700e05e2f6",
   "metadata": {},
   "outputs": [
    {
     "data": {
      "text/html": [
       "<table class=\"dataframe\">\n",
       "<caption>A matrix: 3 × 3 of type dbl</caption>\n",
       "<tbody>\n",
       "\t<tr><td>  10</td><td>  2178</td><td>  227</td></tr>\n",
       "\t<tr><td>2178</td><td>481940</td><td>50621</td></tr>\n",
       "\t<tr><td> 227</td><td> 50621</td><td> 5385</td></tr>\n",
       "</tbody>\n",
       "</table>\n"
      ],
      "text/latex": [
       "A matrix: 3 × 3 of type dbl\n",
       "\\begin{tabular}{lll}\n",
       "\t   10 &   2178 &   227\\\\\n",
       "\t 2178 & 481940 & 50621\\\\\n",
       "\t  227 &  50621 &  5385\\\\\n",
       "\\end{tabular}\n"
      ],
      "text/markdown": [
       "\n",
       "A matrix: 3 × 3 of type dbl\n",
       "\n",
       "|   10 |   2178 |   227 |\n",
       "| 2178 | 481940 | 50621 |\n",
       "|  227 |  50621 |  5385 |\n",
       "\n"
      ],
      "text/plain": [
       "     [,1] [,2]   [,3] \n",
       "[1,]   10   2178   227\n",
       "[2,] 2178 481940 50621\n",
       "[3,]  227  50621  5385"
      ]
     },
     "metadata": {},
     "output_type": "display_data"
    }
   ],
   "source": [
    "XtX <- t(X) %*% X  #[X'X]\n",
    "XtX"
   ]
  },
  {
   "cell_type": "code",
   "execution_count": 9,
   "id": "40eb84ab-2af8-457c-8630-452132d94bc3",
   "metadata": {},
   "outputs": [
    {
     "data": {
      "text/html": [
       "<table class=\"dataframe\">\n",
       "<caption>A matrix: 3 × 3 of type dbl</caption>\n",
       "<tbody>\n",
       "\t<tr><td> 8.99974754</td><td>-0.065260222</td><td> 0.234093777</td></tr>\n",
       "\t<tr><td>-0.06526022</td><td> 0.000637595</td><td>-0.003242642</td></tr>\n",
       "\t<tr><td> 0.23409378</td><td>-0.003242642</td><td> 0.020799716</td></tr>\n",
       "</tbody>\n",
       "</table>\n"
      ],
      "text/latex": [
       "A matrix: 3 × 3 of type dbl\n",
       "\\begin{tabular}{lll}\n",
       "\t  8.99974754 & -0.065260222 &  0.234093777\\\\\n",
       "\t -0.06526022 &  0.000637595 & -0.003242642\\\\\n",
       "\t  0.23409378 & -0.003242642 &  0.020799716\\\\\n",
       "\\end{tabular}\n"
      ],
      "text/markdown": [
       "\n",
       "A matrix: 3 × 3 of type dbl\n",
       "\n",
       "|  8.99974754 | -0.065260222 |  0.234093777 |\n",
       "| -0.06526022 |  0.000637595 | -0.003242642 |\n",
       "|  0.23409378 | -0.003242642 |  0.020799716 |\n",
       "\n"
      ],
      "text/plain": [
       "     [,1]        [,2]         [,3]        \n",
       "[1,]  8.99974754 -0.065260222  0.234093777\n",
       "[2,] -0.06526022  0.000637595 -0.003242642\n",
       "[3,]  0.23409378 -0.003242642  0.020799716"
      ]
     },
     "metadata": {},
     "output_type": "display_data"
    }
   ],
   "source": [
    "XtXr <- solve(XtX)  # [X'X]의 역함수\n",
    "XtXr"
   ]
  },
  {
   "cell_type": "markdown",
   "id": "e790b41f-1b5a-4e31-82e5-d6ed50a0bc2e",
   "metadata": {},
   "source": [
    "$Var(b_0)$ : XtXr 의 대각 1번째 원소 $\\times$  $\\sigma^2$\n",
    "> $8.9997 \\sigma^2$\n",
    "\n",
    "$Var(b_1)$ : XtXr 의 대각 2번째 원소 $\\times$  $\\sigma^2$\n",
    "> $0.00064 \\sigma^2$\n",
    "\n",
    "$Var(b_2)$ : XtXr 의 대각 3번째 원소 $\\times$  $\\sigma^2$\n",
    "> $0.0208 \\sigma^2$"
   ]
  },
  {
   "cell_type": "markdown",
   "id": "57d2dd37-54cc-4535-a037-ead22f64fed0",
   "metadata": {},
   "source": [
    "### 3) 추정된 회귀계수 $b_1$과 $b_2$의 의미는 무엇인가?"
   ]
  },
  {
   "cell_type": "markdown",
   "id": "cb4b5381-7778-49ac-a457-3c544b4815df",
   "metadata": {},
   "source": [
    "$b_1$ : $1^\\circ C$ 온도 증가에 따른 인장강도의 변화\n",
    "\n",
    "$b_2$ : $1$분 시간 흐름에 따른 인장강도의 변화"
   ]
  },
  {
   "cell_type": "markdown",
   "id": "d2464ee5-6216-446b-80f7-4058db7890a8",
   "metadata": {},
   "source": [
    "### 4) 회귀계수 $\\beta_1$ 과 $\\beta_2$의  95% 신뢰구간을 구하여라."
   ]
  },
  {
   "cell_type": "code",
   "execution_count": 10,
   "id": "4bf7e4e2-1e3f-4fea-a11b-a76efc04f8e2",
   "metadata": {},
   "outputs": [
    {
     "data": {
      "text/html": [
       "<table class=\"dataframe\">\n",
       "<caption>A matrix: 3 × 2 of type dbl</caption>\n",
       "<thead>\n",
       "\t<tr><th></th><th scope=col>2.5 %</th><th scope=col>97.5 %</th></tr>\n",
       "</thead>\n",
       "<tbody>\n",
       "\t<tr><th scope=row>(Intercept)</th><td>-79.4362406</td><td>150.107949</td></tr>\n",
       "\t<tr><th scope=row>x1</th><td> -0.7612855</td><td>  1.170788</td></tr>\n",
       "\t<tr><th scope=row>x2</th><td> -2.9669628</td><td>  8.068228</td></tr>\n",
       "</tbody>\n",
       "</table>\n"
      ],
      "text/latex": [
       "A matrix: 3 × 2 of type dbl\n",
       "\\begin{tabular}{r|ll}\n",
       "  & 2.5 \\% & 97.5 \\%\\\\\n",
       "\\hline\n",
       "\t(Intercept) & -79.4362406 & 150.107949\\\\\n",
       "\tx1 &  -0.7612855 &   1.170788\\\\\n",
       "\tx2 &  -2.9669628 &   8.068228\\\\\n",
       "\\end{tabular}\n"
      ],
      "text/markdown": [
       "\n",
       "A matrix: 3 × 2 of type dbl\n",
       "\n",
       "| <!--/--> | 2.5 % | 97.5 % |\n",
       "|---|---|---|\n",
       "| (Intercept) | -79.4362406 | 150.107949 |\n",
       "| x1 |  -0.7612855 |   1.170788 |\n",
       "| x2 |  -2.9669628 |   8.068228 |\n",
       "\n"
      ],
      "text/plain": [
       "            2.5 %       97.5 %    \n",
       "(Intercept) -79.4362406 150.107949\n",
       "x1           -0.7612855   1.170788\n",
       "x2           -2.9669628   8.068228"
      ]
     },
     "metadata": {},
     "output_type": "display_data"
    }
   ],
   "source": [
    "confint(lm81)"
   ]
  },
  {
   "cell_type": "markdown",
   "id": "7eb1a7bb-b5f3-436a-9d6f-9cf47bc8a00a",
   "metadata": {},
   "source": [
    "$ -0.7612855 < \\beta_1 < 1.170788 $ \n",
    "\n",
    "$ -2.9669628 < \\beta_2 < 8.068228 $ "
   ]
  },
  {
   "cell_type": "markdown",
   "id": "abfaeb1c-226d-4b3c-ba42-d8ffee4ac77c",
   "metadata": {},
   "source": [
    "### 5) 분산분석표를 작성하고 $H_0 : \\beta_1 = \\beta_2 = 0 $ 을 유의수준  0.05로 검정하여라."
   ]
  },
  {
   "cell_type": "code",
   "execution_count": 11,
   "id": "b69dbefc-bea0-48fd-a1ff-571fe9ae3c9d",
   "metadata": {},
   "outputs": [
    {
     "data": {
      "text/html": [
       "<table class=\"dataframe\">\n",
       "<caption>A anova: 3 × 5</caption>\n",
       "<thead>\n",
       "\t<tr><th></th><th scope=col>Df</th><th scope=col>Sum Sq</th><th scope=col>Mean Sq</th><th scope=col>F value</th><th scope=col>Pr(&gt;F)</th></tr>\n",
       "\t<tr><th></th><th scope=col>&lt;int&gt;</th><th scope=col>&lt;dbl&gt;</th><th scope=col>&lt;dbl&gt;</th><th scope=col>&lt;dbl&gt;</th><th scope=col>&lt;dbl&gt;</th></tr>\n",
       "</thead>\n",
       "<tbody>\n",
       "\t<tr><th scope=row>x1</th><td>1</td><td>2747.5393</td><td>2747.5393</td><td>10.496050</td><td>0.01425777</td></tr>\n",
       "\t<tr><th scope=row>x2</th><td>1</td><td> 312.7796</td><td> 312.7796</td><td> 1.194869</td><td>0.31053404</td></tr>\n",
       "\t<tr><th scope=row>Residuals</th><td>7</td><td>1832.3821</td><td> 261.7689</td><td>       NA</td><td>        NA</td></tr>\n",
       "</tbody>\n",
       "</table>\n"
      ],
      "text/latex": [
       "A anova: 3 × 5\n",
       "\\begin{tabular}{r|lllll}\n",
       "  & Df & Sum Sq & Mean Sq & F value & Pr(>F)\\\\\n",
       "  & <int> & <dbl> & <dbl> & <dbl> & <dbl>\\\\\n",
       "\\hline\n",
       "\tx1 & 1 & 2747.5393 & 2747.5393 & 10.496050 & 0.01425777\\\\\n",
       "\tx2 & 1 &  312.7796 &  312.7796 &  1.194869 & 0.31053404\\\\\n",
       "\tResiduals & 7 & 1832.3821 &  261.7689 &        NA &         NA\\\\\n",
       "\\end{tabular}\n"
      ],
      "text/markdown": [
       "\n",
       "A anova: 3 × 5\n",
       "\n",
       "| <!--/--> | Df &lt;int&gt; | Sum Sq &lt;dbl&gt; | Mean Sq &lt;dbl&gt; | F value &lt;dbl&gt; | Pr(&gt;F) &lt;dbl&gt; |\n",
       "|---|---|---|---|---|---|\n",
       "| x1 | 1 | 2747.5393 | 2747.5393 | 10.496050 | 0.01425777 |\n",
       "| x2 | 1 |  312.7796 |  312.7796 |  1.194869 | 0.31053404 |\n",
       "| Residuals | 7 | 1832.3821 |  261.7689 |        NA |         NA |\n",
       "\n"
      ],
      "text/plain": [
       "          Df Sum Sq    Mean Sq   F value   Pr(>F)    \n",
       "x1        1  2747.5393 2747.5393 10.496050 0.01425777\n",
       "x2        1   312.7796  312.7796  1.194869 0.31053404\n",
       "Residuals 7  1832.3821  261.7689        NA         NA"
      ]
     },
     "metadata": {},
     "output_type": "display_data"
    }
   ],
   "source": [
    "anova(lm81)"
   ]
  },
  {
   "cell_type": "markdown",
   "id": "89194685-0750-458f-82bf-c021a5957b28",
   "metadata": {},
   "source": [
    "분산분석표\n",
    "\n",
    "||자유도|제곱합|제곱평균|F|\n",
    "|:---:|:---:|:---:|:---:|:---:|\n",
    "|model|2|3060|1530|6|\n",
    "|error|7|1832|262||\n",
    "|total|9|4892|||"
   ]
  },
  {
   "cell_type": "markdown",
   "id": "c007320d-60d5-40a3-801c-0281a8332274",
   "metadata": {},
   "source": [
    "유의수준 0.05 에서 F의 값보다 분산분석에서의 Fvalue(6)가 크므로 영가설을 기각하여\n",
    "\n",
    "$\\beta_1$ 과 $\\beta_2$ 가 다르다는 것을 알 수 있다."
   ]
  },
  {
   "cell_type": "markdown",
   "id": "7b5c7529-0839-4c92-93d5-3365031efea1",
   "metadata": {},
   "source": [
    "### 6) $x_1 = 200, x_2 = 20 $ 에서 $E(y)$ 의 95% 예측구간을 구하여라."
   ]
  },
  {
   "cell_type": "code",
   "execution_count": 21,
   "id": "85215a6f-dbca-4339-b839-33720fb04ce8",
   "metadata": {},
   "outputs": [],
   "source": [
    "q11 <- data.frame(x1 = 200 , x2 = 20)"
   ]
  },
  {
   "cell_type": "code",
   "execution_count": 22,
   "id": "7f33cdde-3f3e-49a1-a57f-8589a5f21f63",
   "metadata": {},
   "outputs": [
    {
     "data": {
      "text/html": [
       "<table class=\"dataframe\">\n",
       "<caption>A matrix: 1 × 3 of type dbl</caption>\n",
       "<thead>\n",
       "\t<tr><th></th><th scope=col>fit</th><th scope=col>lwr</th><th scope=col>upr</th></tr>\n",
       "</thead>\n",
       "<tbody>\n",
       "\t<tr><th scope=row>1</th><td>127.2987</td><td>86.41531</td><td>168.1821</td></tr>\n",
       "</tbody>\n",
       "</table>\n"
      ],
      "text/latex": [
       "A matrix: 1 × 3 of type dbl\n",
       "\\begin{tabular}{r|lll}\n",
       "  & fit & lwr & upr\\\\\n",
       "\\hline\n",
       "\t1 & 127.2987 & 86.41531 & 168.1821\\\\\n",
       "\\end{tabular}\n"
      ],
      "text/markdown": [
       "\n",
       "A matrix: 1 × 3 of type dbl\n",
       "\n",
       "| <!--/--> | fit | lwr | upr |\n",
       "|---|---|---|---|\n",
       "| 1 | 127.2987 | 86.41531 | 168.1821 |\n",
       "\n"
      ],
      "text/plain": [
       "  fit      lwr      upr     \n",
       "1 127.2987 86.41531 168.1821"
      ]
     },
     "metadata": {},
     "output_type": "display_data"
    }
   ],
   "source": [
    "predict(lm81, q11, level=0.95 ,interval = \"predic\")"
   ]
  },
  {
   "cell_type": "markdown",
   "id": "526ed29c-77f9-440c-aad9-04c69804c050",
   "metadata": {},
   "source": [
    "$\\hat{y} \\pm t \\times \\sqrt{x'(X'X)^{-1}x \\bullet MSE} $"
   ]
  },
  {
   "cell_type": "markdown",
   "id": "2e349339-4b1e-44c5-8a8b-505356531e79",
   "metadata": {},
   "source": [
    "$\\hat{y} = 127.3 , t = 2.365 , MSE = 262 , $\n",
    "\n",
    "$ x'(X'X)^{-1}x : x = c(1, 200, 20) $ 으로 계산 $\\to 0.142$ "
   ]
  },
  {
   "cell_type": "code",
   "execution_count": 32,
   "id": "ac923108-c0b9-45e8-9b82-380bd2326d10",
   "metadata": {},
   "outputs": [
    {
     "data": {
      "text/html": [
       "<table class=\"dataframe\">\n",
       "<caption>A matrix: 1 × 1 of type dbl</caption>\n",
       "<tbody>\n",
       "\t<tr><td>0.1419628</td></tr>\n",
       "</tbody>\n",
       "</table>\n"
      ],
      "text/latex": [
       "A matrix: 1 × 1 of type dbl\n",
       "\\begin{tabular}{l}\n",
       "\t 0.1419628\\\\\n",
       "\\end{tabular}\n"
      ],
      "text/markdown": [
       "\n",
       "A matrix: 1 × 1 of type dbl\n",
       "\n",
       "| 0.1419628 |\n",
       "\n"
      ],
      "text/plain": [
       "     [,1]     \n",
       "[1,] 0.1419628"
      ]
     },
     "metadata": {},
     "output_type": "display_data"
    }
   ],
   "source": [
    "x_ <- matrix(c(1,200,20),3,1)\n",
    "xt_ <- t(x_)\n",
    "c_ <- (xt_) %*% (XtXr) %*% (x_)\n",
    "c_"
   ]
  },
  {
   "cell_type": "code",
   "execution_count": 33,
   "id": "794854ac-a44c-4b6f-bcd5-cf2685d578fe",
   "metadata": {},
   "outputs": [
    {
     "data": {
      "text/html": [
       "141.725336838355"
      ],
      "text/latex": [
       "141.725336838355"
      ],
      "text/markdown": [
       "141.725336838355"
      ],
      "text/plain": [
       "[1] 141.7253"
      ]
     },
     "metadata": {},
     "output_type": "display_data"
    }
   ],
   "source": [
    "127.3 + 2.365*sqrt(0.142*262)"
   ]
  },
  {
   "cell_type": "code",
   "execution_count": 34,
   "id": "fea81bf0-4515-45ec-9881-58a648ae313d",
   "metadata": {},
   "outputs": [
    {
     "data": {
      "text/html": [
       "112.874663161645"
      ],
      "text/latex": [
       "112.874663161645"
      ],
      "text/markdown": [
       "112.874663161645"
      ],
      "text/plain": [
       "[1] 112.8747"
      ]
     },
     "metadata": {},
     "output_type": "display_data"
    }
   ],
   "source": [
    "127.3 - 2.365*sqrt(0.142*262)"
   ]
  },
  {
   "cell_type": "markdown",
   "id": "200bc10d-be20-48ed-95f8-a254afb313ce",
   "metadata": {},
   "source": [
    "따라서 예측구간은 112.9 ~ 141.7 이다."
   ]
  },
  {
   "cell_type": "markdown",
   "id": "ec46c393-9021-419b-be70-a29bdba7d2ec",
   "metadata": {},
   "source": [
    "### 7) 귀무가설 $H_0 : \\beta_1 = \\beta_2$, 대립가설 $H_1 : \\beta_1 \\neq \\beta_2$ 를 유의수준 5%로 검정하여라."
   ]
  },
  {
   "cell_type": "code",
   "execution_count": 37,
   "id": "ba36d80c-6365-4f89-b350-3799d23c90f1",
   "metadata": {},
   "outputs": [
    {
     "data": {
      "text/html": [
       "<table class=\"dataframe\">\n",
       "<caption>A matrix: 1 × 1 of type dbl</caption>\n",
       "<tbody>\n",
       "\t<tr><td>-2.3458</td></tr>\n",
       "</tbody>\n",
       "</table>\n"
      ],
      "text/latex": [
       "A matrix: 1 × 1 of type dbl\n",
       "\\begin{tabular}{l}\n",
       "\t -2.3458\\\\\n",
       "\\end{tabular}\n"
      ],
      "text/markdown": [
       "\n",
       "A matrix: 1 × 1 of type dbl\n",
       "\n",
       "| -2.3458 |\n",
       "\n"
      ],
      "text/plain": [
       "     [,1]   \n",
       "[1,] -2.3458"
      ]
     },
     "metadata": {},
     "output_type": "display_data"
    }
   ],
   "source": [
    "q = matrix(c(0,1,-1),3,1)\n",
    "b = matrix(c(35.3359,0.2048,2.5506),3,1)\n",
    "qb = t(q) %*% b\n",
    "qb"
   ]
  },
  {
   "cell_type": "code",
   "execution_count": 39,
   "id": "e84f4bbe-ddff-47a2-b555-c1146503ee3b",
   "metadata": {},
   "outputs": [
    {
     "data": {
      "text/html": [
       "<table class=\"dataframe\">\n",
       "<caption>A matrix: 1 × 1 of type dbl</caption>\n",
       "<tbody>\n",
       "\t<tr><td>-0.8672862</td></tr>\n",
       "</tbody>\n",
       "</table>\n"
      ],
      "text/latex": [
       "A matrix: 1 × 1 of type dbl\n",
       "\\begin{tabular}{l}\n",
       "\t -0.8672862\\\\\n",
       "\\end{tabular}\n"
      ],
      "text/markdown": [
       "\n",
       "A matrix: 1 × 1 of type dbl\n",
       "\n",
       "| -0.8672862 |\n",
       "\n"
      ],
      "text/plain": [
       "     [,1]      \n",
       "[1,] -0.8672862"
      ]
     },
     "metadata": {},
     "output_type": "display_data"
    }
   ],
   "source": [
    "qb/sqrt(t(q) %*% XtXr %*% q *262) #검정 t통계량"
   ]
  },
  {
   "cell_type": "markdown",
   "id": "ac2c42b5-4e75-4bcb-b83a-a98a026e612d",
   "metadata": {},
   "source": [
    "0.87 은 2.365보다 작으므로 영가설을 기각할 수 없다. 즉 $\\beta_1 = \\beta_2 $ 가 성립한다."
   ]
  },
  {
   "cell_type": "markdown",
   "id": "8811a6cf-3e27-4fd9-b506-7ff6cc60b425",
   "metadata": {},
   "source": [
    "### 8) $x_1 =240 , x_2 =30 $ 에서 y의 95% 예측구간을 구하여라."
   ]
  },
  {
   "cell_type": "code",
   "execution_count": 19,
   "id": "91dd5a3e-ddc3-42c2-a7fc-ae19a37cd545",
   "metadata": {},
   "outputs": [],
   "source": [
    "q10 <- data.frame(x1 = 240 , x2 = 30)"
   ]
  },
  {
   "cell_type": "code",
   "execution_count": 20,
   "id": "8743ea1b-8bf5-47b4-afe5-e164401c552a",
   "metadata": {},
   "outputs": [
    {
     "data": {
      "text/html": [
       "<table class=\"dataframe\">\n",
       "<caption>A matrix: 1 × 3 of type dbl</caption>\n",
       "<thead>\n",
       "\t<tr><th></th><th scope=col>fit</th><th scope=col>lwr</th><th scope=col>upr</th></tr>\n",
       "</thead>\n",
       "<tbody>\n",
       "\t<tr><th scope=row>1</th><td>160.9951</td><td>114.5839</td><td>207.4063</td></tr>\n",
       "</tbody>\n",
       "</table>\n"
      ],
      "text/latex": [
       "A matrix: 1 × 3 of type dbl\n",
       "\\begin{tabular}{r|lll}\n",
       "  & fit & lwr & upr\\\\\n",
       "\\hline\n",
       "\t1 & 160.9951 & 114.5839 & 207.4063\\\\\n",
       "\\end{tabular}\n"
      ],
      "text/markdown": [
       "\n",
       "A matrix: 1 × 3 of type dbl\n",
       "\n",
       "| <!--/--> | fit | lwr | upr |\n",
       "|---|---|---|---|\n",
       "| 1 | 160.9951 | 114.5839 | 207.4063 |\n",
       "\n"
      ],
      "text/plain": [
       "  fit      lwr      upr     \n",
       "1 160.9951 114.5839 207.4063"
      ]
     },
     "metadata": {},
     "output_type": "display_data"
    }
   ],
   "source": [
    "predict(lm81, q10, level=0.95 ,interval = \"predic\")"
   ]
  },
  {
   "cell_type": "markdown",
   "id": "d57b731e-1b54-4591-a4d7-9c49ea9541b6",
   "metadata": {},
   "source": [
    "예측구간 : (114.5839 , 207.4063)의 사이에 y가 존재할 확률이 95%라는 뜻이다."
   ]
  },
  {
   "cell_type": "markdown",
   "id": "e8dd1cef-371e-4a0d-94c9-bcb248120c12",
   "metadata": {},
   "source": [
    "________________"
   ]
  },
  {
   "cell_type": "markdown",
   "id": "2ccd2305-a2ac-487b-8202-b457f28c0fb3",
   "metadata": {},
   "source": [
    "# 8.10)\n",
    "> 다음의 자료에 대하여"
   ]
  },
  {
   "cell_type": "markdown",
   "id": "e4a27439-2c80-4f51-b788-6967574c753d",
   "metadata": {},
   "source": [
    "|$y$|$x_1$|$x_2$|\n",
    "|---|---|---|\n",
    "|39|2|4|\n",
    "|42|2|4|\n",
    "|51|3|4|\n",
    "|48|3|4|\n",
    "|53|2|6|\n",
    "|49|2|6|\n",
    "|61|3|6|\n",
    "|60|3|6|"
   ]
  },
  {
   "cell_type": "markdown",
   "id": "71854651-015a-45b5-8a2e-c89cfc6161ef",
   "metadata": {},
   "source": [
    "### 1) 중회귀모형 $y=\\beta_0+\\beta_1x_1+\\beta_2x_2+\\epsilon$를 가정하고 회귀선을 추정하여라."
   ]
  },
  {
   "cell_type": "code",
   "execution_count": 40,
   "id": "faa293ee-d4ed-4854-9657-5ca861e7aaa4",
   "metadata": {},
   "outputs": [
    {
     "data": {
      "text/html": [
       "<table class=\"dataframe\">\n",
       "<caption>A data.frame: 8 × 3</caption>\n",
       "<thead>\n",
       "\t<tr><th scope=col>y_10</th><th scope=col>x1_10</th><th scope=col>x2_10</th></tr>\n",
       "\t<tr><th scope=col>&lt;int&gt;</th><th scope=col>&lt;int&gt;</th><th scope=col>&lt;int&gt;</th></tr>\n",
       "</thead>\n",
       "<tbody>\n",
       "\t<tr><td>39</td><td>2</td><td>4</td></tr>\n",
       "\t<tr><td>42</td><td>2</td><td>4</td></tr>\n",
       "\t<tr><td>51</td><td>3</td><td>4</td></tr>\n",
       "\t<tr><td>48</td><td>3</td><td>4</td></tr>\n",
       "\t<tr><td>53</td><td>2</td><td>6</td></tr>\n",
       "\t<tr><td>49</td><td>2</td><td>6</td></tr>\n",
       "\t<tr><td>61</td><td>3</td><td>6</td></tr>\n",
       "\t<tr><td>60</td><td>3</td><td>6</td></tr>\n",
       "</tbody>\n",
       "</table>\n"
      ],
      "text/latex": [
       "A data.frame: 8 × 3\n",
       "\\begin{tabular}{lll}\n",
       " y\\_10 & x1\\_10 & x2\\_10\\\\\n",
       " <int> & <int> & <int>\\\\\n",
       "\\hline\n",
       "\t 39 & 2 & 4\\\\\n",
       "\t 42 & 2 & 4\\\\\n",
       "\t 51 & 3 & 4\\\\\n",
       "\t 48 & 3 & 4\\\\\n",
       "\t 53 & 2 & 6\\\\\n",
       "\t 49 & 2 & 6\\\\\n",
       "\t 61 & 3 & 6\\\\\n",
       "\t 60 & 3 & 6\\\\\n",
       "\\end{tabular}\n"
      ],
      "text/markdown": [
       "\n",
       "A data.frame: 8 × 3\n",
       "\n",
       "| y_10 &lt;int&gt; | x1_10 &lt;int&gt; | x2_10 &lt;int&gt; |\n",
       "|---|---|---|\n",
       "| 39 | 2 | 4 |\n",
       "| 42 | 2 | 4 |\n",
       "| 51 | 3 | 4 |\n",
       "| 48 | 3 | 4 |\n",
       "| 53 | 2 | 6 |\n",
       "| 49 | 2 | 6 |\n",
       "| 61 | 3 | 6 |\n",
       "| 60 | 3 | 6 |\n",
       "\n"
      ],
      "text/plain": [
       "  y_10 x1_10 x2_10\n",
       "1 39   2     4    \n",
       "2 42   2     4    \n",
       "3 51   3     4    \n",
       "4 48   3     4    \n",
       "5 53   2     6    \n",
       "6 49   2     6    \n",
       "7 61   3     6    \n",
       "8 60   3     6    "
      ]
     },
     "metadata": {},
     "output_type": "display_data"
    }
   ],
   "source": [
    "Q810 <- read.csv(\"810.csv\",head = T)\n",
    "Q810"
   ]
  },
  {
   "cell_type": "code",
   "execution_count": 41,
   "id": "a67105b1-2cfb-4956-a5bb-cd82579961bd",
   "metadata": {},
   "outputs": [],
   "source": [
    "attach(Q810)"
   ]
  },
  {
   "cell_type": "code",
   "execution_count": 42,
   "id": "4c33ab1d-42a3-4906-9481-1860a9837384",
   "metadata": {},
   "outputs": [],
   "source": [
    "lm810 <- lm(y_10~x1_10+x2_10)"
   ]
  },
  {
   "cell_type": "code",
   "execution_count": 43,
   "id": "9cecc5fe-cbc2-420d-a1e2-2b0fc240d71f",
   "metadata": {},
   "outputs": [
    {
     "data": {
      "text/html": [
       "<style>\n",
       ".dl-inline {width: auto; margin:0; padding: 0}\n",
       ".dl-inline>dt, .dl-inline>dd {float: none; width: auto; display: inline-block}\n",
       ".dl-inline>dt::after {content: \":\\0020\"; padding-right: .5ex}\n",
       ".dl-inline>dt:not(:first-of-type) {padding-left: .5ex}\n",
       "</style><dl class=dl-inline><dt>(Intercept)</dt><dd>0.375000000000071</dd><dt>x1_10</dt><dd>9.24999999999999</dd><dt>x2_10</dt><dd>5.37499999999999</dd></dl>\n"
      ],
      "text/latex": [
       "\\begin{description*}\n",
       "\\item[(Intercept)] 0.375000000000071\n",
       "\\item[x1\\textbackslash{}\\_10] 9.24999999999999\n",
       "\\item[x2\\textbackslash{}\\_10] 5.37499999999999\n",
       "\\end{description*}\n"
      ],
      "text/markdown": [
       "(Intercept)\n",
       ":   0.375000000000071x1_10\n",
       ":   9.24999999999999x2_10\n",
       ":   5.37499999999999\n",
       "\n"
      ],
      "text/plain": [
       "(Intercept)       x1_10       x2_10 \n",
       "      0.375       9.250       5.375 "
      ]
     },
     "metadata": {},
     "output_type": "display_data"
    }
   ],
   "source": [
    "coef(lm810)"
   ]
  },
  {
   "cell_type": "markdown",
   "id": "1e5eb9ba-4a87-46ae-a496-d4a58f95a6d4",
   "metadata": {},
   "source": [
    "$\\hat{y} = 0.375 + 9.25x_1 +5.375x_2 $"
   ]
  },
  {
   "cell_type": "markdown",
   "id": "bf153d9d-196d-4544-9288-a83be9b030ee",
   "metadata": {},
   "source": [
    "### 2) 독립변수 $x_1$만을 고려한 회귀모형 $y=\\beta_0+\\beta_1x_1+\\epsilon$를 가정하고 회귀선을 구하여 분산분석표를 작성하여라."
   ]
  },
  {
   "cell_type": "code",
   "execution_count": 44,
   "id": "fbf1b53e-e48d-4843-a29d-1360ed18f9f8",
   "metadata": {},
   "outputs": [
    {
     "data": {
      "text/html": [
       "<style>\n",
       ".dl-inline {width: auto; margin:0; padding: 0}\n",
       ".dl-inline>dt, .dl-inline>dd {float: none; width: auto; display: inline-block}\n",
       ".dl-inline>dt::after {content: \":\\0020\"; padding-right: .5ex}\n",
       ".dl-inline>dt:not(:first-of-type) {padding-left: .5ex}\n",
       "</style><dl class=dl-inline><dt>(Intercept)</dt><dd>27.25</dd><dt>x1_10</dt><dd>9.25</dd></dl>\n"
      ],
      "text/latex": [
       "\\begin{description*}\n",
       "\\item[(Intercept)] 27.25\n",
       "\\item[x1\\textbackslash{}\\_10] 9.25\n",
       "\\end{description*}\n"
      ],
      "text/markdown": [
       "(Intercept)\n",
       ":   27.25x1_10\n",
       ":   9.25\n",
       "\n"
      ],
      "text/plain": [
       "(Intercept)       x1_10 \n",
       "      27.25        9.25 "
      ]
     },
     "metadata": {},
     "output_type": "display_data"
    }
   ],
   "source": [
    "lm810_1 <- lm(y_10 ~ x1_10)\n",
    "coef(lm810_1)"
   ]
  },
  {
   "cell_type": "markdown",
   "id": "fd60347d-1c05-4cd2-89be-69085c790097",
   "metadata": {},
   "source": [
    "$\\hat{y} = 27.25 + 9.25x_1 $"
   ]
  },
  {
   "cell_type": "markdown",
   "id": "a5ae87b3-19de-4d5d-ac91-e7af1427c068",
   "metadata": {},
   "source": [
    "ANOVA"
   ]
  },
  {
   "cell_type": "code",
   "execution_count": 45,
   "id": "2f97a4ea-aba5-41c8-8303-01cc642fe740",
   "metadata": {},
   "outputs": [
    {
     "data": {
      "text/html": [
       "<table class=\"dataframe\">\n",
       "<caption>A anova: 2 × 5</caption>\n",
       "<thead>\n",
       "\t<tr><th></th><th scope=col>Df</th><th scope=col>Sum Sq</th><th scope=col>Mean Sq</th><th scope=col>F value</th><th scope=col>Pr(&gt;F)</th></tr>\n",
       "\t<tr><th></th><th scope=col>&lt;int&gt;</th><th scope=col>&lt;dbl&gt;</th><th scope=col>&lt;dbl&gt;</th><th scope=col>&lt;dbl&gt;</th><th scope=col>&lt;dbl&gt;</th></tr>\n",
       "</thead>\n",
       "<tbody>\n",
       "\t<tr><th scope=row>x1_10</th><td>1</td><td>171.125</td><td>171.12500</td><td>4.127638</td><td>0.08846031</td></tr>\n",
       "\t<tr><th scope=row>Residuals</th><td>6</td><td>248.750</td><td> 41.45833</td><td>      NA</td><td>        NA</td></tr>\n",
       "</tbody>\n",
       "</table>\n"
      ],
      "text/latex": [
       "A anova: 2 × 5\n",
       "\\begin{tabular}{r|lllll}\n",
       "  & Df & Sum Sq & Mean Sq & F value & Pr(>F)\\\\\n",
       "  & <int> & <dbl> & <dbl> & <dbl> & <dbl>\\\\\n",
       "\\hline\n",
       "\tx1\\_10 & 1 & 171.125 & 171.12500 & 4.127638 & 0.08846031\\\\\n",
       "\tResiduals & 6 & 248.750 &  41.45833 &       NA &         NA\\\\\n",
       "\\end{tabular}\n"
      ],
      "text/markdown": [
       "\n",
       "A anova: 2 × 5\n",
       "\n",
       "| <!--/--> | Df &lt;int&gt; | Sum Sq &lt;dbl&gt; | Mean Sq &lt;dbl&gt; | F value &lt;dbl&gt; | Pr(&gt;F) &lt;dbl&gt; |\n",
       "|---|---|---|---|---|---|\n",
       "| x1_10 | 1 | 171.125 | 171.12500 | 4.127638 | 0.08846031 |\n",
       "| Residuals | 6 | 248.750 |  41.45833 |       NA |         NA |\n",
       "\n"
      ],
      "text/plain": [
       "          Df Sum Sq  Mean Sq   F value  Pr(>F)    \n",
       "x1_10     1  171.125 171.12500 4.127638 0.08846031\n",
       "Residuals 6  248.750  41.45833       NA         NA"
      ]
     },
     "metadata": {},
     "output_type": "display_data"
    }
   ],
   "source": [
    "anova(lm810_1)"
   ]
  },
  {
   "cell_type": "markdown",
   "id": "13173af3-a08f-4cf2-b3ad-2a328780bd27",
   "metadata": {},
   "source": [
    "### 3) 독립변수 $x_2$만을 고려한 회귀모형 $y=\\beta_0+\\beta_2x_2+\\epsilon$를 가정하고 회귀선을 구하여 분산분석표를 작성하여라."
   ]
  },
  {
   "cell_type": "code",
   "execution_count": 46,
   "id": "2468ce54-50a3-4814-bd83-f56529c7b036",
   "metadata": {},
   "outputs": [
    {
     "data": {
      "text/html": [
       "<style>\n",
       ".dl-inline {width: auto; margin:0; padding: 0}\n",
       ".dl-inline>dt, .dl-inline>dd {float: none; width: auto; display: inline-block}\n",
       ".dl-inline>dt::after {content: \":\\0020\"; padding-right: .5ex}\n",
       ".dl-inline>dt:not(:first-of-type) {padding-left: .5ex}\n",
       "</style><dl class=dl-inline><dt>(Intercept)</dt><dd>23.5</dd><dt>x2_10</dt><dd>5.375</dd></dl>\n"
      ],
      "text/latex": [
       "\\begin{description*}\n",
       "\\item[(Intercept)] 23.5\n",
       "\\item[x2\\textbackslash{}\\_10] 5.375\n",
       "\\end{description*}\n"
      ],
      "text/markdown": [
       "(Intercept)\n",
       ":   23.5x2_10\n",
       ":   5.375\n",
       "\n"
      ],
      "text/plain": [
       "(Intercept)       x2_10 \n",
       "     23.500       5.375 "
      ]
     },
     "metadata": {},
     "output_type": "display_data"
    }
   ],
   "source": [
    "lm810_2 <- lm(y_10 ~ x2_10)\n",
    "coef(lm810_2)"
   ]
  },
  {
   "cell_type": "markdown",
   "id": "b3148d40-e5c6-4506-8d36-d184ee754300",
   "metadata": {},
   "source": [
    "$\\hat{y} = 23.5 +5.375x_2 $"
   ]
  },
  {
   "cell_type": "markdown",
   "id": "fc6cd689-f3da-46e7-83b0-34fa22ffe4b0",
   "metadata": {},
   "source": [
    "ANOVA"
   ]
  },
  {
   "cell_type": "code",
   "execution_count": 47,
   "id": "5b33c00d-e41c-422a-8ca0-ba736ba203ef",
   "metadata": {},
   "outputs": [
    {
     "data": {
      "text/html": [
       "<table class=\"dataframe\">\n",
       "<caption>A anova: 2 × 5</caption>\n",
       "<thead>\n",
       "\t<tr><th></th><th scope=col>Df</th><th scope=col>Sum Sq</th><th scope=col>Mean Sq</th><th scope=col>F value</th><th scope=col>Pr(&gt;F)</th></tr>\n",
       "\t<tr><th></th><th scope=col>&lt;int&gt;</th><th scope=col>&lt;dbl&gt;</th><th scope=col>&lt;dbl&gt;</th><th scope=col>&lt;dbl&gt;</th><th scope=col>&lt;dbl&gt;</th></tr>\n",
       "</thead>\n",
       "<tbody>\n",
       "\t<tr><th scope=row>x2_10</th><td>1</td><td>231.125</td><td>231.12500</td><td>7.34702</td><td>0.03508095</td></tr>\n",
       "\t<tr><th scope=row>Residuals</th><td>6</td><td>188.750</td><td> 31.45833</td><td>     NA</td><td>        NA</td></tr>\n",
       "</tbody>\n",
       "</table>\n"
      ],
      "text/latex": [
       "A anova: 2 × 5\n",
       "\\begin{tabular}{r|lllll}\n",
       "  & Df & Sum Sq & Mean Sq & F value & Pr(>F)\\\\\n",
       "  & <int> & <dbl> & <dbl> & <dbl> & <dbl>\\\\\n",
       "\\hline\n",
       "\tx2\\_10 & 1 & 231.125 & 231.12500 & 7.34702 & 0.03508095\\\\\n",
       "\tResiduals & 6 & 188.750 &  31.45833 &      NA &         NA\\\\\n",
       "\\end{tabular}\n"
      ],
      "text/markdown": [
       "\n",
       "A anova: 2 × 5\n",
       "\n",
       "| <!--/--> | Df &lt;int&gt; | Sum Sq &lt;dbl&gt; | Mean Sq &lt;dbl&gt; | F value &lt;dbl&gt; | Pr(&gt;F) &lt;dbl&gt; |\n",
       "|---|---|---|---|---|---|\n",
       "| x2_10 | 1 | 231.125 | 231.12500 | 7.34702 | 0.03508095 |\n",
       "| Residuals | 6 | 188.750 |  31.45833 |      NA |         NA |\n",
       "\n"
      ],
      "text/plain": [
       "          Df Sum Sq  Mean Sq   F value Pr(>F)    \n",
       "x2_10     1  231.125 231.12500 7.34702 0.03508095\n",
       "Residuals 6  188.750  31.45833      NA         NA"
      ]
     },
     "metadata": {},
     "output_type": "display_data"
    }
   ],
   "source": [
    "anova(lm810_2)"
   ]
  },
  {
   "cell_type": "markdown",
   "id": "72a2b655-dd9f-4ce8-95c2-0040a99e4439",
   "metadata": {},
   "source": [
    "### 4) 단위길이법에 의하여 표준화된 회귀계수를 구하여 회귀선을 추정하여라."
   ]
  },
  {
   "cell_type": "markdown",
   "id": "5be7bde6-1308-44af-8c6c-b51bb1ddefdf",
   "metadata": {},
   "source": [
    "-\n",
    "-\n",
    "-\n",
    "-\n",
    "-\n",
    "-\n",
    "-\n",
    "-\n",
    "-\n",
    "-\n",
    "-\n",
    "-\n",
    "-\n",
    "-\n",
    "-\n",
    "-\n",
    "-\n",
    "-\n",
    "-\n",
    "-\n",
    "-"
   ]
  },
  {
   "cell_type": "markdown",
   "id": "da1ca5a2-bdb0-4bc1-8041-5ee5c607a16d",
   "metadata": {},
   "source": [
    "$y=0.6384x_1 + 0.7419x_2$ 을 추정할 수 있다."
   ]
  },
  {
   "cell_type": "markdown",
   "id": "d3fbe84e-1113-4d97-894a-dc5e6033b178",
   "metadata": {},
   "source": [
    "### 5) 표준화된 회귀모형에 의하여 분산분석표를 작성하여라."
   ]
  },
  {
   "cell_type": "markdown",
   "id": "90d49520-f162-4dee-a8e6-5f60667fc483",
   "metadata": {},
   "source": [
    "-\n",
    "-\n",
    "-\n",
    "-\n",
    "-\n",
    "-\n",
    "-\n",
    "-\n",
    "-\n",
    "-\n",
    "-\n",
    "-\n",
    "-\n",
    "-\n",
    "-\n",
    "-\n",
    "-\n",
    "-\n",
    "-\n",
    "-\n",
    "-"
   ]
  },
  {
   "cell_type": "markdown",
   "id": "813c0650-7bb4-4055-b24e-df6e8d81541f",
   "metadata": {},
   "source": [
    "### 6) 4)에서 계산된 회귀계수들의 상관행렬을 계산하고 상관이 존재하는지를 설명하여라."
   ]
  },
  {
   "cell_type": "markdown",
   "id": "2425ce06-b4b6-4ce0-be7f-242ababd92a8",
   "metadata": {},
   "source": [
    "-\n",
    "-\n",
    "-\n",
    "-\n",
    "-\n",
    "-\n",
    "-"
   ]
  },
  {
   "cell_type": "markdown",
   "id": "e9988e46-f563-4022-8251-dd5707d25300",
   "metadata": {},
   "source": [
    "_________________________________"
   ]
  },
  {
   "cell_type": "markdown",
   "id": "d836b3e2-786f-469f-a6d7-d968ef7e7596",
   "metadata": {},
   "source": [
    "# 8.15)\n",
    "> 다음과 같은 자료에 대하여 중회귀모형 $y=\\beta_0+\\beta_1x_1+\\beta_2x_2+\\epsilon$를 가정하고 아래의 질문에 답하여라."
   ]
  },
  {
   "cell_type": "markdown",
   "id": "f196ed6a-c85d-4119-a428-73198dad5958",
   "metadata": {},
   "source": [
    "|$y$|$x_1$|$x_2$|\n",
    "|---|---|---|\n",
    "|11|-5|5|\n",
    "|11|4|4|\n",
    "|8|-1|1|\n",
    "|2|2|-3|\n",
    "|5|2|-2|\n",
    "|5|3|-2|\n",
    "|4|3|-3|"
   ]
  },
  {
   "cell_type": "markdown",
   "id": "a8d23d5a-0cc5-42f8-9770-abc6fc93d799",
   "metadata": {},
   "source": [
    "### 1) 분산분석표를 작성하고 $H_0 : \\beta_1 = \\beta_2 = 0 $ 을 $\\alpha = 0.05 $로 검정하여라."
   ]
  },
  {
   "cell_type": "code",
   "execution_count": 6,
   "id": "7bcd2518-8c9d-42a0-9dc3-6ebfb6c54b1b",
   "metadata": {},
   "outputs": [
    {
     "data": {
      "text/html": [
       "<style>\n",
       ".dl-inline {width: auto; margin:0; padding: 0}\n",
       ".dl-inline>dt, .dl-inline>dd {float: none; width: auto; display: inline-block}\n",
       ".dl-inline>dt::after {content: \":\\0020\"; padding-right: .5ex}\n",
       ".dl-inline>dt:not(:first-of-type) {padding-left: .5ex}\n",
       "</style><dl class=dl-inline><dt>(Intercept)</dt><dd>6.43310529293761</dd><dt>x1_15</dt><dd>0.121032868679595</dd><dt>x2_15</dt><dd>1.07700221182038</dd></dl>\n"
      ],
      "text/latex": [
       "\\begin{description*}\n",
       "\\item[(Intercept)] 6.43310529293761\n",
       "\\item[x1\\textbackslash{}\\_15] 0.121032868679595\n",
       "\\item[x2\\textbackslash{}\\_15] 1.07700221182038\n",
       "\\end{description*}\n"
      ],
      "text/markdown": [
       "(Intercept)\n",
       ":   6.43310529293761x1_15\n",
       ":   0.121032868679595x2_15\n",
       ":   1.07700221182038\n",
       "\n"
      ],
      "text/plain": [
       "(Intercept)       x1_15       x2_15 \n",
       "  6.4331053   0.1210329   1.0770022 "
      ]
     },
     "metadata": {},
     "output_type": "display_data"
    }
   ],
   "source": [
    "y15 <- c(11,11,8,2,5,5,4)\n",
    "x1_15 <- c(-5,4,-1,2,2,3,3)\n",
    "x2_15 <- c(5,4,1,-3,-2,-2,-3)\n",
    "lm815 <- lm(y15 ~ x1_15+x2_15)\n",
    "coef(lm815)"
   ]
  },
  {
   "cell_type": "markdown",
   "id": "8f448ddb-5029-47ba-9d70-01cf0b5e6277",
   "metadata": {},
   "source": [
    "$y=6.43310529293761 + 0.121032868679595x_1 + 1.07700221182038x_2$"
   ]
  },
  {
   "cell_type": "code",
   "execution_count": 7,
   "id": "6bf6b839-c1cc-4137-8455-414f1fac560c",
   "metadata": {},
   "outputs": [
    {
     "data": {
      "text/html": [
       "<table class=\"dataframe\">\n",
       "<caption>A anova: 3 × 5</caption>\n",
       "<thead>\n",
       "\t<tr><th></th><th scope=col>Df</th><th scope=col>Sum Sq</th><th scope=col>Mean Sq</th><th scope=col>F value</th><th scope=col>Pr(&gt;F)</th></tr>\n",
       "\t<tr><th></th><th scope=col>&lt;int&gt;</th><th scope=col>&lt;dbl&gt;</th><th scope=col>&lt;dbl&gt;</th><th scope=col>&lt;dbl&gt;</th><th scope=col>&lt;dbl&gt;</th></tr>\n",
       "</thead>\n",
       "<tbody>\n",
       "\t<tr><th scope=row>x1_15</th><td>1</td><td>15.879334</td><td>15.8793343</td><td>20.48100</td><td>0.010612931</td></tr>\n",
       "\t<tr><th scope=row>x2_15</th><td>1</td><td>54.733671</td><td>54.7336707</td><td>70.59492</td><td>0.001098159</td></tr>\n",
       "\t<tr><th scope=row>Residuals</th><td>4</td><td> 3.101281</td><td> 0.7753202</td><td>      NA</td><td>         NA</td></tr>\n",
       "</tbody>\n",
       "</table>\n"
      ],
      "text/latex": [
       "A anova: 3 × 5\n",
       "\\begin{tabular}{r|lllll}\n",
       "  & Df & Sum Sq & Mean Sq & F value & Pr(>F)\\\\\n",
       "  & <int> & <dbl> & <dbl> & <dbl> & <dbl>\\\\\n",
       "\\hline\n",
       "\tx1\\_15 & 1 & 15.879334 & 15.8793343 & 20.48100 & 0.010612931\\\\\n",
       "\tx2\\_15 & 1 & 54.733671 & 54.7336707 & 70.59492 & 0.001098159\\\\\n",
       "\tResiduals & 4 &  3.101281 &  0.7753202 &       NA &          NA\\\\\n",
       "\\end{tabular}\n"
      ],
      "text/markdown": [
       "\n",
       "A anova: 3 × 5\n",
       "\n",
       "| <!--/--> | Df &lt;int&gt; | Sum Sq &lt;dbl&gt; | Mean Sq &lt;dbl&gt; | F value &lt;dbl&gt; | Pr(&gt;F) &lt;dbl&gt; |\n",
       "|---|---|---|---|---|---|\n",
       "| x1_15 | 1 | 15.879334 | 15.8793343 | 20.48100 | 0.010612931 |\n",
       "| x2_15 | 1 | 54.733671 | 54.7336707 | 70.59492 | 0.001098159 |\n",
       "| Residuals | 4 |  3.101281 |  0.7753202 |       NA |          NA |\n",
       "\n"
      ],
      "text/plain": [
       "          Df Sum Sq    Mean Sq    F value  Pr(>F)     \n",
       "x1_15     1  15.879334 15.8793343 20.48100 0.010612931\n",
       "x2_15     1  54.733671 54.7336707 70.59492 0.001098159\n",
       "Residuals 4   3.101281  0.7753202       NA          NA"
      ]
     },
     "metadata": {},
     "output_type": "display_data"
    }
   ],
   "source": [
    "anova(lm815)"
   ]
  },
  {
   "cell_type": "markdown",
   "id": "105a85db-4b60-49b5-a79b-4458113a563c",
   "metadata": {},
   "source": [
    "Fvalue 가 6.94 보다 크므로 영가설을 기각하여 $\\beta_1$ 과 $\\beta_2$ 가 다르다는 것을 알 수 있다."
   ]
  },
  {
   "cell_type": "markdown",
   "id": "94fab0d5-0a3f-4973-bec0-ff8fbb50db84",
   "metadata": {},
   "source": [
    "### 2) $R(\\beta_0), R(\\beta_1,\\beta_2|\\beta_0),R(\\beta_1|\\beta_0),R(\\beta_2|\\beta_0)$ 을 각각 구하여라."
   ]
  },
  {
   "cell_type": "markdown",
   "id": "8fc4b60c-55c6-48e6-a1dd-8333a35c1508",
   "metadata": {},
   "source": [
    "$R(\\beta_1,\\beta_2|\\beta_0)$ = 15.879334"
   ]
  },
  {
   "cell_type": "code",
   "execution_count": 16,
   "id": "5ca9946b-8d30-446a-bb03-55fa295af382",
   "metadata": {},
   "outputs": [
    {
     "data": {
      "text/html": [
       "<table class=\"dataframe\">\n",
       "<caption>A anova: 3 × 5</caption>\n",
       "<thead>\n",
       "\t<tr><th></th><th scope=col>Df</th><th scope=col>Sum Sq</th><th scope=col>Mean Sq</th><th scope=col>F value</th><th scope=col>Pr(&gt;F)</th></tr>\n",
       "\t<tr><th></th><th scope=col>&lt;int&gt;</th><th scope=col>&lt;dbl&gt;</th><th scope=col>&lt;dbl&gt;</th><th scope=col>&lt;dbl&gt;</th><th scope=col>&lt;dbl&gt;</th></tr>\n",
       "</thead>\n",
       "<tbody>\n",
       "\t<tr><th scope=row>x1_15</th><td>1</td><td>15.879334</td><td>15.8793343</td><td>20.48100</td><td>0.010612931</td></tr>\n",
       "\t<tr><th scope=row>x2_15</th><td>1</td><td>54.733671</td><td>54.7336707</td><td>70.59492</td><td>0.001098159</td></tr>\n",
       "\t<tr><th scope=row>Residuals</th><td>4</td><td> 3.101281</td><td> 0.7753202</td><td>      NA</td><td>         NA</td></tr>\n",
       "</tbody>\n",
       "</table>\n"
      ],
      "text/latex": [
       "A anova: 3 × 5\n",
       "\\begin{tabular}{r|lllll}\n",
       "  & Df & Sum Sq & Mean Sq & F value & Pr(>F)\\\\\n",
       "  & <int> & <dbl> & <dbl> & <dbl> & <dbl>\\\\\n",
       "\\hline\n",
       "\tx1\\_15 & 1 & 15.879334 & 15.8793343 & 20.48100 & 0.010612931\\\\\n",
       "\tx2\\_15 & 1 & 54.733671 & 54.7336707 & 70.59492 & 0.001098159\\\\\n",
       "\tResiduals & 4 &  3.101281 &  0.7753202 &       NA &          NA\\\\\n",
       "\\end{tabular}\n"
      ],
      "text/markdown": [
       "\n",
       "A anova: 3 × 5\n",
       "\n",
       "| <!--/--> | Df &lt;int&gt; | Sum Sq &lt;dbl&gt; | Mean Sq &lt;dbl&gt; | F value &lt;dbl&gt; | Pr(&gt;F) &lt;dbl&gt; |\n",
       "|---|---|---|---|---|---|\n",
       "| x1_15 | 1 | 15.879334 | 15.8793343 | 20.48100 | 0.010612931 |\n",
       "| x2_15 | 1 | 54.733671 | 54.7336707 | 70.59492 | 0.001098159 |\n",
       "| Residuals | 4 |  3.101281 |  0.7753202 |       NA |          NA |\n",
       "\n"
      ],
      "text/plain": [
       "          Df Sum Sq    Mean Sq    F value  Pr(>F)     \n",
       "x1_15     1  15.879334 15.8793343 20.48100 0.010612931\n",
       "x2_15     1  54.733671 54.7336707 70.59492 0.001098159\n",
       "Residuals 4   3.101281  0.7753202       NA          NA"
      ]
     },
     "metadata": {},
     "output_type": "display_data"
    }
   ],
   "source": [
    "anova(lm815)"
   ]
  },
  {
   "cell_type": "markdown",
   "id": "d55f4208-2be1-478e-af46-a12fee95b399",
   "metadata": {},
   "source": [
    "$R(\\beta_1|\\beta_0) $=15.87933"
   ]
  },
  {
   "cell_type": "code",
   "execution_count": 17,
   "id": "57754daf-bd5e-433b-9267-b5a0bfb5295a",
   "metadata": {},
   "outputs": [
    {
     "data": {
      "text/html": [
       "<table class=\"dataframe\">\n",
       "<caption>A anova: 2 × 5</caption>\n",
       "<thead>\n",
       "\t<tr><th></th><th scope=col>Df</th><th scope=col>Sum Sq</th><th scope=col>Mean Sq</th><th scope=col>F value</th><th scope=col>Pr(&gt;F)</th></tr>\n",
       "\t<tr><th></th><th scope=col>&lt;int&gt;</th><th scope=col>&lt;dbl&gt;</th><th scope=col>&lt;dbl&gt;</th><th scope=col>&lt;dbl&gt;</th><th scope=col>&lt;dbl&gt;</th></tr>\n",
       "</thead>\n",
       "<tbody>\n",
       "\t<tr><th scope=row>x1_15</th><td>1</td><td>15.87933</td><td>15.87933</td><td>1.372815</td><td>0.2941169</td></tr>\n",
       "\t<tr><th scope=row>Residuals</th><td>5</td><td>57.83495</td><td>11.56699</td><td>      NA</td><td>       NA</td></tr>\n",
       "</tbody>\n",
       "</table>\n"
      ],
      "text/latex": [
       "A anova: 2 × 5\n",
       "\\begin{tabular}{r|lllll}\n",
       "  & Df & Sum Sq & Mean Sq & F value & Pr(>F)\\\\\n",
       "  & <int> & <dbl> & <dbl> & <dbl> & <dbl>\\\\\n",
       "\\hline\n",
       "\tx1\\_15 & 1 & 15.87933 & 15.87933 & 1.372815 & 0.2941169\\\\\n",
       "\tResiduals & 5 & 57.83495 & 11.56699 &       NA &        NA\\\\\n",
       "\\end{tabular}\n"
      ],
      "text/markdown": [
       "\n",
       "A anova: 2 × 5\n",
       "\n",
       "| <!--/--> | Df &lt;int&gt; | Sum Sq &lt;dbl&gt; | Mean Sq &lt;dbl&gt; | F value &lt;dbl&gt; | Pr(&gt;F) &lt;dbl&gt; |\n",
       "|---|---|---|---|---|---|\n",
       "| x1_15 | 1 | 15.87933 | 15.87933 | 1.372815 | 0.2941169 |\n",
       "| Residuals | 5 | 57.83495 | 11.56699 |       NA |        NA |\n",
       "\n"
      ],
      "text/plain": [
       "          Df Sum Sq   Mean Sq  F value  Pr(>F)   \n",
       "x1_15     1  15.87933 15.87933 1.372815 0.2941169\n",
       "Residuals 5  57.83495 11.56699       NA        NA"
      ]
     },
     "metadata": {},
     "output_type": "display_data"
    }
   ],
   "source": [
    "lm815a = lm(y15~x1_15)\n",
    "anova(lm815a)"
   ]
  },
  {
   "cell_type": "markdown",
   "id": "a9b603e7-aae5-4332-98c9-606ee47e2ada",
   "metadata": {},
   "source": [
    "$R(\\beta_2|\\beta_0)$ =70.01471"
   ]
  },
  {
   "cell_type": "code",
   "execution_count": 10,
   "id": "400dc57b-5117-4cc1-b462-8ed7566202cd",
   "metadata": {},
   "outputs": [
    {
     "data": {
      "text/html": [
       "<table class=\"dataframe\">\n",
       "<caption>A anova: 2 × 5</caption>\n",
       "<thead>\n",
       "\t<tr><th></th><th scope=col>Df</th><th scope=col>Sum Sq</th><th scope=col>Mean Sq</th><th scope=col>F value</th><th scope=col>Pr(&gt;F)</th></tr>\n",
       "\t<tr><th></th><th scope=col>&lt;int&gt;</th><th scope=col>&lt;dbl&gt;</th><th scope=col>&lt;dbl&gt;</th><th scope=col>&lt;dbl&gt;</th><th scope=col>&lt;dbl&gt;</th></tr>\n",
       "</thead>\n",
       "<tbody>\n",
       "\t<tr><th scope=row>x2_15</th><td>1</td><td>70.01471</td><td>70.014706</td><td>94.62521</td><td>0.0001951318</td></tr>\n",
       "\t<tr><th scope=row>Residuals</th><td>5</td><td> 3.69958</td><td> 0.739916</td><td>      NA</td><td>          NA</td></tr>\n",
       "</tbody>\n",
       "</table>\n"
      ],
      "text/latex": [
       "A anova: 2 × 5\n",
       "\\begin{tabular}{r|lllll}\n",
       "  & Df & Sum Sq & Mean Sq & F value & Pr(>F)\\\\\n",
       "  & <int> & <dbl> & <dbl> & <dbl> & <dbl>\\\\\n",
       "\\hline\n",
       "\tx2\\_15 & 1 & 70.01471 & 70.014706 & 94.62521 & 0.0001951318\\\\\n",
       "\tResiduals & 5 &  3.69958 &  0.739916 &       NA &           NA\\\\\n",
       "\\end{tabular}\n"
      ],
      "text/markdown": [
       "\n",
       "A anova: 2 × 5\n",
       "\n",
       "| <!--/--> | Df &lt;int&gt; | Sum Sq &lt;dbl&gt; | Mean Sq &lt;dbl&gt; | F value &lt;dbl&gt; | Pr(&gt;F) &lt;dbl&gt; |\n",
       "|---|---|---|---|---|---|\n",
       "| x2_15 | 1 | 70.01471 | 70.014706 | 94.62521 | 0.0001951318 |\n",
       "| Residuals | 5 |  3.69958 |  0.739916 |       NA |           NA |\n",
       "\n"
      ],
      "text/plain": [
       "          Df Sum Sq   Mean Sq   F value  Pr(>F)      \n",
       "x2_15     1  70.01471 70.014706 94.62521 0.0001951318\n",
       "Residuals 5   3.69958  0.739916       NA           NA"
      ]
     },
     "metadata": {},
     "output_type": "display_data"
    }
   ],
   "source": [
    "lm815b = lm(y15~x2_15)\n",
    "anova(lm815b)"
   ]
  },
  {
   "cell_type": "markdown",
   "id": "f7d2560b-3397-43a7-a40e-83d0617bf0ce",
   "metadata": {},
   "source": [
    "$R(\\beta_0)$ = $ n(\\bar{y})^2$ =302.285714285714"
   ]
  },
  {
   "cell_type": "code",
   "execution_count": 15,
   "id": "ede7849c-d7a2-49fa-aa1b-fa980abea17e",
   "metadata": {},
   "outputs": [
    {
     "data": {
      "text/html": [
       "302.285714285714"
      ],
      "text/latex": [
       "302.285714285714"
      ],
      "text/markdown": [
       "302.285714285714"
      ],
      "text/plain": [
       "[1] 302.2857"
      ]
     },
     "metadata": {},
     "output_type": "display_data"
    }
   ],
   "source": [
    "7*mean(y15)^2"
   ]
  },
  {
   "cell_type": "markdown",
   "id": "410b4611-3b5f-485b-bf32-c156e17ef506",
   "metadata": {},
   "source": [
    "### 3)  $H_0 : \\beta_1 = 0 $ 을 부분 F검정으로 가설검정하여라.  $\\alpha = 0.05 $"
   ]
  },
  {
   "cell_type": "code",
   "execution_count": 19,
   "id": "6731d1ba-89ad-4a88-9340-4ebec1ae1cd8",
   "metadata": {},
   "outputs": [
    {
     "data": {
      "text/html": [
       "<table class=\"dataframe\">\n",
       "<caption>A anova: 2 × 6</caption>\n",
       "<thead>\n",
       "\t<tr><th></th><th scope=col>Res.Df</th><th scope=col>RSS</th><th scope=col>Df</th><th scope=col>Sum of Sq</th><th scope=col>F</th><th scope=col>Pr(&gt;F)</th></tr>\n",
       "\t<tr><th></th><th scope=col>&lt;dbl&gt;</th><th scope=col>&lt;dbl&gt;</th><th scope=col>&lt;dbl&gt;</th><th scope=col>&lt;dbl&gt;</th><th scope=col>&lt;dbl&gt;</th><th scope=col>&lt;dbl&gt;</th></tr>\n",
       "</thead>\n",
       "<tbody>\n",
       "\t<tr><th scope=row>1</th><td>5</td><td>3.699580</td><td>NA</td><td>      NA</td><td>       NA</td><td>       NA</td></tr>\n",
       "\t<tr><th scope=row>2</th><td>4</td><td>3.101281</td><td> 1</td><td>0.598299</td><td>0.7716799</td><td>0.4292997</td></tr>\n",
       "</tbody>\n",
       "</table>\n"
      ],
      "text/latex": [
       "A anova: 2 × 6\n",
       "\\begin{tabular}{r|llllll}\n",
       "  & Res.Df & RSS & Df & Sum of Sq & F & Pr(>F)\\\\\n",
       "  & <dbl> & <dbl> & <dbl> & <dbl> & <dbl> & <dbl>\\\\\n",
       "\\hline\n",
       "\t1 & 5 & 3.699580 & NA &       NA &        NA &        NA\\\\\n",
       "\t2 & 4 & 3.101281 &  1 & 0.598299 & 0.7716799 & 0.4292997\\\\\n",
       "\\end{tabular}\n"
      ],
      "text/markdown": [
       "\n",
       "A anova: 2 × 6\n",
       "\n",
       "| <!--/--> | Res.Df &lt;dbl&gt; | RSS &lt;dbl&gt; | Df &lt;dbl&gt; | Sum of Sq &lt;dbl&gt; | F &lt;dbl&gt; | Pr(&gt;F) &lt;dbl&gt; |\n",
       "|---|---|---|---|---|---|---|\n",
       "| 1 | 5 | 3.699580 | NA |       NA |        NA |        NA |\n",
       "| 2 | 4 | 3.101281 |  1 | 0.598299 | 0.7716799 | 0.4292997 |\n",
       "\n"
      ],
      "text/plain": [
       "  Res.Df RSS      Df Sum of Sq F         Pr(>F)   \n",
       "1 5      3.699580 NA       NA         NA        NA\n",
       "2 4      3.101281  1 0.598299  0.7716799 0.4292997"
      ]
     },
     "metadata": {},
     "output_type": "display_data"
    }
   ],
   "source": [
    "anova(lm815b,lm815)"
   ]
  },
  {
   "cell_type": "markdown",
   "id": "f520688c-2221-41ad-8a7f-1d68b15039ec",
   "metadata": {},
   "source": [
    "Fvalue 는 0.7717 이고, 7.71 보다 작으므로 영가설을 기각하지 않는다. 즉, $\\beta_1 = 0$ 이 성립한다.  "
   ]
  },
  {
   "cell_type": "markdown",
   "id": "efd1c63e-8172-4114-811e-c7c26cd6f14d",
   "metadata": {},
   "source": [
    "### 4)  $H_0 : \\beta_2 = 0 $ 을 부분 F검정으로 가설검정하여라.  $\\alpha = 0.05,\\alpha = 0.01 $"
   ]
  },
  {
   "cell_type": "code",
   "execution_count": 20,
   "id": "dd8eb192-8d88-404a-88ae-55bed82d5e32",
   "metadata": {},
   "outputs": [
    {
     "data": {
      "text/html": [
       "<table class=\"dataframe\">\n",
       "<caption>A anova: 2 × 6</caption>\n",
       "<thead>\n",
       "\t<tr><th></th><th scope=col>Res.Df</th><th scope=col>RSS</th><th scope=col>Df</th><th scope=col>Sum of Sq</th><th scope=col>F</th><th scope=col>Pr(&gt;F)</th></tr>\n",
       "\t<tr><th></th><th scope=col>&lt;dbl&gt;</th><th scope=col>&lt;dbl&gt;</th><th scope=col>&lt;dbl&gt;</th><th scope=col>&lt;dbl&gt;</th><th scope=col>&lt;dbl&gt;</th><th scope=col>&lt;dbl&gt;</th></tr>\n",
       "</thead>\n",
       "<tbody>\n",
       "\t<tr><th scope=row>1</th><td>5</td><td>57.834951</td><td>NA</td><td>      NA</td><td>      NA</td><td>         NA</td></tr>\n",
       "\t<tr><th scope=row>2</th><td>4</td><td> 3.101281</td><td> 1</td><td>54.73367</td><td>70.59492</td><td>0.001098159</td></tr>\n",
       "</tbody>\n",
       "</table>\n"
      ],
      "text/latex": [
       "A anova: 2 × 6\n",
       "\\begin{tabular}{r|llllll}\n",
       "  & Res.Df & RSS & Df & Sum of Sq & F & Pr(>F)\\\\\n",
       "  & <dbl> & <dbl> & <dbl> & <dbl> & <dbl> & <dbl>\\\\\n",
       "\\hline\n",
       "\t1 & 5 & 57.834951 & NA &       NA &       NA &          NA\\\\\n",
       "\t2 & 4 &  3.101281 &  1 & 54.73367 & 70.59492 & 0.001098159\\\\\n",
       "\\end{tabular}\n"
      ],
      "text/markdown": [
       "\n",
       "A anova: 2 × 6\n",
       "\n",
       "| <!--/--> | Res.Df &lt;dbl&gt; | RSS &lt;dbl&gt; | Df &lt;dbl&gt; | Sum of Sq &lt;dbl&gt; | F &lt;dbl&gt; | Pr(&gt;F) &lt;dbl&gt; |\n",
       "|---|---|---|---|---|---|---|\n",
       "| 1 | 5 | 57.834951 | NA |       NA |       NA |          NA |\n",
       "| 2 | 4 |  3.101281 |  1 | 54.73367 | 70.59492 | 0.001098159 |\n",
       "\n"
      ],
      "text/plain": [
       "  Res.Df RSS       Df Sum of Sq F        Pr(>F)     \n",
       "1 5      57.834951 NA       NA        NA          NA\n",
       "2 4       3.101281  1 54.73367  70.59492 0.001098159"
      ]
     },
     "metadata": {},
     "output_type": "display_data"
    }
   ],
   "source": [
    "anova(lm815a,lm815)"
   ]
  },
  {
   "cell_type": "markdown",
   "id": "cf75525f-8787-4d09-9365-0d490b0a2656",
   "metadata": {},
   "source": [
    "Fvalue = 70.595로 측정된다."
   ]
  },
  {
   "cell_type": "markdown",
   "id": "b5529d57-cfe4-4948-8c49-29f92d48024d",
   "metadata": {},
   "source": [
    "유의수준 0.05일때 F값 7.71 보다 F값이 크며,  유의수준 0.01일때 F값인 21.2 보다도 F값이 크다.\n",
    "\n",
    "즉, 영가설은 어느 유의수준에서도 기각되어 $\\beta_2$ 가 0이 아니라는 것으로 볼 수 있다."
   ]
  },
  {
   "cell_type": "markdown",
   "id": "3763df4e-646b-4386-a6b8-f7b4de063e76",
   "metadata": {},
   "source": [
    "____"
   ]
  },
  {
   "cell_type": "markdown",
   "id": "66f28d17-9c3a-4149-acb2-d33024f39067",
   "metadata": {},
   "source": [
    "# 8.16)\n",
    "> 중회귀모형 $y= X\\beta + \\epsilon, \\epsilon ~ N(0,I)$ 에서 $X$는 $n \\times (k+1)$ 이다."
   ]
  },
  {
   "cell_type": "markdown",
   "id": "613d33f0-c92e-42d2-930d-9857088f109c",
   "metadata": {},
   "source": [
    "### 1) $Q_1 = y'[I-X(X'X)^{-1}X']y$ 의 분포는?"
   ]
  },
  {
   "cell_type": "markdown",
   "id": "4b564f24-954e-492b-a4aa-2298df2239cf",
   "metadata": {},
   "source": [
    "-\n",
    "-\n",
    "-\n",
    "-\n",
    "-\n",
    "-\n",
    "-\n",
    "-\n",
    "-"
   ]
  },
  {
   "cell_type": "markdown",
   "id": "34b2dca7-232c-47c3-83de-3ee0fe42d0ac",
   "metadata": {},
   "source": [
    "### 2) $Q_2 = y'X(X'X)^{-1}X'y$ 의 분포는?"
   ]
  },
  {
   "cell_type": "markdown",
   "id": "9e1183b3-d94b-4fd7-8ffd-8f5f55e12ee8",
   "metadata": {},
   "source": [
    "-\n",
    "-\n",
    "-\n",
    "-\n",
    "-\n",
    "-\n",
    "-\n",
    "-\n",
    "-"
   ]
  },
  {
   "cell_type": "code",
   "execution_count": null,
   "id": "11becd35-aa7e-4028-a5e1-cabe89b3222c",
   "metadata": {},
   "outputs": [],
   "source": []
  },
  {
   "cell_type": "markdown",
   "id": "99b25cf3-61db-4ab6-8c42-7ebfbb8a02fb",
   "metadata": {},
   "source": [
    "### 3) $Q_1$과$Q_2$가 서로 독립임을 보여라."
   ]
  },
  {
   "cell_type": "markdown",
   "id": "ad8b7bae-a2e3-47ad-adce-d08a8da3801c",
   "metadata": {},
   "source": [
    "-\n",
    "-\n",
    "-\n",
    "-\n",
    "-\n",
    "-\n",
    "-\n",
    "-\n",
    "-"
   ]
  },
  {
   "cell_type": "code",
   "execution_count": null,
   "id": "7da2f29c-0f1c-44c6-ba20-2f7b37e4edfc",
   "metadata": {},
   "outputs": [],
   "source": []
  },
  {
   "cell_type": "markdown",
   "id": "8597a16b-803d-4dc3-9e63-33c89001c025",
   "metadata": {},
   "source": [
    "### 4) $\\beta = 0 $ 이라 할 때\n",
    "\n",
    "$\\frac{Q_2/(k+1)}{Q_1/(n-k-1)}$ 의 분포는?"
   ]
  },
  {
   "cell_type": "markdown",
   "id": "baf19804-7458-48c1-9046-88cefec64d57",
   "metadata": {},
   "source": [
    "-\n",
    "-\n",
    "-\n",
    "-\n",
    "-\n",
    "-\n",
    "-\n",
    "-\n",
    "-"
   ]
  },
  {
   "cell_type": "code",
   "execution_count": null,
   "id": "15755ab4-feb9-436f-b0ed-9da0546c1387",
   "metadata": {},
   "outputs": [],
   "source": []
  }
 ],
 "metadata": {
  "kernelspec": {
   "display_name": "R",
   "language": "R",
   "name": "ir"
  },
  "language_info": {
   "codemirror_mode": "r",
   "file_extension": ".r",
   "mimetype": "text/x-r-source",
   "name": "R",
   "pygments_lexer": "r",
   "version": "4.0.5"
  }
 },
 "nbformat": 4,
 "nbformat_minor": 5
}
