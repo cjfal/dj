{
 "cells": [
  {
   "cell_type": "markdown",
   "id": "a2d18ec5-9f55-4a65-ad70-54c5a9217f30",
   "metadata": {},
   "source": [
    "# 혼공머 05-2\n",
    "> 교차 검증과 그리드 서치\n",
    "\n",
    "- toc:true\n",
    "- branch: master\n",
    "- badges: true\n",
    "- comments: true\n",
    "- author: 김동준\n",
    "- categories : [\"Python\", \"혼공머\"]"
   ]
  },
  {
   "cell_type": "markdown",
   "id": "9d711963-862c-4fae-b235-4cd40ad9a89a",
   "metadata": {},
   "source": [
    "# 주로쓰는 패키지들"
   ]
  },
  {
   "cell_type": "code",
   "execution_count": 42,
   "id": "d5308db5-291c-4dbb-a67a-d7ab520be0d7",
   "metadata": {},
   "outputs": [],
   "source": [
    "import numpy as np #넘파이\n",
    "import pandas as pd #판다스\n",
    "from plotnine import *  #플롯나인\n",
    "import matplotlib.pyplot as plt #맷플랏립\n",
    "import plotly.express as px #플랏리 상호작용 그래프\n",
    "from IPython.display import HTML #블로그에 html로 올리려고 변환하는 패키지\n",
    "import seaborn as sns # 씨본, 히스토그램 깔끔하게 그리는 패키지\n",
    "#___________________________________\n",
    "from sklearn.neighbors import KNeighborsClassifier # k 최근접이웃\n",
    "from sklearn.model_selection import train_test_split\n",
    "from sklearn.neighbors import KNeighborsRegressor  # 결정계수 \n",
    "from sklearn.metrics import mean_absolute_error # 타깃과 예측의 절댓값 오차 평균을 반환\n",
    "from sklearn.linear_model import LinearRegression # 선형 회귀\n",
    "from sklearn.preprocessing import PolynomialFeatures #다중회귀로의 변환기\n",
    "from sklearn.preprocessing import StandardScaler #규제\n",
    "from sklearn.linear_model import Ridge #릿지\n",
    "from sklearn.linear_model import Lasso #라쏘\n",
    "from sklearn.linear_model import LogisticRegression # 로지스틱회귀\n",
    "from scipy.special import expit #시그모이드함수\n",
    "from scipy.special import softmax #소프트맥스함수\n",
    "from sklearn.linear_model import SGDClassifier # 확률적 경사 하강법\n",
    "from sklearn.tree import DecisionTreeClassifier # 트리\n",
    "from sklearn.tree import plot_tree # 트리 모형\n",
    "from sklearn.model_selection import cross_validate # 교차 검증\n",
    "from sklearn.model_selection import StratifiedKFold # Kfold 교차 검증\n",
    "from sklearn.model_selection import GridSearchCV # 그리드 서치 (하이퍼 파라미터 튜닝)\n",
    "from scipy.stats import uniform, randint #랜덤 서치\n",
    "from sklearn.model_selection import RandomizedSearchCV # 랜덤 서치 클래스"
   ]
  },
  {
   "cell_type": "markdown",
   "id": "ffbcb845-6513-4953-a890-6ea211b68e4e",
   "metadata": {},
   "source": [
    "_________"
   ]
  },
  {
   "cell_type": "markdown",
   "id": "c9d32453-b690-48ba-9a64-8e63da1c9c73",
   "metadata": {},
   "source": [
    "# 검증 세트\n",
    "> 테스트 세트를 사용하지 않고 이를 측정하기위해 훈련 세트를 또 나누는 것\n",
    "\n",
    "> 보통 20~30% 를 테스트 세트와 검증 세트로 떼어 놓음"
   ]
  },
  {
   "cell_type": "code",
   "execution_count": 3,
   "id": "7a26ae62-3687-412f-8419-3de64f21eb09",
   "metadata": {},
   "outputs": [],
   "source": [
    "wine = pd.read_csv('https://bit.ly/wine_csv_data')"
   ]
  },
  {
   "cell_type": "code",
   "execution_count": 4,
   "id": "ffb3705e-4d9d-4af2-80b8-abe26e0ad916",
   "metadata": {},
   "outputs": [],
   "source": [
    "data = wine[['alcohol', 'sugar', 'pH']].to_numpy()\n",
    "target = wine['class'].to_numpy()"
   ]
  },
  {
   "cell_type": "code",
   "execution_count": 5,
   "id": "719de2ee-b36e-496b-ae15-705bba325cd1",
   "metadata": {},
   "outputs": [],
   "source": [
    "train_input , test_input , train_target , test_target = \\\n",
    "train_test_split(data, target , test_size=0.2 , random_state=42)"
   ]
  },
  {
   "cell_type": "code",
   "execution_count": 6,
   "id": "2ddd7518-f1d3-4dcf-859e-ce4383a5c48a",
   "metadata": {},
   "outputs": [],
   "source": [
    "# 검증 세트 만들기\n",
    "sub_input , val_input , sub_target , val_target = \\\n",
    "train_test_split(train_input, train_target , test_size=0.2 , random_state=42)"
   ]
  },
  {
   "cell_type": "code",
   "execution_count": 8,
   "id": "dbf57d76-dffc-4540-83a6-6c31f4b608b1",
   "metadata": {},
   "outputs": [
    {
     "name": "stdout",
     "output_type": "stream",
     "text": [
      "(4157, 3) (1040, 3)\n"
     ]
    }
   ],
   "source": [
    "print(sub_input.shape , val_input.shape)"
   ]
  },
  {
   "cell_type": "code",
   "execution_count": 9,
   "id": "de91288c-7c25-4f21-9a38-d8e26f29c087",
   "metadata": {},
   "outputs": [
    {
     "name": "stdout",
     "output_type": "stream",
     "text": [
      "0.9971133028626413\n",
      "0.864423076923077\n"
     ]
    }
   ],
   "source": [
    "# 모델 평가\n",
    "dt = DecisionTreeClassifier(random_state=42)\n",
    "dt.fit(sub_input , sub_target)\n",
    "print(dt.score(sub_input ,sub_target))\n",
    "print(dt.score(val_input ,val_target))"
   ]
  },
  {
   "cell_type": "markdown",
   "id": "9ea643f3-c609-461b-97cc-abcbede1eedd",
   "metadata": {},
   "source": [
    "> 훈련 세트에 과대적합"
   ]
  },
  {
   "cell_type": "markdown",
   "id": "a7233d70-2654-4272-a3c9-73998b8e3c63",
   "metadata": {},
   "source": [
    "# 교차 검증 (임포트 필요)\n",
    "\n",
    "> 검증 세트가 불안정한 것을 방지\n",
    "\n",
    "> 검증 세트를 떼어내어 평가하는 과정을 여러 번 반복\n",
    "\n",
    "> 교차 검증을 할 때 훈련 세트를 섞으려면 분할기를 지정해야한다."
   ]
  },
  {
   "cell_type": "code",
   "execution_count": 11,
   "id": "2ba26c6f-ea65-4030-be61-4e226e638bde",
   "metadata": {},
   "outputs": [
    {
     "name": "stdout",
     "output_type": "stream",
     "text": [
      "{'fit_time': array([0.00535083, 0.00490546, 0.00474167, 0.00510621, 0.00448918]), 'score_time': array([0.00066662, 0.00050211, 0.00046086, 0.00050902, 0.0004313 ]), 'test_score': array([0.86923077, 0.84615385, 0.87680462, 0.84889317, 0.83541867])}\n"
     ]
    }
   ],
   "source": [
    "scores = cross_validate(dt , train_input , train_target)\n",
    "print(scores)"
   ]
  },
  {
   "cell_type": "code",
   "execution_count": 12,
   "id": "f0b38221-195e-479b-bbb3-2f9105735a0a",
   "metadata": {},
   "outputs": [
    {
     "name": "stdout",
     "output_type": "stream",
     "text": [
      "0.855300214703487\n"
     ]
    }
   ],
   "source": [
    "print(np.mean(scores['test_score']))"
   ]
  },
  {
   "cell_type": "code",
   "execution_count": 16,
   "id": "6d62fbf5-3ecb-42f3-ae6a-9bdf99ebb9ed",
   "metadata": {},
   "outputs": [
    {
     "name": "stdout",
     "output_type": "stream",
     "text": [
      "0.855300214703487\n"
     ]
    }
   ],
   "source": [
    "# 위 코드와 똑같은 코드\n",
    "scores = cross_validate(dt, train_input , train_target , cv= StratifiedKFold())\n",
    "print(np.mean(scores['test_score']))"
   ]
  },
  {
   "cell_type": "code",
   "execution_count": 18,
   "id": "69b38c51-3388-44a9-809c-34893589fbf8",
   "metadata": {},
   "outputs": [
    {
     "name": "stdout",
     "output_type": "stream",
     "text": [
      "0.8574181117533719\n"
     ]
    }
   ],
   "source": [
    "# 10-폴드 교차 검증\n",
    "splitter = StratifiedKFold(n_splits=10 , shuffle=True , random_state=42)\n",
    "scores = cross_validate(dt, train_input , train_target , cv= splitter)\n",
    "print(np.mean(scores['test_score']))"
   ]
  },
  {
   "cell_type": "markdown",
   "id": "cbcc960f-79d2-4f2d-bd37-4bafe72ef8a2",
   "metadata": {},
   "source": [
    "# 하이퍼파라미터튜닝 (편하게 임포트 이용)\n",
    "\n",
    "> 사용자가 지정해야만하는 파라미터\n",
    "\n",
    "> 검증 세트의 점수나 교차 검증을 통해 매개변수를 조금씩 바꿔봄\n",
    "\n",
    "> 그리드 서치 : 훈련이 끝나면 25개의 모델 중에서 검증 점수가 가장 높은 모델의 매개변수 조합으로 전체 훈련 세트에서 자동으로 다시 모델을 훈련."
   ]
  },
  {
   "cell_type": "code",
   "execution_count": 20,
   "id": "65a5c971-5fa5-4f7a-bc44-94c96cf83790",
   "metadata": {},
   "outputs": [],
   "source": [
    "params = {'min_impurity_decrease' : [0.0001, 0.0002, 0.0003, 0.0004 , 0.0005] }"
   ]
  },
  {
   "cell_type": "code",
   "execution_count": 21,
   "id": "6ae4accb-fed0-4086-8880-4b4218fdfdd9",
   "metadata": {},
   "outputs": [],
   "source": [
    "# 그리드 서치 객체 생성\n",
    "gs = GridSearchCV(DecisionTreeClassifier(random_state=42), params , n_jobs=-1)"
   ]
  },
  {
   "cell_type": "markdown",
   "id": "b2eef117-f17e-4383-9366-b69db6e20a72",
   "metadata": {},
   "source": [
    "> 결정 트리 클래스의 객체를 생성하자마자 바로 전달"
   ]
  },
  {
   "cell_type": "code",
   "execution_count": 22,
   "id": "45431642-6788-4eeb-9cce-58aeaea0e321",
   "metadata": {},
   "outputs": [
    {
     "data": {
      "text/plain": [
       "GridSearchCV(estimator=DecisionTreeClassifier(random_state=42), n_jobs=-1,\n",
       "             param_grid={'min_impurity_decrease': [0.0001, 0.0002, 0.0003,\n",
       "                                                   0.0004, 0.0005]})"
      ]
     },
     "execution_count": 22,
     "metadata": {},
     "output_type": "execute_result"
    }
   ],
   "source": [
    "gs.fit(train_input ,train_target)"
   ]
  },
  {
   "cell_type": "code",
   "execution_count": 23,
   "id": "1cb26f67-4a04-4bc9-88e8-17488345a7da",
   "metadata": {},
   "outputs": [
    {
     "name": "stdout",
     "output_type": "stream",
     "text": [
      "0.9615162593804117\n"
     ]
    }
   ],
   "source": [
    "dt = gs.best_estimator_\n",
    "print(dt.score(train_input ,train_target))"
   ]
  },
  {
   "cell_type": "markdown",
   "id": "68269111-a85a-49be-a682-b12d309d03f8",
   "metadata": {},
   "source": [
    "> 최적의 매개변수는 best_params_ 속성에 저장"
   ]
  },
  {
   "cell_type": "code",
   "execution_count": 24,
   "id": "24ca8171-83e3-4bba-8f86-c7ea582dbcee",
   "metadata": {},
   "outputs": [
    {
     "name": "stdout",
     "output_type": "stream",
     "text": [
      "{'min_impurity_decrease': 0.0001}\n"
     ]
    }
   ],
   "source": [
    "print(gs.best_params_)"
   ]
  },
  {
   "cell_type": "code",
   "execution_count": 25,
   "id": "c5d7c1f2-5a81-4307-8598-e88d6f4e59f1",
   "metadata": {},
   "outputs": [
    {
     "name": "stdout",
     "output_type": "stream",
     "text": [
      "[0.86819297 0.86453617 0.86492226 0.86780891 0.86761605]\n"
     ]
    }
   ],
   "source": [
    "print(gs.cv_results_['mean_test_score'])"
   ]
  },
  {
   "cell_type": "code",
   "execution_count": 26,
   "id": "69a4fd2f-121b-4c13-8597-5030ce713484",
   "metadata": {},
   "outputs": [
    {
     "name": "stdout",
     "output_type": "stream",
     "text": [
      "{'min_impurity_decrease': 0.0001}\n"
     ]
    }
   ],
   "source": [
    "best_index = np.argmax(gs.cv_results_['mean_test_score'])\n",
    "print(gs.cv_results_['params'][best_index])"
   ]
  },
  {
   "cell_type": "markdown",
   "id": "3ab5e493-887c-4bc1-99a7-794112477aec",
   "metadata": {},
   "source": [
    "## 과정 정리\n",
    "\n",
    "1. 먼저 탐색할 매개변수 지정\n",
    "2. 그다음 훈련 세트에서 그리드 서치를 수행하여 최상의 평균 검증 점수가 나오는 매개변수 조합을 찾음.(이 조합은 그리드 서치 객체에 저장됨)\n",
    "3. 그리드 서치는 최상의 매개변수에서 (교차 검증에 사용한 훈련 세트가 아니라) 전체 훈련 세트를 사용해 최종 모델을 훈련 (이 모델도 그리드 서치 객체에 저장됨)"
   ]
  },
  {
   "cell_type": "code",
   "execution_count": 27,
   "id": "05afb432-5e49-4117-92ae-73851bf43b50",
   "metadata": {},
   "outputs": [],
   "source": [
    "# 더 복잡한 매개변수 조합 탐색\n",
    "params = {'min_impurity_decrease' : np.arange(0.0001 , 0.001, 0.0001),\n",
    "         'max_depth': range(5,20,1),\n",
    "         'min_samples_split' : range(2,100,10)}"
   ]
  },
  {
   "cell_type": "markdown",
   "id": "b07eaf75-b7cb-49be-a80c-ec16bda010eb",
   "metadata": {},
   "source": [
    "### 함수 설명\n",
    "\n",
    "np.arange(0.0001 , 0.001, 0.0001) : 첫번째 매개변수 값에서 시작하여 두번째 매개변수에 도달할 때까지 세번째 매개변수를 계속 더한 배열을 만듬\n",
    "\n",
    "range(x,y,z) : 정수만 사용 가능하며 .x에서 y까지 z씩 증가 하면서 값을 생성"
   ]
  },
  {
   "cell_type": "code",
   "execution_count": 28,
   "id": "dfd1daf4-5c65-4327-b463-a0065dd55442",
   "metadata": {},
   "outputs": [
    {
     "data": {
      "text/plain": [
       "GridSearchCV(estimator=DecisionTreeClassifier(random_state=42), n_jobs=-1,\n",
       "             param_grid={'max_depth': range(5, 20),\n",
       "                         'min_impurity_decrease': array([0.0001, 0.0002, 0.0003, 0.0004, 0.0005, 0.0006, 0.0007, 0.0008,\n",
       "       0.0009]),\n",
       "                         'min_samples_split': range(2, 100, 10)})"
      ]
     },
     "execution_count": 28,
     "metadata": {},
     "output_type": "execute_result"
    }
   ],
   "source": [
    "gs = GridSearchCV(DecisionTreeClassifier(random_state=42), params, n_jobs=-1)\n",
    "gs.fit(train_input , train_target)"
   ]
  },
  {
   "cell_type": "code",
   "execution_count": 29,
   "id": "8fd5b4b9-0ce5-4d4e-a683-a0b7d51fe5dd",
   "metadata": {},
   "outputs": [
    {
     "name": "stdout",
     "output_type": "stream",
     "text": [
      "{'max_depth': 14, 'min_impurity_decrease': 0.0004, 'min_samples_split': 12}\n"
     ]
    }
   ],
   "source": [
    "# 최상의 매개변수 조합 확인\n",
    "print(gs.best_params_)"
   ]
  },
  {
   "cell_type": "code",
   "execution_count": 30,
   "id": "87fc6e83-66f5-4257-936e-32ad0c047823",
   "metadata": {},
   "outputs": [
    {
     "name": "stdout",
     "output_type": "stream",
     "text": [
      "0.8683865773302731\n"
     ]
    }
   ],
   "source": [
    "# 최상의 교차 검증 점수 확인\n",
    "print(np.max(gs.cv_results_['mean_test_score']))"
   ]
  },
  {
   "cell_type": "markdown",
   "id": "0eaa50b9-2b5f-4e8f-bbe2-e9c1391de90c",
   "metadata": {},
   "source": [
    "# 랜덤 서치 (임포트)\n",
    "> 매개변수를 샘플링할 수 있는 확률 분포 객체를 전달"
   ]
  },
  {
   "cell_type": "code",
   "execution_count": 35,
   "id": "2ca01f8b-d58d-4833-a96e-cee4d9351275",
   "metadata": {},
   "outputs": [
    {
     "data": {
      "text/plain": [
       "array([3, 7, 6, 4, 5, 1, 3, 5, 5, 3])"
      ]
     },
     "execution_count": 35,
     "metadata": {},
     "output_type": "execute_result"
    }
   ],
   "source": [
    "# 0에서 10 사이의 범위를 갖는 randint 객체를 만들고 10개의 숫자를 샘플링\n",
    "rgen = randint(0 ,10)\n",
    "rgen.rvs(10)"
   ]
  },
  {
   "cell_type": "code",
   "execution_count": 36,
   "id": "a3a31c5a-7a35-4116-a150-646e49bebec3",
   "metadata": {},
   "outputs": [
    {
     "data": {
      "text/plain": [
       "(array([0, 1, 2, 3, 4, 5, 6, 7, 8, 9]),\n",
       " array([109,  86,  96,  96, 104, 115,  97, 103, 101,  93]))"
      ]
     },
     "execution_count": 36,
     "metadata": {},
     "output_type": "execute_result"
    }
   ],
   "source": [
    "# 1000개 샘플링\n",
    "np.unique(rgen.rvs(1000), return_counts=True)"
   ]
  },
  {
   "cell_type": "code",
   "execution_count": 37,
   "id": "63182fa8-01a1-43cf-b74d-2c883321a3b7",
   "metadata": {},
   "outputs": [
    {
     "data": {
      "text/plain": [
       "array([0.46214935, 0.47391698, 0.08113901, 0.0342477 , 0.411983  ,\n",
       "       0.79979556, 0.32456457, 0.33591199, 0.89279569, 0.63834879])"
      ]
     },
     "execution_count": 37,
     "metadata": {},
     "output_type": "execute_result"
    }
   ],
   "source": [
    "# 0~1 의 10개 실수 추출\n",
    "ugen = uniform(0,1)\n",
    "ugen.rvs(10)"
   ]
  },
  {
   "cell_type": "code",
   "execution_count": 43,
   "id": "273476a4-c989-4551-ad0f-715aff60c5f9",
   "metadata": {},
   "outputs": [],
   "source": [
    "# 탐색할 딕셔너리 생성\n",
    "params = {'min_impurity_decrease' : uniform(0.0001 , 0.001),\n",
    "         'max_depth': randint(20,50),\n",
    "         'min_samples_split' : randint(2,25),\n",
    "         'min_samples_leaf' : randint(1,25)}"
   ]
  },
  {
   "cell_type": "code",
   "execution_count": 44,
   "id": "49cea3a8-f093-45b7-b40c-f0de856f9798",
   "metadata": {},
   "outputs": [
    {
     "data": {
      "text/plain": [
       "RandomizedSearchCV(estimator=DecisionTreeClassifier(random_state=42),\n",
       "                   n_iter=100, n_jobs=-1,\n",
       "                   param_distributions={'max_depth': <scipy.stats._distn_infrastructure.rv_frozen object at 0x7ffa8507b820>,\n",
       "                                        'min_impurity_decrease': <scipy.stats._distn_infrastructure.rv_frozen object at 0x7ffa85e15fd0>,\n",
       "                                        'min_samples_leaf': <scipy.stats._distn_infrastructure.rv_frozen object at 0x7ffa85084100>,\n",
       "                                        'min_samples_split': <scipy.stats._distn_infrastructure.rv_frozen object at 0x7ffa85078fa0>},\n",
       "                   random_state=42)"
      ]
     },
     "execution_count": 44,
     "metadata": {},
     "output_type": "execute_result"
    }
   ],
   "source": [
    "# 랜덤 서치 클래스 임포트\n",
    "gs = RandomizedSearchCV(DecisionTreeClassifier(random_state=42), params,\n",
    "                        n_iter=100 , n_jobs=-1 , random_state=42)\n",
    "gs.fit(train_input , train_target)"
   ]
  },
  {
   "cell_type": "code",
   "execution_count": 46,
   "id": "09c4a43f-8cbd-44b0-afb1-6c8eef3be624",
   "metadata": {},
   "outputs": [
    {
     "name": "stdout",
     "output_type": "stream",
     "text": [
      "{'max_depth': 39, 'min_impurity_decrease': 0.00034102546602601173, 'min_samples_leaf': 7, 'min_samples_split': 13}\n"
     ]
    }
   ],
   "source": [
    "print(gs.best_params_)"
   ]
  },
  {
   "cell_type": "code",
   "execution_count": 47,
   "id": "a20320ea-daa0-4bd6-9eb4-70ea259f0547",
   "metadata": {},
   "outputs": [
    {
     "name": "stdout",
     "output_type": "stream",
     "text": [
      "0.8695428296438884\n"
     ]
    }
   ],
   "source": [
    "print(np.max(gs.cv_results_['mean_test_score']))"
   ]
  },
  {
   "cell_type": "code",
   "execution_count": 49,
   "id": "877819ed-6fc4-4196-902c-4ed230f8af16",
   "metadata": {},
   "outputs": [
    {
     "name": "stdout",
     "output_type": "stream",
     "text": [
      "0.86\n"
     ]
    }
   ],
   "source": [
    "dt = gs.best_estimator_\n",
    "print(dt.score(test_input ,test_target))"
   ]
  },
  {
   "cell_type": "markdown",
   "id": "ada01ffa-cbfa-4a66-84fa-0499adf0803e",
   "metadata": {},
   "source": [
    "> 수동으로 하는거보다 그리드 서치나 랜덤 서치가 편하다."
   ]
  },
  {
   "cell_type": "code",
   "execution_count": null,
   "id": "c0e12b75-0e18-45a3-b68d-4d6768843783",
   "metadata": {},
   "outputs": [],
   "source": []
  },
  {
   "cell_type": "code",
   "execution_count": null,
   "id": "0fe6c591-f3c2-4503-b395-bc2885636ca8",
   "metadata": {},
   "outputs": [],
   "source": []
  },
  {
   "cell_type": "code",
   "execution_count": null,
   "id": "2d827c65-c8de-4230-beeb-89bb980467c8",
   "metadata": {},
   "outputs": [],
   "source": []
  },
  {
   "cell_type": "code",
   "execution_count": null,
   "id": "5594ee9d-fab3-44a1-8c23-ad05cadbc9f2",
   "metadata": {},
   "outputs": [],
   "source": []
  },
  {
   "cell_type": "code",
   "execution_count": null,
   "id": "f4c70e73-9a51-4994-b6a5-60a86eb627ee",
   "metadata": {},
   "outputs": [],
   "source": []
  },
  {
   "cell_type": "code",
   "execution_count": null,
   "id": "e256b003-924f-47a7-9bfc-2d2a3522713a",
   "metadata": {},
   "outputs": [],
   "source": []
  },
  {
   "cell_type": "code",
   "execution_count": null,
   "id": "098014df-5857-49c8-9274-4be044feac10",
   "metadata": {},
   "outputs": [],
   "source": []
  },
  {
   "cell_type": "code",
   "execution_count": null,
   "id": "0185c6dd-ea30-4636-9066-ffc77d691cd9",
   "metadata": {},
   "outputs": [],
   "source": []
  },
  {
   "cell_type": "code",
   "execution_count": null,
   "id": "f4675563-f3a3-4f9c-9f32-35674747e5c3",
   "metadata": {},
   "outputs": [],
   "source": []
  },
  {
   "cell_type": "code",
   "execution_count": null,
   "id": "dc0631dc-2fab-45d5-9c7f-eabd9b6cf2bd",
   "metadata": {},
   "outputs": [],
   "source": []
  },
  {
   "cell_type": "code",
   "execution_count": null,
   "id": "dac9ac2c-6d4d-4a44-9734-53184ed22ec2",
   "metadata": {},
   "outputs": [],
   "source": []
  },
  {
   "cell_type": "code",
   "execution_count": null,
   "id": "21a9f8a2-9a76-40cc-8aad-5b1b8123c0fe",
   "metadata": {},
   "outputs": [],
   "source": []
  },
  {
   "cell_type": "code",
   "execution_count": null,
   "id": "29796886-2f29-4cf3-91ed-c6ebd135a26b",
   "metadata": {},
   "outputs": [],
   "source": []
  },
  {
   "cell_type": "code",
   "execution_count": null,
   "id": "1e0d2aac-e67f-47c4-a52e-a79e3ac66839",
   "metadata": {},
   "outputs": [],
   "source": []
  },
  {
   "cell_type": "code",
   "execution_count": null,
   "id": "bd4b8e89-fcdc-4837-af41-5fd70030110a",
   "metadata": {},
   "outputs": [],
   "source": []
  },
  {
   "cell_type": "code",
   "execution_count": null,
   "id": "5fd0c571-c15d-420d-a0ab-512f7489e834",
   "metadata": {},
   "outputs": [],
   "source": []
  },
  {
   "cell_type": "code",
   "execution_count": null,
   "id": "a92b17fb-0441-4d75-91f5-0438a7b00a82",
   "metadata": {},
   "outputs": [],
   "source": []
  },
  {
   "cell_type": "code",
   "execution_count": null,
   "id": "0de927b2-ad47-44bf-ad2a-611024029b4e",
   "metadata": {},
   "outputs": [],
   "source": []
  },
  {
   "cell_type": "code",
   "execution_count": null,
   "id": "55774207-6fbc-44c9-b103-b44e15f18d69",
   "metadata": {},
   "outputs": [],
   "source": []
  },
  {
   "cell_type": "code",
   "execution_count": null,
   "id": "cba45b12-3568-4a07-920e-1d8b7162c4a1",
   "metadata": {},
   "outputs": [],
   "source": []
  },
  {
   "cell_type": "code",
   "execution_count": null,
   "id": "245cba47-2e45-40c3-b85c-06b5513f8743",
   "metadata": {},
   "outputs": [],
   "source": []
  },
  {
   "cell_type": "code",
   "execution_count": null,
   "id": "99a6120c-bc5b-4676-ba28-4ca42aea82ca",
   "metadata": {},
   "outputs": [],
   "source": []
  },
  {
   "cell_type": "code",
   "execution_count": null,
   "id": "761403fc-4d15-4c66-a45a-b4efd8698ca8",
   "metadata": {},
   "outputs": [],
   "source": []
  },
  {
   "cell_type": "code",
   "execution_count": null,
   "id": "253d41f8-48a4-4f22-8827-b450ba07f5f6",
   "metadata": {},
   "outputs": [],
   "source": []
  },
  {
   "cell_type": "code",
   "execution_count": null,
   "id": "0fc6994c-6ee7-44ef-aaae-e266d383a633",
   "metadata": {},
   "outputs": [],
   "source": []
  },
  {
   "cell_type": "code",
   "execution_count": null,
   "id": "326ef915-7d6b-4b59-9b79-558fcfa035ba",
   "metadata": {},
   "outputs": [],
   "source": []
  },
  {
   "cell_type": "code",
   "execution_count": null,
   "id": "cde5a2d2-8a05-497e-90f9-cda43ae5c6ee",
   "metadata": {},
   "outputs": [],
   "source": []
  },
  {
   "cell_type": "code",
   "execution_count": null,
   "id": "0763c648-769b-4c15-91a5-87279eaff9df",
   "metadata": {},
   "outputs": [],
   "source": []
  },
  {
   "cell_type": "code",
   "execution_count": null,
   "id": "4c878224-07b3-41a7-a29c-ab745d58c0c0",
   "metadata": {},
   "outputs": [],
   "source": []
  },
  {
   "cell_type": "code",
   "execution_count": null,
   "id": "bf4336f6-6782-465b-9605-d942e7dff655",
   "metadata": {},
   "outputs": [],
   "source": []
  },
  {
   "cell_type": "code",
   "execution_count": null,
   "id": "c278a546-c002-45a5-84ef-c056dafc9c94",
   "metadata": {},
   "outputs": [],
   "source": []
  },
  {
   "cell_type": "code",
   "execution_count": null,
   "id": "803bacf4-30d8-4c58-8cdd-895eb53e05a3",
   "metadata": {},
   "outputs": [],
   "source": []
  },
  {
   "cell_type": "code",
   "execution_count": null,
   "id": "809b1499-6254-4d67-92cd-0065e92b6456",
   "metadata": {},
   "outputs": [],
   "source": []
  },
  {
   "cell_type": "code",
   "execution_count": null,
   "id": "12673e36-be00-47c8-ac98-80555947b31c",
   "metadata": {},
   "outputs": [],
   "source": []
  },
  {
   "cell_type": "code",
   "execution_count": null,
   "id": "26a6c3c8-4af6-4e72-b773-134f20d42b65",
   "metadata": {},
   "outputs": [],
   "source": []
  },
  {
   "cell_type": "code",
   "execution_count": null,
   "id": "e2e99c44-69c0-42ca-8f89-eb25de867625",
   "metadata": {},
   "outputs": [],
   "source": []
  },
  {
   "cell_type": "code",
   "execution_count": null,
   "id": "a142bd9d-d922-41bc-ab9b-e147b7382531",
   "metadata": {},
   "outputs": [],
   "source": []
  },
  {
   "cell_type": "code",
   "execution_count": null,
   "id": "7e2fa80c-9dba-4120-af25-b402a6e0f276",
   "metadata": {},
   "outputs": [],
   "source": []
  },
  {
   "cell_type": "code",
   "execution_count": null,
   "id": "ef452677-5fec-47a0-99f2-6076cce84088",
   "metadata": {},
   "outputs": [],
   "source": []
  },
  {
   "cell_type": "code",
   "execution_count": null,
   "id": "b2351ba6-af3e-4f6d-b89e-0df9965a7230",
   "metadata": {},
   "outputs": [],
   "source": []
  },
  {
   "cell_type": "code",
   "execution_count": null,
   "id": "b0b35be1-9d1f-48f3-8bf5-33af274aaa96",
   "metadata": {},
   "outputs": [],
   "source": []
  },
  {
   "cell_type": "code",
   "execution_count": null,
   "id": "d26d4071-9110-4d05-a88a-a42866cf2ce2",
   "metadata": {},
   "outputs": [],
   "source": []
  }
 ],
 "metadata": {
  "kernelspec": {
   "display_name": "Python 3",
   "language": "python",
   "name": "python3"
  },
  "language_info": {
   "codemirror_mode": {
    "name": "ipython",
    "version": 3
   },
   "file_extension": ".py",
   "mimetype": "text/x-python",
   "name": "python",
   "nbconvert_exporter": "python",
   "pygments_lexer": "ipython3",
   "version": "3.8.8"
  }
 },
 "nbformat": 4,
 "nbformat_minor": 5
}
