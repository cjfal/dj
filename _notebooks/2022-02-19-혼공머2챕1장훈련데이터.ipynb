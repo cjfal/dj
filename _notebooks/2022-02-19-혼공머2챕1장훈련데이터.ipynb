{
 "cells": [
  {
   "cell_type": "markdown",
   "id": "b99ea8e2-74ef-4f82-8c18-99229b60ba02",
   "metadata": {},
   "source": [
    "# 혼공머 02-1\n",
    "> 훈련 세트와 테스트 세트\n",
    "\n",
    "- toc:true\n",
    "- branch: master\n",
    "- badges: true\n",
    "- comments: true\n",
    "- author: 김동준\n",
    "- categories : [\"Python\", \"혼공머\"]"
   ]
  },
  {
   "cell_type": "markdown",
   "id": "26fea9e0-ea50-46db-89b1-175a20cfccc1",
   "metadata": {},
   "source": [
    "# 주로쓰는 패키지들"
   ]
  },
  {
   "cell_type": "code",
   "execution_count": 1,
   "id": "0bad7faa-96e7-44b5-9088-a358dcd1c206",
   "metadata": {},
   "outputs": [],
   "source": [
    "import numpy as np #넘파이\n",
    "import pandas as pd #판다스\n",
    "from plotnine import *  #플롯나인\n",
    "import matplotlib.pyplot as plt #맷플랏립\n",
    "import plotly.express as px #플랏리 상호작용 그래프\n",
    "from IPython.display import HTML #블로그에 html로 올리려고 변환하는 패키지\n",
    "import seaborn as sns # 씨본, 히스토그램 깔끔하게 그리는 패키지\n",
    "from sklearn.neighbors import KNeighborsClassifier"
   ]
  },
  {
   "cell_type": "markdown",
   "id": "8ce98954-2ffd-44e5-8879-d6dbef38575e",
   "metadata": {},
   "source": [
    "# 지도학습과 비지도학습\n",
    "> 지도학습 : 훈련하기 위한 데이터와 정답이 필요\n",
    "\n",
    "> 비지도학습 : 타깃없이 입력데이터만 사용\n",
    "\n",
    ">> 훈련데이터 = 입력 + 타깃"
   ]
  },
  {
   "cell_type": "markdown",
   "id": "5532eb07-31df-4442-8efd-cc4f71030373",
   "metadata": {},
   "source": [
    "## 리스트 준비"
   ]
  },
  {
   "cell_type": "code",
   "execution_count": 2,
   "id": "7cc69b3f-7885-473e-98d4-2b4ae1495644",
   "metadata": {},
   "outputs": [],
   "source": [
    "fish_length = [25.4, 26.3, 26.5, 29.0, 29.0, 29.7, 29.7, 30.0, 30.0, 30.7, 31.0, 31.0, \n",
    "                31.5, 32.0, 32.0, 32.0, 33.0, 33.0, 33.5, 33.5, 34.0, 34.0, 34.5, 35.0, \n",
    "                35.0, 35.0, 35.0, 36.0, 36.0, 37.0, 38.5, 38.5, 39.5, 41.0, 41.0, 9.8, \n",
    "                10.5, 10.6, 11.0, 11.2, 11.3, 11.8, 11.8, 12.0, 12.2, 12.4, 13.0, 14.3, 15.0]\n",
    "fish_weight = [242.0, 290.0, 340.0, 363.0, 430.0, 450.0, 500.0, 390.0, 450.0, 500.0, 475.0, 500.0, \n",
    "                500.0, 340.0, 600.0, 600.0, 700.0, 700.0, 610.0, 650.0, 575.0, 685.0, 620.0, 680.0, \n",
    "                700.0, 725.0, 720.0, 714.0, 850.0, 1000.0, 920.0, 955.0, 925.0, 975.0, 950.0, 6.7, \n",
    "                7.5, 7.0, 9.7, 9.8, 8.7, 10.0, 9.9, 9.8, 12.2, 13.4, 12.2, 19.7, 19.9]"
   ]
  },
  {
   "cell_type": "markdown",
   "id": "d680f918-74b9-4267-9254-1e0f16203f6e",
   "metadata": {},
   "source": [
    "## 2차원 리스트 생성"
   ]
  },
  {
   "cell_type": "code",
   "execution_count": 5,
   "id": "6af87c7f-32f6-4cde-a9f4-c0cfd53dba69",
   "metadata": {},
   "outputs": [],
   "source": [
    "fish_data = [[l,w] for l, w in zip(fish_length, fish_weight)]"
   ]
  },
  {
   "cell_type": "code",
   "execution_count": 6,
   "id": "0fe2bd4a-6a5a-4da5-bef5-b54916164ed2",
   "metadata": {},
   "outputs": [],
   "source": [
    "fish_target = [1]*35 + [0]*14"
   ]
  },
  {
   "cell_type": "markdown",
   "id": "6188b323-2df5-4b3e-bb03-2d4c6d00f793",
   "metadata": {},
   "source": [
    "## 인덱스 지정"
   ]
  },
  {
   "cell_type": "code",
   "execution_count": 7,
   "id": "46c9319c-52a4-4db5-90e2-39dc9e4ee824",
   "metadata": {},
   "outputs": [],
   "source": [
    "kn = KNeighborsClassifier()"
   ]
  },
  {
   "cell_type": "code",
   "execution_count": 9,
   "id": "0183f08a-2f21-4c6f-8ef1-e83bfe0d79bb",
   "metadata": {},
   "outputs": [
    {
     "name": "stdout",
     "output_type": "stream",
     "text": [
      "[[25.4, 242.0], [26.3, 290.0], [26.5, 340.0], [29.0, 363.0], [29.0, 430.0]]\n"
     ]
    }
   ],
   "source": [
    "print(fish_data[0:5])  # 슬라이싱 출력"
   ]
  },
  {
   "cell_type": "code",
   "execution_count": 10,
   "id": "56d0c04a-5a81-46cf-b389-41c1dac5a121",
   "metadata": {},
   "outputs": [],
   "source": [
    "#훈련 세트로 입력값 중 0부터 34번째 인덱스까지 사용\n",
    "train_input = fish_data[:35]\n",
    "#훈련 세트로 타깃값 중 0부터 34번째 인덱스까지 사용\n",
    "train_target = fish_target[:35]\n",
    "#테스트 세트로 입력값 중 35번째부터 마지막 인덱스까지 사용\n",
    "test_input = fish_data[35:]\n",
    "#테스트 세트로 타깃값 중 35번째부터 마지막 인덱스까지 사용\n",
    "test_target = fish_target[35:]"
   ]
  },
  {
   "cell_type": "code",
   "execution_count": 12,
   "id": "31fd1004-7d20-42a0-9aa4-00721f4f03b6",
   "metadata": {},
   "outputs": [
    {
     "data": {
      "text/plain": [
       "0.0"
      ]
     },
     "execution_count": 12,
     "metadata": {},
     "output_type": "execute_result"
    }
   ],
   "source": [
    "kn = kn.fit(train_input, train_target)  # 훈련 세트로 fit 이용\n",
    "kn.score(test_input,test_target) # 테스트 세트로 score 이용"
   ]
  },
  {
   "cell_type": "markdown",
   "id": "09e1e31c-b1a6-4a29-9b0d-0884a7512ede",
   "metadata": {},
   "source": [
    "> 34번째 까지 방어니까 제대로된 훈련데이터가 아님 $ \\to $ 샘플링 편향"
   ]
  },
  {
   "cell_type": "markdown",
   "id": "c30c310f-1cf7-4c27-bd64-06cbbecfa5ca",
   "metadata": {},
   "source": [
    "## 다시 인덱스를 랜덤으로 지정"
   ]
  },
  {
   "cell_type": "code",
   "execution_count": 13,
   "id": "8c3467c0-8269-4979-8f2f-5aa86950585b",
   "metadata": {},
   "outputs": [],
   "source": [
    "input_arr = np.array(fish_data) \n",
    "target_arr = np.array(fish_target) "
   ]
  },
  {
   "cell_type": "code",
   "execution_count": 15,
   "id": "ba703205-4a98-47ea-80cf-b4a0703776ca",
   "metadata": {},
   "outputs": [
    {
     "name": "stdout",
     "output_type": "stream",
     "text": [
      "[[  25.4  242. ]\n",
      " [  26.3  290. ]\n",
      " [  26.5  340. ]\n",
      " [  29.   363. ]\n",
      " [  29.   430. ]\n",
      " [  29.7  450. ]\n",
      " [  29.7  500. ]\n",
      " [  30.   390. ]\n",
      " [  30.   450. ]\n",
      " [  30.7  500. ]\n",
      " [  31.   475. ]\n",
      " [  31.   500. ]\n",
      " [  31.5  500. ]\n",
      " [  32.   340. ]\n",
      " [  32.   600. ]\n",
      " [  32.   600. ]\n",
      " [  33.   700. ]\n",
      " [  33.   700. ]\n",
      " [  33.5  610. ]\n",
      " [  33.5  650. ]\n",
      " [  34.   575. ]\n",
      " [  34.   685. ]\n",
      " [  34.5  620. ]\n",
      " [  35.   680. ]\n",
      " [  35.   700. ]\n",
      " [  35.   725. ]\n",
      " [  35.   720. ]\n",
      " [  36.   714. ]\n",
      " [  36.   850. ]\n",
      " [  37.  1000. ]\n",
      " [  38.5  920. ]\n",
      " [  38.5  955. ]\n",
      " [  39.5  925. ]\n",
      " [  41.   975. ]\n",
      " [  41.   950. ]\n",
      " [   9.8    6.7]\n",
      " [  10.5    7.5]\n",
      " [  10.6    7. ]\n",
      " [  11.     9.7]\n",
      " [  11.2    9.8]\n",
      " [  11.3    8.7]\n",
      " [  11.8   10. ]\n",
      " [  11.8    9.9]\n",
      " [  12.     9.8]\n",
      " [  12.2   12.2]\n",
      " [  12.4   13.4]\n",
      " [  13.    12.2]\n",
      " [  14.3   19.7]\n",
      " [  15.    19.9]]\n"
     ]
    }
   ],
   "source": [
    "# hide\n",
    "print(input_arr)"
   ]
  },
  {
   "cell_type": "code",
   "execution_count": 17,
   "id": "a22489d0-f844-4c25-97f3-82644ab12797",
   "metadata": {},
   "outputs": [
    {
     "name": "stdout",
     "output_type": "stream",
     "text": [
      "(49, 2)\n"
     ]
    }
   ],
   "source": [
    "print(input_arr.shape)  # shape : (샘플수 , 특성수)"
   ]
  },
  {
   "cell_type": "markdown",
   "id": "30e3daea-4d14-4699-9764-1d8273e19eb5",
   "metadata": {},
   "source": [
    "### 타깃은 샘플과 함께 이동해야 한다. (인덱스를 기억하는 것이 중요, 그냥 랜덤으로 섞어도 됨)"
   ]
  },
  {
   "cell_type": "code",
   "execution_count": 19,
   "id": "1ced656f-0de0-4f4d-b23c-4e1f68724c4c",
   "metadata": {},
   "outputs": [],
   "source": [
    "np.random.seed(42)\n",
    "index = np.arange(49)\n",
    "np.random.shuffle(index)"
   ]
  },
  {
   "cell_type": "code",
   "execution_count": 20,
   "id": "9815a11c-eaf2-479a-b5ea-a2d2302dbef3",
   "metadata": {},
   "outputs": [
    {
     "name": "stdout",
     "output_type": "stream",
     "text": [
      "[13 45 47 44 17 27 26 25 31 19 12  4 34  8  3  6 40 41 46 15  9 16 24 33\n",
      " 30  0 43 32  5 29 11 36  1 21  2 37 35 23 39 10 22 18 48 20  7 42 14 28\n",
      " 38]\n"
     ]
    }
   ],
   "source": [
    "print(index)"
   ]
  },
  {
   "cell_type": "markdown",
   "id": "dc1f27ed-5de2-4038-84df-ba90bc2104f8",
   "metadata": {},
   "source": [
    "### 랜덤하게 35개 샘플을 훈련 세트로 만들기"
   ]
  },
  {
   "cell_type": "code",
   "execution_count": 21,
   "id": "b05d2e4e-88e3-45ee-99f9-751a3a2d466f",
   "metadata": {},
   "outputs": [],
   "source": [
    "train_input = input_arr[index[:35]]\n",
    "train_target = target_arr[index[:35]]"
   ]
  },
  {
   "cell_type": "markdown",
   "id": "bc4d1773-349f-4d1d-af30-20e8e2a8c8b8",
   "metadata": {},
   "source": [
    "### 나머지로 테스트 세트 만들기 "
   ]
  },
  {
   "cell_type": "code",
   "execution_count": 22,
   "id": "9054d5ce-0665-4f3d-b17c-bea8a50a8646",
   "metadata": {},
   "outputs": [],
   "source": [
    "test_input = input_arr[index[35:]]\n",
    "test_target = target_arr[index[35:]]"
   ]
  },
  {
   "cell_type": "markdown",
   "id": "a75d01a7-2096-4807-a118-2701d2493b19",
   "metadata": {},
   "source": [
    "### 잘 섞인지 산점도로 보기"
   ]
  },
  {
   "cell_type": "code",
   "execution_count": 24,
   "id": "e542a0eb-419e-471a-9be2-340023ec6f5a",
   "metadata": {},
   "outputs": [
    {
     "data": {
      "image/png": "[encoded data removed]",
      "text/plain": [
       "<Figure size 432x288 with 1 Axes>"
      ]
     },
     "metadata": {
      "needs_background": "light"
     },
     "output_type": "display_data"
    }
   ],
   "source": [
    "plt.scatter(train_input[:,0], train_input[:,1])\n",
    "plt.scatter(test_input[:,0], test_input[:,1])\n",
    "plt.xlabel('length')\n",
    "plt.ylabel('weight')\n",
    "plt.show()"
   ]
  },
  {
   "cell_type": "markdown",
   "id": "5daa618c-b76b-4d71-b3a9-a64eee288864",
   "metadata": {},
   "source": [
    "> 파란색 : 훈련세트, 주황색 : 테스트세트"
   ]
  },
  {
   "cell_type": "markdown",
   "id": "2b69818f-6b72-4c4e-ad14-4c16e4f66f7f",
   "metadata": {},
   "source": [
    "# 두 번째 머신러닝 프로그램"
   ]
  },
  {
   "cell_type": "code",
   "execution_count": 26,
   "id": "988b9047-7a08-4b27-9ced-da0fced0bf82",
   "metadata": {},
   "outputs": [],
   "source": [
    "kn = kn.fit(train_input,train_target)"
   ]
  },
  {
   "cell_type": "code",
   "execution_count": 27,
   "id": "dcf3801e-6dd8-4a15-b5e6-126caf8eb90f",
   "metadata": {},
   "outputs": [
    {
     "data": {
      "text/plain": [
       "1.0"
      ]
     },
     "execution_count": 27,
     "metadata": {},
     "output_type": "execute_result"
    }
   ],
   "source": [
    "kn.score(test_input,test_target)"
   ]
  },
  {
   "cell_type": "markdown",
   "id": "108cd057-9c18-48ba-a948-1112c04b52b0",
   "metadata": {},
   "source": [
    "> 정확도 100%"
   ]
  },
  {
   "cell_type": "markdown",
   "id": "d53df094-284f-4772-975a-762a7ff164fc",
   "metadata": {},
   "source": [
    "### 정확도 확인"
   ]
  },
  {
   "cell_type": "code",
   "execution_count": 28,
   "id": "4b947626-85f9-4ddc-9d4c-db682a828956",
   "metadata": {},
   "outputs": [
    {
     "data": {
      "text/plain": [
       "array([0, 0, 1, 0, 1, 1, 1, 0, 1, 1, 0, 1, 1, 0])"
      ]
     },
     "execution_count": 28,
     "metadata": {},
     "output_type": "execute_result"
    }
   ],
   "source": [
    "kn.predict(test_input)"
   ]
  },
  {
   "cell_type": "code",
   "execution_count": 29,
   "id": "4585a171-56dd-45fd-ac44-f48dca1362e1",
   "metadata": {},
   "outputs": [
    {
     "data": {
      "text/plain": [
       "array([0, 0, 1, 0, 1, 1, 1, 0, 1, 1, 0, 1, 1, 0])"
      ]
     },
     "execution_count": 29,
     "metadata": {},
     "output_type": "execute_result"
    }
   ],
   "source": [
    "test_target"
   ]
  },
  {
   "cell_type": "markdown",
   "id": "f9c0f7c8-d78e-47cc-adc9-b92b903c78c6",
   "metadata": {},
   "source": [
    "> 정확히 일치"
   ]
  },
  {
   "cell_type": "markdown",
   "id": "1fa42c8f-84e3-430a-8b95-14c90b2654fe",
   "metadata": {},
   "source": [
    "> 훈련할 때 들어 있지 않은 샘플로 테스트 했기 때문에 올바르게 평가한 것!"
   ]
  },
  {
   "cell_type": "code",
   "execution_count": null,
   "id": "8bd622f2-a736-4ca9-87b6-eca323d9ad14",
   "metadata": {},
   "outputs": [],
   "source": []
  },
  {
   "cell_type": "code",
   "execution_count": null,
   "id": "9ef094d7-0188-41d1-b3da-1986ae7e5d2b",
   "metadata": {},
   "outputs": [],
   "source": []
  },
  {
   "cell_type": "code",
   "execution_count": null,
   "id": "5f9f49dd-20a1-434a-8125-a837be66f0f4",
   "metadata": {},
   "outputs": [],
   "source": []
  },
  {
   "cell_type": "code",
   "execution_count": null,
   "id": "f5205f83-48ce-4103-8f3a-0070627ff47d",
   "metadata": {},
   "outputs": [],
   "source": []
  }
 ],
 "metadata": {
  "kernelspec": {
   "display_name": "Python 3",
   "language": "python",
   "name": "python3"
  },
  "language_info": {
   "codemirror_mode": {
    "name": "ipython",
    "version": 3
   },
   "file_extension": ".py",
   "mimetype": "text/x-python",
   "name": "python",
   "nbconvert_exporter": "python",
   "pygments_lexer": "ipython3",
   "version": "3.8.8"
  }
 },
 "nbformat": 4,
 "nbformat_minor": 5
}
