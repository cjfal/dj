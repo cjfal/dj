{
 "cells": [
  {
   "cell_type": "markdown",
   "id": "26397998-5226-4635-906b-635693469fc8",
   "metadata": {},
   "source": [
    "# 혼공머 03-1\n",
    "> k최근접이웃 회귀, 결정계수\n",
    "\n",
    "- toc:true\n",
    "- branch: master\n",
    "- badges: true\n",
    "- comments: true\n",
    "- author: 김동준\n",
    "- categories : [\"Python\", \"혼공머\"]"
   ]
  },
  {
   "cell_type": "markdown",
   "id": "5beae747-8020-4e5b-86fd-65f9c1847323",
   "metadata": {},
   "source": [
    "# 주로쓰는 패키지들"
   ]
  },
  {
   "cell_type": "code",
   "execution_count": 48,
   "id": "4a51f586-d89f-4782-b9b0-27db35a08b16",
   "metadata": {},
   "outputs": [],
   "source": [
    "import numpy as np #넘파이\n",
    "import pandas as pd #판다스\n",
    "from plotnine import *  #플롯나인\n",
    "import matplotlib.pyplot as plt #맷플랏립\n",
    "import plotly.express as px #플랏리 상호작용 그래프\n",
    "from IPython.display import HTML #블로그에 html로 올리려고 변환하는 패키지\n",
    "import seaborn as sns # 씨본, 히스토그램 깔끔하게 그리는 패키지\n",
    "from sklearn.neighbors import KNeighborsClassifier # k 최근접이웃\n",
    "from sklearn.model_selection import train_test_split\n",
    "from sklearn.neighbors import KNeighborsRegressor  # 결정계수 \n",
    "from sklearn.metrics import mean_absolute_error # 타깃과 예측의 절댓값 오차 평균을 반환"
   ]
  },
  {
   "cell_type": "markdown",
   "id": "701e6391-ea74-43c5-8f3a-86a90c3c715c",
   "metadata": {},
   "source": [
    "# k-최근접 이웃 회귀"
   ]
  },
  {
   "cell_type": "markdown",
   "id": "44d88efb-0b18-46d8-a837-07cd2b4e6808",
   "metadata": {},
   "source": [
    "## 회귀\n",
    "> 정해진 클래스가 없고 임의의 수치를 출력\n",
    "\n",
    "> 두 변수 사이의 상관관계를 분석하는 방법"
   ]
  },
  {
   "cell_type": "markdown",
   "id": "27dafbbf-658d-463e-b782-5476b37fd16c",
   "metadata": {},
   "source": [
    "# 데이터 준비\n",
    "> https://bit.ly/perch_data"
   ]
  },
  {
   "cell_type": "code",
   "execution_count": 39,
   "id": "b054a164-20d6-483f-8ac9-fd8a468c746c",
   "metadata": {},
   "outputs": [],
   "source": [
    "perch_length = np.array([8.4, 13.7, 15.0, 16.2, 17.4, 18.0, 18.7, 19.0, 19.6, 20.0, 21.0,\n",
    "       21.0, 21.0, 21.3, 22.0, 22.0, 22.0, 22.0, 22.0, 22.5, 22.5, 22.7,\n",
    "       23.0, 23.5, 24.0, 24.0, 24.6, 25.0, 25.6, 26.5, 27.3, 27.5, 27.5,\n",
    "       27.5, 28.0, 28.7, 30.0, 32.8, 34.5, 35.0, 36.5, 36.0, 37.0, 37.0,\n",
    "       39.0, 39.0, 39.0, 40.0, 40.0, 40.0, 40.0, 42.0, 43.0, 43.0, 43.5,\n",
    "       44.0])\n",
    "perch_weight = np.array([5.9, 32.0, 40.0, 51.5, 70.0, 100.0, 78.0, 80.0, 85.0, 85.0, 110.0,\n",
    "       115.0, 125.0, 130.0, 120.0, 120.0, 130.0, 135.0, 110.0, 130.0,\n",
    "       150.0, 145.0, 150.0, 170.0, 225.0, 145.0, 188.0, 180.0, 197.0,\n",
    "       218.0, 300.0, 260.0, 265.0, 250.0, 250.0, 300.0, 320.0, 514.0,\n",
    "       556.0, 840.0, 685.0, 700.0, 700.0, 690.0, 900.0, 650.0, 820.0,\n",
    "       850.0, 900.0, 1015.0, 820.0, 1100.0, 1000.0, 1100.0, 1000.0,\n",
    "       1000.0])"
   ]
  },
  {
   "cell_type": "markdown",
   "id": "46ce7d61-425d-4f1b-ab80-9068871130a4",
   "metadata": {},
   "source": [
    "## 산점도 그리기"
   ]
  },
  {
   "cell_type": "code",
   "execution_count": 40,
   "id": "25c402e4-bf9e-4a4b-a23c-b6c823ff49e6",
   "metadata": {},
   "outputs": [
    {
     "data": {
      "image/png": "[encoded data removed]",
      "text/plain": [
       "<Figure size 432x288 with 1 Axes>"
      ]
     },
     "metadata": {
      "needs_background": "light"
     },
     "output_type": "display_data"
    }
   ],
   "source": [
    "plt.scatter(perch_length,perch_weight)\n",
    "plt.xlabel('length')\n",
    "plt.ylabel('weight')\n",
    "plt.show()"
   ]
  },
  {
   "cell_type": "markdown",
   "id": "44b1eab1-550b-42c0-b79b-c5aacc75d217",
   "metadata": {},
   "source": [
    "## 훈련세트 테스트세트 나누기"
   ]
  },
  {
   "cell_type": "code",
   "execution_count": 41,
   "id": "e91faa01-e034-4c74-9a67-e84c6d44c1ed",
   "metadata": {},
   "outputs": [],
   "source": [
    "train_input , test_input , train_target , test_target = train_test_split(perch_length,perch_weight, random_state=42)"
   ]
  },
  {
   "cell_type": "markdown",
   "id": "7c15ea1b-b85f-4e55-a8a2-7034f4936deb",
   "metadata": {},
   "source": [
    "## 1차원 배열을 2차원 배열로 만들기"
   ]
  },
  {
   "cell_type": "code",
   "execution_count": 42,
   "id": "4c0dd914-49e1-4743-b73d-4a40a9494a7e",
   "metadata": {},
   "outputs": [
    {
     "name": "stdout",
     "output_type": "stream",
     "text": [
      "(4,)\n"
     ]
    }
   ],
   "source": [
    "test_array = np.array([1,2,3,4])\n",
    "print(test_array.shape)"
   ]
  },
  {
   "cell_type": "code",
   "execution_count": 43,
   "id": "2a828a4d-d018-4fcb-9b0f-e44bfda0604d",
   "metadata": {},
   "outputs": [
    {
     "name": "stdout",
     "output_type": "stream",
     "text": [
      "(2, 2)\n"
     ]
    }
   ],
   "source": [
    "test_array = test_array.reshape(2, 2)   # 바꾸려는 배열의 크기를 지정가능\n",
    "print(test_array.shape)"
   ]
  },
  {
   "cell_type": "code",
   "execution_count": 44,
   "id": "d838c27e-72a6-4084-bdb7-d85a2241fe0a",
   "metadata": {},
   "outputs": [
    {
     "name": "stdout",
     "output_type": "stream",
     "text": [
      "(42, 1) (14, 1)\n"
     ]
    }
   ],
   "source": [
    "train_input = train_input.reshape(-1,1)\n",
    "test_input = test_input.reshape(-1,1)    # reshape(-1,1) 은 배열의 전체 원소 개수를 매번 외우지 않아도 된다.\n",
    "print(train_input.shape , test_input.shape)"
   ]
  },
  {
   "cell_type": "markdown",
   "id": "66e1b991-69f8-4b4c-af0b-8912878068d0",
   "metadata": {},
   "source": [
    "# 결정계수 $R^2$"
   ]
  },
  {
   "cell_type": "code",
   "execution_count": 45,
   "id": "47f70155-5fa7-440f-bee5-e108b2d4a130",
   "metadata": {},
   "outputs": [
    {
     "data": {
      "text/plain": [
       "KNeighborsRegressor()"
      ]
     },
     "execution_count": 45,
     "metadata": {},
     "output_type": "execute_result"
    }
   ],
   "source": [
    "knr = KNeighborsRegressor()\n",
    "#k최근접 이웃 회귀 모델을 훈련\n",
    "knr.fit(train_input, train_target)"
   ]
  },
  {
   "cell_type": "code",
   "execution_count": 47,
   "id": "30dfbbd4-862b-43dc-9b7d-7104f93f72b9",
   "metadata": {},
   "outputs": [
    {
     "name": "stdout",
     "output_type": "stream",
     "text": [
      "0.992809406101064\n"
     ]
    }
   ],
   "source": [
    "# 테스트 세트의 점수 확인\n",
    "print(knr.score(test_input,test_target))"
   ]
  },
  {
   "cell_type": "markdown",
   "id": "f9dd2872-0874-470d-8aaf-f9fd93c7830d",
   "metadata": {},
   "source": [
    "> 결정계수"
   ]
  },
  {
   "cell_type": "markdown",
   "id": "50fbff33-4249-4e1c-963b-70c91e80b3cc",
   "metadata": {},
   "source": [
    "### 결정계수 $ R^2 = 1- \\frac{\\sum(타깃 - 예측)^2}{\\sum(타깃 - 평균)^2}   $"
   ]
  },
  {
   "cell_type": "markdown",
   "id": "e5670dda-0403-4303-8b19-7f0b1a6f4cf2",
   "metadata": {},
   "source": [
    "> 예측이 타깃에 가까워질수록 1에 가까워진다."
   ]
  },
  {
   "cell_type": "code",
   "execution_count": 50,
   "id": "0f27c08d-f877-4a77-980f-c86661ffeb6f",
   "metadata": {},
   "outputs": [
    {
     "name": "stdout",
     "output_type": "stream",
     "text": [
      "19.157142857142862\n"
     ]
    }
   ],
   "source": [
    "test_prediction = knr.predict(test_input)\n",
    "mae = mean_absolute_error(test_target , test_prediction)\n",
    "print(mae)"
   ]
  },
  {
   "cell_type": "markdown",
   "id": "a1e4f530-88d4-40aa-9881-1ccecd7e5111",
   "metadata": {},
   "source": [
    "> 결과 예측이 평균적으로 19g정도 다르다는 것을 알 수 있음"
   ]
  },
  {
   "cell_type": "markdown",
   "id": "060dd7c9-0336-4bce-b437-573cb2b014ad",
   "metadata": {},
   "source": [
    "# 과대 적합 vs 과소 적합"
   ]
  },
  {
   "cell_type": "code",
   "execution_count": 51,
   "id": "09aee3df-3979-4aac-a00b-0f30066bbb70",
   "metadata": {},
   "outputs": [
    {
     "name": "stdout",
     "output_type": "stream",
     "text": [
      "0.9698823289099254\n"
     ]
    }
   ],
   "source": [
    "print(knr.score(train_input,train_target))"
   ]
  },
  {
   "cell_type": "markdown",
   "id": "1ee838dc-f172-4672-af8c-2f51e84b2bc8",
   "metadata": {},
   "source": [
    "> 앞서 진행한 테스트 세트와 값이 다르고 더 작아졌다."
   ]
  },
  {
   "cell_type": "markdown",
   "id": "92933dfc-1dff-4ff3-9141-cfc15c26565d",
   "metadata": {},
   "source": [
    "### 과대 적합 : 훈련세트에서 점수가 굉장히 좋았는데 테스트 세트에서는 점수가 굉장히 나쁠 때\n",
    "\n",
    "> 모델을 조금 덜 복잡하게 만들어 해결"
   ]
  },
  {
   "cell_type": "markdown",
   "id": "3c5a0d36-b91a-4aec-9021-b872085c4287",
   "metadata": {},
   "source": [
    "### 과소 적합 : 훈련세트 보다 테스트 세트의 점수가 높거나 두 점수가 모두 너무 낮은 경우\n",
    "\n",
    "> 모델을 조금 더 복잡하게 만들어 해결"
   ]
  },
  {
   "cell_type": "markdown",
   "id": "77e06684-86bf-4ec8-af95-81a40278d002",
   "metadata": {},
   "source": [
    "#### k최근접이웃 알고리즘의 기본값 k를 5에서 3으로 낮추기"
   ]
  },
  {
   "cell_type": "code",
   "execution_count": 54,
   "id": "bb5fc8a5-1d9c-48c0-b33d-7f6b6a478f93",
   "metadata": {},
   "outputs": [
    {
     "name": "stdout",
     "output_type": "stream",
     "text": [
      "0.9804899950518966\n"
     ]
    }
   ],
   "source": [
    "knr.n_neighbors = 3\n",
    "knr.fit(train_input , train_target)\n",
    "print(knr.score(train_input,train_target))"
   ]
  },
  {
   "cell_type": "markdown",
   "id": "6145478f-d7d3-4365-a0ef-ee1468e59eb1",
   "metadata": {},
   "source": [
    "> k 값을 줄였더니 훈련세트의 $R^2$ 가 높아졌다."
   ]
  },
  {
   "cell_type": "code",
   "execution_count": 55,
   "id": "f5c6eb68-3eb1-4319-ab03-67b2309abac6",
   "metadata": {},
   "outputs": [
    {
     "name": "stdout",
     "output_type": "stream",
     "text": [
      "0.9746459963987609\n"
     ]
    }
   ],
   "source": [
    "print(knr.score(test_input,test_target))"
   ]
  },
  {
   "cell_type": "markdown",
   "id": "68765dac-8a1b-47fc-9851-4716575af41b",
   "metadata": {},
   "source": [
    "> 테스트 세트의 점수가 훈련 세트보다 낮아졌다 .  $\\to $ 과소적합 문제 해결( 너무 큰 차이도 없어서 과대적합이라고 볼 수 도 없다.)"
   ]
  },
  {
   "cell_type": "markdown",
   "id": "a5ced936-31ef-4dba-b17d-a133b803dc61",
   "metadata": {},
   "source": [
    "______________"
   ]
  },
  {
   "cell_type": "markdown",
   "id": "5a5cd662-3f08-487b-8c70-db4a4c11a710",
   "metadata": {},
   "source": [
    "# **마무리**\n",
    "\n",
    "`*` 키워드로 끝내는 핵심 포인트"
   ]
  },
  {
   "cell_type": "markdown",
   "id": "5ef35d93-ced8-45de-bdd5-2309207fe101",
   "metadata": {},
   "source": [
    "`-` **회귀** : 임의의 수치를 예측하는 문제 (타깃값도 임의의 수치가 됨)"
   ]
  },
  {
   "cell_type": "markdown",
   "id": "14a8c810-7031-49f4-9746-da0413f5799d",
   "metadata": {},
   "source": [
    "`-` **k-최근접 이웃 회귀** : k최근접 이웃 알고리즘으로 회귀 문제를 해결. 가장 가까운 이웃 샘플을 찾고 이 샘플들의 타깃값을 평균하여 예측으로 삼는다."
   ]
  },
  {
   "cell_type": "markdown",
   "id": "367e9d2a-2a92-4b61-a609-3e908b30cbd4",
   "metadata": {},
   "source": [
    "`-` **결정계수** : 대표적인 회귀 문제의 성능 측정 도구입니다. 1에 가까울수록 좋고, 0에 가깝다면 성능이 나쁜 모델"
   ]
  },
  {
   "cell_type": "markdown",
   "id": "9a189832-e1d9-42d2-9814-93f9d4e93089",
   "metadata": {},
   "source": [
    "`-` **과대적합** : 모델의 훈련 세트 성능이 테스트 세트 성능보다 훨씬 높을 때 일어납니다. 모델이 훈련 세트에 너무 집착해서 데이터에 내재된 거시적인 패턴을 감지하지 못합니다"
   ]
  },
  {
   "cell_type": "markdown",
   "id": "7b0e81bb-9e2f-48c0-a305-33ce9794e895",
   "metadata": {},
   "source": [
    "`-` **과소적합** : 과대적합에 반대\n",
    "\n",
    "> 훈련 세트와 테스트 세트 성능이 모두 동일하게 낮거나 테스트 세트 성능이 오히려 더 높을 때 일어납니다. 이런 경우 더 복잡한 모델을 사용해 훈련 트에 맞는 모델을 만들어야 합니다."
   ]
  },
  {
   "cell_type": "markdown",
   "id": "5354b1c3-c23f-41e9-b8e0-e43547e99488",
   "metadata": {},
   "source": [
    "`-` **핵심 패키지**\n",
    "\n",
    "`-` scikit-learn\n",
    "\n",
    "> `1` KNeighborsRegressor : k-최근접 이웃 회귀 모델을 만드는 사이킷런 클래스입니다. n_neighbors 매개변수로 이웃의 개수를 지정합니다. 기본값은 5입니다. 다른 매개변수는 KNeighborsClassifier 클래스와 거의 동일합니다.\\\n",
    "`2` mean absolute_error() : 회귀 모델의 평균 절댓값 오차를 계산합니다. 첫 번째 매개변수는 타깃, 두 번째 매개변수는 예측값을 전달합니다. 이와 비슷한 함수로는 평균 제곱 오차를 계산하는 mean_squared_error()가 있습니다.(이 함수는 타깃과 예측을 뺀 값을 제곱한 다음 전체 샘플에 대해 평균한 값을 반환합니다.)\n",
    "\n"
   ]
  },
  {
   "cell_type": "code",
   "execution_count": null,
   "id": "d187d461-b2b2-454f-b663-cd703c3d1fcb",
   "metadata": {},
   "outputs": [],
   "source": []
  },
  {
   "cell_type": "code",
   "execution_count": null,
   "id": "86c30384-1f04-4b62-ac54-2fb28709b076",
   "metadata": {},
   "outputs": [],
   "source": []
  }
 ],
 "metadata": {
  "kernelspec": {
   "display_name": "Python 3",
   "language": "python",
   "name": "python3"
  },
  "language_info": {
   "codemirror_mode": {
    "name": "ipython",
    "version": 3
   },
   "file_extension": ".py",
   "mimetype": "text/x-python",
   "name": "python",
   "nbconvert_exporter": "python",
   "pygments_lexer": "ipython3",
   "version": "3.8.8"
  }
 },
 "nbformat": 4,
 "nbformat_minor": 5
}
