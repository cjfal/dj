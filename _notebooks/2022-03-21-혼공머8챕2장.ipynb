{
 "cells": [
  {
   "cell_type": "markdown",
   "id": "41ca31dd-3d83-4af2-a234-08947ab80688",
   "metadata": {},
   "source": [
    "# 혼공머 08-2\n",
    "> 합성곱 신경망을 사용한 이미지 분류\n",
    "\n",
    "- toc:true\n",
    "- branch: master\n",
    "- badges: true\n",
    "- comments: true\n",
    "- author: 김동준\n",
    "- categories : [\"Python\", \"혼공머\"]"
   ]
  },
  {
   "cell_type": "markdown",
   "id": "68d1009b-f9ec-481d-908a-632a8b944325",
   "metadata": {},
   "source": [
    "# 주로쓰는 패키지들"
   ]
  },
  {
   "cell_type": "code",
   "execution_count": 125,
   "id": "c2909a79-9fc6-477b-9454-18c50c588645",
   "metadata": {},
   "outputs": [],
   "source": [
    "#collapse\n",
    "import numpy as np #넘파이\n",
    "import pandas as pd #판다스\n",
    "from plotnine import *  #플롯나인\n",
    "import matplotlib.pyplot as plt #맷플랏립\n",
    "import plotly.express as px #플랏리 상호작용 그래프\n",
    "from IPython.display import HTML #블로그에 html로 올리려고 변환하는 패키지\n",
    "import seaborn as sns # 씨본, 히스토그램 깔끔하게 그리는 패키지\n",
    "#___________________________________\n",
    "\n",
    "from sklearn.neighbors import KNeighborsClassifier # k 최근접이웃\n",
    "from sklearn.model_selection import train_test_split\n",
    "from sklearn.neighbors import KNeighborsRegressor  # 결정계수 \n",
    "from sklearn.metrics import mean_absolute_error # 타깃과 예측의 절댓값 오차 평균을 반환\n",
    "from sklearn.linear_model import LinearRegression # 선형 회귀\n",
    "from sklearn.preprocessing import PolynomialFeatures #다중회귀로의 변환기\n",
    "from sklearn.preprocessing import StandardScaler #규제\n",
    "from sklearn.linear_model import Ridge #릿지\n",
    "from sklearn.linear_model import Lasso #라쏘\n",
    "from sklearn.linear_model import LogisticRegression # 로지스틱회귀\n",
    "from scipy.special import expit #시그모이드함수\n",
    "from scipy.special import softmax #소프트맥스함수\n",
    "from sklearn.linear_model import SGDClassifier # 확률적 경사 하강법\n",
    "from sklearn.tree import DecisionTreeClassifier # 트리\n",
    "from sklearn.tree import plot_tree # 트리 모형\n",
    "from sklearn.model_selection import cross_validate # 교차 검증\n",
    "from sklearn.model_selection import StratifiedKFold # Kfold 교차 검증\n",
    "from sklearn.model_selection import GridSearchCV # 그리드 서치 (하이퍼 파라미터 튜닝)\n",
    "from scipy.stats import uniform, randint #랜덤 서치\n",
    "from sklearn.model_selection import RandomizedSearchCV # 랜덤 서치 클래스\n",
    "from sklearn.ensemble import RandomForestClassifier # 랜덤포레스트 앙상블\n",
    "from sklearn.ensemble import ExtraTreesClassifier # 엑스트라 트리 앙상블\n",
    "from sklearn.ensemble import GradientBoostingClassifier # 그레이디언트 부스팅 앙상블\n",
    "\n",
    "# 히스토그램 기반 그레이디언트 부스팅\n",
    "from sklearn.experimental import enable_hist_gradient_boosting\n",
    "from sklearn.ensemble import HistGradientBoostingClassifier\n",
    "from sklearn.inspection import permutation_importance # 특성중요도\n",
    "from xgboost import XGBClassifier # 알고리즘을 구현한 또다른 라이브러리1\n",
    "from lightgbm import LGBMClassifier # 알고리즘을 구현한 또다른 라이브러리2 , 마이크로소프트에서 구현 \n",
    "\n",
    "\n",
    "# ____________________\n",
    "from sklearn.cluster import KMeans # KMeans\n",
    "from sklearn.decomposition import PCA # 주성분 분석\n",
    "\n",
    "# 7장 딥러닝\n",
    "from tensorflow import keras # 케라스 \n",
    "import tensorflow as tf # 텐서플로"
   ]
  },
  {
   "cell_type": "markdown",
   "id": "042e72b1-e9cb-43e8-aadc-ea2a9cbbec48",
   "metadata": {},
   "source": [
    "# 패션 MNIST 데이터 불러오기\n",
    "\n",
    "> 합성곱 신경망은 2차원 이미지를 그대로 사용하기 위해 펼치는 과정이 없음"
   ]
  },
  {
   "cell_type": "code",
   "execution_count": 126,
   "id": "49cf0a81-b214-47ba-8874-2c7fb6939b60",
   "metadata": {},
   "outputs": [],
   "source": [
    "(train_input, train_target), (test_input, test_target) = \\\n",
    "    keras.datasets.fashion_mnist.load_data()\n",
    "\n",
    "train_scaled = train_input.reshape(-1, 28, 28, 1) / 255.0\n",
    "\n",
    "train_scaled, val_scaled, train_target, val_target = train_test_split(\n",
    "    train_scaled, train_target, test_size=0.2, random_state=42)"
   ]
  },
  {
   "cell_type": "markdown",
   "id": "b4565dba-da2a-4e2d-ad26-a241a3202ba1",
   "metadata": {},
   "source": [
    "# 합성곱 신경망 만들기"
   ]
  },
  {
   "cell_type": "code",
   "execution_count": 127,
   "id": "3faba955-1c32-415b-8f3b-1c6617599419",
   "metadata": {},
   "outputs": [],
   "source": [
    "# Sequential 객체를 만들고 첫번째 합성곱 층인 Conv2D를 추가(add() 메서드 사용)\n",
    "model = keras.Sequential()\n",
    "\n",
    "model.add(keras.layers.Conv2D(32, kernel_size=3, activation='relu', \n",
    "                              padding='same', input_shape=(28,28,1)))"
   ]
  },
  {
   "cell_type": "markdown",
   "id": "3fe28725-0b09-4693-b27b-c8edfa03fb27",
   "metadata": {},
   "source": [
    "> 이 합성곱층은 32개의 필터를 사용\n",
    "\n",
    "> 커널의 크기는 (3,3) 이고 렐루 활성화 함수와 세임 패딩을 사용\n",
    "\n",
    "> 완전 연결 신경망에서처럼 케라스 신경망 모델의 첫 번째 층에서 입력의 차원을 지정해야함"
   ]
  },
  {
   "cell_type": "code",
   "execution_count": 128,
   "id": "42ce735b-8e6b-432f-ac7c-bc79b2e5175e",
   "metadata": {},
   "outputs": [],
   "source": [
    "# 풀링층 추가\n",
    "\n",
    "model.add(keras.layers.MaxPooling2D(2))"
   ]
  },
  {
   "cell_type": "markdown",
   "id": "a06e6adb-951e-40fd-94f4-364c32bfc01f",
   "metadata": {},
   "source": [
    "> 패션 MNIST 이미지가 (28,28) 크기에 세임 패딩을 적용했기 때문에 합성곱 층에서 출력된 특성 맵의 가로세로 크기는 입력과 동일\n",
    "\n",
    "> 특성맵의 크기는 절반으로 줄어듦"
   ]
  },
  {
   "cell_type": "code",
   "execution_count": 129,
   "id": "7b35b743-f520-45ae-b850-eff075d7f029",
   "metadata": {},
   "outputs": [],
   "source": [
    "# 첫 번째 합성곱 - 풀링 층 다음에 두 번째 합성곱 -풀링 층을 추가\n",
    "model.add(keras.layers.Conv2D(64, kernel_size=(3,3), activation='relu', \n",
    "                              padding='same'))\n",
    "model.add(keras.layers.MaxPooling2D(2))"
   ]
  },
  {
   "cell_type": "markdown",
   "id": "6778215f-4fef-4adf-bc5f-8b50bdcff938",
   "metadata": {},
   "source": [
    "> 이 합성곱층은 세임 패딩을 사용. (입력의 가로 세로 크기를 줄이기 않음)"
   ]
  },
  {
   "cell_type": "code",
   "execution_count": 130,
   "id": "bb2901c9-e444-40c1-bd07-c336f9dd9e24",
   "metadata": {},
   "outputs": [],
   "source": [
    "# 3차원 특성 맵을 일렬로 펼치기 ( 마지막에 10개의 뉴런을 가진 출력층에서 확률을 계산하기 때문)\n",
    "# 특성 맵을 일렬로 펼쳐서 바로 출력층에 전달하지 않고 중간에 하나의 밀집 은닉층을 하나 더 둠\n",
    "# 즉 Flatten 클래스 다음에 Dense 은닉층, 마지막으로 Dense 출력층의 순서대로 구성\n",
    "\n",
    "model.add(keras.layers.Flatten())\n",
    "model.add(keras.layers.Dense(100, activation='relu'))\n",
    "model.add(keras.layers.Dropout(0.4))\n",
    "model.add(keras.layers.Dense(10, activation='softmax'))"
   ]
  },
  {
   "cell_type": "markdown",
   "id": "528fb2e9-381c-4c82-9fa7-0f6fd77f53a8",
   "metadata": {},
   "source": [
    "> 은닉층과 출력층 사이에 드롭아웃을 넣음.\n",
    "\n",
    "> 드롭아웃 층이 은닉층의 과대적합을 막아 성능을 조금 더 개선\n",
    "\n",
    "> 은닉층은 100개의 뉴런을 사용하고 활성화 함수는 합성곱 층과 마찬가지로 렐루 함수 사용\n",
    "\n",
    "> 패션 MNIST 데이터셋은 클래스 10개를 분류하는 다중 분류 문제이므로 마지막 층의 활성화 함수는 소프트 맥스를 사용"
   ]
  },
  {
   "cell_type": "code",
   "execution_count": 131,
   "id": "0a9e62b9-8f88-4ee7-8c6d-af31a9e36f51",
   "metadata": {},
   "outputs": [
    {
     "name": "stdout",
     "output_type": "stream",
     "text": [
      "Model: \"sequential_4\"\n",
      "_________________________________________________________________\n",
      " Layer (type)                Output Shape              Param #   \n",
      "=================================================================\n",
      " conv2d_8 (Conv2D)           (None, 28, 28, 32)        320       \n",
      "                                                                 \n",
      " max_pooling2d_8 (MaxPooling  (None, 14, 14, 32)       0         \n",
      " 2D)                                                             \n",
      "                                                                 \n",
      " conv2d_9 (Conv2D)           (None, 14, 14, 64)        18496     \n",
      "                                                                 \n",
      " max_pooling2d_9 (MaxPooling  (None, 7, 7, 64)         0         \n",
      " 2D)                                                             \n",
      "                                                                 \n",
      " flatten_5 (Flatten)         (None, 3136)              0         \n",
      "                                                                 \n",
      " dense_10 (Dense)            (None, 100)               313700    \n",
      "                                                                 \n",
      " dropout_5 (Dropout)         (None, 100)               0         \n",
      "                                                                 \n",
      " dense_11 (Dense)            (None, 10)                1010      \n",
      "                                                                 \n",
      "=================================================================\n",
      "Total params: 333,526\n",
      "Trainable params: 333,526\n",
      "Non-trainable params: 0\n",
      "_________________________________________________________________\n"
     ]
    }
   ],
   "source": [
    "model.summary()"
   ]
  },
  {
   "cell_type": "markdown",
   "id": "3dbe62b5-29ed-4dc4-ba98-e783bef0165b",
   "metadata": {},
   "source": [
    "> 합성곱 층과 풀링 층의 효과가 잘 나타나 있음.\n",
    "\n",
    "> 첫 번쨰 합성곱 층을 통과하면서 특성 맵의 깊이는 32가 되고 두 번째 합성곱에서 특성 맵의 크기가 64로 늘어남\n",
    "\n",
    "> 특성 맵의 가로세로 크기는 첫 번째 풀링 층에서 절반으로 줄어들고 두 번째 풀링층에서 다시 절반으로 더 줄어듦 ( 최종 특성 맵의 크기는 (7,7,64) )"
   ]
  },
  {
   "cell_type": "markdown",
   "id": "e126ece0-d8f5-4cc9-a3f6-ca951d8eb153",
   "metadata": {},
   "source": [
    "### 모델 파라미터의 개수 계산\n",
    "\n",
    "> 첫 번째 합성곱 층은 32개의 필터를 가지고 있고 크기가 (3,3), 깊이가 1이고, 필터마다 하나의 절편이 있다.\n",
    "\n",
    ">> 총 3x3x1x32+32 = 320 개의 파라미터가 있다."
   ]
  },
  {
   "cell_type": "code",
   "execution_count": 135,
   "id": "be22ef51-0c69-48ee-af29-9e47306609be",
   "metadata": {},
   "outputs": [
    {
     "name": "stdout",
     "output_type": "stream",
     "text": [
      "You must install pydot (`pip install pydot`) and install graphviz (see instructions at https://graphviz.gitlab.io/download/) for plot_model/model_to_dot to work.\n"
     ]
    }
   ],
   "source": [
    "# 층의 구성을 그림으로 표현\n",
    "\n",
    "keras.utils.plot_model(model)"
   ]
  },
  {
   "cell_type": "code",
   "execution_count": null,
   "id": "3ae9fc41-bc9d-4b27-ad90-a0ce56ab1636",
   "metadata": {},
   "outputs": [],
   "source": [
    "keras.utils.plot_model(model, show_shapes=True, to_file='cnn-architecture.png', dpi=300)"
   ]
  },
  {
   "cell_type": "markdown",
   "id": "e198f1cc-f433-4387-881d-960afa282671",
   "metadata": {},
   "source": [
    "# 모델 컴파일과 훈련\n",
    "\n",
    "> 케라스 API의 장점은 딥러닝 모델의 종류나 구성 방식에 상관없이 컴파일과 훈련 과정이 같다는 점이다."
   ]
  },
  {
   "cell_type": "code",
   "execution_count": 136,
   "id": "c571c681-ddd9-459f-98e5-64d1d75b1710",
   "metadata": {},
   "outputs": [
    {
     "name": "stdout",
     "output_type": "stream",
     "text": [
      "Epoch 1/20\n",
      "1500/1500 [==============================] - 19s 12ms/step - loss: 0.5174 - accuracy: 0.8125 - val_loss: 0.3248 - val_accuracy: 0.8813\n",
      "Epoch 2/20\n",
      "1500/1500 [==============================] - 17s 12ms/step - loss: 0.3431 - accuracy: 0.8770 - val_loss: 0.2858 - val_accuracy: 0.8939\n",
      "Epoch 3/20\n",
      "1500/1500 [==============================] - 20s 13ms/step - loss: 0.2939 - accuracy: 0.8931 - val_loss: 0.2550 - val_accuracy: 0.9037\n",
      "Epoch 4/20\n",
      "1500/1500 [==============================] - 18s 12ms/step - loss: 0.2619 - accuracy: 0.9043 - val_loss: 0.2327 - val_accuracy: 0.9162\n",
      "Epoch 5/20\n",
      "1500/1500 [==============================] - 19s 12ms/step - loss: 0.2409 - accuracy: 0.9120 - val_loss: 0.2313 - val_accuracy: 0.9120\n",
      "Epoch 6/20\n",
      "1500/1500 [==============================] - 18s 12ms/step - loss: 0.2204 - accuracy: 0.9202 - val_loss: 0.2190 - val_accuracy: 0.9183\n",
      "Epoch 7/20\n",
      "1500/1500 [==============================] - 18s 12ms/step - loss: 0.2007 - accuracy: 0.9268 - val_loss: 0.2221 - val_accuracy: 0.9191\n",
      "Epoch 8/20\n",
      "1500/1500 [==============================] - 18s 12ms/step - loss: 0.1852 - accuracy: 0.9305 - val_loss: 0.2203 - val_accuracy: 0.9196\n"
     ]
    }
   ],
   "source": [
    "model.compile(optimizer='adam', loss='sparse_categorical_crossentropy', \n",
    "              metrics='accuracy')\n",
    "\n",
    "checkpoint_cb = keras.callbacks.ModelCheckpoint('best-cnn-model.h5', \n",
    "                                                save_best_only=True)\n",
    "early_stopping_cb = keras.callbacks.EarlyStopping(patience=2,\n",
    "                                                  restore_best_weights=True)\n",
    "\n",
    "history = model.fit(train_scaled, train_target, epochs=20,\n",
    "                    validation_data=(val_scaled, val_target),\n",
    "                    callbacks=[checkpoint_cb, early_stopping_cb])"
   ]
  },
  {
   "cell_type": "markdown",
   "id": "59fd76ff-370d-4cd1-bba0-8e98973b86a5",
   "metadata": {},
   "source": []
  },
  {
   "cell_type": "markdown",
   "id": "29c87ee3-2b02-4b1e-bed3-123f8f3b76a6",
   "metadata": {},
   "source": [
    "> 훈련세트의  정확도가 이전보다 훨씬 좋아졌다."
   ]
  },
  {
   "cell_type": "code",
   "execution_count": 137,
   "id": "25b02543-9672-42ca-877c-d3c9357abbde",
   "metadata": {},
   "outputs": [
    {
     "data": {
      "image/png": "[encoded data removed]",
      "text/plain": [
       "<Figure size 432x288 with 1 Axes>"
      ]
     },
     "metadata": {
      "needs_background": "light"
     },
     "output_type": "display_data"
    }
   ],
   "source": [
    "# 손실 그래프로 조기 종료가 잘 이루어졌는지 확인\n",
    "\n",
    "plt.plot(history.history['loss'])\n",
    "plt.plot(history.history['val_loss'])\n",
    "plt.xlabel('epoch')\n",
    "plt.ylabel('loss')\n",
    "plt.legend(['train', 'val'])\n",
    "plt.show()"
   ]
  },
  {
   "cell_type": "markdown",
   "id": "e8f7c9b1-2776-4cf1-b745-66ad5e805ce4",
   "metadata": {},
   "source": []
  },
  {
   "cell_type": "markdown",
   "id": "fd8ba150-e231-4526-ab9b-832deb61165c",
   "metadata": {},
   "source": [
    "> 검증 세트에 대한 손실이 점차 감소하다가 정체되기 시작하고 훈련 세트에 대한 손실은 점점 더 낮아지고 있다.\n",
    "\n",
    "> 아홉 번째 에포크를 최적으로 생각할 수 있다."
   ]
  },
  {
   "cell_type": "code",
   "execution_count": 138,
   "id": "dfd0e586-1562-467c-ba38-b61e24d3a1a4",
   "metadata": {},
   "outputs": [
    {
     "name": "stdout",
     "output_type": "stream",
     "text": [
      "375/375 [==============================] - 1s 3ms/step - loss: 0.2190 - accuracy: 0.9183\n"
     ]
    },
    {
     "data": {
      "text/plain": [
       "[0.2189749926328659, 0.9182500243186951]"
      ]
     },
     "execution_count": 138,
     "metadata": {},
     "output_type": "execute_result"
    }
   ],
   "source": [
    "# 세트에 대한 성능 평가\n",
    "\n",
    "model.evaluate(val_scaled, val_target)"
   ]
  },
  {
   "cell_type": "markdown",
   "id": "63ceb798-f47b-45af-80ba-e1f1c768a383",
   "metadata": {},
   "source": [
    "> 이 결과는 fit 메서ㅏ드의 출력 중 아홉 번째 에포크의 출력과 같다.\n",
    "\n",
    "> EalryStopping 콜백이 model 객체를 최상의 모델 파라미터로 잘 복원"
   ]
  },
  {
   "cell_type": "code",
   "execution_count": 139,
   "id": "31b347b8-15ba-49b7-8086-61e1efc854d6",
   "metadata": {},
   "outputs": [
    {
     "data": {
      "image/png": "[encoded data removed]",
      "text/plain": [
       "<Figure size 432x288 with 1 Axes>"
      ]
     },
     "metadata": {
      "needs_background": "light"
     },
     "output_type": "display_data"
    }
   ],
   "source": [
    "# predit() 메서드를 활용하여 훈련된 모델 사용\n",
    "\n",
    "plt.imshow(val_scaled[0].reshape(28, 28), cmap='gray_r')\n",
    "plt.show()"
   ]
  },
  {
   "cell_type": "markdown",
   "id": "bfbc671b-cc99-45d9-a6a8-1ecaed39f425",
   "metadata": {},
   "source": [
    "> 핸드백 이미지"
   ]
  },
  {
   "cell_type": "code",
   "execution_count": 140,
   "id": "8580156e-7269-454b-815e-0c7fec4bc709",
   "metadata": {},
   "outputs": [
    {
     "name": "stdout",
     "output_type": "stream",
     "text": [
      "[[1.1478546e-13 1.5173621e-22 1.5546854e-14 1.3573404e-14 1.0424652e-14\n",
      "  3.8627394e-13 1.3114199e-15 2.4451533e-15 1.0000000e+00 3.5255428e-19]]\n"
     ]
    }
   ],
   "source": [
    "# 모델이 이 이미지에 대해 어떤 예측을 만드는지 확인\n",
    "\n",
    "preds = model.predict(val_scaled[0:1])\n",
    "print(preds)"
   ]
  },
  {
   "cell_type": "markdown",
   "id": "840ffd42-b2fe-4a4c-840e-fc76820bc259",
   "metadata": {},
   "source": [
    "> 출력 결과를 보면 아홉 번째 값이 1이고 다른값이 거의 0에 가까움 "
   ]
  },
  {
   "cell_type": "code",
   "execution_count": 141,
   "id": "5ee03633-0fd8-4063-a20e-2f89a79bdd26",
   "metadata": {},
   "outputs": [
    {
     "data": {
      "image/png": "[encoded data removed]",
      "text/plain": [
       "<Figure size 432x288 with 1 Axes>"
      ]
     },
     "metadata": {
      "needs_background": "light"
     },
     "output_type": "display_data"
    }
   ],
   "source": [
    "# 막대 그래프로 확인\n",
    "\n",
    "plt.bar(range(1, 11), preds[0])\n",
    "plt.xlabel('class')\n",
    "plt.ylabel('prob.')\n",
    "plt.show()"
   ]
  },
  {
   "cell_type": "code",
   "execution_count": 142,
   "id": "9ab80ee9-d82b-49c1-9405-43d33591526f",
   "metadata": {},
   "outputs": [],
   "source": [
    "# 아홉 번째 클래스가 실제로 무엇이지 확인\n",
    "\n",
    "classes = ['티셔츠', '바지', '스웨터', '드레스', '코트',\n",
    "           '샌달', '셔츠', '스니커즈', '가방', '앵클 부츠']"
   ]
  },
  {
   "cell_type": "code",
   "execution_count": 143,
   "id": "f3e0ca26-4b12-493c-bf29-2eda22b8187f",
   "metadata": {},
   "outputs": [
    {
     "name": "stdout",
     "output_type": "stream",
     "text": [
      "가방\n"
     ]
    }
   ],
   "source": [
    "# 클래스 리스트가 있으면 레이블을 출력하기 쉽다.\n",
    "\n",
    "print(classes[np.argmax(preds)])"
   ]
  },
  {
   "cell_type": "code",
   "execution_count": 144,
   "id": "5cfce234-a298-4679-8cb4-7c44e5a46d99",
   "metadata": {},
   "outputs": [],
   "source": [
    "# 훈련 세트와 검증 세트에서 했던 것처럼 픽셀값의 범위를 0~1 사이로 바꾸고 이미지 크기를 (28,28)에서 (28,28,1)로 변경\n",
    "\n",
    "test_scaled = test_input.reshape(-1, 28, 28, 1) / 255.0"
   ]
  },
  {
   "cell_type": "code",
   "execution_count": 145,
   "id": "3985d097-ae6c-4535-bc19-4ddaa7337956",
   "metadata": {},
   "outputs": [
    {
     "name": "stdout",
     "output_type": "stream",
     "text": [
      "313/313 [==============================] - 1s 3ms/step - loss: 0.2392 - accuracy: 0.9131\n"
     ]
    },
    {
     "data": {
      "text/plain": [
       "[0.23924489319324493, 0.913100004196167]"
      ]
     },
     "execution_count": 145,
     "metadata": {},
     "output_type": "execute_result"
    }
   ],
   "source": [
    "# evalute() 메서드로 성능 평가\n",
    "\n",
    "model.evaluate(test_scaled, test_target)"
   ]
  },
  {
   "cell_type": "code",
   "execution_count": null,
   "id": "802a391c-27be-40fb-851f-4f4c05b290f1",
   "metadata": {},
   "outputs": [],
   "source": []
  }
 ],
 "metadata": {
  "kernelspec": {
   "display_name": "Python 3",
   "language": "python",
   "name": "python3"
  },
  "language_info": {
   "codemirror_mode": {
    "name": "ipython",
    "version": 3
   },
   "file_extension": ".py",
   "mimetype": "text/x-python",
   "name": "python",
   "nbconvert_exporter": "python",
   "pygments_lexer": "ipython3",
   "version": "3.8.8"
  }
 },
 "nbformat": 4,
 "nbformat_minor": 5
}
