{
 "cells": [
  {
   "cell_type": "markdown",
   "id": "bdffb6e4-5a58-4bec-9702-c88ad3b35b34",
   "metadata": {},
   "source": [
    "# 4주차 회귀분석 연습문제 4.8 R 풀이\n",
    "> \n",
    "\n",
    "- toc:true\n",
    "- branch: master\n",
    "- badges: true\n",
    "- comments: true\n",
    "- author: 김동준\n",
    "- categories : [R, 회귀분석]"
   ]
  },
  {
   "cell_type": "markdown",
   "id": "9679c57e-384f-4d6c-a9f1-e075e959e7aa",
   "metadata": {},
   "source": [
    "base"
   ]
  },
  {
   "cell_type": "code",
   "execution_count": 12,
   "id": "d0d264c7-8b53-4b5f-898f-2266c30c1bc5",
   "metadata": {},
   "outputs": [],
   "source": [
    "A <- c(5,6,7,8,9,10,11,12,13,14)\n",
    "B <- c(89,87,98,110,103,114,116,110,126,130)"
   ]
  },
  {
   "cell_type": "markdown",
   "id": "f99e9817-7a40-4911-a0f5-13e998ca73ee",
   "metadata": {},
   "source": [
    "# 1)2) 절편과 기울기의 신뢰구간 및 검정"
   ]
  },
  {
   "cell_type": "code",
   "execution_count": 13,
   "id": "7903f635-0629-4d68-96e0-8a77cb92e130",
   "metadata": {},
   "outputs": [
    {
     "data": {
      "text/plain": [
       "\n",
       "Call:\n",
       "lm(formula = B ~ A)\n",
       "\n",
       "Residuals:\n",
       "    Min      1Q  Median      3Q     Max \n",
       "-9.3758 -2.1545  0.9152  2.0864  8.3455 \n",
       "\n",
       "Coefficients:\n",
       "            Estimate Std. Error t value Pr(>|t|)    \n",
       "(Intercept)   66.212      5.767  11.482 3.00e-06 ***\n",
       "A              4.430      0.581   7.625 6.16e-05 ***\n",
       "---\n",
       "Signif. codes:  0 ‘***’ 0.001 ‘**’ 0.01 ‘*’ 0.05 ‘.’ 0.1 ‘ ’ 1\n",
       "\n",
       "Residual standard error: 5.278 on 8 degrees of freedom\n",
       "Multiple R-squared:  0.879,\tAdjusted R-squared:  0.8639 \n",
       "F-statistic: 58.14 on 1 and 8 DF,  p-value: 6.161e-05\n"
      ]
     },
     "metadata": {},
     "output_type": "display_data"
    }
   ],
   "source": [
    "lm48 <- lm(B~A)\n",
    "summary(lm48)"
   ]
  },
  {
   "cell_type": "code",
   "execution_count": 14,
   "id": "d60e00f8-5163-4f95-9731-9fed53fc0036",
   "metadata": {},
   "outputs": [
    {
     "data": {
      "text/html": [
       "<table class=\"dataframe\">\n",
       "<caption>A matrix: 2 × 2 of type dbl</caption>\n",
       "<thead>\n",
       "\t<tr><th></th><th scope=col>2.5 %</th><th scope=col>97.5 %</th></tr>\n",
       "</thead>\n",
       "<tbody>\n",
       "\t<tr><th scope=row>(Intercept)</th><td>52.914087</td><td>79.510156</td></tr>\n",
       "\t<tr><th scope=row>A</th><td> 3.090412</td><td> 5.770194</td></tr>\n",
       "</tbody>\n",
       "</table>\n"
      ],
      "text/latex": [
       "A matrix: 2 × 2 of type dbl\n",
       "\\begin{tabular}{r|ll}\n",
       "  & 2.5 \\% & 97.5 \\%\\\\\n",
       "\\hline\n",
       "\t(Intercept) & 52.914087 & 79.510156\\\\\n",
       "\tA &  3.090412 &  5.770194\\\\\n",
       "\\end{tabular}\n"
      ],
      "text/markdown": [
       "\n",
       "A matrix: 2 × 2 of type dbl\n",
       "\n",
       "| <!--/--> | 2.5 % | 97.5 % |\n",
       "|---|---|---|\n",
       "| (Intercept) | 52.914087 | 79.510156 |\n",
       "| A |  3.090412 |  5.770194 |\n",
       "\n"
      ],
      "text/plain": [
       "            2.5 %     97.5 %   \n",
       "(Intercept) 52.914087 79.510156\n",
       "A            3.090412  5.770194"
      ]
     },
     "metadata": {},
     "output_type": "display_data"
    }
   ],
   "source": [
    "coeffs <- coefficients(lm48)\n",
    "confint(lm48,level = 0.95) # 기울기와 절편의 95% 신뢰구간 "
   ]
  },
  {
   "cell_type": "markdown",
   "id": "6dc494bb-d50a-4abe-9343-9432bc464586",
   "metadata": {},
   "source": [
    "\tR을 통해 y=β_0+β_1 x+ϵ 를 가정해 본 결과\n",
    "    절편β_0은 66.212, 기울기β_1은 4.430이 나왔다.\n",
    "    절편의 신뢰구간을 추정해본 결과\n",
    "    절편    β_0의 신뢰구간은 (52.914087, 79.510156) 으로 나왔다.\n",
    "\n",
    "\t이어서 자유도가 8인 t분포에서 가운데 면적이 95% 인 경우의 t*값은 2.306이다.\n",
    "    그런데 summary 에서 확인할 수 있는 절편의 t-value은 11.482로 2.306보다 크다.\n",
    "    \n",
    "    즉 영가설을 기각한다.\n"
   ]
  },
  {
   "cell_type": "markdown",
   "id": "499369a1-b7fb-47ae-b997-5d9663545e7d",
   "metadata": {},
   "source": [
    ">\t기울기의 신뢰구간은 (3.090412, 5.770194)이다.\n",
    ">\tsummary에서 절편에 대한 t-value 값은 7.625인데 이 값은 자유도 8인 t분포에서 가운데 면적이 95%일때의 t*값인 2.306 보다 크므로 영가설을 기각한다."
   ]
  },
  {
   "cell_type": "markdown",
   "id": "fd47d07e-14c5-4ab4-85aa-49e38c4655b0",
   "metadata": {},
   "source": [
    "# 3) 분산분석표로 기울기 검정"
   ]
  },
  {
   "cell_type": "code",
   "execution_count": 15,
   "id": "1f7d1fe7-57cd-4f4b-8c3f-0d3097504f10",
   "metadata": {},
   "outputs": [
    {
     "data": {
      "text/html": [
       "<table class=\"dataframe\">\n",
       "<caption>A anova: 2 × 5</caption>\n",
       "<thead>\n",
       "\t<tr><th></th><th scope=col>Df</th><th scope=col>Sum Sq</th><th scope=col>Mean Sq</th><th scope=col>F value</th><th scope=col>Pr(&gt;F)</th></tr>\n",
       "\t<tr><th></th><th scope=col>&lt;int&gt;</th><th scope=col>&lt;dbl&gt;</th><th scope=col>&lt;dbl&gt;</th><th scope=col>&lt;dbl&gt;</th><th scope=col>&lt;dbl&gt;</th></tr>\n",
       "</thead>\n",
       "<tbody>\n",
       "\t<tr><th scope=row>A</th><td>1</td><td>1619.2758</td><td>1619.27576</td><td>58.13643</td><td>6.160731e-05</td></tr>\n",
       "\t<tr><th scope=row>Residuals</th><td>8</td><td> 222.8242</td><td>  27.85303</td><td>      NA</td><td>          NA</td></tr>\n",
       "</tbody>\n",
       "</table>\n"
      ],
      "text/latex": [
       "A anova: 2 × 5\n",
       "\\begin{tabular}{r|lllll}\n",
       "  & Df & Sum Sq & Mean Sq & F value & Pr(>F)\\\\\n",
       "  & <int> & <dbl> & <dbl> & <dbl> & <dbl>\\\\\n",
       "\\hline\n",
       "\tA & 1 & 1619.2758 & 1619.27576 & 58.13643 & 6.160731e-05\\\\\n",
       "\tResiduals & 8 &  222.8242 &   27.85303 &       NA &           NA\\\\\n",
       "\\end{tabular}\n"
      ],
      "text/markdown": [
       "\n",
       "A anova: 2 × 5\n",
       "\n",
       "| <!--/--> | Df &lt;int&gt; | Sum Sq &lt;dbl&gt; | Mean Sq &lt;dbl&gt; | F value &lt;dbl&gt; | Pr(&gt;F) &lt;dbl&gt; |\n",
       "|---|---|---|---|---|---|\n",
       "| A | 1 | 1619.2758 | 1619.27576 | 58.13643 | 6.160731e-05 |\n",
       "| Residuals | 8 |  222.8242 |   27.85303 |       NA |           NA |\n",
       "\n"
      ],
      "text/plain": [
       "          Df Sum Sq    Mean Sq    F value  Pr(>F)      \n",
       "A         1  1619.2758 1619.27576 58.13643 6.160731e-05\n",
       "Residuals 8   222.8242   27.85303       NA           NA"
      ]
     },
     "metadata": {},
     "output_type": "display_data"
    }
   ],
   "source": [
    "anova(lm48)"
   ]
  },
  {
   "cell_type": "markdown",
   "id": "b923f126-c79e-4763-b7f9-df478d5e00c2",
   "metadata": {},
   "source": [
    ">\tF-value는 58.136 이다. 분자의 자유도 1 과 분모의 자유도가 8인 F-분포에서 \n",
    "    p-value 는 6.161^(-10)이다.\n",
    "    이 p값은 굉장히 작기 때문에 선형모형(기울기와 편차)의 가정이 좋은 가정이라고 말할 수 있다. \n"
   ]
  },
  {
   "cell_type": "markdown",
   "id": "e8ef6771-c15b-42a5-85d4-53cba96835f4",
   "metadata": {},
   "source": [
    "# 4) 결정계수와 의미"
   ]
  },
  {
   "cell_type": "code",
   "execution_count": 16,
   "id": "a2dbcd9c-79a5-49d3-9e32-ac69393e36ac",
   "metadata": {},
   "outputs": [
    {
     "data": {
      "text/html": [
       "0.879037922792333"
      ],
      "text/latex": [
       "0.879037922792333"
      ],
      "text/markdown": [
       "0.879037922792333"
      ],
      "text/plain": [
       "[1] 0.8790379"
      ]
     },
     "metadata": {},
     "output_type": "display_data"
    }
   ],
   "source": [
    "(cor(A,B))^2"
   ]
  },
  {
   "cell_type": "markdown",
   "id": "c4d1439a-a396-479a-83ba-877cd522d1f9",
   "metadata": {},
   "source": [
    "    결정계수 R^2는 0.8790379이다. 1에 가까운 값으로 추정된 방정식이 판매액과 광고비를 잘 나타내 준다고 말할 수 있다"
   ]
  },
  {
   "cell_type": "markdown",
   "id": "45c8648f-653c-4070-9da6-2d220036468a",
   "metadata": {},
   "source": [
    "# 5) x=10 일때 yhat 신뢰구간"
   ]
  },
  {
   "cell_type": "code",
   "execution_count": 20,
   "id": "cf7333e2-9143-4e22-957b-1f963a5543f6",
   "metadata": {},
   "outputs": [
    {
     "data": {
      "text/html": [
       "<table class=\"dataframe\">\n",
       "<caption>A matrix: 1 × 3 of type dbl</caption>\n",
       "<thead>\n",
       "\t<tr><th></th><th scope=col>fit</th><th scope=col>lwr</th><th scope=col>upr</th></tr>\n",
       "</thead>\n",
       "<tbody>\n",
       "\t<tr><th scope=row>1</th><td>110.5152</td><td>106.6087</td><td>114.4216</td></tr>\n",
       "</tbody>\n",
       "</table>\n"
      ],
      "text/latex": [
       "A matrix: 1 × 3 of type dbl\n",
       "\\begin{tabular}{r|lll}\n",
       "  & fit & lwr & upr\\\\\n",
       "\\hline\n",
       "\t1 & 110.5152 & 106.6087 & 114.4216\\\\\n",
       "\\end{tabular}\n"
      ],
      "text/markdown": [
       "\n",
       "A matrix: 1 × 3 of type dbl\n",
       "\n",
       "| <!--/--> | fit | lwr | upr |\n",
       "|---|---|---|---|\n",
       "| 1 | 110.5152 | 106.6087 | 114.4216 |\n",
       "\n"
      ],
      "text/plain": [
       "  fit      lwr      upr     \n",
       "1 110.5152 106.6087 114.4216"
      ]
     },
     "metadata": {},
     "output_type": "display_data"
    }
   ],
   "source": [
    "q10 <- data.frame(A=10)\n",
    "predict(lm48,q10,level=0.95,interval=\"confidence\")"
   ]
  },
  {
   "cell_type": "markdown",
   "id": "a0503d03-cb1e-45e8-9355-93b256ee058d",
   "metadata": {},
   "source": [
    ">\t적합된 광고비 값은 110.5152이고, 그 신뢰구간은 (106.6087,114.4216) 이다."
   ]
  },
  {
   "cell_type": "markdown",
   "id": "d8b18a8f-5bc5-4a06-a30d-f39e4d1b48bb",
   "metadata": {},
   "source": [
    "# 6) x=10 일때 y 예측구간"
   ]
  },
  {
   "cell_type": "code",
   "execution_count": 21,
   "id": "d7a72f13-cde3-4da9-af08-bbcf8ac4300d",
   "metadata": {},
   "outputs": [
    {
     "data": {
      "text/html": [
       "<table class=\"dataframe\">\n",
       "<caption>A matrix: 1 × 3 of type dbl</caption>\n",
       "<thead>\n",
       "\t<tr><th></th><th scope=col>fit</th><th scope=col>lwr</th><th scope=col>upr</th></tr>\n",
       "</thead>\n",
       "<tbody>\n",
       "\t<tr><th scope=row>1</th><td>110.5152</td><td>97.73341</td><td>123.2969</td></tr>\n",
       "</tbody>\n",
       "</table>\n"
      ],
      "text/latex": [
       "A matrix: 1 × 3 of type dbl\n",
       "\\begin{tabular}{r|lll}\n",
       "  & fit & lwr & upr\\\\\n",
       "\\hline\n",
       "\t1 & 110.5152 & 97.73341 & 123.2969\\\\\n",
       "\\end{tabular}\n"
      ],
      "text/markdown": [
       "\n",
       "A matrix: 1 × 3 of type dbl\n",
       "\n",
       "| <!--/--> | fit | lwr | upr |\n",
       "|---|---|---|---|\n",
       "| 1 | 110.5152 | 97.73341 | 123.2969 |\n",
       "\n"
      ],
      "text/plain": [
       "  fit      lwr      upr     \n",
       "1 110.5152 97.73341 123.2969"
      ]
     },
     "metadata": {},
     "output_type": "display_data"
    }
   ],
   "source": [
    "predict(lm48,q10,level=0.95,interval=\"predict\")"
   ]
  },
  {
   "cell_type": "markdown",
   "id": "06d13cf4-47be-4dde-b2e8-35a6c38c9908",
   "metadata": {},
   "source": [
    ">\t적합된 광고비 값은 110.5152이고, 그 예측구간은 (97.73341,123.2969) 이다."
   ]
  },
  {
   "cell_type": "code",
   "execution_count": 22,
   "id": "acc9d976-5c4f-4fa3-bdef-46af1070aecb",
   "metadata": {},
   "outputs": [
    {
     "data": {
      "text/html": [
       "<table class=\"dataframe\">\n",
       "<caption>A matrix: 1 × 3 of type dbl</caption>\n",
       "<thead>\n",
       "\t<tr><th></th><th scope=col>fit</th><th scope=col>lwr</th><th scope=col>upr</th></tr>\n",
       "</thead>\n",
       "<tbody>\n",
       "\t<tr><th scope=row>1</th><td>101.6545</td><td>97.3128</td><td>105.9963</td></tr>\n",
       "</tbody>\n",
       "</table>\n"
      ],
      "text/latex": [
       "A matrix: 1 × 3 of type dbl\n",
       "\\begin{tabular}{r|lll}\n",
       "  & fit & lwr & upr\\\\\n",
       "\\hline\n",
       "\t1 & 101.6545 & 97.3128 & 105.9963\\\\\n",
       "\\end{tabular}\n"
      ],
      "text/markdown": [
       "\n",
       "A matrix: 1 × 3 of type dbl\n",
       "\n",
       "| <!--/--> | fit | lwr | upr |\n",
       "|---|---|---|---|\n",
       "| 1 | 101.6545 | 97.3128 | 105.9963 |\n",
       "\n"
      ],
      "text/plain": [
       "  fit      lwr     upr     \n",
       "1 101.6545 97.3128 105.9963"
      ]
     },
     "metadata": {},
     "output_type": "display_data"
    },
    {
     "data": {
      "text/html": [
       "<table class=\"dataframe\">\n",
       "<caption>A matrix: 1 × 3 of type dbl</caption>\n",
       "<thead>\n",
       "\t<tr><th></th><th scope=col>fit</th><th scope=col>lwr</th><th scope=col>upr</th></tr>\n",
       "</thead>\n",
       "<tbody>\n",
       "\t<tr><th scope=row>1</th><td>106.0848</td><td>102.1784</td><td>109.9913</td></tr>\n",
       "</tbody>\n",
       "</table>\n"
      ],
      "text/latex": [
       "A matrix: 1 × 3 of type dbl\n",
       "\\begin{tabular}{r|lll}\n",
       "  & fit & lwr & upr\\\\\n",
       "\\hline\n",
       "\t1 & 106.0848 & 102.1784 & 109.9913\\\\\n",
       "\\end{tabular}\n"
      ],
      "text/markdown": [
       "\n",
       "A matrix: 1 × 3 of type dbl\n",
       "\n",
       "| <!--/--> | fit | lwr | upr |\n",
       "|---|---|---|---|\n",
       "| 1 | 106.0848 | 102.1784 | 109.9913 |\n",
       "\n"
      ],
      "text/plain": [
       "  fit      lwr      upr     \n",
       "1 106.0848 102.1784 109.9913"
      ]
     },
     "metadata": {},
     "output_type": "display_data"
    },
    {
     "data": {
      "text/html": [
       "<table class=\"dataframe\">\n",
       "<caption>A matrix: 1 × 3 of type dbl</caption>\n",
       "<thead>\n",
       "\t<tr><th></th><th scope=col>fit</th><th scope=col>lwr</th><th scope=col>upr</th></tr>\n",
       "</thead>\n",
       "<tbody>\n",
       "\t<tr><th scope=row>1</th><td>110.5152</td><td>106.6087</td><td>114.4216</td></tr>\n",
       "</tbody>\n",
       "</table>\n"
      ],
      "text/latex": [
       "A matrix: 1 × 3 of type dbl\n",
       "\\begin{tabular}{r|lll}\n",
       "  & fit & lwr & upr\\\\\n",
       "\\hline\n",
       "\t1 & 110.5152 & 106.6087 & 114.4216\\\\\n",
       "\\end{tabular}\n"
      ],
      "text/markdown": [
       "\n",
       "A matrix: 1 × 3 of type dbl\n",
       "\n",
       "| <!--/--> | fit | lwr | upr |\n",
       "|---|---|---|---|\n",
       "| 1 | 110.5152 | 106.6087 | 114.4216 |\n",
       "\n"
      ],
      "text/plain": [
       "  fit      lwr      upr     \n",
       "1 110.5152 106.6087 114.4216"
      ]
     },
     "metadata": {},
     "output_type": "display_data"
    },
    {
     "data": {
      "text/html": [
       "<table class=\"dataframe\">\n",
       "<caption>A matrix: 1 × 3 of type dbl</caption>\n",
       "<thead>\n",
       "\t<tr><th></th><th scope=col>fit</th><th scope=col>lwr</th><th scope=col>upr</th></tr>\n",
       "</thead>\n",
       "<tbody>\n",
       "\t<tr><th scope=row>1</th><td>114.9455</td><td>110.6037</td><td>119.2872</td></tr>\n",
       "</tbody>\n",
       "</table>\n"
      ],
      "text/latex": [
       "A matrix: 1 × 3 of type dbl\n",
       "\\begin{tabular}{r|lll}\n",
       "  & fit & lwr & upr\\\\\n",
       "\\hline\n",
       "\t1 & 114.9455 & 110.6037 & 119.2872\\\\\n",
       "\\end{tabular}\n"
      ],
      "text/markdown": [
       "\n",
       "A matrix: 1 × 3 of type dbl\n",
       "\n",
       "| <!--/--> | fit | lwr | upr |\n",
       "|---|---|---|---|\n",
       "| 1 | 114.9455 | 110.6037 | 119.2872 |\n",
       "\n"
      ],
      "text/plain": [
       "  fit      lwr      upr     \n",
       "1 114.9455 110.6037 119.2872"
      ]
     },
     "metadata": {},
     "output_type": "display_data"
    },
    {
     "data": {
      "text/html": [
       "<table class=\"dataframe\">\n",
       "<caption>A matrix: 1 × 3 of type dbl</caption>\n",
       "<thead>\n",
       "\t<tr><th></th><th scope=col>fit</th><th scope=col>lwr</th><th scope=col>upr</th></tr>\n",
       "</thead>\n",
       "<tbody>\n",
       "\t<tr><th scope=row>1</th><td>119.3758</td><td>114.2736</td><td>124.4779</td></tr>\n",
       "</tbody>\n",
       "</table>\n"
      ],
      "text/latex": [
       "A matrix: 1 × 3 of type dbl\n",
       "\\begin{tabular}{r|lll}\n",
       "  & fit & lwr & upr\\\\\n",
       "\\hline\n",
       "\t1 & 119.3758 & 114.2736 & 124.4779\\\\\n",
       "\\end{tabular}\n"
      ],
      "text/markdown": [
       "\n",
       "A matrix: 1 × 3 of type dbl\n",
       "\n",
       "| <!--/--> | fit | lwr | upr |\n",
       "|---|---|---|---|\n",
       "| 1 | 119.3758 | 114.2736 | 124.4779 |\n",
       "\n"
      ],
      "text/plain": [
       "  fit      lwr      upr     \n",
       "1 119.3758 114.2736 124.4779"
      ]
     },
     "metadata": {},
     "output_type": "display_data"
    },
    {
     "data": {
      "text/html": [
       "<table class=\"dataframe\">\n",
       "<caption>A matrix: 1 × 3 of type dbl</caption>\n",
       "<thead>\n",
       "\t<tr><th></th><th scope=col>fit</th><th scope=col>lwr</th><th scope=col>upr</th></tr>\n",
       "</thead>\n",
       "<tbody>\n",
       "\t<tr><th scope=row>1</th><td>101.6545</td><td>88.73311</td><td>114.576</td></tr>\n",
       "</tbody>\n",
       "</table>\n"
      ],
      "text/latex": [
       "A matrix: 1 × 3 of type dbl\n",
       "\\begin{tabular}{r|lll}\n",
       "  & fit & lwr & upr\\\\\n",
       "\\hline\n",
       "\t1 & 101.6545 & 88.73311 & 114.576\\\\\n",
       "\\end{tabular}\n"
      ],
      "text/markdown": [
       "\n",
       "A matrix: 1 × 3 of type dbl\n",
       "\n",
       "| <!--/--> | fit | lwr | upr |\n",
       "|---|---|---|---|\n",
       "| 1 | 101.6545 | 88.73311 | 114.576 |\n",
       "\n"
      ],
      "text/plain": [
       "  fit      lwr      upr    \n",
       "1 101.6545 88.73311 114.576"
      ]
     },
     "metadata": {},
     "output_type": "display_data"
    },
    {
     "data": {
      "text/html": [
       "<table class=\"dataframe\">\n",
       "<caption>A matrix: 1 × 3 of type dbl</caption>\n",
       "<thead>\n",
       "\t<tr><th></th><th scope=col>fit</th><th scope=col>lwr</th><th scope=col>upr</th></tr>\n",
       "</thead>\n",
       "<tbody>\n",
       "\t<tr><th scope=row>1</th><td>106.0848</td><td>93.30311</td><td>118.8666</td></tr>\n",
       "</tbody>\n",
       "</table>\n"
      ],
      "text/latex": [
       "A matrix: 1 × 3 of type dbl\n",
       "\\begin{tabular}{r|lll}\n",
       "  & fit & lwr & upr\\\\\n",
       "\\hline\n",
       "\t1 & 106.0848 & 93.30311 & 118.8666\\\\\n",
       "\\end{tabular}\n"
      ],
      "text/markdown": [
       "\n",
       "A matrix: 1 × 3 of type dbl\n",
       "\n",
       "| <!--/--> | fit | lwr | upr |\n",
       "|---|---|---|---|\n",
       "| 1 | 106.0848 | 93.30311 | 118.8666 |\n",
       "\n"
      ],
      "text/plain": [
       "  fit      lwr      upr     \n",
       "1 106.0848 93.30311 118.8666"
      ]
     },
     "metadata": {},
     "output_type": "display_data"
    },
    {
     "data": {
      "text/html": [
       "<table class=\"dataframe\">\n",
       "<caption>A matrix: 1 × 3 of type dbl</caption>\n",
       "<thead>\n",
       "\t<tr><th></th><th scope=col>fit</th><th scope=col>lwr</th><th scope=col>upr</th></tr>\n",
       "</thead>\n",
       "<tbody>\n",
       "\t<tr><th scope=row>1</th><td>110.5152</td><td>97.73341</td><td>123.2969</td></tr>\n",
       "</tbody>\n",
       "</table>\n"
      ],
      "text/latex": [
       "A matrix: 1 × 3 of type dbl\n",
       "\\begin{tabular}{r|lll}\n",
       "  & fit & lwr & upr\\\\\n",
       "\\hline\n",
       "\t1 & 110.5152 & 97.73341 & 123.2969\\\\\n",
       "\\end{tabular}\n"
      ],
      "text/markdown": [
       "\n",
       "A matrix: 1 × 3 of type dbl\n",
       "\n",
       "| <!--/--> | fit | lwr | upr |\n",
       "|---|---|---|---|\n",
       "| 1 | 110.5152 | 97.73341 | 123.2969 |\n",
       "\n"
      ],
      "text/plain": [
       "  fit      lwr      upr     \n",
       "1 110.5152 97.73341 123.2969"
      ]
     },
     "metadata": {},
     "output_type": "display_data"
    },
    {
     "data": {
      "text/html": [
       "<table class=\"dataframe\">\n",
       "<caption>A matrix: 1 × 3 of type dbl</caption>\n",
       "<thead>\n",
       "\t<tr><th></th><th scope=col>fit</th><th scope=col>lwr</th><th scope=col>upr</th></tr>\n",
       "</thead>\n",
       "<tbody>\n",
       "\t<tr><th scope=row>1</th><td>114.9455</td><td>102.024</td><td>127.8669</td></tr>\n",
       "</tbody>\n",
       "</table>\n"
      ],
      "text/latex": [
       "A matrix: 1 × 3 of type dbl\n",
       "\\begin{tabular}{r|lll}\n",
       "  & fit & lwr & upr\\\\\n",
       "\\hline\n",
       "\t1 & 114.9455 & 102.024 & 127.8669\\\\\n",
       "\\end{tabular}\n"
      ],
      "text/markdown": [
       "\n",
       "A matrix: 1 × 3 of type dbl\n",
       "\n",
       "| <!--/--> | fit | lwr | upr |\n",
       "|---|---|---|---|\n",
       "| 1 | 114.9455 | 102.024 | 127.8669 |\n",
       "\n"
      ],
      "text/plain": [
       "  fit      lwr     upr     \n",
       "1 114.9455 102.024 127.8669"
      ]
     },
     "metadata": {},
     "output_type": "display_data"
    },
    {
     "data": {
      "text/html": [
       "<table class=\"dataframe\">\n",
       "<caption>A matrix: 1 × 3 of type dbl</caption>\n",
       "<thead>\n",
       "\t<tr><th></th><th scope=col>fit</th><th scope=col>lwr</th><th scope=col>upr</th></tr>\n",
       "</thead>\n",
       "<tbody>\n",
       "\t<tr><th scope=row>1</th><td>119.3758</td><td>106.1794</td><td>132.5721</td></tr>\n",
       "</tbody>\n",
       "</table>\n"
      ],
      "text/latex": [
       "A matrix: 1 × 3 of type dbl\n",
       "\\begin{tabular}{r|lll}\n",
       "  & fit & lwr & upr\\\\\n",
       "\\hline\n",
       "\t1 & 119.3758 & 106.1794 & 132.5721\\\\\n",
       "\\end{tabular}\n"
      ],
      "text/markdown": [
       "\n",
       "A matrix: 1 × 3 of type dbl\n",
       "\n",
       "| <!--/--> | fit | lwr | upr |\n",
       "|---|---|---|---|\n",
       "| 1 | 119.3758 | 106.1794 | 132.5721 |\n",
       "\n"
      ],
      "text/plain": [
       "  fit      lwr      upr     \n",
       "1 119.3758 106.1794 132.5721"
      ]
     },
     "metadata": {},
     "output_type": "display_data"
    }
   ],
   "source": [
    "q8 <- data.frame(A=8)\n",
    "q9 <- data.frame(A=9)\n",
    "q10 <- data.frame(A=10)\n",
    "q11 <- data.frame(A=11)\n",
    "q12 <- data.frame(A=12)\n",
    "predict(lm48,q8,level=0.95,interval=\"confidence\")\n",
    "predict(lm48,q9,level=0.95,interval=\"confidence\")\n",
    "predict(lm48,q10,level=0.95,interval=\"confidence\")\n",
    "predict(lm48,q11,level=0.95,interval=\"confidence\")\n",
    "predict(lm48,q12,level=0.95,interval=\"confidence\")\n",
    "\n",
    "predict(lm48,q8,level=0.95,interval=\"predict\")\n",
    "predict(lm48,q9,level=0.95,interval=\"predict\")\n",
    "predict(lm48,q10,level=0.95,interval=\"predict\")\n",
    "predict(lm48,q11,level=0.95,interval=\"predict\")\n",
    "predict(lm48,q12,level=0.95,interval=\"predict\")"
   ]
  },
  {
   "cell_type": "markdown",
   "id": "8a5231e7-5b35-4ad4-a7a9-e09abdab87f6",
   "metadata": {},
   "source": [
    "## 신뢰대 예측대 도시"
   ]
  },
  {
   "cell_type": "code",
   "execution_count": 23,
   "id": "b26c5380-4e11-4b4f-904c-9cc964c99a7b",
   "metadata": {},
   "outputs": [
    {
     "name": "stderr",
     "output_type": "stream",
     "text": [
      "Warning message in predict.lm(lm48, level = 0.95, interval = \"predict\"):\n",
      "“predictions on current data refer to _future_ responses\n",
      "”\n"
     ]
    },
    {
     "data": {
      "image/png": "[encoded data removed]",
      "text/plain": [
       "plot without title"
      ]
     },
     "metadata": {
      "image/png": {
       "height": 420,
       "width": 420
      }
     },
     "output_type": "display_data"
    }
   ],
   "source": [
    "m_conf <- predict(lm48,level=0.95,interval=\"confidence\")\n",
    "\n",
    "plot(B~A)\n",
    "lwr <- m_conf[,2]\n",
    "upr <- m_conf[,3]\n",
    "sx <- sort(A, index.return=TRUE)\n",
    "abline(coef(lm48),lwd=2)\n",
    "lines(sx$x, lwr[sx$ix], col=\"blue\", lty=2)\n",
    "lines(sx$x, upr[sx$ix], col=\"blue\", lty=2)\n",
    "\n",
    "m_pred <- predict(lm48,level=0.95,interval=\"predict\")\n",
    "p_lwr <- m_pred[,2]\n",
    "p_upr <- m_pred[,3]\n",
    "lines(A, p_lwr, col=\"red\", lty=2)\n",
    "lines(A, p_upr, col=\"red\", lty=2)"
   ]
  },
  {
   "cell_type": "markdown",
   "id": "c88e0a36-a4a0-45af-9c31-a8fabbf849e6",
   "metadata": {},
   "source": [
    "(오류는 무슨뜻일까.. 문제는 없어보인다)"
   ]
  },
  {
   "cell_type": "markdown",
   "id": "25a50ceb-a281-49f1-83f6-65622b79e8b1",
   "metadata": {},
   "source": [
    ">\t붉은선은 예측대, 파란선은 신뢰대이다. 예측대가 신뢰대보다 더 넓은 범위를 차지하며\n",
    "\n",
    ">\t신뢰대와 예측대 모두 거의 중앙에 회귀선을 품고있는 모습을 하고 있다."
   ]
  },
  {
   "cell_type": "markdown",
   "id": "1776f564-6b1f-4510-802f-5880d5303baa",
   "metadata": {},
   "source": [
    "\t값에따른 신뢰구간과 예측구간\n",
    "\n",
    "|x_0|신뢰구간(confidence)||예측구간(predict)||\n",
    "|:---:|:---:|:---|:---|:---|\n",
    "| |lwr|upr|lwr|Upr|\n",
    "|8|97.31280|105.9963|88.73311|114.5760|\n",
    "|9|102.1784|109.9913|93.30311|118.8666|\n",
    "|10|106.6087|114.4216|97.73341|123.2969|\n",
    "|11|110.6037|119.2872|102.0240|127.8669|\n",
    "|12|114.2736|124.4779|106.1794|132.5721|\n",
    "\n"
   ]
  },
  {
   "cell_type": "code",
   "execution_count": null,
   "id": "7b3c64d9-bcee-4673-8bbd-9ea390661306",
   "metadata": {},
   "outputs": [],
   "source": []
  }
 ],
 "metadata": {
  "kernelspec": {
   "display_name": "R",
   "language": "R",
   "name": "ir"
  },
  "language_info": {
   "codemirror_mode": "r",
   "file_extension": ".r",
   "mimetype": "text/x-r-source",
   "name": "R",
   "pygments_lexer": "r",
   "version": "4.0.5"
  }
 },
 "nbformat": 4,
 "nbformat_minor": 5
}
