{
 "cells": [
  {
   "cell_type": "markdown",
   "id": "42818643-75fe-4ccf-b294-0a77aa571358",
   "metadata": {},
   "source": [
    "# 회귀분석 6장\n",
    "> 회귀분석 6장 숙제 풀이\n",
    "\n",
    "- toc:true\n",
    "- branch: master\n",
    "- badges: true\n",
    "- comments: true\n",
    "- author: 김동준\n",
    "- categories : [\"R\", \"회귀분석\"]"
   ]
  },
  {
   "cell_type": "markdown",
   "id": "95da592e-5697-4cd4-950c-4d4c84bc8bfa",
   "metadata": {},
   "source": [
    "# 6.2\n",
    "> 다음 자료는 A 제품을 생산하는 공장의 총자산(x)과 총수입(y)과의 관계를 조사한 표이다."
   ]
  },
  {
   "cell_type": "markdown",
   "id": "85c3403c-c970-411b-a4d9-c9401bdeecc2",
   "metadata": {},
   "source": [
    "|x|25|6|8|5|1|24|17|2|13|14|\n",
    "|---|---|---|---|---|---|---|---|---|---|---|\n",
    "|y|10.1|2.9|3.0|1.8|0.1|9.4|6.9|0.3|5.1|6.0|"
   ]
  },
  {
   "cell_type": "markdown",
   "id": "7199a289-1958-4068-a68a-602a8539fc11",
   "metadata": {},
   "source": [
    "### 1) 산점도를 그리고, 적합한 모형을 설정하여라."
   ]
  },
  {
   "cell_type": "code",
   "execution_count": 36,
   "id": "807d005d-b21b-4f87-a4d8-c6aa8452500c",
   "metadata": {},
   "outputs": [
    {
     "data": {
      "image/png": "[encoded data removed]",
      "text/plain": [
       "plot without title"
      ]
     },
     "metadata": {
      "image/png": {
       "height": 420,
       "width": 420
      }
     },
     "output_type": "display_data"
    }
   ],
   "source": [
    "x <- c(25,6,8,5,1,24,17,2,13,14)\n",
    "y <- c(10.1,2.9,3.0,1.8,0.1,9.4,6.9,0.3,5.1,6.0)\n",
    "plot(x,y)\n",
    "lm62<-lm(y~x)\n",
    "abline(lm62,col='red')"
   ]
  },
  {
   "cell_type": "markdown",
   "id": "4023cfac-d84e-419b-86a0-239d9ecb9301",
   "metadata": {},
   "source": [
    "> 적합한 모형은 1차선형회귀모형이다."
   ]
  },
  {
   "cell_type": "markdown",
   "id": "0a7707b2-9b74-44c1-b1b1-3e2b1cabeb87",
   "metadata": {},
   "source": [
    "### 2) 원점을 지나는 회귀모형 $y=\\beta_1x + \\epsilon$ 을 적합시키고 분산분석표를 작성하여 귀무가설 $H_0 : \\beta_1 = 0 $ 을 검정하여라. $\\alpha = 0.05 $"
   ]
  },
  {
   "cell_type": "markdown",
   "id": "4f783afb-c47b-4cfa-b25d-1647da06c03d",
   "metadata": {},
   "source": [
    "b1 구하기"
   ]
  },
  {
   "cell_type": "code",
   "execution_count": 49,
   "id": "7ae9a8bf-3244-4864-a864-04e1406e6af2",
   "metadata": {},
   "outputs": [
    {
     "data": {
      "text/html": [
       "0.401410579345088"
      ],
      "text/latex": [
       "0.401410579345088"
      ],
      "text/markdown": [
       "0.401410579345088"
      ],
      "text/plain": [
       "[1] 0.4014106"
      ]
     },
     "metadata": {},
     "output_type": "display_data"
    }
   ],
   "source": [
    "sum(x*y)/sum(x^2) #기울기 구하기"
   ]
  },
  {
   "cell_type": "markdown",
   "id": "07606bc5-bff8-43f0-b182-967c56f8e205",
   "metadata": {},
   "source": [
    "b1(기울기) 값은 0.401410579345088 이다."
   ]
  },
  {
   "cell_type": "markdown",
   "id": "c7921f13-c2c0-4ebd-b175-7a66f93af7c7",
   "metadata": {},
   "source": [
    "불편 추정량: yhat = 0.401410579345088*x"
   ]
  },
  {
   "cell_type": "code",
   "execution_count": 50,
   "id": "26bf3652-78d6-4543-acac-136bd2418216",
   "metadata": {},
   "outputs": [],
   "source": [
    "yhat = 0.401410579345088*x"
   ]
  },
  {
   "cell_type": "code",
   "execution_count": 52,
   "id": "c6a1f9c4-9fa8-46ec-acae-c4634ef30881",
   "metadata": {},
   "outputs": [
    {
     "data": {
      "text/html": [
       "<style>\n",
       ".list-inline {list-style: none; margin:0; padding: 0}\n",
       ".list-inline>li {display: inline-block}\n",
       ".list-inline>li:not(:last-child)::after {content: \"\\00b7\"; padding: 0 .5ex}\n",
       "</style>\n",
       "<ol class=list-inline><li>0.0647355163727994</li><li>0.491536523929472</li><li>-0.211284634760704</li><li>-0.20705289672544</li><li>-0.301410579345088</li><li>-0.233853904282112</li><li>0.0760201511335046</li><li>-0.502821158690176</li><li>-0.118337531486144</li><li>0.380251889168768</li></ol>\n"
      ],
      "text/latex": [
       "\\begin{enumerate*}\n",
       "\\item 0.0647355163727994\n",
       "\\item 0.491536523929472\n",
       "\\item -0.211284634760704\n",
       "\\item -0.20705289672544\n",
       "\\item -0.301410579345088\n",
       "\\item -0.233853904282112\n",
       "\\item 0.0760201511335046\n",
       "\\item -0.502821158690176\n",
       "\\item -0.118337531486144\n",
       "\\item 0.380251889168768\n",
       "\\end{enumerate*}\n"
      ],
      "text/markdown": [
       "1. 0.0647355163727994\n",
       "2. 0.491536523929472\n",
       "3. -0.211284634760704\n",
       "4. -0.20705289672544\n",
       "5. -0.301410579345088\n",
       "6. -0.233853904282112\n",
       "7. 0.0760201511335046\n",
       "8. -0.502821158690176\n",
       "9. -0.118337531486144\n",
       "10. 0.380251889168768\n",
       "\n",
       "\n"
      ],
      "text/plain": [
       " [1]  0.06473552  0.49153652 -0.21128463 -0.20705290 -0.30141058 -0.23385390\n",
       " [7]  0.07602015 -0.50282116 -0.11833753  0.38025189"
      ]
     },
     "metadata": {},
     "output_type": "display_data"
    }
   ],
   "source": [
    "y-0.401410579345088*x #잔차구하기"
   ]
  },
  {
   "cell_type": "code",
   "execution_count": 53,
   "id": "dd61e9e5-8a9c-4b89-aa39-517c90cdb894",
   "metadata": {},
   "outputs": [
    {
     "data": {
      "text/html": [
       "-0.56221662468512"
      ],
      "text/latex": [
       "-0.56221662468512"
      ],
      "text/markdown": [
       "-0.56221662468512"
      ],
      "text/plain": [
       "[1] -0.5622166"
      ]
     },
     "metadata": {},
     "output_type": "display_data"
    }
   ],
   "source": [
    "sum(y-0.401410579345088*x) #잔차의 합이 0이 아니다."
   ]
  },
  {
   "cell_type": "markdown",
   "id": "06149b62-6a8d-4fc0-9dc8-d1ed68078e31",
   "metadata": {},
   "source": [
    "영가설 $H_0 :  \\beta_1 = 0$  검정"
   ]
  },
  {
   "cell_type": "markdown",
   "id": "c1b1ea56-19d4-4b65-8555-02009041af19",
   "metadata": {},
   "source": [
    "회귀모형의 변동 (F 통계량 구하기)"
   ]
  },
  {
   "cell_type": "code",
   "execution_count": 54,
   "id": "a462288d-e8e8-4ac9-9bef-ae7ae8dfcd81",
   "metadata": {},
   "outputs": [
    {
     "data": {
      "text/html": [
       "3212.53761820648"
      ],
      "text/latex": [
       "3212.53761820648"
      ],
      "text/markdown": [
       "3212.53761820648"
      ],
      "text/plain": [
       "[1] 3212.538"
      ]
     },
     "metadata": {},
     "output_type": "display_data"
    }
   ],
   "source": [
    "SST = sum(y^2)\n",
    "SSR = sum(yhat^2)\n",
    "SSE = SST - SSR\n",
    "MSE = SSE/(length(x)-1)\n",
    "F0 = (SSR)/(SSE/(length(x)-1))\n",
    "F0"
   ]
  },
  {
   "cell_type": "markdown",
   "id": "6ba00ce5-a235-45e5-afc6-7d1b3dd0a3ac",
   "metadata": {},
   "source": [
    "F 통계량은 3212.53761820648 이고  유의수준 0.05일때 자유도 1,9인 F값은 3.26 이므로 영가설 $H_0$를 기각한다."
   ]
  },
  {
   "cell_type": "markdown",
   "id": "e9452784-79e0-4361-80db-d1daa5041908",
   "metadata": {},
   "source": [
    "즉, x는 y에 영향을 끼친다."
   ]
  },
  {
   "cell_type": "markdown",
   "id": "e4c34ab1-f8b8-440a-a39e-1a6dc825251d",
   "metadata": {},
   "source": [
    "### 3) 단순회귀모형 $y=\\beta_0 + \\beta_1x+\\epsilon$을 적합시키고 결정계수 $R^2$ 을 계산하여라."
   ]
  },
  {
   "cell_type": "markdown",
   "id": "b20e1fab-b57e-4998-bed4-cc29cf2b048a",
   "metadata": {},
   "source": [
    "단순회귀모형 적합"
   ]
  },
  {
   "cell_type": "code",
   "execution_count": 41,
   "id": "dd167ab8-2a87-4045-9cf2-817f2251ad88",
   "metadata": {},
   "outputs": [
    {
     "data": {
      "text/html": [
       "<style>\n",
       ".dl-inline {width: auto; margin:0; padding: 0}\n",
       ".dl-inline>dt, .dl-inline>dd {float: none; width: auto; display: inline-block}\n",
       ".dl-inline>dt::after {content: \":\\0020\"; padding-right: .5ex}\n",
       ".dl-inline>dt:not(:first-of-type) {padding-left: .5ex}\n",
       "</style><dl class=dl-inline><dt>(Intercept)</dt><dd>-0.168452830188679</dd><dt>x</dt><dd>0.411169811320755</dd></dl>\n"
      ],
      "text/latex": [
       "\\begin{description*}\n",
       "\\item[(Intercept)] -0.168452830188679\n",
       "\\item[x] 0.411169811320755\n",
       "\\end{description*}\n"
      ],
      "text/markdown": [
       "(Intercept)\n",
       ":   -0.168452830188679x\n",
       ":   0.411169811320755\n",
       "\n"
      ],
      "text/plain": [
       "(Intercept)           x \n",
       " -0.1684528   0.4111698 "
      ]
     },
     "metadata": {},
     "output_type": "display_data"
    }
   ],
   "source": [
    "coef(lm62)"
   ]
  },
  {
   "cell_type": "markdown",
   "id": "4c6a6b0a-bf50-4c30-a993-4efdef6075fa",
   "metadata": {},
   "source": [
    "> $\\beta_0 = -0.168452830188679 , \\beta_1 = 0.411169811320755 $\n",
    "\n",
    "> 단순회귀모형 : $y = -0.168452830188679 + 0.411169811320755x$"
   ]
  },
  {
   "cell_type": "code",
   "execution_count": 7,
   "id": "4dcf2fab-328b-4852-8364-6b5b50258bbc",
   "metadata": {},
   "outputs": [
    {
     "data": {
      "text/html": [
       "0.99289614378722"
      ],
      "text/latex": [
       "0.99289614378722"
      ],
      "text/markdown": [
       "0.99289614378722"
      ],
      "text/plain": [
       "[1] 0.9928961"
      ]
     },
     "metadata": {},
     "output_type": "display_data"
    }
   ],
   "source": [
    "summary(lm62)$r.squared #결정계수"
   ]
  },
  {
   "cell_type": "markdown",
   "id": "e3a9e9f8-e119-413d-b5b9-cd505842161f",
   "metadata": {},
   "source": [
    "> 결정계수가 1에 굉장히 가까운 것으로 보아 관계를 설명하기 굉장히 좋은 모형이다."
   ]
  },
  {
   "cell_type": "markdown",
   "id": "6e564ce7-f0a7-4990-b504-022663f43e4f",
   "metadata": {},
   "source": [
    "__________________________"
   ]
  },
  {
   "cell_type": "markdown",
   "id": "4b82185c-38f5-4976-8fd0-eb815587ccdf",
   "metadata": {},
   "source": [
    "# 6.5\n",
    "> 다음 표는 남녀 어린이 각각 16명에게 비타민B를 복용시켰을 때 4주간의 성장률에 관한 자료이다."
   ]
  },
  {
   "cell_type": "markdown",
   "id": "bea11fc1-f8a5-4604-9621-5f2382fac923",
   "metadata": {},
   "source": [
    "|남|  |여|  |\n",
    "|:---:|:---:|:---:|:---:|\n",
    "|성장률(y)|복용량(x)|성장률(y)|복용량(x)|\n",
    "|17.1|0.301|18.5|0.301|\n",
    "|14.3|0.301|22.1|0.301|\n",
    "|21.6|0.301|15.3|0.301|\n",
    "|24.5|0.602|23.6|0.602|\n",
    "|20.6|0.602|26.9|0.602|\n",
    "|23.8|0.602|20.2|0.602|\n",
    "|27.7|0.903|24.3|0.903|\n",
    "|31.0|0.903|27.1|0.903|\n",
    "|29.4|0.903|30.1|0.903|\n",
    "|30.1|1.204|28.1|0.903|\n",
    "|28.6|1.204|30.3|1.204|\n",
    "|34.2|1.204|33.0|1.204|\n",
    "|37.3|1.204|35.8|1.204|\n",
    "|33.3|1.505|32.6|1.505|\n",
    "|31.8|1.505|36.1|1.505|\n",
    "|40.2|1.505|30.5|1.505|\n"
   ]
  },
  {
   "cell_type": "markdown",
   "id": "ca0bcc18-cdcb-46d0-b276-d07e1ea52fb2",
   "metadata": {},
   "source": [
    "### 1) 주어진 자료에 $y=\\beta_0 +\\beta_1x + \\epsilon$ 이 성립한다고 가정하고 남녀 어린이 각각의 경우에 회귀선을 추정하여라."
   ]
  },
  {
   "cell_type": "markdown",
   "id": "5b194c40-8dd5-4f31-a047-a2331642ca6d",
   "metadata": {},
   "source": [
    "남자 어린이의 경우"
   ]
  },
  {
   "cell_type": "code",
   "execution_count": 15,
   "id": "aeaedeb5-3b84-4bf0-8f73-51ff0c118368",
   "metadata": {},
   "outputs": [
    {
     "data": {
      "text/html": [
       "<style>\n",
       ".dl-inline {width: auto; margin:0; padding: 0}\n",
       ".dl-inline>dt, .dl-inline>dd {float: none; width: auto; display: inline-block}\n",
       ".dl-inline>dt::after {content: \":\\0020\"; padding-right: .5ex}\n",
       ".dl-inline>dt:not(:first-of-type) {padding-left: .5ex}\n",
       "</style><dl class=dl-inline><dt>(Intercept)</dt><dd>14.1775757575758</dd><dt>eatboy</dt><dd>14.8253297090506</dd></dl>\n"
      ],
      "text/latex": [
       "\\begin{description*}\n",
       "\\item[(Intercept)] 14.1775757575758\n",
       "\\item[eatboy] 14.8253297090506\n",
       "\\end{description*}\n"
      ],
      "text/markdown": [
       "(Intercept)\n",
       ":   14.1775757575758eatboy\n",
       ":   14.8253297090506\n",
       "\n"
      ],
      "text/plain": [
       "(Intercept)      eatboy \n",
       "   14.17758    14.82533 "
      ]
     },
     "metadata": {},
     "output_type": "display_data"
    }
   ],
   "source": [
    "eatboy <- c(0.301,0.301,0.301,0.602,0.602,0.602,0.903,0.903,0.903,1.204,1.204,1.204,1.204,1.505,1.505,1.505)\n",
    "growboy <- c(17.1,14.3,21.6,24.5,20.6,23.8,27.7,31.0,29.4,30.1,28.6,34.2,37.3,33.3,31.8,40.2)\n",
    "lmboy <- lm(growboy~eatboy)\n",
    "coef(lmboy)"
   ]
  },
  {
   "cell_type": "markdown",
   "id": "a28c7eb7-134a-4960-8362-ddf80a45bda9",
   "metadata": {},
   "source": [
    "> 남자어린이의 추정된 회귀선은 $y = 14.1775757575758 + 14.8253297090506x $ 이다."
   ]
  },
  {
   "cell_type": "markdown",
   "id": "bf2319b9-31e4-43f6-8988-8aa96c537d48",
   "metadata": {},
   "source": [
    "여자 어린이의 경우"
   ]
  },
  {
   "cell_type": "code",
   "execution_count": 16,
   "id": "7e7ab606-51cb-4bde-a7bc-78277c4dd2de",
   "metadata": {},
   "outputs": [
    {
     "data": {
      "text/html": [
       "<style>\n",
       ".dl-inline {width: auto; margin:0; padding: 0}\n",
       ".dl-inline>dt, .dl-inline>dd {float: none; width: auto; display: inline-block}\n",
       ".dl-inline>dt::after {content: \":\\0020\"; padding-right: .5ex}\n",
       ".dl-inline>dt:not(:first-of-type) {padding-left: .5ex}\n",
       "</style><dl class=dl-inline><dt>(Intercept)</dt><dd>15.65625</dd><dt>eatgirl</dt><dd>12.7353266888151</dd></dl>\n"
      ],
      "text/latex": [
       "\\begin{description*}\n",
       "\\item[(Intercept)] 15.65625\n",
       "\\item[eatgirl] 12.7353266888151\n",
       "\\end{description*}\n"
      ],
      "text/markdown": [
       "(Intercept)\n",
       ":   15.65625eatgirl\n",
       ":   12.7353266888151\n",
       "\n"
      ],
      "text/plain": [
       "(Intercept)     eatgirl \n",
       "   15.65625    12.73533 "
      ]
     },
     "metadata": {},
     "output_type": "display_data"
    }
   ],
   "source": [
    "eatgirl <- c(0.301,0.301,0.301,0.602,0.602,0.602,0.903,0.903,0.903,0.903,1.204,1.204,1.204,1.505,1.505,1.505)\n",
    "growgirl <- c(18.5, 22.1,15.3 ,23.6 ,26.9 ,20.2 ,24.3 ,27.1 ,30.1 ,28.1 ,30.3 , 33.0,35.8 ,32.6 ,36.1 ,30.5)\n",
    "lmgirl <- lm(growgirl~eatgirl)\n",
    "coef(lmgirl)"
   ]
  },
  {
   "cell_type": "markdown",
   "id": "c2c27efd-1fe1-450f-a118-6178cfcda34e",
   "metadata": {},
   "source": [
    "> 여자어린이의 추정된 회귀선은 $y = 15.65625 +12.7353266888151x $ 이다."
   ]
  },
  {
   "cell_type": "markdown",
   "id": "3ac0ec1e-c1e5-417c-b0ea-240e20c13b4f",
   "metadata": {},
   "source": [
    "### 2) 두 개의 추정된 회귀선을 같은 평면상에 나타내어 비교해 보라."
   ]
  },
  {
   "cell_type": "code",
   "execution_count": 17,
   "id": "6dffc446-4c7d-4441-b108-c632fcf6ad3f",
   "metadata": {},
   "outputs": [
    {
     "data": {
      "image/png": "[encoded data removed]",
      "text/plain": [
       "plot without title"
      ]
     },
     "metadata": {
      "image/png": {
       "height": 420,
       "width": 420
      }
     },
     "output_type": "display_data"
    }
   ],
   "source": [
    "plot(growboy~eatboy,col=\"red\")\n",
    "abline(lmboy,col='red')\n",
    "par(new = T)\n",
    "plot(growgirl~eatgirl,col='blue')\n",
    "abline(lmgirl,col='blue')"
   ]
  },
  {
   "cell_type": "markdown",
   "id": "e6127445-2a9c-41c3-a41f-44ee9d4991bc",
   "metadata": {},
   "source": [
    "### 3) 두 회귀직선의 기울기가 같은지 검정하여라. $\\alpha = 0.05 $"
   ]
  },
  {
   "cell_type": "code",
   "execution_count": 18,
   "id": "968db485-33fe-4bf6-a904-0dc0262a474a",
   "metadata": {},
   "outputs": [
    {
     "data": {
      "text/html": [
       "0.432356448008467"
      ],
      "text/latex": [
       "0.432356448008467"
      ],
      "text/markdown": [
       "0.432356448008467"
      ],
      "text/plain": [
       "[1] 0.4323564"
      ]
     },
     "metadata": {},
     "output_type": "display_data"
    }
   ],
   "source": [
    "boycoef <- summary(lmboy)$coefficients\n",
    "girlcoef <- summary(lmgirl)$coefficients\n",
    "db <- (girlcoef[2,1]-boycoef[2,1]) #두 기울기의 차이\n",
    "sd <- sqrt(girlcoef[2,2]^2+boycoef[2,2]^2) #두 기울기의 분산 합\n",
    "df <- (lmboy$df.residual+lmgirl$df.residual) #자유도\n",
    "td <- (abs(db/sd)) #t 통계량\n",
    "2*pt(-td,df) #유의확률"
   ]
  },
  {
   "cell_type": "markdown",
   "id": "f9218bf0-07d1-4aa9-aa34-b3f62b34dbbb",
   "metadata": {},
   "source": [
    "> 기울기의 검정 $H_0 : \\beta_{1boy} = \\beta_{1girl}$ 에 대한 유의확률이 0.43 이므로 영가설을 기각할 수 없다. 동일한 기울기로 볼 수있다."
   ]
  },
  {
   "cell_type": "markdown",
   "id": "4caef146-3022-4c55-81b5-ba5bbae5fd93",
   "metadata": {},
   "source": [
    "### 4) 두 회귀직선의 동일성 여부를 검정하여라. $\\alpha = 0.05 $"
   ]
  },
  {
   "cell_type": "code",
   "execution_count": 23,
   "id": "6c40e1a4-d130-4698-8e4c-4859b4364cd0",
   "metadata": {},
   "outputs": [
    {
     "data": {
      "text/html": [
       "<table class=\"dataframe\">\n",
       "<caption>A anova: 2 × 5</caption>\n",
       "<thead>\n",
       "\t<tr><th></th><th scope=col>Df</th><th scope=col>Sum Sq</th><th scope=col>Mean Sq</th><th scope=col>F value</th><th scope=col>Pr(&gt;F)</th></tr>\n",
       "\t<tr><th></th><th scope=col>&lt;int&gt;</th><th scope=col>&lt;dbl&gt;</th><th scope=col>&lt;dbl&gt;</th><th scope=col>&lt;dbl&gt;</th><th scope=col>&lt;dbl&gt;</th></tr>\n",
       "</thead>\n",
       "<tbody>\n",
       "\t<tr><th scope=row>eatboy</th><td> 1</td><td>616.0656</td><td>616.06556</td><td>58.36567</td><td>2.331699e-06</td></tr>\n",
       "\t<tr><th scope=row>Residuals</th><td>14</td><td>147.7738</td><td> 10.55527</td><td>      NA</td><td>          NA</td></tr>\n",
       "</tbody>\n",
       "</table>\n"
      ],
      "text/latex": [
       "A anova: 2 × 5\n",
       "\\begin{tabular}{r|lllll}\n",
       "  & Df & Sum Sq & Mean Sq & F value & Pr(>F)\\\\\n",
       "  & <int> & <dbl> & <dbl> & <dbl> & <dbl>\\\\\n",
       "\\hline\n",
       "\teatboy &  1 & 616.0656 & 616.06556 & 58.36567 & 2.331699e-06\\\\\n",
       "\tResiduals & 14 & 147.7738 &  10.55527 &       NA &           NA\\\\\n",
       "\\end{tabular}\n"
      ],
      "text/markdown": [
       "\n",
       "A anova: 2 × 5\n",
       "\n",
       "| <!--/--> | Df &lt;int&gt; | Sum Sq &lt;dbl&gt; | Mean Sq &lt;dbl&gt; | F value &lt;dbl&gt; | Pr(&gt;F) &lt;dbl&gt; |\n",
       "|---|---|---|---|---|---|\n",
       "| eatboy |  1 | 616.0656 | 616.06556 | 58.36567 | 2.331699e-06 |\n",
       "| Residuals | 14 | 147.7738 |  10.55527 |       NA |           NA |\n",
       "\n"
      ],
      "text/plain": [
       "          Df Sum Sq   Mean Sq   F value  Pr(>F)      \n",
       "eatboy     1 616.0656 616.06556 58.36567 2.331699e-06\n",
       "Residuals 14 147.7738  10.55527       NA           NA"
      ]
     },
     "metadata": {},
     "output_type": "display_data"
    },
    {
     "data": {
      "text/html": [
       "<table class=\"dataframe\">\n",
       "<caption>A anova: 2 × 5</caption>\n",
       "<thead>\n",
       "\t<tr><th></th><th scope=col>Df</th><th scope=col>Sum Sq</th><th scope=col>Mean Sq</th><th scope=col>F value</th><th scope=col>Pr(&gt;F)</th></tr>\n",
       "\t<tr><th></th><th scope=col>&lt;int&gt;</th><th scope=col>&lt;dbl&gt;</th><th scope=col>&lt;dbl&gt;</th><th scope=col>&lt;dbl&gt;</th><th scope=col>&lt;dbl&gt;</th></tr>\n",
       "</thead>\n",
       "<tbody>\n",
       "\t<tr><th scope=row>eatgirl</th><td> 1</td><td>440.8333</td><td>440.83333</td><td>52.03501</td><td>4.469824e-06</td></tr>\n",
       "\t<tr><th scope=row>Residuals</th><td>14</td><td>118.6060</td><td>  8.47186</td><td>      NA</td><td>          NA</td></tr>\n",
       "</tbody>\n",
       "</table>\n"
      ],
      "text/latex": [
       "A anova: 2 × 5\n",
       "\\begin{tabular}{r|lllll}\n",
       "  & Df & Sum Sq & Mean Sq & F value & Pr(>F)\\\\\n",
       "  & <int> & <dbl> & <dbl> & <dbl> & <dbl>\\\\\n",
       "\\hline\n",
       "\teatgirl &  1 & 440.8333 & 440.83333 & 52.03501 & 4.469824e-06\\\\\n",
       "\tResiduals & 14 & 118.6060 &   8.47186 &       NA &           NA\\\\\n",
       "\\end{tabular}\n"
      ],
      "text/markdown": [
       "\n",
       "A anova: 2 × 5\n",
       "\n",
       "| <!--/--> | Df &lt;int&gt; | Sum Sq &lt;dbl&gt; | Mean Sq &lt;dbl&gt; | F value &lt;dbl&gt; | Pr(&gt;F) &lt;dbl&gt; |\n",
       "|---|---|---|---|---|---|\n",
       "| eatgirl |  1 | 440.8333 | 440.83333 | 52.03501 | 4.469824e-06 |\n",
       "| Residuals | 14 | 118.6060 |   8.47186 |       NA |           NA |\n",
       "\n"
      ],
      "text/plain": [
       "          Df Sum Sq   Mean Sq   F value  Pr(>F)      \n",
       "eatgirl    1 440.8333 440.83333 52.03501 4.469824e-06\n",
       "Residuals 14 118.6060   8.47186       NA           NA"
      ]
     },
     "metadata": {},
     "output_type": "display_data"
    }
   ],
   "source": [
    "anova(lmboy)\n",
    "anova(lmgirl)"
   ]
  },
  {
   "cell_type": "markdown",
   "id": "21147362-d3cc-49af-9c4e-041d6d78aceb",
   "metadata": {},
   "source": [
    "분산분석표에서 완전모형의 잔차제곱합"
   ]
  },
  {
   "cell_type": "markdown",
   "id": "adf3e0ad-9989-497f-87af-4af7bc776073",
   "metadata": {},
   "source": [
    "$SSE(F) = SSE_1 + SSE_2 = 147.7738 + 118.6060 = 266.3798$"
   ]
  },
  {
   "cell_type": "markdown",
   "id": "3e9e1d46-b6a5-479b-a708-de4ed32bf12a",
   "metadata": {},
   "source": [
    "자유도 : $df_F = 14 + 14 =28 $"
   ]
  },
  {
   "cell_type": "code",
   "execution_count": 33,
   "id": "e9d85df5-1841-479c-9575-82efccb70d05",
   "metadata": {},
   "outputs": [
    {
     "data": {
      "text/html": [
       "47.8825170071177"
      ],
      "text/latex": [
       "47.8825170071177"
      ],
      "text/markdown": [
       "47.8825170071177"
      ],
      "text/plain": [
       "[1] 47.88252"
      ]
     },
     "metadata": {},
     "output_type": "display_data"
    }
   ],
   "source": [
    "eatbar <- (1/(length(eatboy)*2))*(sum(eatboy)+sum(eatgirl))\n",
    "growbar <- (1/(length(eatboy)*2))*(sum(growboy)+sum(growgirl))\n",
    "sum((eatboy-eatbar)*(growboy-growbar))+sum((eatgirl-eatbar)*(growgirl-growbar))/(sum((eatboy-eatbar)^2)+(sum((eatgirl-eatbar)^2))) #b1(기울기)"
   ]
  },
  {
   "cell_type": "code",
   "execution_count": 34,
   "id": "9b3114a7-35eb-4e95-a90f-c07c9cecded9",
   "metadata": {},
   "outputs": [
    {
     "data": {
      "text/html": [
       "-16.1883077830255"
      ],
      "text/latex": [
       "-16.1883077830255"
      ],
      "text/markdown": [
       "-16.1883077830255"
      ],
      "text/plain": [
       "[1] -16.18831"
      ]
     },
     "metadata": {},
     "output_type": "display_data"
    }
   ],
   "source": [
    "growbar-47.8825170071177*eatbar #b0 (절편)"
   ]
  },
  {
   "cell_type": "code",
   "execution_count": 35,
   "id": "49b1e0c7-ab3c-4e4b-894b-d05be2099d1d",
   "metadata": {},
   "outputs": [],
   "source": [
    "# yhat = -16.1883077830255 + 47.8825170071177*xij"
   ]
  },
  {
   "cell_type": "markdown",
   "id": "0e34ab58-edd8-41da-a983-8f3031357413",
   "metadata": {},
   "source": [
    "> "
   ]
  },
  {
   "cell_type": "markdown",
   "id": "5545c8fa-b167-43f5-9b22-86a85222798d",
   "metadata": {},
   "source": [
    "____________________"
   ]
  },
  {
   "cell_type": "markdown",
   "id": "1336e906-9501-48c7-be2e-2032a83b0912",
   "metadata": {},
   "source": [
    "# 6.7"
   ]
  },
  {
   "cell_type": "markdown",
   "id": "f653c9ae-919c-4656-a306-d5dbf9622121",
   "metadata": {},
   "source": [
    "단순 회귀 모형에서 회귀제곱합"
   ]
  },
  {
   "cell_type": "markdown",
   "id": "a99be361-2c09-4043-ab81-adbb98e64993",
   "metadata": {},
   "source": [
    "$SSR = y'[X(X'X)^{-1} - \\frac{J}{n}]y = \\sum_{}^{} (\\hat{y_i}-\\bar{y})^2$"
   ]
  },
  {
   "cell_type": "markdown",
   "id": "19d5ccdd-4d7a-465d-8710-3506b180a44e",
   "metadata": {},
   "source": [
    "의 기댓값을 [정리 6.4]를 이용하여 구하고 잔차제곱합"
   ]
  },
  {
   "cell_type": "markdown",
   "id": "33f0c5a4-7f04-41bd-baa0-377cad749cb4",
   "metadata": {},
   "source": [
    "$ SSE = \\sum_{i=1}^{n} (y_i - \\hat{y_1})^2 $ = $ y'[I-X(X'X)^{-1} X'] y $"
   ]
  },
  {
   "cell_type": "markdown",
   "id": "231af42d-02f5-4946-8989-e9fb5b2079a9",
   "metadata": {},
   "source": [
    "의 기댓값도 구하여 보아라"
   ]
  },
  {
   "cell_type": "markdown",
   "id": "946ec1ff-eb46-4cd7-a943-cdef524306b5",
   "metadata": {},
   "source": [
    "`-` [정리 6.4] : 만약 벡터 $y \\sim N(\\mu,V)$ 이면 ($V$는 분산공분산행렬)\n",
    "> 1) $E(y'Ay) = tr(AV) + \\mu'A\\mu $ (이것은 y가 정규분포가 아닐 때도 성립)\n",
    "\n",
    "> 2) $Cov(y,y'Ay) = 2VA\\mu$"
   ]
  },
  {
   "cell_type": "markdown",
   "id": "1a00978f-6946-41fa-b9b7-69f3d7407198",
   "metadata": {},
   "source": [
    "1)"
   ]
  },
  {
   "cell_type": "markdown",
   "id": "895cdb5b-198f-43d8-acec-6231db43c9e3",
   "metadata": {},
   "source": [
    "$E(SSR) = E(y'Ay)    \\to$ A = $ [X(X'X)^{-1} - \\frac{J}{n}] $"
   ]
  },
  {
   "cell_type": "markdown",
   "id": "0e1ca092-1d2a-4535-a74b-c86b389cf3eb",
   "metadata": {},
   "source": [
    "$ V = I\\sigma^2 $ 이므로"
   ]
  },
  {
   "cell_type": "markdown",
   "id": "d633d31b-4b27-42b7-8ac1-19950d8d0b10",
   "metadata": {},
   "source": [
    "$E(SSR) = \\sigma^2 tr(A) +\\mu'A\\mu $ \n",
    "\n",
    "=  $\\sigma^2 + {\\beta_1}^2 \\sum{}^{} (x_i - \\bar{x})^2 $  이다."
   ]
  },
  {
   "cell_type": "markdown",
   "id": "58798543-f4dd-4915-accb-1f75dd369a2b",
   "metadata": {},
   "source": [
    "2)"
   ]
  },
  {
   "cell_type": "markdown",
   "id": "c5004b5b-03a6-4349-aa49-3eb6f7508453",
   "metadata": {},
   "source": [
    "$E(SSE) = E(y'By)    \\to$ B = $ [I - X(X'X)^{-1}$"
   ]
  },
  {
   "cell_type": "markdown",
   "id": "a568f5d2-010d-44e9-ac73-11e87c11a8d9",
   "metadata": {},
   "source": [
    "$E(SSE) = \\sigma^2 tr(B) +\\mu'B\\mu $ \n",
    "\n",
    "=  $(n-2) \\sigma^2$  이다."
   ]
  },
  {
   "cell_type": "markdown",
   "id": "afb95b27-a872-48e3-8687-dd57398e29d5",
   "metadata": {},
   "source": [
    "_____"
   ]
  },
  {
   "cell_type": "markdown",
   "id": "607abbe7-9a1b-4359-81b8-0e38ff8fca47",
   "metadata": {},
   "source": [
    "# 6.10"
   ]
  },
  {
   "cell_type": "markdown",
   "id": "b5fc0b18-2438-4f20-a1fe-1efa09fd3880",
   "metadata": {},
   "source": [
    "단순회귀모형"
   ]
  },
  {
   "cell_type": "markdown",
   "id": "6732fa96-454c-4162-9015-ccbbc06715d9",
   "metadata": {},
   "source": [
    "$ y = \\beta_0 + \\beta_1 x + \\epsilon $ , $ \\epsilon \\sim N(0,\\sigma^2)$"
   ]
  },
  {
   "cell_type": "markdown",
   "id": "0cb1d2de-5db2-47b7-81ae-4f661d46a52b",
   "metadata": {},
   "source": [
    "에서 $H_0 : \\beta_1 = 0$ 이 성립하면 검정통계량"
   ]
  },
  {
   "cell_type": "markdown",
   "id": "91d305c6-5b37-4773-a5f7-5f042793333c",
   "metadata": {},
   "source": [
    "$F_0 = \\frac{MSR}{MSE}$"
   ]
  },
  {
   "cell_type": "markdown",
   "id": "51a76709-0cd0-47a0-8891-9941323e18f5",
   "metadata": {},
   "source": [
    "은 비중심모수 $\\lambda = 0$ 인 중심 $F(1,n-2)$ 분포가 됨을 보여라([정리 6.8]이용)"
   ]
  },
  {
   "cell_type": "markdown",
   "id": "7745cfb4-0f8e-48d1-a19d-66821710b21f",
   "metadata": {},
   "source": [
    "`-` [정리 6.8]\n",
    "> $y \\sim N(\\mu,I)$ 이면 $ y'Ay \\sim $ $\\chi^2 {'} $ $ (k,\\frac{1}{2} \\mu'A\\mu)$ 이 되기 위한 필요충분조건은 $A$가 계수 $k$인 멱등행렬이다."
   ]
  },
  {
   "cell_type": "markdown",
   "id": "9bbd4598-9563-4ad9-9779-93f38c9d8383",
   "metadata": {},
   "source": [
    "풀이"
   ]
  },
  {
   "cell_type": "markdown",
   "id": "0c862e76-9441-4c0d-987c-a56e17442164",
   "metadata": {},
   "source": [
    "$SSR = y'[X(X'X)^{-1} - \\frac{J}{n}]y $\n",
    "\n",
    "$ SSE =  y'[I-X(X'X)^{-1} X'] y $  에서\n",
    "\n",
    "$[X(X'X)^{-1} - \\frac{J}{n}]$ = A\n",
    "\n",
    "$[I-X(X'X)^{-1} X']$ = B 로 두고 $SSR,SSE$ 를 $\\sigma^2$ 으로 나누면"
   ]
  },
  {
   "cell_type": "markdown",
   "id": "93206bc5-2ec0-4b2b-9e67-192d1735a771",
   "metadata": {},
   "source": [
    "$\\frac{SSR}{\\sigma^2} = y'\\frac{A}{\\sigma^2}y $ 이고,\n",
    "\n",
    "$\\frac{SSE}{\\sigma^2} = y'\\frac{B}{\\sigma^2}y $ 이다.\n",
    "\n",
    "AVB = 0 이므로 바로 위 두식은 독립이다.\n",
    "\n",
    "F 통계량을 구해보면\n",
    "\n",
    "$ F = \\frac{MSR}{MSE} = \\frac{\\frac{SSR}{\\sigma^2}/1}{\\frac{SSE}{\\sigma^2}/(n-2)}  = F' $ 이다. (이때 $F' : (1,n-2;\\lambda)$)"
   ]
  },
  {
   "cell_type": "markdown",
   "id": "f8c72569-a676-4764-81e2-66b4927705c0",
   "metadata": {},
   "source": [
    "여기서 $\\lambda = {\\beta_1}^2 \\sum{}^{} (x_i-\\bar{x})^2 / 2\\sigma^2 $ 이다."
   ]
  },
  {
   "cell_type": "markdown",
   "id": "60133491-ca84-4d02-8ef6-7ee48760f199",
   "metadata": {},
   "source": [
    "이때 $\\beta_1 = 0$ 이면, $\\lambda = 0 $이므로\n",
    "\n",
    "\n",
    "$F_0 = \\frac{MSR}{MSE}$ 는 비중심모수 $\\lambda = 0$ 인 중심 $F(1,n-2)$ 분포가 된다."
   ]
  }
 ],
 "metadata": {
  "kernelspec": {
   "display_name": "R",
   "language": "R",
   "name": "ir"
  },
  "language_info": {
   "codemirror_mode": "r",
   "file_extension": ".r",
   "mimetype": "text/x-r-source",
   "name": "R",
   "pygments_lexer": "r",
   "version": "4.0.5"
  }
 },
 "nbformat": 4,
 "nbformat_minor": 5
}
