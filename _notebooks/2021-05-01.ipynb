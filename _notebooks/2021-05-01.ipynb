{
 "cells": [
  {
   "cell_type": "markdown",
   "id": "c2356853-0bfd-49e1-8354-4f879b6f8da7",
   "metadata": {},
   "source": [
    "# 모두의 데이터 분석\n",
    "> 1장\n",
    "- toc:true\n",
    "- branch: master\n",
    "- badges: true\n",
    "- comments: true\n",
    "- author: 김동준\n",
    "- categories : [\"Python\", \"모데분\"]"
   ]
  },
  {
   "cell_type": "markdown",
   "id": "08da37a5-1982-480b-948f-fe21b8bde4ca",
   "metadata": {},
   "source": [
    "## 1. 데이터 출력하기"
   ]
  },
  {
   "cell_type": "code",
   "execution_count": 4,
   "id": "45c2257f-ff37-4342-bdeb-1b625887f879",
   "metadata": {},
   "outputs": [
    {
     "name": "stdout",
     "output_type": "stream",
     "text": [
      "<_csv.reader object at 0x000001ECB44BC820>\n"
     ]
    }
   ],
   "source": [
    "import csv\n",
    "# csv 모듈을 불러온다.\n",
    "\n",
    "f = open('seoul.csv', 'r',encoding='cp949')\n",
    "# csv 파일을 open 함수로 열어서 f(aka파일핸들러)에 저장\n",
    "# r : 파일읽기모드 read , cp949 : Window 한글 인코딩 방식\n",
    "# 기본값임\n",
    "\n",
    "data = csv.reader(f, delimiter=',')\n",
    "# f를 reader() 함수에 넣어  data라는 csv reader객체를 생성\n",
    "# CSV 파일 데이터를 콤마 \",\" 를 기준으로 분리해서 저장\n",
    "\n",
    "print(data)\n",
    "# 데이터 출력\n",
    "\n",
    "f.close()\n",
    "# open으로 연 파일 닫기"
   ]
  },
  {
   "cell_type": "markdown",
   "id": "737bb3bf-0fe3-4565-b5e0-cc804533216e",
   "metadata": {},
   "source": [
    "### 데이터 확인\n",
    "f = open('seoul.csv')\n",
    "data = csv.reader(f)\n",
    "for row in data :\n",
    "    print(row)\n",
    "f.close()"
   ]
  },
  {
   "cell_type": "markdown",
   "id": "3ba318ff-f2bc-4e6c-8e84-2a17dd3b83c2",
   "metadata": {},
   "source": [
    "#### csv 데이터 해석\n",
    "`1` 각 행의 데이터가 대괄호 [] 로 둘러싸여 있다.\n",
    "$\\to$ 리스트 형태이다.\n",
    "\n",
    "`2` 각 행의 데이터가 ''로 표시되어있다.\n",
    "$\\to$ 각 행의 데이터가 문자열 데이터 str 이다. (크기 비교를 하려면 int형으로 바꾸어야한다.)\n",
    "\n",
    "`3` 기온 데이터가 일부 누락되었다.\n",
    "$\\to$ 6.25 전쟁 기간이 포함되어서 그 때의 데이터는 누락되었다."
   ]
  },
  {
   "cell_type": "markdown",
   "id": "4e6350e6-3a45-47ab-a0ce-88bb24163336",
   "metadata": {},
   "source": [
    "## 3. 헤더 저장하기"
   ]
  },
  {
   "cell_type": "markdown",
   "id": "bfb822e2-ae7f-4d97-9496-1ab900cd3465",
   "metadata": {},
   "source": [
    "### 헤더(header)\n",
    "`-` 데이터 파일에서 여러가지 값들이 어떤 의미를 갖는지 표시한 행\n",
    "\n",
    "`-` 헤더를 별도로 저장하려면 next() 함수를 사용"
   ]
  },
  {
   "cell_type": "code",
   "execution_count": 5,
   "id": "73a4066d-745f-4ec2-a435-f546d68c15df",
   "metadata": {},
   "outputs": [
    {
     "name": "stdout",
     "output_type": "stream",
     "text": [
      "['날짜', '지점', '평균기온(℃)', '최저기온(℃)', '최고기온(℃)']\n"
     ]
    }
   ],
   "source": [
    "f = open('seoul.csv')\n",
    "data = csv.reader(f)\n",
    "header = next(data)\n",
    "print(header)\n",
    "f.close()"
   ]
  },
  {
   "cell_type": "markdown",
   "id": "26a2c100-f791-42a1-bd97-c71bb02ec2f5",
   "metadata": {
    "jp-MarkdownHeadingCollapsed": true,
    "tags": []
   },
   "source": [
    "### 데이터 확인 2 (헤더가 안보인다.)\n",
    "f = open('seoul.csv')\n",
    "data = csv.reader(f)\n",
    "header = next(data)\n",
    "for row in data :\n",
    "    print(row)\n",
    "f.close()"
   ]
  },
  {
   "cell_type": "markdown",
   "id": "7485e752-c430-4b58-83d4-93047ebe5ad2",
   "metadata": {},
   "source": [
    "## 4. 기온 공공 데이터에 질문하기"
   ]
  },
  {
   "cell_type": "markdown",
   "id": "1fb21bc5-1b3a-4b01-ba35-6295f6117c9d",
   "metadata": {},
   "source": [
    "`-` 데이터 분석은 내가 관심 있는 데이터에 대한 호기심에서 출발한다.\n",
    "\n",
    "`-` 나와 직접적으로 관련이 있는 매력적인 데이터를 살펴보면 궁금증이 생긴다."
   ]
  },
  {
   "cell_type": "markdown",
   "id": "8c65af14-df5e-4223-9645-ee1b90612c25",
   "metadata": {},
   "source": [
    "## 5. 질문 다듬기\n",
    "\n",
    "`-` 정확한 카테고리가 있는 질문으로 바꾼다."
   ]
  },
  {
   "cell_type": "markdown",
   "id": "ed8c0d01-91dc-4682-b06c-e4f559368cfb",
   "metadata": {},
   "source": [
    "## 6. 문제 해결 방법 구상하기\n",
    "\n",
    "`-` 기상 관측 이래, 서울의 최고 기온이 가장 높았던 날은 언제였고, 몇 도 였을까?\n",
    "\n",
    "`1` 데이터를 불러온다.\n",
    "\n",
    "`2` 순차적으로 최고 기온을 확인한다.\n",
    "\n",
    "`3` 최고 기온이 가장 높았던 날짜의 데이터를 저장한다.\n",
    "\n",
    "`4` 최종 저장된 데이터를 출력한다."
   ]
  },
  {
   "cell_type": "markdown",
   "id": "ac0a371c-00d3-44be-9a4f-0a4501dd795e",
   "metadata": {},
   "source": [
    "## 7. 파이썬 코드로 구현하기"
   ]
  },
  {
   "cell_type": "markdown",
   "id": "31af47a6-d406-4221-9f7c-5c7c5e012acd",
   "metadata": {
    "jp-MarkdownHeadingCollapsed": true,
    "tags": []
   },
   "source": [
    "#hide\n",
    "# 문자열 데이터를 실수 타입으로 변경\n",
    "f = open('seoul.csv')\n",
    "data = csv.reader(f)\n",
    "header = next(data)\n",
    "for row in data :\n",
    "    row[-1] = float(row[-1])\n",
    "    print(row)\n",
    "f.close()"
   ]
  },
  {
   "cell_type": "markdown",
   "id": "7b376af5-b24a-4390-9bdb-5db3e210554a",
   "metadata": {},
   "source": [
    "$\\to$ 오류 나옴\n",
    "\n",
    "`-` 최고 기온에 작은 따옴표가 사라진 것을 확인할 수 있다.\n",
    "\n",
    "`-` 기온 데이터가 누락되었기 때문\n",
    "\n",
    "$\\to$ 아주 작은 값을 넣어 이 데이터는 빈 자리 였다는 것을 표시"
   ]
  },
  {
   "cell_type": "markdown",
   "id": "9a03f7dc-8da0-4b33-a736-dfc2acddd8c3",
   "metadata": {},
   "source": [
    "f = open('seoul.csv')\n",
    "data = csv.reader(f)\n",
    "header = next(data)\n",
    "for row in data :\n",
    "    if row[-1] == '' :\n",
    "        row[-1] = -999\n",
    "    row[-1] = float(row[-1])\n",
    "    print(row)\n",
    "f.close()"
   ]
  },
  {
   "cell_type": "markdown",
   "id": "b23c16dc-cf60-40a4-97c1-bf44e584fc1b",
   "metadata": {
    "tags": []
   },
   "source": [
    "# 서울의 기온이 가장 높았던 날의 날짜와 기온 구하기"
   ]
  },
  {
   "cell_type": "markdown",
   "id": "450c83c9-6b48-4c54-84f0-795dea0cd714",
   "metadata": {},
   "source": [
    "`-` 만약 지금까지의 최고 기온 값보다 현재 행(row)의 최고 기온 값이 더 크다면\n",
    "\n",
    " 최고 기온 날짜 업데이트\n",
    " \n",
    " 최고 기온 값 업데이트\n",
    " \n",
    " \n",
    " if max_temp < row[-1] : \n",
    " max_date = row[0]\n",
    " max_temp = row[-1]"
   ]
  },
  {
   "cell_type": "markdown",
   "id": "84ecf9c1-ed5d-4106-a3e0-a5442b6b5440",
   "metadata": {},
   "source": [
    "f = open('seoul.csv')\n",
    "data = csv.reader(f)\n",
    "header = next(data)\n",
    "max_temp = -999 # 30 으로 해도 무방\n",
    "max_date = ''   #날짜는 작은따옴표 로 둘러싸인 문자열 값이라서 빈 문자열로 초깃값을 설정\n",
    "for row in data :\n",
    "    if row[-1] == '' :\n",
    "        row[-1] = -999\n",
    "    row[-1] = float(row[-1])\n",
    "    if max_temp < row[-1] :\n",
    "        max_date = row[0]\n",
    "        max_temp = row[-1]\n",
    "    print(row)\n",
    "f.close()\n",
    "print('기상 관측 이래 서울의 최고 기온이 가장 높았던 날은' , max_date + '로,', max_temp,'도 였습니다.')"
   ]
  },
  {
   "cell_type": "code",
   "execution_count": null,
   "id": "127b94fb-3d26-4e42-a711-0e27a03d4cb1",
   "metadata": {},
   "outputs": [],
   "source": []
  }
 ],
 "metadata": {
  "kernelspec": {
   "display_name": "Python 3 (ipykernel)",
   "language": "python",
   "name": "python3"
  },
  "language_info": {
   "codemirror_mode": {
    "name": "ipython",
    "version": 3
   },
   "file_extension": ".py",
   "mimetype": "text/x-python",
   "name": "python",
   "nbconvert_exporter": "python",
   "pygments_lexer": "ipython3",
   "version": "3.9.7"
  }
 },
 "nbformat": 4,
 "nbformat_minor": 5
}
