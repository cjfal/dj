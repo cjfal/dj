{
 "cells": [
  {
   "cell_type": "markdown",
   "id": "d54758dd-6b80-496a-9b69-d98a30a8d31a",
   "metadata": {},
   "source": [
    "# 혼공머 07-1\n",
    "> 인공 신경망\n",
    "\n",
    "- toc:true\n",
    "- branch: master\n",
    "- badges: true\n",
    "- comments: true\n",
    "- author: 김동준\n",
    "- categories : [\"Python\", \"혼공머\"]"
   ]
  },
  {
   "cell_type": "markdown",
   "id": "37f83217-252f-4a51-b2cf-dc3bc0b784c2",
   "metadata": {},
   "source": [
    "# 주로쓰는 패키지들"
   ]
  },
  {
   "cell_type": "code",
   "execution_count": 17,
   "id": "d5cde12d-614f-4c0e-bb96-8e16d23c521f",
   "metadata": {},
   "outputs": [],
   "source": [
    "#collapse\n",
    "import numpy as np #넘파이\n",
    "import pandas as pd #판다스\n",
    "from plotnine import *  #플롯나인\n",
    "import matplotlib.pyplot as plt #맷플랏립\n",
    "import plotly.express as px #플랏리 상호작용 그래프\n",
    "from IPython.display import HTML #블로그에 html로 올리려고 변환하는 패키지\n",
    "import seaborn as sns # 씨본, 히스토그램 깔끔하게 그리는 패키지\n",
    "#___________________________________\n",
    "\n",
    "from sklearn.neighbors import KNeighborsClassifier # k 최근접이웃\n",
    "from sklearn.model_selection import train_test_split\n",
    "from sklearn.neighbors import KNeighborsRegressor  # 결정계수 \n",
    "from sklearn.metrics import mean_absolute_error # 타깃과 예측의 절댓값 오차 평균을 반환\n",
    "from sklearn.linear_model import LinearRegression # 선형 회귀\n",
    "from sklearn.preprocessing import PolynomialFeatures #다중회귀로의 변환기\n",
    "from sklearn.preprocessing import StandardScaler #규제\n",
    "from sklearn.linear_model import Ridge #릿지\n",
    "from sklearn.linear_model import Lasso #라쏘\n",
    "from sklearn.linear_model import LogisticRegression # 로지스틱회귀\n",
    "from scipy.special import expit #시그모이드함수\n",
    "from scipy.special import softmax #소프트맥스함수\n",
    "from sklearn.linear_model import SGDClassifier # 확률적 경사 하강법\n",
    "from sklearn.tree import DecisionTreeClassifier # 트리\n",
    "from sklearn.tree import plot_tree # 트리 모형\n",
    "from sklearn.model_selection import cross_validate # 교차 검증\n",
    "from sklearn.model_selection import StratifiedKFold # Kfold 교차 검증\n",
    "from sklearn.model_selection import GridSearchCV # 그리드 서치 (하이퍼 파라미터 튜닝)\n",
    "from scipy.stats import uniform, randint #랜덤 서치\n",
    "from sklearn.model_selection import RandomizedSearchCV # 랜덤 서치 클래스\n",
    "from sklearn.ensemble import RandomForestClassifier # 랜덤포레스트 앙상블\n",
    "from sklearn.ensemble import ExtraTreesClassifier # 엑스트라 트리 앙상블\n",
    "from sklearn.ensemble import GradientBoostingClassifier # 그레이디언트 부스팅 앙상블\n",
    "\n",
    "# 히스토그램 기반 그레이디언트 부스팅\n",
    "from sklearn.experimental import enable_hist_gradient_boosting\n",
    "from sklearn.ensemble import HistGradientBoostingClassifier\n",
    "from sklearn.inspection import permutation_importance # 특성중요도\n",
    "from xgboost import XGBClassifier # 알고리즘을 구현한 또다른 라이브러리1\n",
    "from lightgbm import LGBMClassifier # 알고리즘을 구현한 또다른 라이브러리2 , 마이크로소프트에서 구현 \n",
    "\n",
    "\n",
    "# ____________________\n",
    "from sklearn.cluster import KMeans # KMeans\n",
    "from sklearn.decomposition import PCA # 주성분 분석\n",
    "\n",
    "# 7장 딥러닝\n",
    "from tensorflow import keras # 케라스 \n",
    "import tensorflow as tf # 텐서플로"
   ]
  },
  {
   "cell_type": "markdown",
   "id": "df066154-7d05-44c3-8979-bdd4fa8afce4",
   "metadata": {},
   "source": [
    "# 패션 MNIST\n",
    "\n",
    "> 많이 연습하는 데이터셋 ,  손으로 쓴 0~9 까지의 숫자로 구성된 원래 데이터를 숫자대신 패션아이템으로 구성"
   ]
  },
  {
   "cell_type": "code",
   "execution_count": 5,
   "id": "480eb611-070b-435d-98cc-beeb335b13eb",
   "metadata": {},
   "outputs": [
    {
     "name": "stdout",
     "output_type": "stream",
     "text": [
      "Downloading data from https://storage.googleapis.com/tensorflow/tf-keras-datasets/train-labels-idx1-ubyte.gz\n",
      "32768/29515 [=================================] - 0s 0us/step\n",
      "40960/29515 [=========================================] - 0s 0us/step\n",
      "Downloading data from https://storage.googleapis.com/tensorflow/tf-keras-datasets/train-images-idx3-ubyte.gz\n",
      "26427392/26421880 [==============================] - 2s 0us/step\n",
      "26435584/26421880 [==============================] - 2s 0us/step\n",
      "Downloading data from https://storage.googleapis.com/tensorflow/tf-keras-datasets/t10k-labels-idx1-ubyte.gz\n",
      "16384/5148 [===============================================================================================] - 0s 0us/step\n",
      "Downloading data from https://storage.googleapis.com/tensorflow/tf-keras-datasets/t10k-images-idx3-ubyte.gz\n",
      "4423680/4422102 [==============================] - 0s 0us/step\n",
      "4431872/4422102 [==============================] - 0s 0us/step\n"
     ]
    }
   ],
   "source": [
    "# MNIST 데이터 다운로드\n",
    "(train_input, train_target), (test_input, test_target) = keras.datasets.fashion_mnist.load_data()"
   ]
  },
  {
   "cell_type": "markdown",
   "id": "a69c7af2-2c15-4cc4-851c-a3d12a92780a",
   "metadata": {},
   "source": [
    "> load_data() 로 훈련데이터와 테스트데이터를 자동으로 분류"
   ]
  },
  {
   "cell_type": "code",
   "execution_count": 6,
   "id": "33c63c8a-0056-42e0-9c54-2fb8c43e9190",
   "metadata": {},
   "outputs": [
    {
     "name": "stdout",
     "output_type": "stream",
     "text": [
      "(60000, 28, 28) (60000,)\n"
     ]
    }
   ],
   "source": [
    "# 전달받은 데이터의 크기를 확인\n",
    "print(train_input.shape, train_target.shape)"
   ]
  },
  {
   "cell_type": "markdown",
   "id": "71045642-9d0c-4783-a92f-5e4405fe69ed",
   "metadata": {},
   "source": [
    "> 훈련데이터: 60000개의 이미지와 각 이미지는 28 x 28 크기\n",
    "\n",
    "> 타깃데이터: 60000개의 원소가 있는 1차원 배열"
   ]
  },
  {
   "cell_type": "code",
   "execution_count": 7,
   "id": "080f5d44-18cb-4f38-96fd-ebfae750e00d",
   "metadata": {},
   "outputs": [
    {
     "name": "stdout",
     "output_type": "stream",
     "text": [
      "(10000, 28, 28) (10000,)\n"
     ]
    }
   ],
   "source": [
    "# 테스트 세트의 크기\n",
    "print(test_input.shape, test_target.shape)"
   ]
  },
  {
   "cell_type": "code",
   "execution_count": 8,
   "id": "7ec22494-189e-4c6c-80e3-d3f7dbc0b86b",
   "metadata": {},
   "outputs": [
    {
     "data": {
      "image/png": "[encoded data removed]",
      "text/plain": [
       "<Figure size 720x720 with 10 Axes>"
      ]
     },
     "metadata": {
      "needs_background": "light"
     },
     "output_type": "display_data"
    }
   ],
   "source": [
    "# 몇개의 샘플 사진 출력\n",
    "import matplotlib.pyplot as plt\n",
    "\n",
    "fig, axs = plt.subplots(1, 10, figsize=(10,10))\n",
    "for i in range(10):\n",
    "    axs[i].imshow(train_input[i], cmap='gray_r')\n",
    "    axs[i].axis('off')\n",
    "plt.show()"
   ]
  },
  {
   "cell_type": "markdown",
   "id": "28444b96-4cbd-4f4b-9f92-b861d239d3e2",
   "metadata": {},
   "source": [
    "> 28x28이라서 꽤 작고 흐릿"
   ]
  },
  {
   "cell_type": "code",
   "execution_count": 9,
   "id": "b63e8c22-d061-4d39-8ede-bf2271ab1323",
   "metadata": {},
   "outputs": [
    {
     "name": "stdout",
     "output_type": "stream",
     "text": [
      "[9, 0, 0, 3, 0, 2, 7, 2, 5, 5]\n"
     ]
    }
   ],
   "source": [
    "# 샘플들의 타깃값 출력(처음 10개의 샘플)\n",
    "print([train_target[i] for i in range(10)])"
   ]
  },
  {
   "cell_type": "markdown",
   "id": "da9a95d7-d279-4d03-89f2-892959ba8531",
   "metadata": {},
   "source": [
    "`-` 샘플들의 의미\n",
    "\n",
    "|레이블|0|1|2|3|4|5|6|7|8|9|\n",
    "|-|-|-|-|-|-|-|-|-|-|-|\n",
    "|패션아이템|티셔츠|바지|스웨터|드레스|코트|샌달|셔츠|스니커즈|가방|앵클 부츠|"
   ]
  },
  {
   "cell_type": "code",
   "execution_count": 10,
   "id": "8a61d567-a853-44a6-b2c9-31f8436066d8",
   "metadata": {},
   "outputs": [
    {
     "name": "stdout",
     "output_type": "stream",
     "text": [
      "(array([0, 1, 2, 3, 4, 5, 6, 7, 8, 9], dtype=uint8), array([6000, 6000, 6000, 6000, 6000, 6000, 6000, 6000, 6000, 6000]))\n"
     ]
    }
   ],
   "source": [
    "# 레이블당 샘플수\n",
    "print(np.unique(train_target, return_counts=True))"
   ]
  },
  {
   "cell_type": "markdown",
   "id": "966b97c9-e3d7-4cc4-8565-a382f9a408cd",
   "metadata": {},
   "source": [
    "> 6000개씩 포함"
   ]
  },
  {
   "cell_type": "markdown",
   "id": "959f5295-caeb-4309-9d03-e45db8a77eab",
   "metadata": {},
   "source": [
    "# 로지스틱 회귀로 패션 아이템 분류하기\n",
    "\n",
    "> 샘플을 하나씩 꺼내서 모델을 훈련하는 방법이 더 효율적 : 경사하강법 이용\n",
    "\n",
    "> 0~255의 픽셀을 0~1 로 정규화 : 전처리"
   ]
  },
  {
   "cell_type": "code",
   "execution_count": 11,
   "id": "b42bfb5f-a28e-408c-9351-c019ed780ec9",
   "metadata": {},
   "outputs": [],
   "source": [
    "# 1차원 배열로 바꾸기\n",
    "train_scaled = train_input / 255.0\n",
    "train_scaled = train_scaled.reshape(-1, 28*28)"
   ]
  },
  {
   "cell_type": "code",
   "execution_count": 12,
   "id": "d87e94c1-2477-4d7a-bc4d-c19bc1b26d20",
   "metadata": {},
   "outputs": [
    {
     "name": "stdout",
     "output_type": "stream",
     "text": [
      "(60000, 784)\n"
     ]
    }
   ],
   "source": [
    "# 변환된 크기 확인\n",
    "print(train_scaled.shape)"
   ]
  },
  {
   "cell_type": "code",
   "execution_count": 14,
   "id": "f4386900-c1e2-4ca9-92b0-1192f82e52a0",
   "metadata": {},
   "outputs": [
    {
     "name": "stdout",
     "output_type": "stream",
     "text": [
      "0.8196000000000001\n"
     ]
    }
   ],
   "source": [
    "# 교차 검증으로 성능 확인\n",
    "sc = SGDClassifier(loss='log', max_iter=5, random_state=42)\n",
    "scores = cross_validate(sc, train_scaled, train_target, n_jobs=-1)\n",
    "print(np.mean(scores['test_score']))"
   ]
  },
  {
   "cell_type": "code",
   "execution_count": 15,
   "id": "8b763f00-e766-476a-924a-acdd9e2f0c1f",
   "metadata": {},
   "outputs": [
    {
     "name": "stdout",
     "output_type": "stream",
     "text": [
      "0.8303666666666667\n"
     ]
    }
   ],
   "source": [
    "# max_iter= 를 바꿔도 성능은 그렇게 크게 향상되지 않음\n",
    "sc = SGDClassifier(loss='log', max_iter=9, random_state=42)\n",
    "scores = cross_validate(sc, train_scaled, train_target, n_jobs=-1)\n",
    "print(np.mean(scores['test_score']))"
   ]
  },
  {
   "cell_type": "code",
   "execution_count": 16,
   "id": "b414eff7-d815-4d83-b91e-4f310ead17b8",
   "metadata": {},
   "outputs": [
    {
     "name": "stdout",
     "output_type": "stream",
     "text": [
      "0.8436666666666666\n"
     ]
    }
   ],
   "source": [
    "sc = SGDClassifier(loss='log', max_iter=20, random_state=42)\n",
    "scores = cross_validate(sc, train_scaled, train_target, n_jobs=-1)\n",
    "print(np.mean(scores['test_score']))"
   ]
  },
  {
   "cell_type": "markdown",
   "id": "6ac9b92e-7f16-4e7a-8f9e-131524180aee",
   "metadata": {},
   "source": [
    "# 인공 신경망\n",
    "\n",
    "> 확률적 경사 하강법을 이용한 로지스틱 회귀 : 가장 기본적인 인공 신경망\n",
    "\n",
    "> 출력층 , z값(뉴런 = 유닛) , 입력층 "
   ]
  },
  {
   "cell_type": "markdown",
   "id": "5ae35999-8f8b-4017-b5eb-c23396a237f4",
   "metadata": {},
   "source": [
    "### 케라스 라이브러리\n",
    "\n",
    "> 직접 GPU 연산을 수행하지 않음\n",
    "\n",
    "> 대신 GPU 연산을 수행하는 다른 라이브러리를 '백엔드'로 사용"
   ]
  },
  {
   "cell_type": "markdown",
   "id": "d37320c5-003a-48bb-80e5-25eed8b09bad",
   "metadata": {},
   "source": [
    "# 인공신경망으로 모델 만들기"
   ]
  },
  {
   "cell_type": "code",
   "execution_count": 19,
   "id": "87c7fe2c-c896-4a52-b067-5b12b2d5728e",
   "metadata": {},
   "outputs": [],
   "source": [
    "# 검증 세트 생성\n",
    "train_scaled, val_scaled, train_target, val_target = train_test_split(\n",
    "    train_scaled, train_target, test_size=0.2, random_state=42)"
   ]
  },
  {
   "cell_type": "code",
   "execution_count": 20,
   "id": "f04ef00d-c980-4895-a835-3d7b482b40bf",
   "metadata": {},
   "outputs": [
    {
     "name": "stdout",
     "output_type": "stream",
     "text": [
      "(48000, 784) (48000,)\n"
     ]
    }
   ],
   "source": [
    "#훈련세트의 크기 확인\n",
    "print(train_scaled.shape, train_target.shape)"
   ]
  },
  {
   "cell_type": "code",
   "execution_count": 21,
   "id": "d351bf79-b0c3-4699-b94c-13db996213a7",
   "metadata": {},
   "outputs": [
    {
     "name": "stdout",
     "output_type": "stream",
     "text": [
      "(12000, 784) (12000,)\n"
     ]
    }
   ],
   "source": [
    "#검증세트의 크기 확인\n",
    "print(val_scaled.shape, val_target.shape)"
   ]
  },
  {
   "cell_type": "markdown",
   "id": "e882b7b9-d6c6-420a-aae6-1ae9888c7f3a",
   "metadata": {},
   "source": [
    "## 인공신경망의 오른쪽에 놓인 층 만들기\n",
    "\n",
    "> 밀집층 (=완전 연결층)"
   ]
  },
  {
   "cell_type": "code",
   "execution_count": 22,
   "id": "0c599224-d561-45b4-b6e9-0d48062e2536",
   "metadata": {},
   "outputs": [],
   "source": [
    "dense = keras.layers.Dense(10, activation='softmax', input_shape=(784,))"
   ]
  },
  {
   "cell_type": "markdown",
   "id": "87cd9892-7f41-4752-9907-00a94b51c958",
   "metadata": {},
   "source": [
    "`-` dense = keras.layers.Dense(뉴런수, 뉴런의 출력에 적용할 함수, 입력의 크기)\n",
    "\n",
    "`-` 소프트 맥스와 같이 뉴런의 선형 방정식 계산결과에 적용되는 함수 : 활성화 함수"
   ]
  },
  {
   "cell_type": "code",
   "execution_count": 23,
   "id": "7cfbf0d1-66ca-4bf1-b8c8-d8b06cb73d8f",
   "metadata": {},
   "outputs": [],
   "source": [
    "# 신경망 모델 생성\n",
    "model = keras.Sequential(dense)"
   ]
  },
  {
   "cell_type": "markdown",
   "id": "81819cfa-4220-45f9-b549-41fa92e454fe",
   "metadata": {},
   "source": [
    "# 인공신경망으로 패션 아이템 분류하기"
   ]
  },
  {
   "cell_type": "code",
   "execution_count": 24,
   "id": "edc38d88-2684-4302-a2ca-5cb60cb342c9",
   "metadata": {},
   "outputs": [],
   "source": [
    "# 케라스 모델 훈련 전 설정 (손실 함수의 종류 설정이 중요)\n",
    "model.compile(loss='sparse_categorical_crossentropy', metrics='accuracy')"
   ]
  },
  {
   "cell_type": "code",
   "execution_count": 25,
   "id": "1b99f58e-58fd-4765-9c86-917f3338a9e0",
   "metadata": {},
   "outputs": [
    {
     "name": "stdout",
     "output_type": "stream",
     "text": [
      "[7 3 5 8 6 9 3 3 9 9]\n"
     ]
    }
   ],
   "source": [
    "# MNIST의 타깃값\n",
    "print(train_target[:10])"
   ]
  },
  {
   "cell_type": "code",
   "execution_count": 26,
   "id": "a544d2c8-351e-485c-9cc8-09b3bfb60ddf",
   "metadata": {},
   "outputs": [
    {
     "name": "stdout",
     "output_type": "stream",
     "text": [
      "Epoch 1/5\n",
      "1500/1500 [==============================] - 2s 976us/step - loss: 0.6094 - accuracy: 0.7941\n",
      "Epoch 2/5\n",
      "1500/1500 [==============================] - 1s 841us/step - loss: 0.4787 - accuracy: 0.8394\n",
      "Epoch 3/5\n",
      "1500/1500 [==============================] - 1s 764us/step - loss: 0.4558 - accuracy: 0.8465\n",
      "Epoch 4/5\n",
      "1500/1500 [==============================] - 1s 762us/step - loss: 0.4438 - accuracy: 0.8534\n",
      "Epoch 5/5\n",
      "1500/1500 [==============================] - 1s 750us/step - loss: 0.4360 - accuracy: 0.8546\n"
     ]
    },
    {
     "data": {
      "text/plain": [
       "<keras.callbacks.History at 0x7f30645bf610>"
      ]
     },
     "execution_count": 26,
     "metadata": {},
     "output_type": "execute_result"
    }
   ],
   "source": [
    "# 모델 훈련\n",
    "model.fit(train_scaled, train_target, epochs=5)"
   ]
  },
  {
   "cell_type": "markdown",
   "id": "d9d08e13-1c69-483f-9549-b5ce824d73da",
   "metadata": {},
   "source": [
    "> 5번 반복에 정확도가 85%가 됨"
   ]
  },
  {
   "cell_type": "code",
   "execution_count": 27,
   "id": "36ab3bc9-8d7f-47be-a64a-25dc8c151b81",
   "metadata": {},
   "outputs": [
    {
     "name": "stdout",
     "output_type": "stream",
     "text": [
      "375/375 [==============================] - 0s 632us/step - loss: 0.4495 - accuracy: 0.8528\n"
     ]
    },
    {
     "data": {
      "text/plain": [
       "[0.44948506355285645, 0.8528333306312561]"
      ]
     },
     "execution_count": 27,
     "metadata": {},
     "output_type": "execute_result"
    }
   ],
   "source": [
    "# 따로 떼어놓은 검증세트의 모델 성능 확인\n",
    "model.evaluate(val_scaled, val_target)"
   ]
  },
  {
   "cell_type": "markdown",
   "id": "9ef6af5f-b90e-4f6a-b8b8-b6b087650352",
   "metadata": {},
   "source": [
    "_________"
   ]
  },
  {
   "cell_type": "markdown",
   "id": "64ee576c-6e78-42a6-a1d9-ef80098a3320",
   "metadata": {},
   "source": [
    "# **마무리**\n",
    "\n",
    "`*` 키워드로 끝내는 핵심 포인트"
   ]
  },
  {
   "cell_type": "markdown",
   "id": "5bab085f-dce5-4813-a01d-edd921468b0b",
   "metadata": {},
   "source": [
    "`-` **인공 신경망** : 생물학적 뉴런에서 영감을 받아 만든 머신러닝 알고리즘입니다. 이름이 신경망이지만 실제 우리 뇌를 모델링한 것은 아닙니다. 신경망은 기존의 머신러닝 알고리즘으로 다루기 어려웠던 이미지, 음성, 텍스트 분야에서 뛰어난 성능을 발휘하면서 크게 주목받고 있습니다. 인공 신경망 알고리즘을 종종 딥러닝이라고도 부릅니다."
   ]
  },
  {
   "cell_type": "markdown",
   "id": "30840962-40db-4aeb-93bf-0a2a2dd1ae56",
   "metadata": {},
   "source": [
    "`-` **텐서플로** : 구글이 만든 딥러닝 라이브러리로 매우 인기가 높습니다. CPU와 GPU를 사용해 인공 신경망 모델을 효율적으로 훈련하며 모델 구축과 서비스에 필요한 다양한 도구를 제공합니다. 텐서플로 2.0부터는 신경망 모델을 빠르게 구성할 수 있는 케라스를 핵심 API로 채택하였습니다. 케라스를 사용하면 간단한 모델에서 아주 복잡한 모델까지 손쉽게 만들 수 있습니다.\n"
   ]
  },
  {
   "cell_type": "markdown",
   "id": "ecf829f4-5264-4916-bb69-c5fb24e40b50",
   "metadata": {},
   "source": [
    "`-` **밀집층** : 가장 간단한 인공 신경망의 층입니다. 인공 신경망에는 여러 종류의 층이 있습니다. 밀집층에서는 뉴런들이 모두 연결되어 있기 때문에 완전 연결 층이라고도 부릅니다. 특별히 출력층에 밀집층을 사용할 때는 분류하려는 클래스와 동일한 개수의 뉴런을 사용합니다."
   ]
  },
  {
   "cell_type": "markdown",
   "id": "39808f96-56e6-4f1d-a026-bc9b4661bbd4",
   "metadata": {},
   "source": [
    "`-` **원-핫 인코딩** : 정숫값을 배열에서 해당 정수 위치의 원소만 1이고 나머지는 모두 0으로 변환합니다. 이런 변환이 필요한 이유는 다중 분류에서 출력층에서 만든 확률과 크로스 엔트로피손실을 계산하기 위해서 입니다. 텐서플로에서는 'sparse_categorical_entropy' 손실을 지정하면 이런 변환을 수행할 필요가 없습니다."
   ]
  },
  {
   "cell_type": "markdown",
   "id": "d1dfcac0-d577-42ee-bc43-d6372ebaaceb",
   "metadata": {},
   "source": [
    "## **핵심 패키지**\n",
    "\n",
    "- TensorFlow\n",
    "\n",
    "> `1` Dense : 신경망에서 가장 기본 층인 밀집층을 만드는 클래스입니다.\n",
    "\n",
    "`-`이 층에 첫 번째 매개변수에는 뉴런의 개수를 지정합니다.\n",
    "\n",
    "`-`activation 매개변수에는 사용할 활성화 함수를 지정합니다. 대표적으로 sigmoid', 'softmax 함수가 있습니다. 아무것도 지정하지 않으면 활성화 함수를 사용하지 않습니다.\n",
    "\n",
    "`-`케라스의 Sequential 클래스에 맨 처음 추가되는 층에는 input shape 매개변수로 입력의 크기를 지정해야 합니다.\n",
    "\n",
    "> `2` Sequential : 케라스에서 신경망 모델을 만드는 클래스입니다.\n",
    "\n",
    "`-`이 클래스의 객체를 생성할 때 신경망 모델에 추가할 층을 지정할 수 있습니다. 추가할 층이 1개 이상일 경우 파이썬 리스트로 전달합니다.\n",
    "\n",
    "> `3` compile() : 모델 객체를 만든 후 훈련하기 전에 사용할 손실 함수와 측정 지표 등을 지정하는 메서드입니다.\n",
    "\n",
    "`-`loss 매개변수에 손실 함수를 지정합니다. 이진 분류일 경우 'binary_crossentropy', 다중 분류일 경우 categorical_crossentropy'를 지정합니다. 클래스 레이블이 정수일 경우 'sparse_categorical_crossentropy'로 지정합니다. 회귀 모델일 경우 mean_square_error' 등으로 지정할 수 있습니다.\n",
    "\n",
    "`-`metrics 매개변수에 훈련 과정에서 측정하고 싶은 지표를 지정할 수 있습니다. 측정 지표가 1개 이상일 경우 리스트로 전달합니다.\n",
    "\n",
    "> `4` fit() : 모델을 훈련하는 메서드입니다.\n",
    "\n",
    "`-`첫 번째와 두 번째 매개변수에 입력과 타깃 데이터를 전달합니다.\n",
    "\n",
    "`-`epochs 매개변수에 전체 데이터에 대해 반복할 에포크 횟수를 지정합니다.\n",
    "\n",
    "> `5` evaluate() : 모델 성능을 평가하는 메서드입니다.\n",
    "\n",
    "`-`첫 번째와 두 번째 매개변수에 입력과 타깃 데이터를 전달합니다.\n",
    "\n",
    "`-`Compile() 메서드에서 loss 매개변수에 지정한 손실 함수의 값과 metrics 매개변수에서 지정한 측정 지표를 출력합니다."
   ]
  },
  {
   "cell_type": "code",
   "execution_count": null,
   "id": "2aa6d138-714d-4bb3-83a8-0c5ed2f64561",
   "metadata": {},
   "outputs": [],
   "source": []
  }
 ],
 "metadata": {
  "kernelspec": {
   "display_name": "Python 3",
   "language": "python",
   "name": "python3"
  },
  "language_info": {
   "codemirror_mode": {
    "name": "ipython",
    "version": 3
   },
   "file_extension": ".py",
   "mimetype": "text/x-python",
   "name": "python",
   "nbconvert_exporter": "python",
   "pygments_lexer": "ipython3",
   "version": "3.8.8"
  }
 },
 "nbformat": 4,
 "nbformat_minor": 5
}
