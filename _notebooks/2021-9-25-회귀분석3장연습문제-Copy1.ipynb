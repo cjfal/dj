{
 "cells": [
  {
   "cell_type": "markdown",
   "id": "d7caaa4f-c0a9-4de6-ace5-ce6dc32e93bc",
   "metadata": {},
   "source": [
    "# **회귀분석**\n",
    "> 3장 연습문제\n",
    "\n",
    "- toc:true\n",
    "- branch: master\n",
    "- badges: true\n",
    "- comments: true\n",
    "- author: 김동준\n",
    "- categories : [\"R\", \"회귀분석\"]"
   ]
  },
  {
   "cell_type": "markdown",
   "id": "e24d0d26-4dc7-48df-84e0-0c1171b15198",
   "metadata": {},
   "source": [
    "# 3.3) 어느 증권회사에서의 주가x와 종합주가지수y 분석"
   ]
  },
  {
   "cell_type": "markdown",
   "id": "6d5266b2-c086-4f6a-be8b-d328cd6c57a0",
   "metadata": {},
   "source": [
    "Base"
   ]
  },
  {
   "cell_type": "code",
   "execution_count": 2,
   "id": "a77ab006-6295-44c9-bc3d-e29ce1b2aad1",
   "metadata": {},
   "outputs": [],
   "source": [
    "x <- c(650, 670, 690, 650, 660, 650, 670, 660, 690, 710)\n",
    "y <- c(210, 212, 217, 215, 216, 214, 220, 218, 220, 224)\n",
    "lm33 <- lm(y~x)"
   ]
  },
  {
   "cell_type": "markdown",
   "id": "abf5516b-5d28-4e0c-9559-733a1cddd2ee",
   "metadata": {},
   "source": [
    "### 1) 표본상관계수 구하기"
   ]
  },
  {
   "cell_type": "code",
   "execution_count": 3,
   "id": "bec39eba-ab31-48c7-bac6-c2411dc57749",
   "metadata": {},
   "outputs": [
    {
     "data": {
      "text/html": [
       "0.757203385853764"
      ],
      "text/latex": [
       "0.757203385853764"
      ],
      "text/markdown": [
       "0.757203385853764"
      ],
      "text/plain": [
       "[1] 0.7572034"
      ]
     },
     "metadata": {},
     "output_type": "display_data"
    }
   ],
   "source": [
    "cor(x,y)"
   ]
  },
  {
   "cell_type": "markdown",
   "id": "e264428e-5063-4723-b12e-65f7dbef6b1e",
   "metadata": {},
   "source": [
    "### 2) 단순회귀선 추정, 산점도"
   ]
  },
  {
   "cell_type": "code",
   "execution_count": 7,
   "id": "c99ed1a4-1816-42ff-a9fb-6ca60974f9ac",
   "metadata": {},
   "outputs": [
    {
     "data": {
      "image/png": "[encoded data removed]",
      "text/plain": [
       "plot without title"
      ]
     },
     "metadata": {
      "image/png": {
       "height": 420,
       "width": 420
      }
     },
     "output_type": "display_data"
    }
   ],
   "source": [
    "plot(y~x)\n",
    "abline(lm(y~x))"
   ]
  },
  {
   "cell_type": "markdown",
   "id": "0516987c-03b4-4f92-bc43-ed6097a03ab1",
   "metadata": {},
   "source": [
    "### 3) MSE 계산 및 산점도와 비교"
   ]
  },
  {
   "cell_type": "code",
   "execution_count": 6,
   "id": "03a7ea96-d3c5-44f0-8f31-b3cc03a8846a",
   "metadata": {},
   "outputs": [
    {
     "data": {
      "text/html": [
       "<table class=\"dataframe\">\n",
       "<caption>A anova: 2 × 5</caption>\n",
       "<thead>\n",
       "\t<tr><th></th><th scope=col>Df</th><th scope=col>Sum Sq</th><th scope=col>Mean Sq</th><th scope=col>F value</th><th scope=col>Pr(&gt;F)</th></tr>\n",
       "\t<tr><th></th><th scope=col>&lt;int&gt;</th><th scope=col>&lt;dbl&gt;</th><th scope=col>&lt;dbl&gt;</th><th scope=col>&lt;dbl&gt;</th><th scope=col>&lt;dbl&gt;</th></tr>\n",
       "</thead>\n",
       "<tbody>\n",
       "\t<tr><th scope=row>x</th><td>1</td><td>88.52632</td><td>88.526316</td><td>10.75104</td><td>0.01120658</td></tr>\n",
       "\t<tr><th scope=row>Residuals</th><td>8</td><td>65.87368</td><td> 8.234211</td><td>      NA</td><td>        NA</td></tr>\n",
       "</tbody>\n",
       "</table>\n"
      ],
      "text/latex": [
       "A anova: 2 × 5\n",
       "\\begin{tabular}{r|lllll}\n",
       "  & Df & Sum Sq & Mean Sq & F value & Pr(>F)\\\\\n",
       "  & <int> & <dbl> & <dbl> & <dbl> & <dbl>\\\\\n",
       "\\hline\n",
       "\tx & 1 & 88.52632 & 88.526316 & 10.75104 & 0.01120658\\\\\n",
       "\tResiduals & 8 & 65.87368 &  8.234211 &       NA &         NA\\\\\n",
       "\\end{tabular}\n"
      ],
      "text/markdown": [
       "\n",
       "A anova: 2 × 5\n",
       "\n",
       "| <!--/--> | Df &lt;int&gt; | Sum Sq &lt;dbl&gt; | Mean Sq &lt;dbl&gt; | F value &lt;dbl&gt; | Pr(&gt;F) &lt;dbl&gt; |\n",
       "|---|---|---|---|---|---|\n",
       "| x | 1 | 88.52632 | 88.526316 | 10.75104 | 0.01120658 |\n",
       "| Residuals | 8 | 65.87368 |  8.234211 |       NA |         NA |\n",
       "\n"
      ],
      "text/plain": [
       "          Df Sum Sq   Mean Sq   F value  Pr(>F)    \n",
       "x         1  88.52632 88.526316 10.75104 0.01120658\n",
       "Residuals 8  65.87368  8.234211       NA         NA"
      ]
     },
     "metadata": {},
     "output_type": "display_data"
    },
    {
     "data": {
      "text/plain": [
       "\n",
       "Call:\n",
       "lm(formula = y ~ x)\n",
       "\n",
       "Residuals:\n",
       "    Min      1Q  Median      3Q     Max \n",
       "-4.6000 -1.9026  0.6895  1.4132  3.4000 \n",
       "\n",
       "Coefficients:\n",
       "             Estimate Std. Error t value Pr(>|t|)   \n",
       "(Intercept) 114.33684   31.20166   3.664  0.00636 **\n",
       "x             0.15263    0.04655   3.279  0.01121 * \n",
       "---\n",
       "Signif. codes:  0 ‘***’ 0.001 ‘**’ 0.01 ‘*’ 0.05 ‘.’ 0.1 ‘ ’ 1\n",
       "\n",
       "Residual standard error: 2.87 on 8 degrees of freedom\n",
       "Multiple R-squared:  0.5734,\tAdjusted R-squared:   0.52 \n",
       "F-statistic: 10.75 on 1 and 8 DF,  p-value: 0.01121\n"
      ]
     },
     "metadata": {},
     "output_type": "display_data"
    }
   ],
   "source": [
    "anova(lm33)\n",
    "summary(lm33)"
   ]
  },
  {
   "cell_type": "markdown",
   "id": "9926009e-35d1-4552-8932-e679d4fa8e82",
   "metadata": {},
   "source": [
    "### 4) 잔차를 구하고 합이 0이 되는 것을 확인"
   ]
  },
  {
   "cell_type": "code",
   "execution_count": 7,
   "id": "f4a3d0de-5d2f-4596-b153-d6b5a8f8962d",
   "metadata": {},
   "outputs": [
    {
     "data": {
      "text/html": [
       "<style>\n",
       ".dl-inline {width: auto; margin:0; padding: 0}\n",
       ".dl-inline>dt, .dl-inline>dd {float: none; width: auto; display: inline-block}\n",
       ".dl-inline>dt::after {content: \":\\0020\"; padding-right: .5ex}\n",
       ".dl-inline>dt:not(:first-of-type) {padding-left: .5ex}\n",
       "</style><dl class=dl-inline><dt>1</dt><dd>-3.5473684210526</dd><dt>2</dt><dd>-4.6</dd><dt>3</dt><dd>-2.65263157894737</dd><dt>4</dt><dd>1.45263157894736</dd><dt>5</dt><dd>0.926315789473677</dd><dt>6</dt><dd>0.452631578947359</dd><dt>7</dt><dd>3.4</dd><dt>8</dt><dd>2.92631578947368</dd><dt>9</dt><dd>0.347368421052632</dd><dt>10</dt><dd>1.29473684210527</dd></dl>\n"
      ],
      "text/latex": [
       "\\begin{description*}\n",
       "\\item[1] -3.5473684210526\n",
       "\\item[2] -4.6\n",
       "\\item[3] -2.65263157894737\n",
       "\\item[4] 1.45263157894736\n",
       "\\item[5] 0.926315789473677\n",
       "\\item[6] 0.452631578947359\n",
       "\\item[7] 3.4\n",
       "\\item[8] 2.92631578947368\n",
       "\\item[9] 0.347368421052632\n",
       "\\item[10] 1.29473684210527\n",
       "\\end{description*}\n"
      ],
      "text/markdown": [
       "1\n",
       ":   -3.54736842105262\n",
       ":   -4.63\n",
       ":   -2.652631578947374\n",
       ":   1.452631578947365\n",
       ":   0.9263157894736776\n",
       ":   0.4526315789473597\n",
       ":   3.48\n",
       ":   2.926315789473689\n",
       ":   0.34736842105263210\n",
       ":   1.29473684210527\n",
       "\n"
      ],
      "text/plain": [
       "         1          2          3          4          5          6          7 \n",
       "-3.5473684 -4.6000000 -2.6526316  1.4526316  0.9263158  0.4526316  3.4000000 \n",
       "         8          9         10 \n",
       " 2.9263158  0.3473684  1.2947368 "
      ]
     },
     "metadata": {},
     "output_type": "display_data"
    }
   ],
   "source": [
    "lm33$residuals"
   ]
  },
  {
   "cell_type": "code",
   "execution_count": 8,
   "id": "7b836585-cf0f-4799-9611-d252dc07fd33",
   "metadata": {},
   "outputs": [
    {
     "data": {
      "text/html": [
       "8.88178419700125e-16"
      ],
      "text/latex": [
       "8.88178419700125e-16"
      ],
      "text/markdown": [
       "8.88178419700125e-16"
      ],
      "text/plain": [
       "[1] 8.881784e-16"
      ]
     },
     "metadata": {},
     "output_type": "display_data"
    }
   ],
   "source": [
    "-3.5473684-4.6000000-2.6526316+1.4526316+0.9263158+0.4526316+3.4000000+2.9263158+0.3473684+1.2947368"
   ]
  },
  {
   "cell_type": "code",
   "execution_count": 9,
   "id": "2f6785af-991f-4dc9-bce6-810e910fc86a",
   "metadata": {},
   "outputs": [
    {
     "data": {
      "text/html": [
       "1.55431223447522e-15"
      ],
      "text/latex": [
       "1.55431223447522e-15"
      ],
      "text/markdown": [
       "1.55431223447522e-15"
      ],
      "text/plain": [
       "[1] 1.554312e-15"
      ]
     },
     "metadata": {},
     "output_type": "display_data"
    }
   ],
   "source": [
    "sum(lm33$residuals)"
   ]
  },
  {
   "cell_type": "markdown",
   "id": "0a55d8fe-c8fe-48eb-8ebc-be5f300bcd36",
   "metadata": {},
   "source": [
    "$\\to$ 둘다 0에 수렴하는 값"
   ]
  },
  {
   "cell_type": "markdown",
   "id": "5566a2a0-c3df-4ada-83e7-0443e24aefa2",
   "metadata": {},
   "source": [
    "### 5) 잔차들의 x에 의한 가중합이 0이 됨을 보이기"
   ]
  },
  {
   "cell_type": "code",
   "execution_count": 13,
   "id": "51563323-f964-4648-8d94-20e2ab916a68",
   "metadata": {},
   "outputs": [
    {
     "data": {
      "text/html": [
       "<style>\n",
       ".dl-inline {width: auto; margin:0; padding: 0}\n",
       ".dl-inline>dt, .dl-inline>dd {float: none; width: auto; display: inline-block}\n",
       ".dl-inline>dt::after {content: \":\\0020\"; padding-right: .5ex}\n",
       ".dl-inline>dt:not(:first-of-type) {padding-left: .5ex}\n",
       "</style><dl class=dl-inline><dt>1</dt><dd>-2305.78947368419</dd><dt>2</dt><dd>-3082</dd><dt>3</dt><dd>-1830.31578947368</dd><dt>4</dt><dd>944.210526315783</dd><dt>5</dt><dd>611.368421052627</dd><dt>6</dt><dd>294.210526315784</dd><dt>7</dt><dd>2278</dd><dt>8</dt><dd>1931.36842105263</dd><dt>9</dt><dd>239.684210526316</dd><dt>10</dt><dd>919.26315789474</dd></dl>\n"
      ],
      "text/latex": [
       "\\begin{description*}\n",
       "\\item[1] -2305.78947368419\n",
       "\\item[2] -3082\n",
       "\\item[3] -1830.31578947368\n",
       "\\item[4] 944.210526315783\n",
       "\\item[5] 611.368421052627\n",
       "\\item[6] 294.210526315784\n",
       "\\item[7] 2278\n",
       "\\item[8] 1931.36842105263\n",
       "\\item[9] 239.684210526316\n",
       "\\item[10] 919.26315789474\n",
       "\\end{description*}\n"
      ],
      "text/markdown": [
       "1\n",
       ":   -2305.789473684192\n",
       ":   -30823\n",
       ":   -1830.315789473684\n",
       ":   944.2105263157835\n",
       ":   611.3684210526276\n",
       ":   294.2105263157847\n",
       ":   22788\n",
       ":   1931.368421052639\n",
       ":   239.68421052631610\n",
       ":   919.26315789474\n",
       "\n"
      ],
      "text/plain": [
       "         1          2          3          4          5          6          7 \n",
       "-2305.7895 -3082.0000 -1830.3158   944.2105   611.3684   294.2105  2278.0000 \n",
       "         8          9         10 \n",
       " 1931.3684   239.6842   919.2632 "
      ]
     },
     "metadata": {},
     "output_type": "display_data"
    }
   ],
   "source": [
    "res33 <- lm33$residuals\n",
    "x*res33"
   ]
  },
  {
   "cell_type": "code",
   "execution_count": 12,
   "id": "82cd216a-28fe-4975-8769-f0300c4d90a1",
   "metadata": {},
   "outputs": [
    {
     "data": {
      "text/html": [
       "-9.99999995201506e-05"
      ],
      "text/latex": [
       "-9.99999995201506e-05"
      ],
      "text/markdown": [
       "-9.99999995201506e-05"
      ],
      "text/plain": [
       "[1] -1e-04"
      ]
     },
     "metadata": {},
     "output_type": "display_data"
    }
   ],
   "source": [
    "-2305.7895 -3082.0000 -1830.3158+944.2105+611.3684+294.2105+2278.0000+ 1931.3684 +239.6842 + 919.2632"
   ]
  },
  {
   "cell_type": "code",
   "execution_count": 14,
   "id": "c27e9205-59ae-4cf5-9736-f3b84d0aa3e4",
   "metadata": {},
   "outputs": [
    {
     "data": {
      "text/html": [
       "-4.54747350886464e-13"
      ],
      "text/latex": [
       "-4.54747350886464e-13"
      ],
      "text/markdown": [
       "-4.54747350886464e-13"
      ],
      "text/plain": [
       "[1] -4.547474e-13"
      ]
     },
     "metadata": {},
     "output_type": "display_data"
    }
   ],
   "source": [
    "sum(x*res33)"
   ]
  },
  {
   "cell_type": "markdown",
   "id": "5ddbbc56-74a1-4a6a-959a-632af99148bb",
   "metadata": {},
   "source": [
    "$\\to$ 둘다 0에 수렴하는 값"
   ]
  },
  {
   "cell_type": "markdown",
   "id": "526f182c-d543-4d71-ad12-6e9efae73710",
   "metadata": {},
   "source": [
    "### 6) 잔차들의 yhat에 의한 가중합이 0이 됨을 보이기"
   ]
  },
  {
   "cell_type": "code",
   "execution_count": 16,
   "id": "25c02acb-926e-4fb4-9748-6290bd3694a9",
   "metadata": {},
   "outputs": [
    {
     "data": {
      "text/html": [
       "<style>\n",
       ".dl-inline {width: auto; margin:0; padding: 0}\n",
       ".dl-inline>dt, .dl-inline>dd {float: none; width: auto; display: inline-block}\n",
       ".dl-inline>dt::after {content: \":\\0020\"; padding-right: .5ex}\n",
       ".dl-inline>dt:not(:first-of-type) {padding-left: .5ex}\n",
       "</style><dl class=dl-inline><dt>1</dt><dd>-263637.223561155</dd><dt>2</dt><dd>-352386.842978</dd><dt>3</dt><dd>-209272.928441684</dd><dt>4</dt><dd>107958.269588841</dd><dt>5</dt><dd>69902.0747225258</dd><dt>6</dt><dd>33639.1709588414</dd><dt>7</dt><dd>260459.840462</dd><dt>8</dt><dd>220827.008782526</dd><dt>9</dt><dd>27404.7882483158</dd><dt>10</dt><dd>105105.84221779</dd></dl>\n"
      ],
      "text/latex": [
       "\\begin{description*}\n",
       "\\item[1] -263637.223561155\n",
       "\\item[2] -352386.842978\n",
       "\\item[3] -209272.928441684\n",
       "\\item[4] 107958.269588841\n",
       "\\item[5] 69902.0747225258\n",
       "\\item[6] 33639.1709588414\n",
       "\\item[7] 260459.840462\n",
       "\\item[8] 220827.008782526\n",
       "\\item[9] 27404.7882483158\n",
       "\\item[10] 105105.84221779\n",
       "\\end{description*}\n"
      ],
      "text/markdown": [
       "1\n",
       ":   -263637.2235611552\n",
       ":   -352386.8429783\n",
       ":   -209272.9284416844\n",
       ":   107958.2695888415\n",
       ":   69902.07472252586\n",
       ":   33639.17095884147\n",
       ":   260459.8404628\n",
       ":   220827.0087825269\n",
       ":   27404.788248315810\n",
       ":   105105.84221779\n",
       "\n"
      ],
      "text/plain": [
       "         1          2          3          4          5          6          7 \n",
       "-263637.22 -352386.84 -209272.93  107958.27   69902.07   33639.17  260459.84 \n",
       "         8          9         10 \n",
       " 220827.01   27404.79  105105.84 "
      ]
     },
     "metadata": {},
     "output_type": "display_data"
    }
   ],
   "source": [
    "res33*0.15263+(res33*(114.33684*x)) "
   ]
  },
  {
   "cell_type": "code",
   "execution_count": 17,
   "id": "7c89aa7f-8af4-4103-bb6d-8b2d3e87d2c1",
   "metadata": {},
   "outputs": [
    {
     "data": {
      "text/html": [
       "1.16415321826935e-10"
      ],
      "text/latex": [
       "1.16415321826935e-10"
      ],
      "text/markdown": [
       "1.16415321826935e-10"
      ],
      "text/plain": [
       "[1] 1.164153e-10"
      ]
     },
     "metadata": {},
     "output_type": "display_data"
    }
   ],
   "source": [
    "-263637.22 -352386.84 -209272.93 + 107958.27 +  69902.07 +  33639.17  +260459.84 + 220827.01  + 27404.79+  105105.84"
   ]
  },
  {
   "cell_type": "code",
   "execution_count": 18,
   "id": "d5b8a976-fe14-4210-989f-544dd3bc107d",
   "metadata": {},
   "outputs": [
    {
     "data": {
      "text/html": [
       "4.36557456851006e-11"
      ],
      "text/latex": [
       "4.36557456851006e-11"
      ],
      "text/markdown": [
       "4.36557456851006e-11"
      ],
      "text/plain": [
       "[1] 4.365575e-11"
      ]
     },
     "metadata": {},
     "output_type": "display_data"
    }
   ],
   "source": [
    "sum(res33*0.15263+(res33*(114.33684*x)) )"
   ]
  },
  {
   "cell_type": "markdown",
   "id": "05021686-1bee-46cb-b3f5-f7c10117e8fb",
   "metadata": {},
   "source": [
    "$\\to$ 둘다 0에 수렴하는 값"
   ]
  },
  {
   "cell_type": "markdown",
   "id": "fa41a7d9-9038-4a51-bc1b-e85835e1c126",
   "metadata": {},
   "source": [
    "_______________________"
   ]
  }
 ],
 "metadata": {
  "kernelspec": {
   "display_name": "R",
   "language": "R",
   "name": "ir"
  },
  "language_info": {
   "codemirror_mode": "r",
   "file_extension": ".r",
   "mimetype": "text/x-r-source",
   "name": "R",
   "pygments_lexer": "r",
   "version": "4.0.5"
  }
 },
 "nbformat": 4,
 "nbformat_minor": 5
}
