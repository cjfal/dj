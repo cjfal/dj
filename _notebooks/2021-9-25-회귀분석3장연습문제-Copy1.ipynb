{
 "cells": [
  {
   "cell_type": "markdown",
   "id": "d7caaa4f-c0a9-4de6-ace5-ce6dc32e93bc",
   "metadata": {},
   "source": [
    "# **회귀분석 3장 연습문제**"
   ]
  },
  {
   "cell_type": "code",
   "execution_count": null,
   "id": "ba82cc0e-d827-4b08-b449-6dee4d70bc9a",
   "metadata": {},
   "outputs": [],
   "source": []
  }
 ],
 "metadata": {
  "kernelspec": {
   "display_name": "R",
   "language": "R",
   "name": "ir"
  },
  "language_info": {
   "codemirror_mode": "r",
   "file_extension": ".r",
   "mimetype": "text/x-r-source",
   "name": "R",
   "pygments_lexer": "r",
   "version": "4.0.5"
  }
 },
 "nbformat": 4,
 "nbformat_minor": 5
}
