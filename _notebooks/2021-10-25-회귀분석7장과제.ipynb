{
 "cells": [
  {
   "cell_type": "markdown",
   "id": "0cb655bd-3a75-4730-a962-86d9ce8302d5",
   "metadata": {},
   "source": [
    "# 회귀분석 7장 연습문제R\n",
    "> 연습문제 7-1,7,10 R \n",
    "\n",
    "- toc:true\n",
    "- branch: master\n",
    "- badges: true\n",
    "- comments: true\n",
    "- author: 김동준\n",
    "- categories : [\"R\", \"회귀분석\"]"
   ]
  },
  {
   "cell_type": "markdown",
   "id": "73121e79-f3d8-498b-a734-484a6244cc34",
   "metadata": {},
   "source": [
    "# 3.7자료 해석"
   ]
  },
  {
   "cell_type": "code",
   "execution_count": 1,
   "id": "067d782d-6dc7-4346-8d48-074851dc29aa",
   "metadata": {},
   "outputs": [],
   "source": [
    "x <- c(4.2,3.8,4.8,3.4,4.5,4.6,4.3,3.7,3.9)\n",
    "y <- c(2.8,2.5,3.1,2.1,2.9,2.6,2.4,2.4,2.5)\n",
    "lm37 <- lm(y~x)"
   ]
  },
  {
   "cell_type": "code",
   "execution_count": 2,
   "id": "abe33bea-11a4-462e-af2d-09eced19faf2",
   "metadata": {},
   "outputs": [
    {
     "data": {
      "text/html": [
       "<style>\n",
       ".dl-inline {width: auto; margin:0; padding: 0}\n",
       ".dl-inline>dt, .dl-inline>dd {float: none; width: auto; display: inline-block}\n",
       ".dl-inline>dt::after {content: \":\\0020\"; padding-right: .5ex}\n",
       ".dl-inline>dt:not(:first-of-type) {padding-left: .5ex}\n",
       "</style><dl class=dl-inline><dt>(Intercept)</dt><dd>0.345994832041343</dd><dt>x</dt><dd>0.542635658914729</dd></dl>\n"
      ],
      "text/latex": [
       "\\begin{description*}\n",
       "\\item[(Intercept)] 0.345994832041343\n",
       "\\item[x] 0.542635658914729\n",
       "\\end{description*}\n"
      ],
      "text/markdown": [
       "(Intercept)\n",
       ":   0.345994832041343x\n",
       ":   0.542635658914729\n",
       "\n"
      ],
      "text/plain": [
       "(Intercept)           x \n",
       "  0.3459948   0.5426357 "
      ]
     },
     "metadata": {},
     "output_type": "display_data"
    }
   ],
   "source": [
    "coef(lm37)"
   ]
  },
  {
   "cell_type": "markdown",
   "id": "ec537a42-7174-4cf8-bb08-27ec6410086b",
   "metadata": {},
   "source": [
    "$\\to X = \\begin{bmatrix}\n",
    "1 & x_1 \\\\\n",
    "1 & x_2 \\\\\n",
    "\\vdots & \\vdots \\\\\n",
    "1 & x_n\n",
    "\\end{bmatrix} ,\n",
    "\\beta = \\begin{bmatrix}\n",
    "0.346 \\\\\\\\\n",
    "0.543\n",
    "\\end{bmatrix}$ "
   ]
  },
  {
   "cell_type": "markdown",
   "id": "2e3a394d-f344-4f14-a99b-58d422939aea",
   "metadata": {},
   "source": [
    "# 7.1\n",
    ">연습문제 3.7의 자료로부터 다음을 구하여라."
   ]
  },
  {
   "cell_type": "markdown",
   "id": "2dbdf0bd-9aa0-4e00-b007-02ab21b0aa7c",
   "metadata": {},
   "source": [
    "### 1) $X'X$"
   ]
  },
  {
   "cell_type": "markdown",
   "id": "d1aed345-fbc8-4b2c-a5d7-d525de13a9c8",
   "metadata": {},
   "source": [
    "$X'X$ = $ \\begin{bmatrix}\n",
    "n & \\sum_{}^{}x_i \\\\\\\\\n",
    "\\sum_{}^{}x_i & \\sum_{}^{}{x_i}^2\n",
    "\\end{bmatrix}$ "
   ]
  },
  {
   "cell_type": "markdown",
   "id": "32e2b57d-a5f2-4ea5-8988-bad61e066df8",
   "metadata": {},
   "source": [
    "*n* , $\\sum_{}^{}x_i$ , $\\sum_{}^{}{x_i}^2$"
   ]
  },
  {
   "cell_type": "code",
   "execution_count": 3,
   "id": "5be63641-1884-4867-a41d-2d480f4e8ebb",
   "metadata": {},
   "outputs": [
    {
     "data": {
      "text/html": [
       "<style>\n",
       ".list-inline {list-style: none; margin:0; padding: 0}\n",
       ".list-inline>li {display: inline-block}\n",
       ".list-inline>li:not(:last-child)::after {content: \"\\00b7\"; padding: 0 .5ex}\n",
       "</style>\n",
       "<ol class=list-inline><li>9</li><li>37.2</li><li>155.48</li></ol>\n"
      ],
      "text/latex": [
       "\\begin{enumerate*}\n",
       "\\item 9\n",
       "\\item 37.2\n",
       "\\item 155.48\n",
       "\\end{enumerate*}\n"
      ],
      "text/markdown": [
       "1. 9\n",
       "2. 37.2\n",
       "3. 155.48\n",
       "\n",
       "\n"
      ],
      "text/plain": [
       "[1]   9.00  37.20 155.48"
      ]
     },
     "metadata": {},
     "output_type": "display_data"
    }
   ],
   "source": [
    "n <- length(x)\n",
    "sx <- sum(x)\n",
    "sxs <- sum(x^2)\n",
    "c(n,sx,sxs)"
   ]
  },
  {
   "cell_type": "markdown",
   "id": "d4d22502-5327-4ca7-915c-aea3363a5607",
   "metadata": {},
   "source": [
    "$\\to X'X = \\begin{bmatrix}\n",
    "9 & 37.2 \\\\\\\\\n",
    "37.2 & 155.48\n",
    "\\end{bmatrix}$"
   ]
  },
  {
   "cell_type": "markdown",
   "id": "c2a9af73-11d6-4768-a3f6-60590ddc75ed",
   "metadata": {},
   "source": [
    "### 2) $(X'X)^{-1}$"
   ]
  },
  {
   "cell_type": "markdown",
   "id": "53f8d33f-6d3f-42a8-84e3-11ccb4de3452",
   "metadata": {},
   "source": [
    " $(X'X)^{-1}$ = $ \\frac{1}{n\\sum_{}^{}{x_i}^2 - (\\sum_{}^{}x_i)^2} $ $\\begin{bmatrix}\n",
    "\\sum_{}^{}{x_i}^2 & -\\sum_{}^{}x_i \\\\\\\\\n",
    "-\\sum_{}^{}x_i & n\n",
    "\\end{bmatrix}$ "
   ]
  },
  {
   "cell_type": "markdown",
   "id": "28f0cb9d-1de0-41fb-a75f-d9b48ac61b20",
   "metadata": {},
   "source": [
    "`-` $ \\frac{1}{n\\sum_{}^{}{x_i}^2 - (\\sum_{}^{}x_i)^2} $ 계산"
   ]
  },
  {
   "cell_type": "code",
   "execution_count": 4,
   "id": "5b343993-c194-4607-ac15-64d83b9c4e17",
   "metadata": {},
   "outputs": [
    {
     "data": {
      "text/html": [
       "0.0645994832041333"
      ],
      "text/latex": [
       "0.0645994832041333"
      ],
      "text/markdown": [
       "0.0645994832041333"
      ],
      "text/plain": [
       "[1] 0.06459948"
      ]
     },
     "metadata": {},
     "output_type": "display_data"
    }
   ],
   "source": [
    "M <- 1/(n*sxs-(sx)^2)\n",
    "M"
   ]
  },
  {
   "cell_type": "markdown",
   "id": "e255cba3-0b2f-41f7-8453-4e685c746d3b",
   "metadata": {},
   "source": [
    "$\\sum_{}^{}{x_i}^2 , -\\sum_{}^{}x_i , n$"
   ]
  },
  {
   "cell_type": "code",
   "execution_count": 5,
   "id": "87b56d9d-d98b-42d0-9779-5a08a072c25f",
   "metadata": {},
   "outputs": [
    {
     "data": {
      "text/html": [
       "<style>\n",
       ".list-inline {list-style: none; margin:0; padding: 0}\n",
       ".list-inline>li {display: inline-block}\n",
       ".list-inline>li:not(:last-child)::after {content: \"\\00b7\"; padding: 0 .5ex}\n",
       "</style>\n",
       "<ol class=list-inline><li>10.0439276485787</li><li>-2.40310077519376</li><li>0.5813953488372</li></ol>\n"
      ],
      "text/latex": [
       "\\begin{enumerate*}\n",
       "\\item 10.0439276485787\n",
       "\\item -2.40310077519376\n",
       "\\item 0.5813953488372\n",
       "\\end{enumerate*}\n"
      ],
      "text/markdown": [
       "1. 10.0439276485787\n",
       "2. -2.40310077519376\n",
       "3. 0.5813953488372\n",
       "\n",
       "\n"
      ],
      "text/plain": [
       "[1] 10.0439276 -2.4031008  0.5813953"
      ]
     },
     "metadata": {},
     "output_type": "display_data"
    }
   ],
   "source": [
    "c(sxs*M,-1*sx*M,n*M)"
   ]
  },
  {
   "cell_type": "markdown",
   "id": "31aac9d1-9bd0-4bd4-888f-30b8cd8b211f",
   "metadata": {},
   "source": [
    " $ \\to (X'X)^{-1} = \\begin{bmatrix}\n",
    "10.04 & -2.403 \\\\\\\\\n",
    "-2.403 & 0.581\n",
    "\\end{bmatrix} $"
   ]
  },
  {
   "cell_type": "markdown",
   "id": "cbe81c1a-75ad-437e-bf56-b92ce993a365",
   "metadata": {},
   "source": [
    "### 3) $X'Y$"
   ]
  },
  {
   "cell_type": "markdown",
   "id": "7d33f845-8b9a-4fc6-9374-b9f75f60948e",
   "metadata": {},
   "source": [
    "$X'Y$ = $\\begin{bmatrix}\n",
    "\\sum_{}^{}y_i \\\\\\\\\n",
    "\\sum_{}^{}x_iy_i\n",
    "\\end{bmatrix} $"
   ]
  },
  {
   "cell_type": "markdown",
   "id": "72c7b4b5-5287-4aa4-8714-ea81b35f55a8",
   "metadata": {},
   "source": [
    "$ \\sum_{}^{}y_i , \\sum_{}^{}x_iy_i $"
   ]
  },
  {
   "cell_type": "code",
   "execution_count": 6,
   "id": "054ea2ad-6060-413c-b8ae-9d945eae8fa2",
   "metadata": {},
   "outputs": [
    {
     "data": {
      "text/html": [
       "<style>\n",
       ".list-inline {list-style: none; margin:0; padding: 0}\n",
       ".list-inline>li {display: inline-block}\n",
       ".list-inline>li:not(:last-child)::after {content: \"\\00b7\"; padding: 0 .5ex}\n",
       "</style>\n",
       "<ol class=list-inline><li>23.3</li><li>97.24</li></ol>\n"
      ],
      "text/latex": [
       "\\begin{enumerate*}\n",
       "\\item 23.3\n",
       "\\item 97.24\n",
       "\\end{enumerate*}\n"
      ],
      "text/markdown": [
       "1. 23.3\n",
       "2. 97.24\n",
       "\n",
       "\n"
      ],
      "text/plain": [
       "[1] 23.30 97.24"
      ]
     },
     "metadata": {},
     "output_type": "display_data"
    }
   ],
   "source": [
    "sy <- sum(y)\n",
    "sxy <- sum(x*y)\n",
    "c(sy,sxy)"
   ]
  },
  {
   "cell_type": "markdown",
   "id": "03968568-3756-4655-b8f2-29eae70a613f",
   "metadata": {},
   "source": [
    "$\\to X'Y$ = $\\begin{bmatrix}\n",
    "23.3 \\\\\\\\\n",
    "97.24\n",
    "\\end{bmatrix} $"
   ]
  },
  {
   "cell_type": "markdown",
   "id": "f5341036-4bf1-457c-add9-89b8846e93ca",
   "metadata": {},
   "source": [
    "### 4) $(X'X)^{-1}X'Y$"
   ]
  },
  {
   "cell_type": "markdown",
   "id": "715ac8f6-7238-4429-ba75-6676a369ae87",
   "metadata": {},
   "source": [
    " $(X'X)^{-1}X'Y$ = $\\begin{bmatrix}\n",
    "\\frac{(sxs*sy -sx*sxy)}{n*sxs-sx^2}\\\\\\\\\n",
    "\\frac{n*sxy - sx*sy}{n*sxs - sx^2}\n",
    "\\end{bmatrix} $"
   ]
  },
  {
   "cell_type": "code",
   "execution_count": 7,
   "id": "1f312ce0-1c55-40fd-91c3-ec18577a9ebc",
   "metadata": {},
   "outputs": [
    {
     "data": {
      "text/html": [
       "0.264279999999985"
      ],
      "text/latex": [
       "0.264279999999985"
      ],
      "text/markdown": [
       "0.264279999999985"
      ],
      "text/plain": [
       "[1] 0.26428"
      ]
     },
     "metadata": {},
     "output_type": "display_data"
    }
   ],
   "source": [
    "10.04*23.3-2.403*97.24"
   ]
  },
  {
   "cell_type": "code",
   "execution_count": 8,
   "id": "f950a7d4-5e10-4409-a915-3b4b533c5a44",
   "metadata": {},
   "outputs": [
    {
     "data": {
      "text/html": [
       "0.506539999999987"
      ],
      "text/latex": [
       "0.506539999999987"
      ],
      "text/markdown": [
       "0.506539999999987"
      ],
      "text/plain": [
       "[1] 0.50654"
      ]
     },
     "metadata": {},
     "output_type": "display_data"
    }
   ],
   "source": [
    "(-2.403*23.3)+(0.581*97.24)"
   ]
  },
  {
   "cell_type": "code",
   "execution_count": 9,
   "id": "ba35a7c4-c778-4699-a5d5-8d41c1bb5e51",
   "metadata": {},
   "outputs": [
    {
     "name": "stdout",
     "output_type": "stream",
     "text": [
      "       [,1]   [,2]\n",
      "[1,] 10.040 -2.403\n",
      "[2,] -2.403  0.581\n",
      "      [,1]\n",
      "[1,] 23.30\n",
      "[2,] 97.24\n"
     ]
    }
   ],
   "source": [
    "A = matrix(c(10.04,-2.403,-2.403,0.581),2,2)  #(X'X)^-1\n",
    "B = matrix(c(23.3,97.24),2,1)            #X'Y\n",
    "print(A)\n",
    "print(B)"
   ]
  },
  {
   "cell_type": "code",
   "execution_count": 10,
   "id": "b9d4e490-a87d-4391-928b-5f51376065b6",
   "metadata": {},
   "outputs": [
    {
     "data": {
      "text/html": [
       "<table class=\"dataframe\">\n",
       "<caption>A matrix: 2 × 1 of type dbl</caption>\n",
       "<tbody>\n",
       "\t<tr><td>0.26428</td></tr>\n",
       "\t<tr><td>0.50654</td></tr>\n",
       "</tbody>\n",
       "</table>\n"
      ],
      "text/latex": [
       "A matrix: 2 × 1 of type dbl\n",
       "\\begin{tabular}{l}\n",
       "\t 0.26428\\\\\n",
       "\t 0.50654\\\\\n",
       "\\end{tabular}\n"
      ],
      "text/markdown": [
       "\n",
       "A matrix: 2 × 1 of type dbl\n",
       "\n",
       "| 0.26428 |\n",
       "| 0.50654 |\n",
       "\n"
      ],
      "text/plain": [
       "     [,1]   \n",
       "[1,] 0.26428\n",
       "[2,] 0.50654"
      ]
     },
     "metadata": {},
     "output_type": "display_data"
    }
   ],
   "source": [
    "A %*% B"
   ]
  },
  {
   "cell_type": "markdown",
   "id": "dd55fbc1-dee7-4faf-a882-4fd2709e15ea",
   "metadata": {},
   "source": [
    " $\\to (X'X)^{-1}X'Y$ = $\\begin{bmatrix}\n",
    "0.26428 \\\\\\\\\n",
    "0.50654\n",
    "\\end{bmatrix} $"
   ]
  },
  {
   "cell_type": "markdown",
   "id": "d94db87f-6865-40b4-a53b-775d4c1dd8d9",
   "metadata": {},
   "source": [
    "____________________________"
   ]
  },
  {
   "cell_type": "markdown",
   "id": "c342a686-ccb3-4262-80b1-b31ed4e5fe63",
   "metadata": {},
   "source": [
    "# 7.7\n",
    "> 어린이들의 체중($y$ : 파운드)이 신장($x_1$:인치)가 연령($x_2$:살)에 다라 어떻게 영향을 받는지 파악하기 위해 12명의 어린이로부터 다음의 자료를 얻었다."
   ]
  },
  {
   "cell_type": "markdown",
   "id": "fb4fdcba-4014-49d0-a806-9144bba7eb36",
   "metadata": {},
   "source": [
    "|범주|값||||||||||||\n",
    "|---|---|---|---|---|---|---|---|---|---|---|---|---|\n",
    "|$y$|64|71|53|67|55|58|77|57|56|51|76|68|\n",
    "|$x_1$|57|59|49|62|51|50|55|48|42|42|61|57|\n",
    "|$x_2$|8|10|6|11|8|7|10|9|10|6|12|9|"
   ]
  },
  {
   "cell_type": "markdown",
   "id": "33c4f3b2-d877-4e04-8286-59f016cc56c5",
   "metadata": {},
   "source": [
    "### 1) $x_1$에 대한 $y$ / $x_2$에 대한 $y$ / $x_1$에 대한 $x_2$ 의 산점도를 그리고, 각각의 상관계수 $r_{x_1y},r_{x_2y},r_{x_1x_2}$를 구하여라."
   ]
  },
  {
   "cell_type": "code",
   "execution_count": 11,
   "id": "e928346f-ec6a-48c9-b370-b4c85861ae8f",
   "metadata": {},
   "outputs": [],
   "source": [
    "y <- c(64,71,53,67,55,58,77,57,56,51,76,68)\n",
    "x1 <- c(57,59,49,62,51,50,55,48,42,42,61,57)\n",
    "x2 <- c(8,10,6,11,8,7,10,9,10,6,12,9)"
   ]
  },
  {
   "cell_type": "markdown",
   "id": "d94773d5-4298-4def-9bb4-befed6b75595",
   "metadata": {},
   "source": [
    "$x_1$에 대한 $y$ / $x_2$에 대한 $y$ / $x_1$에 대한 $x_2$"
   ]
  },
  {
   "cell_type": "code",
   "execution_count": 12,
   "id": "01867b35-f02c-44d0-aeac-1a327cfd2de6",
   "metadata": {},
   "outputs": [
    {
     "data": {
      "image/png": "[encoded data removed]",
      "text/plain": [
       "Plot with title “x1:x2”"
      ]
     },
     "metadata": {
      "image/png": {
       "height": 420,
       "width": 420
      }
     },
     "output_type": "display_data"
    }
   ],
   "source": [
    "par(mfrow=c(1,3))\n",
    "plot(x1,y,main=\"x1:y\")\n",
    "plot(x2,y,main=\"x2:y\")\n",
    "plot(x1,x2,main=\"x1:x2\")"
   ]
  },
  {
   "cell_type": "markdown",
   "id": "dcb7a890-02fa-4514-b3b3-4081d23a7cd2",
   "metadata": {},
   "source": [
    "상관계수 구하기"
   ]
  },
  {
   "cell_type": "code",
   "execution_count": 13,
   "id": "09a65d3d-810d-4bea-86ae-72cbf656f870",
   "metadata": {},
   "outputs": [],
   "source": [
    "lmx1y <- lm(y~x1)\n",
    "lmx2y <- lm(y~x2)\n",
    "lmx1x2 <- lm(x2~x1)"
   ]
  },
  {
   "cell_type": "code",
   "execution_count": 14,
   "id": "9197ca4d-e764-4de4-aa3b-62a0fd686439",
   "metadata": {},
   "outputs": [
    {
     "data": {
      "text/html": [
       "0.814256949718907"
      ],
      "text/latex": [
       "0.814256949718907"
      ],
      "text/markdown": [
       "0.814256949718907"
      ],
      "text/plain": [
       "[1] 0.8142569"
      ]
     },
     "metadata": {},
     "output_type": "display_data"
    },
    {
     "data": {
      "text/html": [
       "0.769816801847935"
      ],
      "text/latex": [
       "0.769816801847935"
      ],
      "text/markdown": [
       "0.769816801847935"
      ],
      "text/plain": [
       "[1] 0.7698168"
      ]
     },
     "metadata": {},
     "output_type": "display_data"
    },
    {
     "data": {
      "text/html": [
       "0.613838630337317"
      ],
      "text/latex": [
       "0.613838630337317"
      ],
      "text/markdown": [
       "0.613838630337317"
      ],
      "text/plain": [
       "[1] 0.6138386"
      ]
     },
     "metadata": {},
     "output_type": "display_data"
    }
   ],
   "source": [
    "cor(x1,y)\n",
    "cor(x2,y)\n",
    "cor(x1,x2)"
   ]
  },
  {
   "cell_type": "markdown",
   "id": "93089aba-1ed8-4226-86ed-e660a4bb5ea7",
   "metadata": {},
   "source": [
    "$x_1$에 대한 $y$ 의 상관계수,$r_{x_1y}: 0.8143$\n",
    "\n",
    "$x_2$에 대한 $y$ 의 상관계수,$r_{x_2y}: 0.7698$\n",
    "\n",
    "$x_1$에 대한 $x_2$ 의 상관계수,$r_{x_1x_2}: 0.6138$"
   ]
  },
  {
   "cell_type": "markdown",
   "id": "f1741d36-6817-4f1d-aeb2-50ca4244e703",
   "metadata": {},
   "source": [
    "### 2) $y= \\beta_0 + \\beta_1x_1+\\epsilon$을 가정하고 회귀계수와 잔차제곱합을 구하여라."
   ]
  },
  {
   "cell_type": "markdown",
   "id": "b65e0083-1545-4b35-8900-9623fb5786eb",
   "metadata": {},
   "source": [
    "회귀계수"
   ]
  },
  {
   "cell_type": "code",
   "execution_count": 15,
   "id": "67267d7e-05ba-47db-971f-32c974fbbda5",
   "metadata": {},
   "outputs": [
    {
     "data": {
      "text/html": [
       "<style>\n",
       ".dl-inline {width: auto; margin:0; padding: 0}\n",
       ".dl-inline>dt, .dl-inline>dd {float: none; width: auto; display: inline-block}\n",
       ".dl-inline>dt::after {content: \":\\0020\"; padding-right: .5ex}\n",
       ".dl-inline>dt:not(:first-of-type) {padding-left: .5ex}\n",
       "</style><dl class=dl-inline><dt>(Intercept)</dt><dd>6.18984870668621</dd><dt>x1</dt><dd>1.07223035627135</dd></dl>\n"
      ],
      "text/latex": [
       "\\begin{description*}\n",
       "\\item[(Intercept)] 6.18984870668621\n",
       "\\item[x1] 1.07223035627135\n",
       "\\end{description*}\n"
      ],
      "text/markdown": [
       "(Intercept)\n",
       ":   6.18984870668621x1\n",
       ":   1.07223035627135\n",
       "\n"
      ],
      "text/plain": [
       "(Intercept)          x1 \n",
       "   6.189849    1.072230 "
      ]
     },
     "metadata": {},
     "output_type": "display_data"
    }
   ],
   "source": [
    "coef(lmx1y)"
   ]
  },
  {
   "cell_type": "markdown",
   "id": "49522a4c-fde4-4b6d-addf-a4d60855c6b4",
   "metadata": {},
   "source": [
    "$\\to \\beta_0 = 6.19 , \\beta_1 = 1.072 $"
   ]
  },
  {
   "cell_type": "markdown",
   "id": "52ace690-56eb-4977-b881-06cf06f6fdc1",
   "metadata": {},
   "source": [
    "잔차제곱합"
   ]
  },
  {
   "cell_type": "code",
   "execution_count": 16,
   "id": "1cf9019c-2149-4b5d-b4f4-0215e483dc9c",
   "metadata": {},
   "outputs": [
    {
     "data": {
      "text/html": [
       "299.329232"
      ],
      "text/latex": [
       "299.329232"
      ],
      "text/markdown": [
       "299.329232"
      ],
      "text/plain": [
       "[1] 299.3292"
      ]
     },
     "metadata": {},
     "output_type": "display_data"
    }
   ],
   "source": [
    "sum((y-(6.19 + 1.072*x1))^2)"
   ]
  },
  {
   "cell_type": "markdown",
   "id": "bfa8e558-db88-40c3-8dde-3c340b5a30e8",
   "metadata": {},
   "source": [
    "### 3) $y= \\beta_0 + \\beta_2x_2+\\epsilon$을 가정하고 회귀계수와 잔차제곱합을 구하여라."
   ]
  },
  {
   "cell_type": "markdown",
   "id": "e6ee4a41-081d-4c4c-a9d4-8d12910b2d58",
   "metadata": {},
   "source": [
    "회귀계수"
   ]
  },
  {
   "cell_type": "code",
   "execution_count": 17,
   "id": "2921dc2c-6fd0-4148-965d-0aabab9bc4c8",
   "metadata": {},
   "outputs": [
    {
     "data": {
      "text/html": [
       "<style>\n",
       ".dl-inline {width: auto; margin:0; padding: 0}\n",
       ".dl-inline>dt, .dl-inline>dd {float: none; width: auto; display: inline-block}\n",
       ".dl-inline>dt::after {content: \":\\0020\"; padding-right: .5ex}\n",
       ".dl-inline>dt:not(:first-of-type) {padding-left: .5ex}\n",
       "</style><dl class=dl-inline><dt>(Intercept)</dt><dd>30.5714285714286</dd><dt>x2</dt><dd>3.64285714285714</dd></dl>\n"
      ],
      "text/latex": [
       "\\begin{description*}\n",
       "\\item[(Intercept)] 30.5714285714286\n",
       "\\item[x2] 3.64285714285714\n",
       "\\end{description*}\n"
      ],
      "text/markdown": [
       "(Intercept)\n",
       ":   30.5714285714286x2\n",
       ":   3.64285714285714\n",
       "\n"
      ],
      "text/plain": [
       "(Intercept)          x2 \n",
       "  30.571429    3.642857 "
      ]
     },
     "metadata": {},
     "output_type": "display_data"
    }
   ],
   "source": [
    "coef(lmx2y)"
   ]
  },
  {
   "cell_type": "markdown",
   "id": "0c5c7a8a-b117-48cb-97ef-55d5297faaed",
   "metadata": {},
   "source": [
    "$\\to \\beta_0 = 30.57 , \\beta_2 = 3.643 $"
   ]
  },
  {
   "cell_type": "markdown",
   "id": "06dab8a1-1d18-41f2-8510-7b60bf9f8e7c",
   "metadata": {},
   "source": [
    "잔차제곱합"
   ]
  },
  {
   "cell_type": "code",
   "execution_count": 18,
   "id": "5066b626-f5f6-4b23-93e8-8027b9f6de9b",
   "metadata": {},
   "outputs": [
    {
     "data": {
      "text/html": [
       "361.857144"
      ],
      "text/latex": [
       "361.857144"
      ],
      "text/markdown": [
       "361.857144"
      ],
      "text/plain": [
       "[1] 361.8571"
      ]
     },
     "metadata": {},
     "output_type": "display_data"
    }
   ],
   "source": [
    "sum((y-(30.57 + 3.643*x2))^2)"
   ]
  },
  {
   "cell_type": "markdown",
   "id": "bceff8a3-222f-44d7-ba7a-a979b9b7690a",
   "metadata": {},
   "source": [
    "### 4) $y= \\beta_0 + \\beta_1x_1+\\beta_2x_2+\\epsilon$을 가정하고 회귀계수와 잔차제곱합을 구하여라."
   ]
  },
  {
   "cell_type": "code",
   "execution_count": 19,
   "id": "01a3488b-34b9-40e0-8912-afbc8b42111e",
   "metadata": {},
   "outputs": [],
   "source": [
    "lmyx1x2 <- lm(y~x1+x2)"
   ]
  },
  {
   "cell_type": "markdown",
   "id": "cbafd93e-1577-43ae-bd05-8c190c18ff6c",
   "metadata": {},
   "source": [
    "회귀계수"
   ]
  },
  {
   "cell_type": "code",
   "execution_count": 20,
   "id": "83257aca-b096-40df-a9f9-b52b591115ad",
   "metadata": {},
   "outputs": [
    {
     "data": {
      "text/html": [
       "<style>\n",
       ".dl-inline {width: auto; margin:0; padding: 0}\n",
       ".dl-inline>dt, .dl-inline>dd {float: none; width: auto; display: inline-block}\n",
       ".dl-inline>dt::after {content: \":\\0020\"; padding-right: .5ex}\n",
       ".dl-inline>dt:not(:first-of-type) {padding-left: .5ex}\n",
       "</style><dl class=dl-inline><dt>(Intercept)</dt><dd>6.55304825080945</dd><dt>x1</dt><dd>0.722037958356366</dd><dt>x2</dt><dd>2.05012635236516</dd></dl>\n"
      ],
      "text/latex": [
       "\\begin{description*}\n",
       "\\item[(Intercept)] 6.55304825080945\n",
       "\\item[x1] 0.722037958356366\n",
       "\\item[x2] 2.05012635236516\n",
       "\\end{description*}\n"
      ],
      "text/markdown": [
       "(Intercept)\n",
       ":   6.55304825080945x1\n",
       ":   0.722037958356366x2\n",
       ":   2.05012635236516\n",
       "\n"
      ],
      "text/plain": [
       "(Intercept)          x1          x2 \n",
       "   6.553048    0.722038    2.050126 "
      ]
     },
     "metadata": {},
     "output_type": "display_data"
    }
   ],
   "source": [
    "coef(lmyx1x2)"
   ]
  },
  {
   "cell_type": "markdown",
   "id": "86c88aad-8d81-4d8f-8b30-1ff809c90100",
   "metadata": {},
   "source": [
    "$\\to \\beta_0 = 6.553 , \\beta_1 = 0.722, \\beta_2 = 2.05 $"
   ]
  },
  {
   "cell_type": "markdown",
   "id": "92b701ee-13ba-4fa0-9171-a8c8dda629ed",
   "metadata": {},
   "source": [
    "잔차제곱합"
   ]
  },
  {
   "cell_type": "code",
   "execution_count": 21,
   "id": "76df3fc4-e720-4bf0-ac10-2b79765ff9dc",
   "metadata": {},
   "outputs": [
    {
     "data": {
      "text/html": [
       "195.427516"
      ],
      "text/latex": [
       "195.427516"
      ],
      "text/markdown": [
       "195.427516"
      ],
      "text/plain": [
       "[1] 195.4275"
      ]
     },
     "metadata": {},
     "output_type": "display_data"
    }
   ],
   "source": [
    "sum((y-(6.553 + 0.722*x1 + 2.05*x2 ))^2)"
   ]
  },
  {
   "cell_type": "markdown",
   "id": "b9d78dec-26c1-4aa4-9927-d838bbd144cb",
   "metadata": {},
   "source": [
    "### 5) 3개 모형의 잔차제곱합을 비교하고 그 결과에 대해 논의하여라"
   ]
  },
  {
   "cell_type": "markdown",
   "id": "361805bd-b927-4a15-9c52-b2e554212ba5",
   "metadata": {},
   "source": [
    "중회귀모형의 잔차제곱합이 $195.43$으로 가장 작다. 이것은 $x_1,x_2$이 서로 연관이 있고, 이때의 $y$가 제일 잘 적합됐다는 뜻으로 해석 할 수 있다.  "
   ]
  },
  {
   "cell_type": "markdown",
   "id": "8d9c85b6-ac51-4943-afe7-429f5c878aad",
   "metadata": {},
   "source": [
    "___________________________________"
   ]
  },
  {
   "cell_type": "markdown",
   "id": "2f4d8c77-95ea-4375-9349-c9f7e7d562c4",
   "metadata": {},
   "source": [
    "# 7.10\n",
    ">다음 주어진 자료에 대하여"
   ]
  },
  {
   "cell_type": "markdown",
   "id": "0b39f555-45b5-48df-a7f0-f5a5e160b36a",
   "metadata": {},
   "source": [
    "|범주|값|||||||||||\n",
    "|---|---|---|---|---|---|---|---|---|---|---|---|\n",
    "|$y$|6|8|1|0|5|3|2|-4|10|-3|5|\n",
    "|$x_1$|1|4|9|11|3|8|5|10|2|7|6|\n",
    "|$x_2$|8|2|-8|-10|6|-6|0|-12|4|-2|-4|"
   ]
  },
  {
   "cell_type": "markdown",
   "id": "8c4c35da-6e05-4863-9047-6876a699817f",
   "metadata": {},
   "source": [
    "### 1) 중선형회귀모형 $y = \\beta_0 + \\beta_1x_1+\\beta_2x_2+\\epsilon$을 가정하고 회귀선을 추정하여라."
   ]
  },
  {
   "cell_type": "code",
   "execution_count": 22,
   "id": "76dd1a25-9a29-4deb-b76e-50fdda7a91df",
   "metadata": {},
   "outputs": [],
   "source": [
    "y <- c(6,8,1,0,5,3,2,-4,10,-3,5)\n",
    "x1 <- c(1,4,9,11,3,8,5,10,2,7,6)\n",
    "x2 <- c(8,2,-8,-10,6,-6,0,-12,4,-2,-4)"
   ]
  },
  {
   "cell_type": "code",
   "execution_count": 23,
   "id": "314370f2-28a7-4efc-8e99-8af71bc08086",
   "metadata": {},
   "outputs": [],
   "source": [
    "lm710 <- lm(y ~ x1+x2)"
   ]
  },
  {
   "cell_type": "code",
   "execution_count": 24,
   "id": "2bced52c-015e-4210-bc40-6e34ce30d75b",
   "metadata": {},
   "outputs": [
    {
     "data": {
      "text/html": [
       "<style>\n",
       ".dl-inline {width: auto; margin:0; padding: 0}\n",
       ".dl-inline>dt, .dl-inline>dd {float: none; width: auto; display: inline-block}\n",
       ".dl-inline>dt::after {content: \":\\0020\"; padding-right: .5ex}\n",
       ".dl-inline>dt:not(:first-of-type) {padding-left: .5ex}\n",
       "</style><dl class=dl-inline><dt>(Intercept)</dt><dd>14</dd><dt>x1</dt><dd>-2</dd><dt>x2</dt><dd>-0.500000000000001</dd></dl>\n"
      ],
      "text/latex": [
       "\\begin{description*}\n",
       "\\item[(Intercept)] 14\n",
       "\\item[x1] -2\n",
       "\\item[x2] -0.500000000000001\n",
       "\\end{description*}\n"
      ],
      "text/markdown": [
       "(Intercept)\n",
       ":   14x1\n",
       ":   -2x2\n",
       ":   -0.500000000000001\n",
       "\n"
      ],
      "text/plain": [
       "(Intercept)          x1          x2 \n",
       "       14.0        -2.0        -0.5 "
      ]
     },
     "metadata": {},
     "output_type": "display_data"
    }
   ],
   "source": [
    "coef(lm710)"
   ]
  },
  {
   "cell_type": "markdown",
   "id": "5994eec7-b3db-4e7c-a57e-8140470b3225",
   "metadata": {},
   "source": [
    "$\\beta_0 = 14 , \\beta_1 = -2 , \\beta_2 = -0.5 $"
   ]
  },
  {
   "cell_type": "markdown",
   "id": "810a4bea-48d4-43e3-bf6e-1a1ef1015273",
   "metadata": {},
   "source": [
    "### 2) $\\sigma^2$의 불편추정량 $MSE$를 구하고 추정된 $MSE$값을 이용하여"
   ]
  },
  {
   "cell_type": "code",
   "execution_count": 25,
   "id": "3b4d7517-2fde-43bc-b8bd-4fce6c88e3af",
   "metadata": {},
   "outputs": [
    {
     "data": {
      "text/html": [
       "<table class=\"dataframe\">\n",
       "<caption>A anova: 3 × 5</caption>\n",
       "<thead>\n",
       "\t<tr><th></th><th scope=col>Df</th><th scope=col>Sum Sq</th><th scope=col>Mean Sq</th><th scope=col>F value</th><th scope=col>Pr(&gt;F)</th></tr>\n",
       "\t<tr><th></th><th scope=col>&lt;int&gt;</th><th scope=col>&lt;dbl&gt;</th><th scope=col>&lt;dbl&gt;</th><th scope=col>&lt;dbl&gt;</th><th scope=col>&lt;dbl&gt;</th></tr>\n",
       "</thead>\n",
       "<tbody>\n",
       "\t<tr><th scope=row>x1</th><td>1</td><td>116.081818</td><td>116.081818</td><td>13.6566845</td><td>0.006081901</td></tr>\n",
       "\t<tr><th scope=row>x2</th><td>1</td><td>  5.918182</td><td>  5.918182</td><td> 0.6962567</td><td>0.428255902</td></tr>\n",
       "\t<tr><th scope=row>Residuals</th><td>8</td><td> 68.000000</td><td>  8.500000</td><td>        NA</td><td>         NA</td></tr>\n",
       "</tbody>\n",
       "</table>\n"
      ],
      "text/latex": [
       "A anova: 3 × 5\n",
       "\\begin{tabular}{r|lllll}\n",
       "  & Df & Sum Sq & Mean Sq & F value & Pr(>F)\\\\\n",
       "  & <int> & <dbl> & <dbl> & <dbl> & <dbl>\\\\\n",
       "\\hline\n",
       "\tx1 & 1 & 116.081818 & 116.081818 & 13.6566845 & 0.006081901\\\\\n",
       "\tx2 & 1 &   5.918182 &   5.918182 &  0.6962567 & 0.428255902\\\\\n",
       "\tResiduals & 8 &  68.000000 &   8.500000 &         NA &          NA\\\\\n",
       "\\end{tabular}\n"
      ],
      "text/markdown": [
       "\n",
       "A anova: 3 × 5\n",
       "\n",
       "| <!--/--> | Df &lt;int&gt; | Sum Sq &lt;dbl&gt; | Mean Sq &lt;dbl&gt; | F value &lt;dbl&gt; | Pr(&gt;F) &lt;dbl&gt; |\n",
       "|---|---|---|---|---|---|\n",
       "| x1 | 1 | 116.081818 | 116.081818 | 13.6566845 | 0.006081901 |\n",
       "| x2 | 1 |   5.918182 |   5.918182 |  0.6962567 | 0.428255902 |\n",
       "| Residuals | 8 |  68.000000 |   8.500000 |         NA |          NA |\n",
       "\n"
      ],
      "text/plain": [
       "          Df Sum Sq     Mean Sq    F value    Pr(>F)     \n",
       "x1        1  116.081818 116.081818 13.6566845 0.006081901\n",
       "x2        1    5.918182   5.918182  0.6962567 0.428255902\n",
       "Residuals 8   68.000000   8.500000         NA          NA"
      ]
     },
     "metadata": {},
     "output_type": "display_data"
    }
   ],
   "source": [
    "anova(lm710)"
   ]
  },
  {
   "cell_type": "markdown",
   "id": "fe9e56d3-2c4b-4b3c-beb5-a00cd889478d",
   "metadata": {},
   "source": [
    "$MSE = 8.5$"
   ]
  },
  {
   "cell_type": "markdown",
   "id": "02de6beb-530f-4690-8256-6962e629f961",
   "metadata": {},
   "source": [
    "#### (1) $Var(b_1), Var(b_2)$를 각각 추정하여라."
   ]
  },
  {
   "cell_type": "code",
   "execution_count": 26,
   "id": "d612f22b-d110-4abf-9c7d-c18d6c4ece44",
   "metadata": {},
   "outputs": [],
   "source": [
    "X <- matrix(c(1,1,1,1,1,1,1,1,1,1,1,array(x1),array(x2)),11,3)\n",
    "B <- matrix(c(14,-2,-0.5),3,1)\n",
    "Y <- matrix(y,11,1)"
   ]
  },
  {
   "cell_type": "code",
   "execution_count": 27,
   "id": "b59494ea-bca9-4cf0-b83b-3b6e82414d9b",
   "metadata": {},
   "outputs": [
    {
     "data": {
      "text/html": [
       "<table class=\"dataframe\">\n",
       "<caption>A matrix: 3 × 3 of type dbl</caption>\n",
       "<tbody>\n",
       "\t<tr><td> 11</td><td>  66</td><td> -22</td></tr>\n",
       "\t<tr><td> 66</td><td> 506</td><td>-346</td></tr>\n",
       "\t<tr><td>-22</td><td>-346</td><td> 484</td></tr>\n",
       "</tbody>\n",
       "</table>\n"
      ],
      "text/latex": [
       "A matrix: 3 × 3 of type dbl\n",
       "\\begin{tabular}{lll}\n",
       "\t  11 &   66 &  -22\\\\\n",
       "\t  66 &  506 & -346\\\\\n",
       "\t -22 & -346 &  484\\\\\n",
       "\\end{tabular}\n"
      ],
      "text/markdown": [
       "\n",
       "A matrix: 3 × 3 of type dbl\n",
       "\n",
       "|  11 |   66 |  -22 |\n",
       "|  66 |  506 | -346 |\n",
       "| -22 | -346 |  484 |\n",
       "\n"
      ],
      "text/plain": [
       "     [,1] [,2] [,3]\n",
       "[1,]  11    66  -22\n",
       "[2,]  66   506 -346\n",
       "[3,] -22  -346  484"
      ]
     },
     "metadata": {},
     "output_type": "display_data"
    }
   ],
   "source": [
    "XtX <- t(X) %*% X  #[X'X]\n",
    "XtX"
   ]
  },
  {
   "cell_type": "code",
   "execution_count": 32,
   "id": "3605aaf7-f959-43b2-9957-7e133465ca93",
   "metadata": {},
   "outputs": [
    {
     "data": {
      "text/html": [
       "<table class=\"dataframe\">\n",
       "<caption>A matrix: 3 × 3 of type dbl</caption>\n",
       "<tbody>\n",
       "\t<tr><td> 4.3704790</td><td>-0.84946237</td><td>-0.40860215</td></tr>\n",
       "\t<tr><td>-0.8494624</td><td> 0.16897081</td><td> 0.08218126</td></tr>\n",
       "\t<tr><td>-0.4086022</td><td> 0.08218126</td><td> 0.04224270</td></tr>\n",
       "</tbody>\n",
       "</table>\n"
      ],
      "text/latex": [
       "A matrix: 3 × 3 of type dbl\n",
       "\\begin{tabular}{lll}\n",
       "\t  4.3704790 & -0.84946237 & -0.40860215\\\\\n",
       "\t -0.8494624 &  0.16897081 &  0.08218126\\\\\n",
       "\t -0.4086022 &  0.08218126 &  0.04224270\\\\\n",
       "\\end{tabular}\n"
      ],
      "text/markdown": [
       "\n",
       "A matrix: 3 × 3 of type dbl\n",
       "\n",
       "|  4.3704790 | -0.84946237 | -0.40860215 |\n",
       "| -0.8494624 |  0.16897081 |  0.08218126 |\n",
       "| -0.4086022 |  0.08218126 |  0.04224270 |\n",
       "\n"
      ],
      "text/plain": [
       "     [,1]       [,2]        [,3]       \n",
       "[1,]  4.3704790 -0.84946237 -0.40860215\n",
       "[2,] -0.8494624  0.16897081  0.08218126\n",
       "[3,] -0.4086022  0.08218126  0.04224270"
      ]
     },
     "metadata": {},
     "output_type": "display_data"
    }
   ],
   "source": [
    "XtXr <- solve(XtX)  # [X'X]의 역함수\n",
    "XtXr"
   ]
  },
  {
   "cell_type": "code",
   "execution_count": 33,
   "id": "1d56509d-e039-4553-93dc-5f5b741990e3",
   "metadata": {},
   "outputs": [
    {
     "data": {
      "text/html": [
       "<table class=\"dataframe\">\n",
       "<caption>A matrix: 3 × 3 of type dbl</caption>\n",
       "<tbody>\n",
       "\t<tr><td>315.76711</td><td>-61.373656</td><td>-29.521505</td></tr>\n",
       "\t<tr><td>-61.37366</td><td> 12.208141</td><td>  5.937596</td></tr>\n",
       "\t<tr><td>-29.52151</td><td>  5.937596</td><td>  3.052035</td></tr>\n",
       "</tbody>\n",
       "</table>\n"
      ],
      "text/latex": [
       "A matrix: 3 × 3 of type dbl\n",
       "\\begin{tabular}{lll}\n",
       "\t 315.76711 & -61.373656 & -29.521505\\\\\n",
       "\t -61.37366 &  12.208141 &   5.937596\\\\\n",
       "\t -29.52151 &   5.937596 &   3.052035\\\\\n",
       "\\end{tabular}\n"
      ],
      "text/markdown": [
       "\n",
       "A matrix: 3 × 3 of type dbl\n",
       "\n",
       "| 315.76711 | -61.373656 | -29.521505 |\n",
       "| -61.37366 |  12.208141 |   5.937596 |\n",
       "| -29.52151 |   5.937596 |   3.052035 |\n",
       "\n"
      ],
      "text/plain": [
       "     [,1]      [,2]       [,3]      \n",
       "[1,] 315.76711 -61.373656 -29.521505\n",
       "[2,] -61.37366  12.208141   5.937596\n",
       "[3,] -29.52151   5.937596   3.052035"
      ]
     },
     "metadata": {},
     "output_type": "display_data"
    }
   ],
   "source": [
    "(XtXr)* (8.5^2)  # [(X'X)^-1]*(MSE^2) = Var(b)"
   ]
  },
  {
   "cell_type": "markdown",
   "id": "6de6b147-faa2-4259-b606-b934569bd077",
   "metadata": {},
   "source": [
    "$Var(b_1) : [(X'X)^{-1}]*(MSE^2)$ 의 대각 2번째 원소\n",
    ">12.21\n",
    "\n",
    "$Var(b_2) : [(X'X)^{-1}]*(MSE^2)$ 의 대각 3번째 원소\n",
    ">3.05"
   ]
  },
  {
   "cell_type": "markdown",
   "id": "e28c4717-17a1-4c95-b649-eb752aa4656c",
   "metadata": {},
   "source": [
    "#### (2) $x_1 =3, x_2=5$일 때 $y$의 예측값의 분산을 구하여라."
   ]
  },
  {
   "cell_type": "code",
   "execution_count": 34,
   "id": "c4a74ccd-60dd-446b-9d0c-06e8e00f170f",
   "metadata": {},
   "outputs": [
    {
     "data": {
      "text/html": [
       "5.5"
      ],
      "text/latex": [
       "5.5"
      ],
      "text/markdown": [
       "5.5"
      ],
      "text/plain": [
       "[1] 5.5"
      ]
     },
     "metadata": {},
     "output_type": "display_data"
    }
   ],
   "source": [
    "14-2*3-0.5*5  #y의 예측값"
   ]
  },
  {
   "cell_type": "code",
   "execution_count": 35,
   "id": "78e951de-ea47-48ad-8ed0-c3db8a4411a6",
   "metadata": {},
   "outputs": [
    {
     "data": {
      "text/html": [
       "6.25"
      ],
      "text/latex": [
       "6.25"
      ],
      "text/markdown": [
       "6.25"
      ],
      "text/plain": [
       "[1] 6.25"
      ]
     },
     "metadata": {},
     "output_type": "display_data"
    }
   ],
   "source": [
    "sum((5.5-mean(14-2*x1-0.5*x2))^2)"
   ]
  },
  {
   "cell_type": "markdown",
   "id": "c210b70a-efcb-4988-80b4-efd15308c41f",
   "metadata": {},
   "source": [
    "$𝑦$ 의 예측값의 분산 : 6.25"
   ]
  }
 ],
 "metadata": {
  "kernelspec": {
   "display_name": "R",
   "language": "R",
   "name": "ir"
  },
  "language_info": {
   "codemirror_mode": "r",
   "file_extension": ".r",
   "mimetype": "text/x-r-source",
   "name": "R",
   "pygments_lexer": "r",
   "version": "4.0.5"
  }
 },
 "nbformat": 4,
 "nbformat_minor": 5
}
